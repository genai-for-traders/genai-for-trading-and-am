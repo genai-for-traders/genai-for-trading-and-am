{
 "cells": [
  {
   "cell_type": "markdown",
   "id": "f05c4f24",
   "metadata": {},
   "source": [
    "#  Variational Encoders for Image Generation\n",
    "\n",
    "\n",
    "In this notebook, we’ll get hands-on by implementing a classic Variational Autoencoder (VAE) to generate images.  \n",
    "\n",
    "The idea is to build a solid understanding of VAEs so that we can later use them as a building block for time series forecasting or generation tasks, as we will see in other notebooks throughout the book.\n",
    "\n"
   ]
  },
  {
   "cell_type": "markdown",
   "id": "a2efd7a1-ec67-40f4-9e90-53b8d2e4cef2",
   "metadata": {},
   "source": [
    "## Import libraries"
   ]
  },
  {
   "cell_type": "code",
   "execution_count": 1,
   "id": "7d1f19b6",
   "metadata": {
    "ExecuteTime": {
     "end_time": "2024-11-12T15:11:57.823402Z",
     "start_time": "2024-11-12T15:11:57.818152Z"
    }
   },
   "outputs": [],
   "source": [
    "import torchvision\n",
    "from torchvision.transforms import ToTensor \n",
    "from sklearn.model_selection import train_test_split\n",
    "import torch\n",
    "from genai4t.utils import set_random_state\n",
    "from torch.utils.data import DataLoader\n",
    "from matplotlib import pyplot as plt\n",
    "import numpy as np\n",
    "from genai4t.plot_style import plot_style"
   ]
  },
  {
   "cell_type": "code",
   "execution_count": 2,
   "id": "6704e711",
   "metadata": {},
   "outputs": [],
   "source": [
    "# Environment configuration\n",
    "ENV_CONFIG = {\n",
    "    \"random_state\": 2024\n",
    "}\n",
    "\n",
    "# Data configuration for loading the MNIST dataset\n",
    "DATA_CONFIG = {\n",
    "    \"data_dir\": \"'./artifacts/MNIST\", # Directory where the MNIST dataset will be stored\n",
    "    \"batch_size\": 64 # Batch size used during training\n",
    "}"
   ]
  },
  {
   "cell_type": "markdown",
   "id": "2e69ecf8-61b1-459f-8faf-9280f6048671",
   "metadata": {},
   "source": [
    "## Loading and Preparing the Data\n",
    "\n",
    "The [MNIST](https://en.wikipedia.org/wiki/MNIST_database) database is a classic dataset of handwritten digits, consisting of grayscale images sized 28×28 pixels, with digits ranging from 0 to 9. The dataset includes 60,000 training images and 10,000 test images, and is widely used for benchmarking both image classification and generative modeling tasks. Below we download the dataset from `torchvision`\n"
   ]
  },
  {
   "cell_type": "code",
   "execution_count": 3,
   "id": "43103a8a",
   "metadata": {},
   "outputs": [],
   "source": [
    "# to tensor transform our PIL images to a torch.Tensor,\n",
    "# and normalize pixeles from 0 to 255 (uint8) to 0. to 1 (float32).\n",
    "dataset = torchvision.datasets.MNIST(\n",
    "    root=DATA_CONFIG[\"data_dir\"], download=True,\n",
    "    transform=ToTensor())"
   ]
  },
  {
   "cell_type": "code",
   "execution_count": 4,
   "id": "ff86afd5",
   "metadata": {
    "ExecuteTime": {
     "end_time": "2024-11-12T15:12:04.831438Z",
     "start_time": "2024-11-12T15:11:58.305901Z"
    }
   },
   "outputs": [],
   "source": [
    "train_xy_dataset, test_xy_dataset = train_test_split(\n",
    "    dataset,\n",
    "    test_size=0.2,\n",
    "    random_state=ENV_CONFIG[\"random_state\"])"
   ]
  },
  {
   "cell_type": "code",
   "execution_count": 5,
   "id": "757e9857",
   "metadata": {},
   "outputs": [],
   "source": [
    "image, y_class = train_xy_dataset[0]"
   ]
  },
  {
   "cell_type": "code",
   "execution_count": 6,
   "id": "85533b2a",
   "metadata": {},
   "outputs": [
    {
     "data": {
      "text/plain": [
       "torch.Size([1, 28, 28])"
      ]
     },
     "execution_count": 6,
     "metadata": {},
     "output_type": "execute_result"
    }
   ],
   "source": [
    "image.shape"
   ]
  },
  {
   "cell_type": "code",
   "execution_count": 7,
   "id": "019b0c3f",
   "metadata": {},
   "outputs": [
    {
     "data": {
      "text/plain": [
       "2"
      ]
     },
     "execution_count": 7,
     "metadata": {},
     "output_type": "execute_result"
    }
   ],
   "source": [
    "y_class"
   ]
  },
  {
   "cell_type": "code",
   "execution_count": 8,
   "id": "a8921966",
   "metadata": {},
   "outputs": [
    {
     "data": {
      "image/png": "[encoded data removed]",
      "text/plain": [
       "<Figure size 640x480 with 1 Axes>"
      ]
     },
     "metadata": {},
     "output_type": "display_data"
    }
   ],
   "source": [
    "# Display the image using matplotlib\n",
    "# Convert the tensor to NumPy format and use grayscale colormap\n",
    "f, ax = plt.subplots()\n",
    "ax.imshow(image.numpy()[0], cmap=\"gray\")\n",
    "ax.axis('off')\n",
    "plot_style.apply_plot_style(ax)\n",
    "plt.show()"
   ]
  },
  {
   "cell_type": "code",
   "execution_count": 9,
   "id": "e959f028",
   "metadata": {},
   "outputs": [],
   "source": [
    "# we can get rid of the class since we do unconditional image generation\n",
    "train_ds = [x for x, _ in train_xy_dataset]\n",
    "test_ds = [x for x, _ in test_xy_dataset]"
   ]
  },
  {
   "cell_type": "code",
   "execution_count": 10,
   "id": "ba46479c",
   "metadata": {
    "ExecuteTime": {
     "end_time": "2024-11-12T15:12:04.855643Z",
     "start_time": "2024-11-12T15:12:04.851135Z"
    }
   },
   "outputs": [],
   "source": [
    "# Create train dataloader\n",
    "train_dl = DataLoader(\n",
    "    train_ds,\n",
    "    batch_size=DATA_CONFIG['batch_size'],\n",
    "    shuffle=True)\n",
    "\n",
    "# Create test dataloader\n",
    "test_dl = DataLoader(\n",
    "    test_ds,\n",
    "    batch_size=DATA_CONFIG['batch_size'])"
   ]
  },
  {
   "cell_type": "code",
   "execution_count": 11,
   "id": "df979674",
   "metadata": {},
   "outputs": [],
   "source": [
    "batch = next(iter(train_dl))"
   ]
  },
  {
   "cell_type": "code",
   "execution_count": 12,
   "id": "a40d25e0",
   "metadata": {},
   "outputs": [
    {
     "data": {
      "text/plain": [
       "torch.Size([64, 1, 28, 28])"
      ]
     },
     "execution_count": 12,
     "metadata": {},
     "output_type": "execute_result"
    }
   ],
   "source": [
    "batch.shape"
   ]
  },
  {
   "cell_type": "markdown",
   "id": "a2355a98",
   "metadata": {},
   "source": [
    "## VAE\n",
    "\n",
    "\n",
    "The [Variational Autoencoder (VAE)](https://arxiv.org/abs/1312.6114) is a latent variable model where the marginal distribution over the latent variables is Gaussian, and both the encoder and decoder are modeled as conditional Gaussians, as described by Kingma (2013).  \n",
    "\n",
    "The observations can be images, multivariate time series, etc. In this example, we use images as an illustrative case.\n",
    "\n",
    "In this implementation, we will train a classical VAE using the reparameterization trick.   For more details about this model, please refer to Chapter 6 of the book."
   ]
  },
  {
   "cell_type": "markdown",
   "id": "a11eaccb-5521-4f09-ac7a-60881816e7c4",
   "metadata": {},
   "source": [
    "# Loss Function\n",
    "\n",
    "Let's assume:\n",
    "- $ x_t $ is a single data point of dimension $d$\n",
    "- $z_t$ is a latent vector of dimension $K$\n",
    "- $ E $ is the encoder, and\n",
    "- $ D $ is the decoder.\n",
    "\n",
    "In our VAE, for each input $x_t$, the encoder $E(x_t)$ produces two outputs:\n",
    "- a mean vector $\\mu(x_t)$ and\n",
    "- a variance vector $\\sigma^2(x_t)$,\n",
    "\n",
    "both of dimension $K$, where $K$ is the size of the latent space.\n",
    "\n",
    "In VAEs, instead of sampling $z_t$ directly from the Gaussian $\\mathcal{N}(\\mu(x_t), \\sigma(x_t)^2)$,  we use  the reparameterization trick:  \n",
    "\n",
    "- First, sample some noise $\\epsilon$ from a standard normal distribution:  $\\epsilon^{(\\ell)} \\sim \\mathcal{N}(0, I)$,  \n",
    "- Then, compute the latent variable as:\n",
    "\n",
    "$$\n",
    "z_t^{({\\ell})} = \\mu(x_t) + \\sigma(x_t) \\odot \\epsilon^{(\\ell)}\n",
    "$$\n",
    "\n",
    "where $\\odot$ means element-wise multiplication.\n",
    "\n",
    "For each data point $x_t$, the VAE loss combines two terms:\n",
    "\n",
    "### 1. Reconstruction Loss\n",
    "\n",
    "This measures how well the decoder $D$ can reconstruct the original input $x_t$ from the sampled latent variable $z$.\n",
    "\n",
    "In general, we can take $L$ samples of $\\epsilon$ and average the reconstruction loss across these samples to make the estimate more accurate:\n",
    "\n",
    "$$\n",
    "\\mathcal{L}_R(x_t) = \\frac{1}{L} \\sum_{\\ell=1}^{L} ||x_t - D(z^{(\\ell)}_t)||^2\n",
    "$$\n",
    "\n",
    "where each $z^{(\\ell)}_t$ is sampled using a different $\\epsilon^{(\\ell)}$.\n",
    "\n",
    "In practice though, using just one sample ($L=1$) works fine and is what most implementations do.   So most of the time, the reconstruction loss simplifies to:\n",
    "\n",
    "$$\n",
    "\\mathcal{L}_R(x_t) = ||x_t - D(z_t)||^2\n",
    "$$\n",
    "\n",
    "\n",
    "### 2. KL Divergence Loss\n",
    "\n",
    "This term drives the learned latent distribution to stay close to a standard normal distribution. We can compute the KL divergence analytically:\n",
    "\n",
    "$$\n",
    "KL(x_t) = \\frac{1}{2} \\sum_{i=1}^K \\left(1 + \\log(\\sigma_{t,i}^2) - \\mu_{t,i}^2 - \\sigma_{t,i}^2\\right)\n",
    "$$\n",
    "\n",
    "where $\\mu_{t,i}$ and $\\sigma_{t,i}$ are the $i$-th components of the encoder’s outputs for $x_t$.\n",
    "\n",
    "\n",
    "### Total Loss\n",
    "\n",
    "Finally, the total loss for a single data point $x_t$ combines the reconstruction loss and the KL divergence:\n",
    "\n",
    "$$\n",
    "\\mathcal{L}(x_t) = w_r \\mathcal{L}_R(x_t) + KL(x_t)\n",
    "$$\n",
    "\n",
    "In our example, we introduce a hyperparameter $ w_r $, known as the reconstruction weight (`reconstruction_wt` in our implementation), which controls the importance of the reconstruction term.\n",
    "\n",
    "Then, we sum or average this loss per point across a batch of samples to obtain the batch loss.\n",
    "\n",
    "\n",
    "As a side note, other implementations might also introduce a weight for the KL divergence term (for example, see [Beta-VAE](https://openreview.net/pdf?id=Sy2fzU9gl)).\n"
   ]
  },
  {
   "cell_type": "markdown",
   "id": "6ab0e98c-4abf-4405-bde4-59da70819684",
   "metadata": {},
   "source": [
    "### VAE Module\n",
    "\n",
    "In the following implementation, we define a flexible `VAEModule` using PyTorch Lightning, which takes:\n",
    "\n",
    "1. An encoder that returns the mean and log-variance of the latent variable distribution.\n",
    "2. A decoder that reconstructs the input from the latent space.\n",
    "3. A `VAESampler` (like `GaussSampler`) that implements the reparameterization trick.\n",
    "\n",
    "We use the `BaseLightningModule` to handle standard training behavior, such as optimizer setup and training loop management.\n"
   ]
  },
  {
   "cell_type": "code",
   "execution_count": 13,
   "id": "8c49808a",
   "metadata": {},
   "outputs": [],
   "source": [
    "import torch\n",
    "import torch.nn as nn\n",
    "from typing import Tuple, Protocol\n",
    "import abc\n",
    "from genai4t.model.core import BaseLightningModule\n",
    "\n",
    "\n",
    "class VAESampler(Protocol):\n",
    "    \"\"\"Protocol defining the interface for VAE sampling strategies.\n",
    "    \n",
    "    This protocol ensures that any sampler implementation provides a method to sample\n",
    "    from the latent space distribution using the mean and log variance parameters.\n",
    "    \"\"\"\n",
    "    @abc.abstractmethod\n",
    "    def sample(self, z_mean: torch.Tensor, z_log_var: torch.Tensor) -> torch.Tensor:\n",
    "        \"\"\"Sample from the latent space distribution.\n",
    "        \n",
    "        Args:\n",
    "            z_mean: Mean of the latent space distribution, shape (batch_size, latent_dim)\n",
    "            z_log_var: Log variance of the latent space distribution, shape (batch_size, latent_dim)\n",
    "            \n",
    "        Returns:\n",
    "            Sampled latent vector, shape (batch_size, latent_dim)\n",
    "        \"\"\"\n",
    "        raise NotImplementedError\n",
    "\n",
    "\n",
    "class GaussSampler(VAESampler):\n",
    "    \"\"\"Implementation of the VAE sampler using Gaussian distribution.\n",
    "    \n",
    "    This sampler implements the reparameterization trick to enable gradient flow\n",
    "    through the sampling process.\n",
    "    \"\"\"\n",
    "    def sample(self, z_mean: torch.Tensor, z_log_var: torch.Tensor) -> torch.Tensor:\n",
    "        \"\"\"Sample from a Gaussian distribution using the reparameterization trick.\n",
    "        \n",
    "        Args:\n",
    "            z_mean: Mean of the latent space distribution, shape (batch_size, latent_dim)\n",
    "            z_log_var: Log variance of the latent space distribution, shape (batch_size, latent_dim)\n",
    "            \n",
    "        Returns:\n",
    "            Sampled latent vector using z = μ + σ * ε where ε ~ N(0,1)\n",
    "        \"\"\"\n",
    "        batch = z_mean.size(0)\n",
    "        dim = z_mean.size(1)\n",
    "        epsilon = torch.randn(batch, dim).to(z_mean.device)\n",
    "        return z_mean + torch.exp(0.5 * z_log_var) * epsilon\n",
    "\n",
    "\n",
    "class VAEModule(BaseLightningModule):\n",
    "    \"\"\"Variational Autoencoder (VAE) implementation using PyTorch Lightning.\n",
    "    \n",
    "    This module implements a VAE with configurable encoder, decoder, and sampling strategy.\n",
    "    It handles both the reconstruction loss and KL divergence loss components.\n",
    "    \n",
    "    Attributes:\n",
    "        encoder: Neural network that maps input to latent space parameters\n",
    "        decoder: Neural network that maps latent space to reconstructed input\n",
    "        sampler: Strategy for sampling from the latent space distribution\n",
    "        reconstruction_wt: Weight for the reconstruction loss component\n",
    "    \"\"\"\n",
    "    def __init__(\n",
    "        self,\n",
    "        encoder: nn.Module,\n",
    "        decoder: nn.Module,\n",
    "        sampler: VAESampler,\n",
    "        reconstruction_wt: float = 1.,\n",
    "        lr: float = 1e-3,\n",
    "        weight_decay: float = 0.,\n",
    "        ):\n",
    "        super().__init__(lr=lr, weight_decay=weight_decay)\n",
    "\n",
    "        self.encoder = encoder\n",
    "        self.decoder = decoder\n",
    "        self.sampler = sampler\n",
    "        self.reconstruction_wt = reconstruction_wt\n",
    "\n",
    "    def _compute_reconstruction_loss(self, x: torch.Tensor, reconstructed_x: torch.Tensor) -> torch.Tensor:\n",
    "        \"\"\"Compute the mean squared error reconstruction loss.\n",
    "        \n",
    "        Args:\n",
    "            x: Original input tensor\n",
    "            reconstructed_x: Reconstructed input tensor\n",
    "            \n",
    "        Returns:\n",
    "            Sum of squared differences between input and reconstruction\n",
    "        \"\"\"\n",
    "        err = torch.pow(x - reconstructed_x, 2)\n",
    "        reconst_loss = torch.sum(err)\n",
    "        return reconst_loss\n",
    "\n",
    "    def compute_loss(\n",
    "        self,\n",
    "        x: torch.Tensor,\n",
    "        reconstructed_x: torch.Tensor,\n",
    "        z_mean: torch.Tensor,\n",
    "        z_log_var: torch.Tensor,\n",
    "    ) -> Tuple[torch.Tensor, torch.Tensor, torch.Tensor]:\n",
    "        \"\"\"Compute the total VAE loss and its components.\n",
    "        \n",
    "        The total loss is a weighted sum of reconstruction loss and KL divergence.\n",
    "        \n",
    "        Args:\n",
    "            x: Original input tensor\n",
    "            reconstructed_x: Reconstructed input tensor\n",
    "            z_mean: Mean of the latent space distribution\n",
    "            z_log_var: Log variance of the latent space distribution\n",
    "            \n",
    "        Returns:\n",
    "            Tuple containing:\n",
    "                - Total loss (weighted reconstruction + KL)\n",
    "                - Reconstruction loss\n",
    "                - KL divergence loss\n",
    "        \"\"\"\n",
    "        bs = x.size(0)\n",
    "        reconstruction_loss = self._compute_reconstruction_loss(x, reconstructed_x) / bs\n",
    "        kl_loss = -0.5 * torch.sum(1 + z_log_var - z_mean.pow(2) - z_log_var.exp()) / bs\n",
    "        total_loss = self.reconstruction_wt * reconstruction_loss + kl_loss\n",
    "        return total_loss, reconstruction_loss, kl_loss\n",
    "\n",
    "    def step(self, x: torch.Tensor) -> Tuple[torch.Tensor, torch.Tensor, torch.Tensor]:\n",
    "        \"\"\"Perform a single forward pass and compute losses.\n",
    "        \n",
    "        Args:\n",
    "            x: Input tensor\n",
    "            \n",
    "        Returns:\n",
    "            Tuple containing:\n",
    "                - Total loss\n",
    "                - Reconstruction loss\n",
    "                - KL divergence loss\n",
    "        \"\"\"\n",
    "        z_mean, z_log_var = self.encoder(x)\n",
    "        z = self.sampler.sample(z_mean, z_log_var)\n",
    "        reconstructed_x = self.decoder(z)\n",
    "        loss, rec_loss, kl_loss = self.compute_loss(x, reconstructed_x, z_mean, z_log_var)\n",
    "        return loss, rec_loss, kl_loss\n",
    "\n",
    "    def training_step(self, batch, batch_idx):\n",
    "        \"\"\"PyTorch Lightning training step.\n",
    "        \n",
    "        Args:\n",
    "            batch: Input batch\n",
    "            batch_idx: Index of the current batch\n",
    "            \n",
    "        Returns:\n",
    "            Total loss for backpropagation\n",
    "        \"\"\"\n",
    "        loss, rec_loss, kl_loss = self.step(batch)\n",
    "        self.log('train_loss', loss.item(), on_step=True, on_epoch=True, prog_bar=True)\n",
    "        self.log('train_rec_loss', rec_loss.item(), on_step=True, on_epoch=True, prog_bar=True)\n",
    "        self.log('train_kl_loss', kl_loss.item(), on_step=True, on_epoch=True, prog_bar=True)\n",
    "        return loss\n"
   ]
  },
  {
   "cell_type": "markdown",
   "id": "bf07c573",
   "metadata": {},
   "source": [
    "We use the `VAEModule` as a flexible wrapper to train any VAE model by injecting custom encoder and decoder networks. To make this reusable across different implementations, we've refactored the `VAEModule` into `genai4t.chapters.vae`.\n",
    "\n",
    "This allows us to easily import `VAEModule` and the `GaussSampler` in future notebooks or projects, streamlining the setup process for training VAEs."
   ]
  },
  {
   "cell_type": "code",
   "execution_count": 14,
   "id": "d6e49c28",
   "metadata": {},
   "outputs": [],
   "source": [
    "from genai4t.chapters.vae import VAEModule, GaussSampler"
   ]
  },
  {
   "cell_type": "markdown",
   "id": "e017f2e9",
   "metadata": {},
   "source": [
    "### Encoder and Decoder\n",
    "\n",
    "Since we are dealing with image data, we’ll use convolutional neural networks (CNNs) for both the encoder and decoder.\n",
    "\n",
    "#### Encoder\n",
    "The encoder processes a `28x28` grayscale image, applying a series of convolutional and pooling layers to downsample the input into a vector of `128` dimensions.  This vector is then used to produce the mean and log-variance of the latent variable distribution.\n",
    "\n",
    "#### Decoder\n",
    "The decoder performs the reverse: it takes a latent vector of size `latent_dim` and reconstructs the original image. This is achieved using transposed convolutions (also known as deconvolutions).\n",
    "\n",
    "We use a final `Sigmoid` activation to ensure pixel values stay between 0 and 1."
   ]
  },
  {
   "cell_type": "code",
   "execution_count": 15,
   "id": "602349a6",
   "metadata": {
    "ExecuteTime": {
     "end_time": "2024-11-12T15:12:04.878938Z",
     "start_time": "2024-11-12T15:12:04.869758Z"
    }
   },
   "outputs": [],
   "source": [
    "import torch\n",
    "import torch.nn as nn\n",
    "from typing import Tuple\n",
    "\n",
    "class MNISTEncoder(nn.Module):\n",
    "    def __init__(self, latent_dim: int):\n",
    "        super().__init__()\n",
    "        self.encoder = nn.Sequential(\n",
    "            nn.Conv2d(1, 32, kernel_size=3, padding=1),  # 28x28 -> 28x28\n",
    "            nn.ReLU(),\n",
    "            nn.MaxPool2d(2, 2),  # 28x28 -> 14x14\n",
    "            nn.Conv2d(32, 64, kernel_size=3, padding=1),  # 14x14 -> 14x14\n",
    "            nn.ReLU(),\n",
    "            nn.MaxPool2d(2, 2),  # 14x14 -> 7x7\n",
    "            nn.Conv2d(64, 128, kernel_size=7)  # 7x7 -> 1x1\n",
    "        )\n",
    "        \n",
    "        self.mu_layer = nn.Linear(128, latent_dim)\n",
    "        self.logvar_layer = nn.Linear(128, latent_dim)\n",
    "\n",
    "    def forward(self, x: torch.Tensor) -> Tuple[torch.Tensor, torch.Tensor]:    \n",
    "        z = self.encoder(x)\n",
    "        z = z.view(z.size(0), -1)  # Flatten for the linear layers\n",
    "        z_mean = self.mu_layer(z)\n",
    "        z_logvar = self.logvar_layer(z)\n",
    "        return z_mean, z_logvar\n",
    "    \n",
    "\n",
    "class MNISTDecoder(nn.Module):\n",
    "    def __init__(self, latent_dim: int):\n",
    "        super().__init__()\n",
    "        self.decoder_input = nn.Linear(latent_dim, 128)\n",
    "        self.decoder = nn.Sequential(\n",
    "            nn.ConvTranspose2d(128, 64, kernel_size=7),  # 1x1 -> 7x7\n",
    "            nn.ReLU(),\n",
    "            nn.ConvTranspose2d(64, 32, kernel_size=3, stride=2, padding=1, output_padding=1),  # 7x7 -> 14x14\n",
    "            nn.ReLU(),\n",
    "            nn.ConvTranspose2d(32, 1, kernel_size=3, stride=2, padding=1, output_padding=1),  # 14x14 -> 28x28\n",
    "            nn.Sigmoid()  # Output in range [0, 1] for pixel values\n",
    "        )\n",
    "\n",
    "    def forward(self, z: torch.Tensor) -> torch.Tensor:\n",
    "        bs = z.size(0)\n",
    "        z = self.decoder_input(z)\n",
    "        z = z.view(-1, 128, 1, 1)  # Reshape to (batch_size, channels, height, width)\n",
    "        x_reconstructed = self.decoder(z)\n",
    "        return x_reconstructed \n"
   ]
  },
  {
   "cell_type": "code",
   "execution_count": 16,
   "id": "cc4e4e61",
   "metadata": {
    "ExecuteTime": {
     "end_time": "2024-11-12T15:12:04.890795Z",
     "start_time": "2024-11-12T15:12:04.881162Z"
    }
   },
   "outputs": [],
   "source": [
    "MODEL_CONFIG = {\n",
    "    # Size of the latent space (dimensionality of z)\n",
    "    \"latent_dim\": 26,\n",
    "    # Learning rate\n",
    "    \"lr\": 1e-3,\n",
    "    # Weight for the reconstruction loss in the total loss\n",
    "    \"reconstruction_wt\": 3.,\n",
    "    # Total number of training steps (e.g., 10 epochs * number of batches per epoch)\n",
    "    \"num_steps\": 10 * len(train_dl),\n",
    "    # Directory path to save model checkpoints and artifacts\n",
    "    \"model_dir\": \"./artifacts/MNIST_VAE_2D\"\n",
    "}"
   ]
  },
  {
   "cell_type": "code",
   "execution_count": 17,
   "id": "8b17b8e6",
   "metadata": {
    "ExecuteTime": {
     "end_time": "2024-11-12T15:12:04.907761Z",
     "start_time": "2024-11-12T15:12:04.893290Z"
    }
   },
   "outputs": [],
   "source": [
    "encoder = MNISTEncoder(MODEL_CONFIG[\"latent_dim\"])\n",
    "decoder = MNISTDecoder(MODEL_CONFIG[\"latent_dim\"])"
   ]
  },
  {
   "cell_type": "code",
   "execution_count": 18,
   "id": "57fdfbc7",
   "metadata": {},
   "outputs": [],
   "source": [
    "from genai4t.model.utils import fit_model"
   ]
  },
  {
   "cell_type": "code",
   "execution_count": 19,
   "id": "c05155b6",
   "metadata": {
    "ExecuteTime": {
     "end_time": "2024-11-12T15:12:04.913325Z",
     "start_time": "2024-11-12T15:12:04.910041Z"
    }
   },
   "outputs": [],
   "source": [
    "vae = VAEModule(\n",
    "    encoder=encoder,\n",
    "    decoder=decoder,\n",
    "    sampler=GaussSampler(),\n",
    "    lr=MODEL_CONFIG['lr'],\n",
    "    reconstruction_wt=MODEL_CONFIG[\"reconstruction_wt\"])"
   ]
  },
  {
   "cell_type": "code",
   "execution_count": 20,
   "id": "d197e5ab",
   "metadata": {
    "ExecuteTime": {
     "end_time": "2024-11-12T15:12:05.015563Z",
     "start_time": "2024-11-12T15:12:04.932975Z"
    }
   },
   "outputs": [
    {
     "name": "stderr",
     "output_type": "stream",
     "text": [
      "Seed set to 2024\n",
      "Using default `ModelCheckpoint`. Consider installing `litmodels` package to enable `LitModelCheckpoint` for automatic upload to the Lightning model registry.\n",
      "GPU available: True (mps), used: True\n",
      "TPU available: False, using: 0 TPU cores\n",
      "HPU available: False, using: 0 HPUs\n",
      "/Users/Shared/genai-for-trading-and-am/.venv_genai4t/lib/python3.12/site-packages/lightning/pytorch/trainer/configuration_validator.py:70: You defined a `validation_step` but have no `val_dataloader`. Skipping val loop.\n",
      "\n",
      "  | Name    | Type         | Params | Mode \n",
      "-------------------------------------------------\n",
      "0 | encoder | MNISTEncoder | 427 K  | train\n",
      "1 | decoder | MNISTDecoder | 423 K  | train\n",
      "-------------------------------------------------\n",
      "850 K     Trainable params\n",
      "0         Non-trainable params\n",
      "850 K     Total params\n",
      "3.403     Total estimated model params size (MB)\n",
      "20        Modules in train mode\n",
      "0         Modules in eval mode\n"
     ]
    },
    {
     "name": "stdout",
     "output_type": "stream",
     "text": [
      "total_n_params: 850741\n",
      "deleting ./artifacts/MNIST_VAE_2D..\n"
     ]
    },
    {
     "name": "stderr",
     "output_type": "stream",
     "text": [
      "/Users/Shared/genai-for-trading-and-am/.venv_genai4t/lib/python3.12/site-packages/lightning/pytorch/trainer/connectors/data_connector.py:425: The 'train_dataloader' does not have many workers which may be a bottleneck. Consider increasing the value of the `num_workers` argument` to `num_workers=11` in the `DataLoader` to improve performance.\n"
     ]
    },
    {
     "data": {
      "application/vnd.jupyter.widget-view+json": {
       "model_id": "0fdf3c01ef5f4b948ef7ea3f41981a65",
       "version_major": 2,
       "version_minor": 0
      },
      "text/plain": [
       "Training: |                                                                                                   …"
      ]
     },
     "metadata": {},
     "output_type": "display_data"
    },
    {
     "name": "stderr",
     "output_type": "stream",
     "text": [
      "`Trainer.fit` stopped: `max_steps=7500` reached.\n"
     ]
    },
    {
     "data": {
      "image/png": "[encoded data removed]",
      "text/plain": [
       "<Figure size 1500x500 with 1 Axes>"
      ]
     },
     "metadata": {},
     "output_type": "display_data"
    }
   ],
   "source": [
    "_ = fit_model(\n",
    "    MODEL_CONFIG[\"model_dir\"],\n",
    "    vae,\n",
    "    train_dl,\n",
    "    num_steps=MODEL_CONFIG[\"num_steps\"],\n",
    "    random_state=ENV_CONFIG['random_state']\n",
    ")"
   ]
  },
  {
   "cell_type": "markdown",
   "id": "fbf4af2e",
   "metadata": {},
   "source": [
    "## Generation\n",
    "\n",
    "Now it’s time to generate new images. \n",
    "\n",
    "### Generation from an Image\n",
    "\n",
    "First, we’ll generate variations of a real image from the test set:\n",
    "\n",
    "1. Pick a sample from the test set.\n",
    "2. Use the encoder to obtain the parameters of the distribution in the latent space.\n",
    "3. Sample latent vectors from this distribution.\n",
    "4. Use the decoder to produce new images similar to the original."
   ]
  },
  {
   "cell_type": "code",
   "execution_count": 21,
   "id": "7f3dd697",
   "metadata": {},
   "outputs": [],
   "source": [
    "def plot_generations(\n",
    "    title: str,\n",
    "    generations: torch.Tensor,\n",
    "):\n",
    "    generations = generations.numpy().reshape(-1, 28, 28)\n",
    "    nrows = generations.shape[0] // 5\n",
    "    f, axs = plt.subplots(nrows, 5, figsize=(20, 15))\n",
    "    f.suptitle(title, fontsize=32)\n",
    "    for i, ax in enumerate(axs.flatten()):\n",
    "        ax.imshow(generations[i], cmap=\"gray\")\n",
    "        ax.axis('off')\n",
    "        plot_style.apply_plot_style(ax)\n",
    "    plt.tight_layout(rect=[0, 0, 1, 0.95])  # Leave space for the suptitle\n",
    "    plt.show()"
   ]
  },
  {
   "cell_type": "code",
   "execution_count": 22,
   "id": "f4ff4228",
   "metadata": {},
   "outputs": [
    {
     "data": {
      "text/plain": [
       "VAEModule(\n",
       "  (encoder): MNISTEncoder(\n",
       "    (encoder): Sequential(\n",
       "      (0): Conv2d(1, 32, kernel_size=(3, 3), stride=(1, 1), padding=(1, 1))\n",
       "      (1): ReLU()\n",
       "      (2): MaxPool2d(kernel_size=2, stride=2, padding=0, dilation=1, ceil_mode=False)\n",
       "      (3): Conv2d(32, 64, kernel_size=(3, 3), stride=(1, 1), padding=(1, 1))\n",
       "      (4): ReLU()\n",
       "      (5): MaxPool2d(kernel_size=2, stride=2, padding=0, dilation=1, ceil_mode=False)\n",
       "      (6): Conv2d(64, 128, kernel_size=(7, 7), stride=(1, 1))\n",
       "    )\n",
       "    (mu_layer): Linear(in_features=128, out_features=26, bias=True)\n",
       "    (logvar_layer): Linear(in_features=128, out_features=26, bias=True)\n",
       "  )\n",
       "  (decoder): MNISTDecoder(\n",
       "    (decoder_input): Linear(in_features=26, out_features=128, bias=True)\n",
       "    (decoder): Sequential(\n",
       "      (0): ConvTranspose2d(128, 64, kernel_size=(7, 7), stride=(1, 1))\n",
       "      (1): ReLU()\n",
       "      (2): ConvTranspose2d(64, 32, kernel_size=(3, 3), stride=(2, 2), padding=(1, 1), output_padding=(1, 1))\n",
       "      (3): ReLU()\n",
       "      (4): ConvTranspose2d(32, 1, kernel_size=(3, 3), stride=(2, 2), padding=(1, 1), output_padding=(1, 1))\n",
       "      (5): Sigmoid()\n",
       "    )\n",
       "  )\n",
       ")"
      ]
     },
     "execution_count": 22,
     "metadata": {},
     "output_type": "execute_result"
    }
   ],
   "source": [
    "vae.eval()"
   ]
  },
  {
   "cell_type": "code",
   "execution_count": 23,
   "id": "c5232db6",
   "metadata": {},
   "outputs": [
    {
     "name": "stderr",
     "output_type": "stream",
     "text": [
      "Seed set to 2024\n"
     ]
    }
   ],
   "source": [
    "set_random_state(ENV_CONFIG[\"random_state\"])\n",
    "\n",
    "# select a random from the dataset\n",
    "idx = np.random.choice(len(test_ds))"
   ]
  },
  {
   "cell_type": "code",
   "execution_count": 24,
   "id": "1886c50d",
   "metadata": {
    "ExecuteTime": {
     "end_time": "2024-11-12T15:22:58.015713Z",
     "start_time": "2024-11-12T15:22:58.009771Z"
    }
   },
   "outputs": [],
   "source": [
    "test_sample = test_ds[idx]"
   ]
  },
  {
   "cell_type": "code",
   "execution_count": 25,
   "id": "697fdd7a",
   "metadata": {
    "ExecuteTime": {
     "end_time": "2024-11-12T15:22:58.185961Z",
     "start_time": "2024-11-12T15:22:58.179509Z"
    }
   },
   "outputs": [],
   "source": [
    "np_test_sample = test_sample.numpy()[0]"
   ]
  },
  {
   "cell_type": "code",
   "execution_count": 26,
   "id": "fcb4bc99",
   "metadata": {
    "ExecuteTime": {
     "end_time": "2024-11-12T15:22:58.185961Z",
     "start_time": "2024-11-12T15:22:58.179509Z"
    }
   },
   "outputs": [
    {
     "data": {
      "image/png": "[encoded data removed]",
      "text/plain": [
       "<Figure size 640x480 with 1 Axes>"
      ]
     },
     "metadata": {},
     "output_type": "display_data"
    }
   ],
   "source": [
    "f, ax = plt.subplots()\n",
    "ax.imshow(np_test_sample, cmap=\"gray\")\n",
    "ax.axis(\"off\")\n",
    "plot_style.apply_plot_style(ax)"
   ]
  },
  {
   "cell_type": "code",
   "execution_count": 27,
   "id": "fbe4c2e7",
   "metadata": {
    "ExecuteTime": {
     "end_time": "2024-11-12T15:22:59.321421Z",
     "start_time": "2024-11-12T15:22:59.311958Z"
    }
   },
   "outputs": [],
   "source": [
    "with torch.no_grad():\n",
    "    # use the encoder to compute the mean and variance of the distribution given the input image\n",
    "    z_mean, z_logvar = vae.encoder(test_sample[torch.newaxis, :])\n",
    "    # generate 10 latent representation drawn from the predicted distribution\n",
    "    zs = torch.concatenate([vae.sampler.sample(z_mean, z_logvar) for _ in range(10)], dim=0)\n",
    "    # generate images using the decoder\n",
    "    generations = vae.decoder(zs)"
   ]
  },
  {
   "cell_type": "code",
   "execution_count": 28,
   "id": "ff6bc1b0",
   "metadata": {},
   "outputs": [
    {
     "data": {
      "image/png": "[encoded data removed]",
      "text/plain": [
       "<Figure size 2000x1500 with 10 Axes>"
      ]
     },
     "metadata": {},
     "output_type": "display_data"
    }
   ],
   "source": [
    "plot_generations(\"Image Generation based on input image\", generations)"
   ]
  },
  {
   "cell_type": "markdown",
   "id": "80d1c99c",
   "metadata": {},
   "source": [
    "### Unconditional Generation\n",
    "\n",
    "###  Unconditional Image Generation\n",
    "We sample latent vectors from a standard normal distribution, $z \\sim \\mathcal{N}(\\mathbf{0}, I)$, and pass them through the decoder to produce new synthetic images.\n"
   ]
  },
  {
   "cell_type": "code",
   "execution_count": 29,
   "id": "11b81c07",
   "metadata": {},
   "outputs": [
    {
     "name": "stderr",
     "output_type": "stream",
     "text": [
      "Seed set to 2024\n"
     ]
    }
   ],
   "source": [
    "# sample latent representations from a standard gaussian distribution\n",
    "set_random_state(ENV_CONFIG[\"random_state\"])\n",
    "zs = torch.randn(10, MODEL_CONFIG['latent_dim'])"
   ]
  },
  {
   "cell_type": "code",
   "execution_count": 30,
   "id": "a443483e",
   "metadata": {},
   "outputs": [],
   "source": [
    "with torch.no_grad():\n",
    "    # generate images using the decoder\n",
    "    unconditional_generations = vae.decoder(zs)"
   ]
  },
  {
   "cell_type": "code",
   "execution_count": 31,
   "id": "e52c7561",
   "metadata": {},
   "outputs": [
    {
     "data": {
      "image/png": "[encoded data removed]",
      "text/plain": [
       "<Figure size 2000x1500 with 10 Axes>"
      ]
     },
     "metadata": {},
     "output_type": "display_data"
    }
   ],
   "source": [
    "plot_generations(\"Unconditional Image Generation\", unconditional_generations)"
   ]
  }
 ],
 "metadata": {
  "kernelspec": {
   "display_name": "Python 3 (ipykernel)",
   "language": "python",
   "name": "python3"
  },
  "language_info": {
   "codemirror_mode": {
    "name": "ipython",
    "version": 3
   },
   "file_extension": ".py",
   "mimetype": "text/x-python",
   "name": "python",
   "nbconvert_exporter": "python",
   "pygments_lexer": "ipython3",
   "version": "3.12.8"
  },
  "toc": {
   "base_numbering": 1,
   "nav_menu": {},
   "number_sections": true,
   "sideBar": true,
   "skip_h1_title": false,
   "title_cell": "Table of Contents",
   "title_sidebar": "Contents",
   "toc_cell": false,
   "toc_position": {},
   "toc_section_display": true,
   "toc_window_display": false
  }
 },
 "nbformat": 4,
 "nbformat_minor": 5
}
