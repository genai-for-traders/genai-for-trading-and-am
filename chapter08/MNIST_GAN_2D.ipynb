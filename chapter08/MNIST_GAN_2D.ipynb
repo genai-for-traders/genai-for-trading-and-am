{
 "cells": [
  {
   "cell_type": "markdown",
   "id": "2be27e11",
   "metadata": {},
   "source": [
    "# Generative Adversarial Networks for Image Generation\n",
    "\n",
    "\n",
    "In this notebook, we will implement a basic Generative Adversarial Network (GAN) for image generation and lay the groundwork for applying GANs to time series data. \n",
    "\n",
    "The goal is twofold: first, to gain hands-on experience with the core components of a GAN using a well-known example, generating images from the MNIST dataset. Second, to develop a flexible `GanModule` that can be reused in later notebooks for time series generation.\n",
    "\n",
    "This reusable module will make it easy to experiment with different generator and discriminator architectures, enabling you to test custom designs in a modular way.\n",
    "\n",
    "\n",
    "## Import libraries"
   ]
  },
  {
   "cell_type": "code",
   "execution_count": 1,
   "id": "7d1f19b6",
   "metadata": {
    "ExecuteTime": {
     "end_time": "2024-11-12T15:11:57.823402Z",
     "start_time": "2024-11-12T15:11:57.818152Z"
    }
   },
   "outputs": [],
   "source": [
    "import torchvision\n",
    "from torchvision.transforms import ToTensor \n",
    "from sklearn.model_selection import train_test_split\n",
    "import torch\n",
    "from genai4t.utils import set_random_state\n",
    "from torch.utils.data import DataLoader\n",
    "from matplotlib import pyplot as plt\n",
    "import numpy as np\n",
    "import seaborn as sns\n",
    "import pandas as pd\n",
    "from genai4t.plot_style import plot_style"
   ]
  },
  {
   "cell_type": "code",
   "execution_count": 2,
   "id": "3540b511",
   "metadata": {},
   "outputs": [],
   "source": [
    "# Environment configuration\n",
    "ENV_CONFIG = {\n",
    "    \"random_state\": 2024 # Seed for reproducibility across runs\n",
    "}\n",
    "\n",
    "# Data configuration for loading the MNIST dataset\n",
    "DATA_CONFIG = {\n",
    "    \"data_dir\": \"'./artifacts/MNIST\", # Directory where the MNIST dataset will be stored\n",
    "    \"batch_size\": 64                  # Batch size used during training\n",
    "}"
   ]
  },
  {
   "cell_type": "markdown",
   "id": "6bf00ec3-74d2-4726-9660-768d66046d28",
   "metadata": {},
   "source": [
    "## Loading and Preparing the Data\n",
    "\n",
    "The [MNIST](https://en.wikipedia.org/wiki/MNIST_database) database is a classic dataset of handwritten digits, consisting of grayscale images sized 28×28 pixels, with digits ranging from 0 to 9. The dataset includes 60,000 training images and 10,000 test images, and is widely used for benchmarking both image classification and generative modeling tasks. Below we download the dataset from `torchvision`\n"
   ]
  },
  {
   "cell_type": "code",
   "execution_count": 3,
   "id": "9e0f8895",
   "metadata": {},
   "outputs": [
    {
     "name": "stdout",
     "output_type": "stream",
     "text": [
      "Downloading http://yann.lecun.com/exdb/mnist/train-images-idx3-ubyte.gz\n",
      "Failed to download (trying next):\n",
      "HTTP Error 404: Not Found\n",
      "\n",
      "Downloading https://ossci-datasets.s3.amazonaws.com/mnist/train-images-idx3-ubyte.gz\n",
      "Downloading https://ossci-datasets.s3.amazonaws.com/mnist/train-images-idx3-ubyte.gz to './artifacts/MNIST/MNIST/raw/train-images-idx3-ubyte.gz\n"
     ]
    },
    {
     "name": "stderr",
     "output_type": "stream",
     "text": [
      "100%|████████████████████████████████████████████████████████████████████████████████████████████████████████████████████████████████████████████████| 9.91M/9.91M [00:16<00:00, 609kB/s]\n"
     ]
    },
    {
     "name": "stdout",
     "output_type": "stream",
     "text": [
      "Extracting './artifacts/MNIST/MNIST/raw/train-images-idx3-ubyte.gz to './artifacts/MNIST/MNIST/raw\n",
      "\n",
      "Downloading http://yann.lecun.com/exdb/mnist/train-labels-idx1-ubyte.gz\n",
      "Failed to download (trying next):\n",
      "HTTP Error 404: Not Found\n",
      "\n",
      "Downloading https://ossci-datasets.s3.amazonaws.com/mnist/train-labels-idx1-ubyte.gz\n",
      "Downloading https://ossci-datasets.s3.amazonaws.com/mnist/train-labels-idx1-ubyte.gz to './artifacts/MNIST/MNIST/raw/train-labels-idx1-ubyte.gz\n"
     ]
    },
    {
     "name": "stderr",
     "output_type": "stream",
     "text": [
      "100%|████████████████████████████████████████████████████████████████████████████████████████████████████████████████████████████████████████████████| 28.9k/28.9k [00:00<00:00, 316kB/s]\n"
     ]
    },
    {
     "name": "stdout",
     "output_type": "stream",
     "text": [
      "Extracting './artifacts/MNIST/MNIST/raw/train-labels-idx1-ubyte.gz to './artifacts/MNIST/MNIST/raw\n",
      "\n",
      "Downloading http://yann.lecun.com/exdb/mnist/t10k-images-idx3-ubyte.gz\n",
      "Failed to download (trying next):\n",
      "HTTP Error 404: Not Found\n",
      "\n",
      "Downloading https://ossci-datasets.s3.amazonaws.com/mnist/t10k-images-idx3-ubyte.gz\n",
      "Downloading https://ossci-datasets.s3.amazonaws.com/mnist/t10k-images-idx3-ubyte.gz to './artifacts/MNIST/MNIST/raw/t10k-images-idx3-ubyte.gz\n"
     ]
    },
    {
     "name": "stderr",
     "output_type": "stream",
     "text": [
      "100%|████████████████████████████████████████████████████████████████████████████████████████████████████████████████████████████████████████████████| 1.65M/1.65M [00:05<00:00, 328kB/s]\n"
     ]
    },
    {
     "name": "stdout",
     "output_type": "stream",
     "text": [
      "Extracting './artifacts/MNIST/MNIST/raw/t10k-images-idx3-ubyte.gz to './artifacts/MNIST/MNIST/raw\n",
      "\n",
      "Downloading http://yann.lecun.com/exdb/mnist/t10k-labels-idx1-ubyte.gz\n",
      "Failed to download (trying next):\n",
      "HTTP Error 404: Not Found\n",
      "\n",
      "Downloading https://ossci-datasets.s3.amazonaws.com/mnist/t10k-labels-idx1-ubyte.gz\n",
      "Downloading https://ossci-datasets.s3.amazonaws.com/mnist/t10k-labels-idx1-ubyte.gz to './artifacts/MNIST/MNIST/raw/t10k-labels-idx1-ubyte.gz\n"
     ]
    },
    {
     "name": "stderr",
     "output_type": "stream",
     "text": [
      "100%|███████████████████████████████████████████████████████████████████████████████████████████████████████████████████████████████████████████████| 4.54k/4.54k [00:00<00:00, 4.10MB/s]"
     ]
    },
    {
     "name": "stdout",
     "output_type": "stream",
     "text": [
      "Extracting './artifacts/MNIST/MNIST/raw/t10k-labels-idx1-ubyte.gz to './artifacts/MNIST/MNIST/raw\n",
      "\n"
     ]
    },
    {
     "name": "stderr",
     "output_type": "stream",
     "text": [
      "\n"
     ]
    }
   ],
   "source": [
    "# Load the MNIST dataset from torchvision\n",
    "# The transform `ToTensor()` converts PIL images to torch.Tensor\n",
    "# and normalizes pixel values from the range [0, 255] (uint8) to [0.0, 1.0] (float32)\n",
    "dataset = torchvision.datasets.MNIST(\n",
    "    root=DATA_CONFIG[\"data_dir\"], download=True,\n",
    "    transform=ToTensor())"
   ]
  },
  {
   "cell_type": "code",
   "execution_count": 4,
   "id": "f588b053",
   "metadata": {},
   "outputs": [],
   "source": [
    "# Split the dataset into training and test sets (80/20 split)\n",
    "# This includes both images and their corresponding digit class labels\n",
    "train_xy_dataset, test_xy_dataset = train_test_split(\n",
    "    dataset,\n",
    "    test_size=0.2,\n",
    "    random_state=ENV_CONFIG[\"random_state\"])"
   ]
  },
  {
   "cell_type": "code",
   "execution_count": 5,
   "id": "2302929a",
   "metadata": {},
   "outputs": [],
   "source": [
    "# Preview a sample from the training dataset\n",
    "image, y_class = train_xy_dataset[0]"
   ]
  },
  {
   "cell_type": "code",
   "execution_count": 6,
   "id": "e0377546",
   "metadata": {},
   "outputs": [
    {
     "data": {
      "text/plain": [
       "torch.Size([1, 28, 28])"
      ]
     },
     "execution_count": 6,
     "metadata": {},
     "output_type": "execute_result"
    }
   ],
   "source": [
    "# Check the shape of the image tensor\n",
    "image.shape"
   ]
  },
  {
   "cell_type": "code",
   "execution_count": 7,
   "id": "69990715",
   "metadata": {},
   "outputs": [
    {
     "data": {
      "text/plain": [
       "2"
      ]
     },
     "execution_count": 7,
     "metadata": {},
     "output_type": "execute_result"
    }
   ],
   "source": [
    "y_class"
   ]
  },
  {
   "cell_type": "code",
   "execution_count": 8,
   "id": "d2a532ea",
   "metadata": {},
   "outputs": [
    {
     "data": {
      "image/png": "[encoded data removed]",
      "text/plain": [
       "<Figure size 640x480 with 1 Axes>"
      ]
     },
     "metadata": {},
     "output_type": "display_data"
    }
   ],
   "source": [
    "# Display the image using matplotlib\n",
    "# Convert the tensor to NumPy format and use grayscale colormap\n",
    "f, ax = plt.subplots()\n",
    "ax.imshow(image.numpy()[0], cmap=\"gray\")\n",
    "ax.axis('off')\n",
    "plot_style.apply_plot_style(ax)\n",
    "plt.show()"
   ]
  },
  {
   "cell_type": "code",
   "execution_count": 9,
   "id": "c25d5825",
   "metadata": {},
   "outputs": [],
   "source": [
    "# Remove class labels since we're doing unconditional image generation\n",
    "# Only keep the image tensors (x) and discard the labels (_)\n",
    "train_ds = [x for x, _ in train_xy_dataset]\n",
    "test_ds = [x for x, _ in test_xy_dataset]"
   ]
  },
  {
   "cell_type": "code",
   "execution_count": 10,
   "id": "8663be8b",
   "metadata": {},
   "outputs": [],
   "source": [
    "# Create the training dataloader\n",
    "# This enables batching and shuffling for training\n",
    "train_dl = DataLoader(\n",
    "    train_ds,\n",
    "    batch_size=DATA_CONFIG['batch_size'],\n",
    "    shuffle=True)"
   ]
  },
  {
   "cell_type": "code",
   "execution_count": 11,
   "id": "c2c23ed3",
   "metadata": {},
   "outputs": [],
   "source": [
    "# Create the test dataloader (no shuffling needed for evaluation)\n",
    "test_dl = DataLoader(\n",
    "    test_ds,\n",
    "    batch_size=DATA_CONFIG['batch_size'])"
   ]
  },
  {
   "cell_type": "code",
   "execution_count": 12,
   "id": "94465409",
   "metadata": {},
   "outputs": [
    {
     "data": {
      "text/plain": [
       "torch.Size([64, 1, 28, 28])"
      ]
     },
     "execution_count": 12,
     "metadata": {},
     "output_type": "execute_result"
    }
   ],
   "source": [
    "# Get a batch of training images\n",
    "batch = next(iter(train_dl))\n",
    "# Check the shape of the batch:\n",
    "batch.shape"
   ]
  },
  {
   "cell_type": "markdown",
   "id": "ce70310e-4a4d-4250-a4d8-ecb318919bf9",
   "metadata": {},
   "source": [
    "## GANs\n",
    "\n",
    "[Generative Adversarial Networks (GANs)](https://arxiv.org/abs/1406.2661), by Goodfellow et al., 2014,  are a prominent class of implicit generative models, known for their ability to generate high-quality, realistic, high-dimensional samples. Unlike explicit models, GANs do not attempt to estimate a probability density function directly; instead, they focus on learning how to sample high quality data. \n",
    "\n",
    "\n",
    "Training a GAN involves learning two models:\n",
    "\n",
    "- The Generator $G$, which takes as input a random vector $z$ from a latent space (typically, a realized value sampled from a standard normal distribution) and produces synthetic data.\n",
    "- The Discriminator $D$, which receives either real data (from the training set) or fake data (from the generator), and learns to classify whether the input is real or generated.\n",
    "\n",
    "\n",
    "The core idea behind GAN training is an adversarial game between these two models:\n",
    "\n",
    "- The discriminator is trained to distinguish real data from fake data, optimizing its parameters to become better at binary classification.\n",
    "- The generator is trained to fool the discriminator, improving its ability to generate data that the discriminator cannot distinguish from real samples.\n",
    "\n",
    "\n",
    "To train the discriminator, we construct a dataset with:\n",
    "\n",
    "- Real samples, such as digits from the MNIST dataset, labeled with 1.\n",
    "- Fake samples, generated by sampling from a randomly initialized generator $G$,  labeled with 0.\n",
    "\n",
    "With this dataset of real and fake samples, the discriminator is trained as a standard binary classifier. Then, using the loss signal provided by the discriminator, we train the generator to improve its output. This process is repeated iteratively.\n",
    "\n",
    "\n",
    "A practical question that often arises is: How many fake samples should we generate per iteration?\n",
    "In most implementations, the number of fake samples is set equal to the number of real samples in each training batch. This makes sure the discriminator is trained on a balanced binary classification task. We will follow this approach in the implementation below.\n",
    "\n",
    "In summary, GAN training is a two-player game:\n",
    "\n",
    "- The discriminator learns to distinguish real from fake.\n",
    "- The generator learns to fool the discriminator into classifying fake data as real.\n",
    "\n",
    "This adversarial setup is formalized through what is commonly referred to as the **adversarial loss**.\n",
    "\n",
    "More information about GANs can be found in Chapter 8 of the book, with additional details available in [Generative Adversarial Networks (GANs)](https://arxiv.org/abs/1406.2661)\n",
    "\n",
    "\n",
    "\n",
    "\n",
    "### Loss Function\n",
    "\n",
    "\n",
    "To train the discriminator, we minimize the negative log-likelihood of correctly classifying both real and fake samples.\n",
    "\n",
    "\n",
    "$$\n",
    "\\mathcal{L}_D = - \\sum_t \\log D(x_t) - \\sum_{t'} \\log{(1 - D(G(z_{t'}))}\n",
    "$$\n",
    "\n",
    "To train the generator, we minimize the loss below, that encourage $G(z)$ to be classified as real.\n",
    "\n",
    "$$\n",
    "\\mathcal{L}_G = - \\sum_{t'} \\log(D(G(z_{t'}))\n",
    "$$\n",
    "\n",
    "\n",
    "*Note*: This version of the generator loss is known as the non-saturating loss, introduced in the original GAN paper by Goodfellow et al., (2014) as a practical alternative to the minimax formulation. It also provides a stronger gradient signal during the early stages of training. For more details on the min-max formulation, see Chapter 8.\n",
    "\n",
    "\n",
    "\n",
    "### Implementation: `GanModule`\n",
    "\n",
    "In the implementation that follows, we define a flexible GanModule using PyTorch Lightning, which includes:\n",
    "\n",
    "- A Generator – maps latent vectors to samples in the original data space.\n",
    "- A Discriminator – outputs the probability that a given input is real.\n",
    "- A Sampler – generates latent vectors from a known prior distribution (e.g., standard Gaussian).\n",
    "\n",
    "This implementation is inspired by the following [lightning tutorial](https://lightning.ai/docs/pytorch/stable/notebooks/lightning_examples/basic-gan.html)."
   ]
  },
  {
   "cell_type": "code",
   "execution_count": null,
   "id": "9c0b3da7",
   "metadata": {},
   "outputs": [],
   "source": [
    "from torch import nn\n",
    "import torch\n",
    "from lightning.pytorch.utilities import grad_norm\n",
    "import abc\n",
    "from typing import Tuple\n",
    "from genai4t.model.utils import SampleTimeSeries\n",
    "from genai4t.model.core import BaseLightningModule\n",
    "\n",
    "\n",
    "class GanStepManager():\n",
    "    \"\"\"Manages the training schedule between generator and discriminator.\n",
    "    \n",
    "    This class controls when to train the generator vs discriminator based on the current step\n",
    "    and configured parameters. It supports a warmup period for the discriminator before\n",
    "    starting generator training.\n",
    "    \n",
    "    Attributes:\n",
    "        discriminator_steps (int): Number of steps to train discriminator per cycle\n",
    "        generator_steps (int): Number of steps to train generator per cycle\n",
    "        discriminator_warmup (int): Number of initial steps to train only discriminator\n",
    "    \"\"\"\n",
    "    \n",
    "    def __init__(\n",
    "        self,\n",
    "        discriminator_steps: int,\n",
    "        generator_steps: int,\n",
    "        discriminator_warmup: int):\n",
    "        self._step = -discriminator_warmup\n",
    "        self.discriminator_steps = discriminator_steps\n",
    "        self.generator_steps = generator_steps\n",
    "        self.total_steps = discriminator_steps + generator_steps\n",
    "        self.train_discriminator = True\n",
    "\n",
    "    @property \n",
    "    def train_generator(self) -> bool:\n",
    "        \"\"\"Determine if generator should be trained at current step.\n",
    "        \n",
    "        Returns:\n",
    "            bool: True if generator should be trained, False otherwise\n",
    "        \"\"\"\n",
    "        return self._step >= 0 and (0 <= self._step % self.total_steps < self.generator_steps)\n",
    "\n",
    "    def step(self) -> None:\n",
    "        \"\"\"Advance the training step counter.\"\"\"\n",
    "        self._step += 1\n",
    "\n",
    "\n",
    "class BaseGanModule(BaseLightningModule):\n",
    "    \"\"\"Base class for GAN implementations.\n",
    "    \n",
    "    This abstract base class provides the core functionality for GAN training,\n",
    "    including step management and training loop structure. Concrete implementations\n",
    "    must implement the step() method to define the specific GAN architecture.\n",
    "    \n",
    "    Attributes:\n",
    "        lr (float): Learning rate for optimizers\n",
    "        weight_decay (float): Weight decay for optimizers\n",
    "        discriminator_steps (int): Number of discriminator steps per cycle\n",
    "        generator_steps (int): Number of generator steps per cycle\n",
    "        discriminator_warmup (int): Number of warmup steps for discriminator\n",
    "    \"\"\"\n",
    "    \n",
    "    def __init__(self,\n",
    "        lr: float = 1e-3,\n",
    "        weight_decay: float = 0.,\n",
    "        discriminator_steps: int = 5,\n",
    "        generator_steps: int = 5,\n",
    "        discriminator_warmup: int = 50,\n",
    "        ):\n",
    "        \"\"\"Initialize the base GAN module.\n",
    "        \n",
    "        Args:\n",
    "            lr: Learning rate for optimizers\n",
    "            weight_decay: Weight decay for optimizers\n",
    "            discriminator_steps: Number of discriminator steps per cycle\n",
    "            generator_steps: Number of generator steps per cycle\n",
    "            discriminator_warmup: Number of warmup steps for discriminator\n",
    "        \"\"\"\n",
    "        super().__init__(\n",
    "            lr=lr,\n",
    "            weight_decay=weight_decay\n",
    "            )\n",
    "    \n",
    "        self.automatic_optimization = False\n",
    "        self.step_manager = GanStepManager(\n",
    "            discriminator_steps=discriminator_steps,\n",
    "            generator_steps=generator_steps,\n",
    "            discriminator_warmup=discriminator_warmup,\n",
    "        )\n",
    "\n",
    "    @abc.abstractmethod\n",
    "    def step(\n",
    "        self,\n",
    "        batch: torch.Tensor,\n",
    "        train_generator: bool,\n",
    "        train_discriminator: bool) -> Tuple[torch.Tensor, torch.Tensor]:\n",
    "        \"\"\"Perform a single training step.\n",
    "        \n",
    "        Args:\n",
    "            batch: Input batch of real data\n",
    "            train_generator: Whether to train the generator\n",
    "            train_discriminator: Whether to train the discriminator\n",
    "            \n",
    "        Returns:\n",
    "            Tuple containing generator loss and discriminator loss\n",
    "        \"\"\"\n",
    "        raise NotImplementedError\n",
    "    \n",
    "\n",
    "    def training_step(self, batch, batch_idx) -> None:\n",
    "        \"\"\"Perform a training step.\n",
    "        \n",
    "        Args:\n",
    "            batch: Input batch of real data\n",
    "            batch_idx: Index of the current batch\n",
    "        \"\"\"\n",
    "        train_generator = self.step_manager.train_generator\n",
    "        train_discriminator: bool = not train_generator\n",
    "        assert train_generator or train_discriminator\n",
    "        assert not (train_generator and train_discriminator)\n",
    "\n",
    "        generator_loss, discriminator_loss = self.step(\n",
    "            batch,\n",
    "            train_generator=train_generator,\n",
    "            train_discriminator=train_discriminator\n",
    "            )\n",
    "\n",
    "        if generator_loss is not None:\n",
    "            self.log('generator_loss', generator_loss.item(), on_step=True, on_epoch=False, prog_bar=True)\n",
    "        if discriminator_loss is not None:\n",
    "            self.log('discriminator_loss', discriminator_loss.item(), on_step=True, on_epoch=False, prog_bar=True)\n",
    "\n",
    "        self.step_manager.step()\n",
    "    \n",
    "    def validation_step(self, batch, batch_idx) -> None:\n",
    "        \"\"\"Perform a validation step.\n",
    "        \n",
    "        Args:\n",
    "            batch: Input batch of real data\n",
    "            batch_idx: Index of the current batch\n",
    "        \"\"\"\n",
    "        raise NotImplementedError\n",
    "\n",
    "\n",
    "class GanModule(BaseGanModule):\n",
    "    \"\"\"Standard GAN implementation with generator and discriminator.\n",
    "    \n",
    "    This class implements a standard GAN architecture with alternating training\n",
    "    between generator and discriminator. It uses binary cross entropy loss and\n",
    "    supports gradient clipping.\n",
    "    \n",
    "    Attributes:\n",
    "        generator (nn.Module): Generator network\n",
    "        discriminator (nn.Module): Discriminator network\n",
    "        sampler (SampleTimeSeries): Sampler for generating latent vectors\n",
    "        lr (float): Learning rate for optimizers\n",
    "        weight_decay (float): Weight decay for optimizers\n",
    "        discriminator_steps (int): Number of discriminator steps per cycle\n",
    "        generator_steps (int): Number of generator steps per cycle\n",
    "        discriminator_warmup (int): Number of warmup steps for discriminator\n",
    "        betas (Tuple[float, float]): Beta parameters for Adam optimizer\n",
    "        clip_gradient_norm (float): Maximum gradient norm for clipping\n",
    "        log_norm (bool): Whether to log gradient norms\n",
    "    \"\"\"\n",
    "    \n",
    "    def __init__(\n",
    "        self,\n",
    "        generator: nn.Module, \n",
    "        discriminator: nn.Module,\n",
    "        sampler: SampleTimeSeries,\n",
    "        lr: float = 1e-3,\n",
    "        weight_decay: float = 0.,\n",
    "        discriminator_steps: int = 5,\n",
    "        generator_steps: int = 5,\n",
    "        discriminator_warmup: int = 50,\n",
    "        betas: Tuple[float, float] = (0.5, 0.999),\n",
    "        clip_gradient_norm: float = None,\n",
    "        log_norm: bool = False,\n",
    "        ):\n",
    "        \"\"\"Initialize the GAN module.\n",
    "        \n",
    "        Args:\n",
    "            generator: Generator network\n",
    "            discriminator: Discriminator network\n",
    "            sampler: Sampler for generating latent vectors\n",
    "            lr: Learning rate for optimizers\n",
    "            weight_decay: Weight decay for optimizers\n",
    "            discriminator_steps: Number of discriminator steps per cycle\n",
    "            generator_steps: Number of generator steps per cycle\n",
    "            discriminator_warmup: Number of warmup steps for discriminator\n",
    "            betas: Beta parameters for Adam optimizer\n",
    "            clip_gradient_norm: Maximum gradient norm for clipping\n",
    "            log_norm: Whether to log gradient norms\n",
    "        \"\"\"\n",
    "        super().__init__(\n",
    "            lr=lr,\n",
    "            weight_decay=weight_decay,\n",
    "            discriminator_steps=discriminator_steps,\n",
    "            generator_steps=generator_steps,\n",
    "            discriminator_warmup=discriminator_warmup,\n",
    "        )\n",
    "        self.generator = generator\n",
    "        self.discriminator = discriminator\n",
    "        self.sampler = sampler\n",
    "        self._bce_loss = nn.BCEWithLogitsLoss()\n",
    "        self.betas = betas\n",
    "        self.clip_gradient_norm = clip_gradient_norm\n",
    "        self.log_norm = log_norm\n",
    "\n",
    "    \n",
    "    def configure_optimizers(self):\n",
    "        \"\"\"Configure optimizers for generator and discriminator.\n",
    "        \n",
    "        Returns:\n",
    "            List of optimizers and empty list of schedulers\n",
    "        \"\"\"\n",
    "        generator_opt = torch.optim.Adam(\n",
    "            self.generator.parameters(),\n",
    "            lr=self.lr,\n",
    "            weight_decay=self.weight_decay,\n",
    "            betas=self.betas,\n",
    "            )\n",
    "\n",
    "        discriminator_opt = torch.optim.Adam(\n",
    "            self.discriminator.parameters(),\n",
    "            lr=self.lr,\n",
    "            weight_decay=self.weight_decay,\n",
    "            betas=self.betas,\n",
    "            )\n",
    "\n",
    "        return [generator_opt, discriminator_opt], []\n",
    "\n",
    "\n",
    "    def discriminator_step(\n",
    "        self,\n",
    "        x: torch.Tensor,\n",
    "        z: torch.Tensor,\n",
    "        discriminator_opt: torch.optim.Optimizer) -> torch.Tensor:\n",
    "        \"\"\"Perform a single discriminator training step.\n",
    "        \n",
    "        Args:\n",
    "            x: Real data batch\n",
    "            z: Latent vectors for generator\n",
    "            discriminator_opt: Discriminator optimizer\n",
    "            \n",
    "        Returns:\n",
    "            Discriminator loss\n",
    "        \"\"\"\n",
    "        self.toggle_optimizer(discriminator_opt)\n",
    "        try:\n",
    "            x_fake = self.generator(z)\n",
    "        \n",
    "            y_fake = self.discriminator(x_fake)\n",
    "            y_real = self.discriminator(x)\n",
    "\n",
    "            d_real_loss = self._bce_loss(y_real, torch.ones_like(y_real))\n",
    "            d_fake_loss = self._bce_loss(y_fake, torch.zeros_like(y_fake))\n",
    "            d_loss = (d_real_loss + d_fake_loss) / 2\n",
    "\n",
    "            discriminator_opt.zero_grad()\n",
    "            self.manual_backward(d_loss)\n",
    "            \n",
    "            if isinstance(self.clip_gradient_norm, float):\n",
    "                self.clip_gradients(discriminator_opt, self.clip_gradient_norm, gradient_clip_algorithm='norm')\n",
    "\n",
    "            if self.log_norm:\n",
    "                norms = grad_norm(self, norm_type=2)\n",
    "                norms['gen_step'] = 0\n",
    "                self.log_dict(norms)\n",
    "\n",
    "            discriminator_opt.step()\n",
    "        finally:\n",
    "            self.untoggle_optimizer(discriminator_opt)\n",
    "\n",
    "        return d_loss\n",
    "       \n",
    "\n",
    "    def generator_step(\n",
    "        self,\n",
    "        z: torch.Tensor,\n",
    "        generator_opt: torch.optim.Optimizer) -> torch.Tensor:\n",
    "        \"\"\"Perform a single generator training step.\n",
    "        \n",
    "        Args:\n",
    "            z: Latent vectors for generator\n",
    "            generator_opt: Generator optimizer\n",
    "            \n",
    "        Returns:\n",
    "            Generator loss\n",
    "        \"\"\"\n",
    "        self.toggle_optimizer(generator_opt)\n",
    "        try:\n",
    "            x_fake = self.generator(z)\n",
    "            y_fake = self.discriminator(x_fake)\n",
    "                \n",
    "            generator_loss = self._bce_loss(y_fake, torch.ones_like(y_fake))\n",
    "\n",
    "            # zero grad\n",
    "            generator_opt.zero_grad()\n",
    "            self.manual_backward(generator_loss)\n",
    "\n",
    "             # clip gradients\n",
    "            if isinstance(self.clip_gradient_norm, float):\n",
    "                self.clip_gradients(generator_opt, self.clip_gradient_norm, gradient_clip_algorithm='norm')\n",
    "            \n",
    "            if self.log_norm:\n",
    "                norms = grad_norm(self, norm_type=2)\n",
    "                norms['gen_step'] = 0\n",
    "                self.log_dict(norms)\n",
    "\n",
    "            # update parameters\n",
    "            generator_opt.step()\n",
    "        finally:\n",
    "            # untoggle\n",
    "            self.untoggle_optimizer(generator_opt)\n",
    "\n",
    "        return generator_loss\n",
    "\n",
    "    def step(\n",
    "        self,\n",
    "        x: torch.Tensor,\n",
    "        train_discriminator: bool = True,\n",
    "        train_generator: bool = True\n",
    "    ) -> Tuple[torch.Tensor, torch.Tensor]:\n",
    "        \"\"\"Perform a single training step for both generator and discriminator.\n",
    "        \n",
    "        Args:\n",
    "            x: Real data batch\n",
    "            train_discriminator: Whether to train discriminator\n",
    "            train_generator: Whether to train generator\n",
    "            \n",
    "        Returns:\n",
    "            Tuple containing generator loss and discriminator loss\n",
    "        \"\"\"\n",
    "        self.zero_grad()\n",
    "        generator_opt, discriminator_opt = self.optimizers()\n",
    "        z = self.sampler.sample(x.size(0)).to(x.device)\n",
    "\n",
    "        discriminator_loss = generator_loss = None\n",
    "        if train_generator:\n",
    "            generator_loss = self.generator_step(z=z, generator_opt=generator_opt)\n",
    "\n",
    "        if train_discriminator:\n",
    "            discriminator_loss = self.discriminator_step(x=x, z=z, discriminator_opt=discriminator_opt)\n",
    "        return generator_loss, discriminator_loss\n"
   ]
  },
  {
   "cell_type": "markdown",
   "id": "d158211c",
   "metadata": {},
   "source": [
    "We use the `GanModule` as a flexible wrapper to train any GAN model by injecting custom generator and discriminator networks. To make this reusable across different implementations, we've refactored the module into `genai4t.chapters.gans`.\n",
    "\n",
    "This allows us to easily import `GanModule` in future notebooks or projects, streamlining the setup process for training GANs."
   ]
  },
  {
   "cell_type": "code",
   "execution_count": 14,
   "id": "c00927e7",
   "metadata": {},
   "outputs": [],
   "source": [
    "from genai4t.chapters.gans import GanModule"
   ]
  },
  {
   "cell_type": "markdown",
   "id": "ec012b88",
   "metadata": {},
   "source": [
    "###  GANs Discriminator and Generator\n",
    "\n",
    "Since we are working with image data, we’ll use convolutional neural networks (CNNs) for both the generator and the discriminator.\n",
    "\n",
    "\n",
    "#### Generator\n",
    "\n",
    "The generator takes a random noise vector from the latent space (of size `latent_dim`) and transforms it into a `28×28` grayscale image, the same size as the images in the MNIST dataset. This is done using a series of transposed convolutional layers (also known as deconvolutions). \n",
    "\n",
    "A final Sigmoid activation is applied to ensure that the output pixel values lie in the $[0, 1]$ range, matching the normalized format of the MNIST dataset.\n",
    "\n",
    "\n",
    "#### Discriminator\n",
    "\n",
    "The discriminator receives a `28×28` grayscale image, either real or generated, and outputs a single scalar value representing the probability that the input is real (i.e., sampled from the dataset). It uses a standard CNN architecture composed of regular convolutional layers to extract features and downsample the image.\n",
    "\n",
    "*Note*: We do not apply a Sigmoid activation at the end of the discriminator, since the BCEWithLogitsLoss function (used during training) internally applies the sigmoid operation for improved numerical stability.\n",
    "\n",
    "Below, you will find the corresponding implementations."
   ]
  },
  {
   "cell_type": "code",
   "execution_count": 15,
   "id": "602349a6",
   "metadata": {
    "ExecuteTime": {
     "end_time": "2024-11-12T15:12:04.878938Z",
     "start_time": "2024-11-12T15:12:04.869758Z"
    }
   },
   "outputs": [],
   "source": [
    "import torch\n",
    "import torch.nn as nn\n",
    "from typing import Tuple\n",
    "\n",
    "class MNISTDiscriminator(nn.Module):\n",
    "    def __init__(self):\n",
    "        super().__init__()\n",
    "        self.encoder = nn.Sequential(\n",
    "            nn.Conv2d(1, 32, kernel_size=3, padding=1),  # 28x28 -> 28x28\n",
    "            nn.ReLU(),\n",
    "            nn.MaxPool2d(2, 2),  # 28x28 -> 14x14\n",
    "            nn.Conv2d(32, 64, kernel_size=3, padding=1),  # 14x14 -> 14x14\n",
    "            nn.ReLU(),\n",
    "            nn.MaxPool2d(2, 2),  # 14x14 -> 7x7\n",
    "            nn.Conv2d(64, 128, kernel_size=3, padding=1),\n",
    "            nn.Flatten(),\n",
    "            nn.Linear(128 * 7 * 7, 1)\n",
    "        )        \n",
    "\n",
    "    def forward(self, x: torch.Tensor) -> Tuple[torch.Tensor, torch.Tensor]:    \n",
    "        x = self.encoder(x)\n",
    "        return x\n",
    "\n",
    "\n",
    "class MNISTGenerator(nn.Module):\n",
    "    def __init__(self, latent_dim: int):\n",
    "        super().__init__()\n",
    "        self.decoder_input = nn.Linear(latent_dim, 128 * 7 * 7)\n",
    "        self.decoder = nn.Sequential(\n",
    "            nn.ConvTranspose2d(128, 64, kernel_size=3, stride=2, padding=1, output_padding=1),  # 7x7 -> 14x14\n",
    "            nn.ReLU(),\n",
    "            nn.ConvTranspose2d(64, 32, kernel_size=3, stride=2, padding=1, output_padding=1),  # 14x14 -> 28x28\n",
    "            nn.ReLU(),\n",
    "            nn.Conv2d(32, 1, kernel_size=7, padding=3),  # 28x28 -> 28x28\n",
    "            nn.Sigmoid()  # Output in range [0, 1] for pixel values\n",
    "        )\n",
    "\n",
    "    def forward(self, z: torch.Tensor) -> torch.Tensor:\n",
    "        bs = z.size(0)\n",
    "        z = self.decoder_input(z)\n",
    "        z = z.view(-1, 128, 7, 7)  # Reshape to (batch_size, channels, height, width)\n",
    "        x = self.decoder(z)\n",
    "        return x \n",
    "\n",
    "    \n",
    "    \n",
    "class SampleMnist(nn.Module):\n",
    "    def __init__(self, latent_dim: int):\n",
    "        super().__init__()\n",
    "        self.latent_dim = latent_dim\n",
    "\n",
    "    def sample(self, bs: int):\n",
    "        z = torch.randn(bs, self.latent_dim)\n",
    "        return z"
   ]
  },
  {
   "cell_type": "code",
   "execution_count": 16,
   "id": "dd09ec25",
   "metadata": {},
   "outputs": [],
   "source": [
    "# Import the utility function for training models\n",
    "# This function handles training loops,\n",
    "from genai4t.model.utils import fit_model"
   ]
  },
  {
   "cell_type": "code",
   "execution_count": 17,
   "id": "cc4e4e61",
   "metadata": {
    "ExecuteTime": {
     "end_time": "2024-11-12T15:12:04.890795Z",
     "start_time": "2024-11-12T15:12:04.881162Z"
    }
   },
   "outputs": [],
   "source": [
    "MODEL_CONFIG = {\n",
    "    \"input_dim\": 784, # Flattened size of a 28x28 image (28 * 28)\n",
    "    \"latent_dim\": 26, # Dimensionality of the latent (noise) vector\n",
    "    \"lr\": 1e-3,  # # Learning rate for both generator and discriminator\n",
    "    \"num_steps\": 10 * len(train_dl), # Total number of training steps \n",
    "    \"model_dir\": \"./artifacts/MNIST_GANS_2D\", # Directory to save model \n",
    "    \"clip_gradient_norm\": 0.5, # Gradient clipping \n",
    "}"
   ]
  },
  {
   "cell_type": "code",
   "execution_count": 18,
   "id": "a135abcd",
   "metadata": {},
   "outputs": [],
   "source": [
    "# Initialize the sampler for the GAN\n",
    "# This sampler generates latent noise vectors of dimension `latent_dim`\n",
    "sampler = SampleMnist(MODEL_CONFIG[\"latent_dim\"])"
   ]
  },
  {
   "cell_type": "code",
   "execution_count": 19,
   "id": "8b17b8e6",
   "metadata": {
    "ExecuteTime": {
     "end_time": "2024-11-12T15:12:04.907761Z",
     "start_time": "2024-11-12T15:12:04.893290Z"
    }
   },
   "outputs": [],
   "source": [
    "# Initialize the generator and discriminator models for MNIST image generation\n",
    "# The generator maps noise vectors to 28x28 grayscale images\n",
    "# The discriminator classifies images as real or fake\n",
    "generator = MNISTGenerator(MODEL_CONFIG[\"latent_dim\"])\n",
    "discriminator = MNISTDiscriminator()"
   ]
  },
  {
   "cell_type": "code",
   "execution_count": 20,
   "id": "855ff411",
   "metadata": {},
   "outputs": [
    {
     "data": {
      "text/plain": [
       "MNISTGenerator(\n",
       "  (decoder_input): Linear(in_features=26, out_features=6272, bias=True)\n",
       "  (decoder): Sequential(\n",
       "    (0): ConvTranspose2d(128, 64, kernel_size=(3, 3), stride=(2, 2), padding=(1, 1), output_padding=(1, 1))\n",
       "    (1): ReLU()\n",
       "    (2): ConvTranspose2d(64, 32, kernel_size=(3, 3), stride=(2, 2), padding=(1, 1), output_padding=(1, 1))\n",
       "    (3): ReLU()\n",
       "    (4): Conv2d(32, 1, kernel_size=(7, 7), stride=(1, 1), padding=(3, 3))\n",
       "    (5): Sigmoid()\n",
       "  )\n",
       ")"
      ]
     },
     "execution_count": 20,
     "metadata": {},
     "output_type": "execute_result"
    }
   ],
   "source": [
    "generator"
   ]
  },
  {
   "cell_type": "code",
   "execution_count": 21,
   "id": "b7e3c134",
   "metadata": {},
   "outputs": [
    {
     "data": {
      "text/plain": [
       "MNISTDiscriminator(\n",
       "  (encoder): Sequential(\n",
       "    (0): Conv2d(1, 32, kernel_size=(3, 3), stride=(1, 1), padding=(1, 1))\n",
       "    (1): ReLU()\n",
       "    (2): MaxPool2d(kernel_size=2, stride=2, padding=0, dilation=1, ceil_mode=False)\n",
       "    (3): Conv2d(32, 64, kernel_size=(3, 3), stride=(1, 1), padding=(1, 1))\n",
       "    (4): ReLU()\n",
       "    (5): MaxPool2d(kernel_size=2, stride=2, padding=0, dilation=1, ceil_mode=False)\n",
       "    (6): Conv2d(64, 128, kernel_size=(3, 3), stride=(1, 1), padding=(1, 1))\n",
       "    (7): Flatten(start_dim=1, end_dim=-1)\n",
       "    (8): Linear(in_features=6272, out_features=1, bias=True)\n",
       "  )\n",
       ")"
      ]
     },
     "execution_count": 21,
     "metadata": {},
     "output_type": "execute_result"
    }
   ],
   "source": [
    "discriminator"
   ]
  },
  {
   "cell_type": "code",
   "execution_count": 22,
   "id": "c05155b6",
   "metadata": {
    "ExecuteTime": {
     "end_time": "2024-11-12T15:12:04.913325Z",
     "start_time": "2024-11-12T15:12:04.910041Z"
    }
   },
   "outputs": [],
   "source": [
    "gan = GanModule(\n",
    "    generator=generator,\n",
    "    discriminator=discriminator,\n",
    "    sampler=sampler,\n",
    "    lr=MODEL_CONFIG[\"lr\"],\n",
    "    clip_gradient_norm=MODEL_CONFIG[\"clip_gradient_norm\"],\n",
    "    log_norm=True)"
   ]
  },
  {
   "cell_type": "markdown",
   "id": "cbe13084",
   "metadata": {},
   "source": [
    "## Train "
   ]
  },
  {
   "cell_type": "code",
   "execution_count": 23,
   "id": "d197e5ab",
   "metadata": {
    "ExecuteTime": {
     "end_time": "2024-11-12T15:12:05.015563Z",
     "start_time": "2024-11-12T15:12:04.932975Z"
    }
   },
   "outputs": [
    {
     "name": "stderr",
     "output_type": "stream",
     "text": [
      "Seed set to 2024\n",
      "Using default `ModelCheckpoint`. Consider installing `litmodels` package to enable `LitModelCheckpoint` for automatic upload to the Lightning model registry.\n",
      "GPU available: True (mps), used: True\n",
      "TPU available: False, using: 0 TPU cores\n",
      "HPU available: False, using: 0 HPUs\n",
      "/Users/Shared/genai-for-trading-and-am/.venv_genai4t/lib/python3.12/site-packages/lightning/pytorch/trainer/configuration_validator.py:70: You defined a `validation_step` but have no `val_dataloader`. Skipping val loop.\n",
      "\n",
      "  | Name          | Type               | Params | Mode \n",
      "-------------------------------------------------------------\n",
      "0 | generator     | MNISTGenerator     | 263 K  | train\n",
      "1 | discriminator | MNISTDiscriminator | 98.9 K | train\n",
      "2 | sampler       | SampleMnist        | 0      | train\n",
      "3 | _bce_loss     | BCEWithLogitsLoss  | 0      | train\n",
      "-------------------------------------------------------------\n",
      "362 K     Trainable params\n",
      "0         Non-trainable params\n",
      "362 K     Total params\n",
      "1.448     Total estimated model params size (MB)\n",
      "22        Modules in train mode\n",
      "0         Modules in eval mode\n"
     ]
    },
    {
     "name": "stdout",
     "output_type": "stream",
     "text": [
      "total_n_params: 362114\n"
     ]
    },
    {
     "name": "stderr",
     "output_type": "stream",
     "text": [
      "/Users/Shared/genai-for-trading-and-am/.venv_genai4t/lib/python3.12/site-packages/lightning/pytorch/trainer/connectors/data_connector.py:425: The 'train_dataloader' does not have many workers which may be a bottleneck. Consider increasing the value of the `num_workers` argument` to `num_workers=11` in the `DataLoader` to improve performance.\n"
     ]
    },
    {
     "data": {
      "application/vnd.jupyter.widget-view+json": {
       "model_id": "2b6e73b4354d4e92a1f5787e4ffb4bb4",
       "version_major": 2,
       "version_minor": 0
      },
      "text/plain": [
       "Training: |                                                                                                   …"
      ]
     },
     "metadata": {},
     "output_type": "display_data"
    },
    {
     "name": "stderr",
     "output_type": "stream",
     "text": [
      "`Trainer.fit` stopped: `max_steps=7500` reached.\n"
     ]
    },
    {
     "data": {
      "text/plain": [
       "<lightning.pytorch.trainer.trainer.Trainer at 0x349886210>"
      ]
     },
     "execution_count": 23,
     "metadata": {},
     "output_type": "execute_result"
    }
   ],
   "source": [
    "# Instantiate the GAN module \n",
    "fit_model(\n",
    "    MODEL_CONFIG[\"model_dir\"],\n",
    "    gan,\n",
    "    train_dl,\n",
    "    num_steps=MODEL_CONFIG[\"num_steps\"],\n",
    "    random_state=ENV_CONFIG['random_state'],\n",
    "    plot=False\n",
    ")"
   ]
  },
  {
   "cell_type": "markdown",
   "id": "54dc93c0",
   "metadata": {},
   "source": [
    "### Training progress\n",
    "\n",
    "Since we now have two separate loss functions, one for the generator and one for the discriminator, we can’t use the same utility functions used in other notebooks to plot a single loss value. For this reason, we will generate the loss plots manually."
   ]
  },
  {
   "cell_type": "code",
   "execution_count": 24,
   "id": "b14db064",
   "metadata": {},
   "outputs": [],
   "source": [
    "# Read training metrics logged from the csv file\n",
    "metrics = pd.read_csv(f\"{MODEL_CONFIG['model_dir']}/lightning_logs/version_0/metrics.csv\")"
   ]
  },
  {
   "cell_type": "code",
   "execution_count": 25,
   "id": "8608b424",
   "metadata": {},
   "outputs": [
    {
     "data": {
      "text/html": [
       "<div>\n",
       "<style scoped>\n",
       "    .dataframe tbody tr th:only-of-type {\n",
       "        vertical-align: middle;\n",
       "    }\n",
       "\n",
       "    .dataframe tbody tr th {\n",
       "        vertical-align: top;\n",
       "    }\n",
       "\n",
       "    .dataframe thead th {\n",
       "        text-align: right;\n",
       "    }\n",
       "</style>\n",
       "<table border=\"1\" class=\"dataframe\">\n",
       "  <thead>\n",
       "    <tr style=\"text-align: right;\">\n",
       "      <th></th>\n",
       "      <th>discriminator_loss</th>\n",
       "      <th>epoch</th>\n",
       "      <th>gen_step</th>\n",
       "      <th>generator_loss</th>\n",
       "      <th>grad_2.0_norm/discriminator.encoder.0.bias</th>\n",
       "      <th>grad_2.0_norm/discriminator.encoder.0.weight</th>\n",
       "      <th>grad_2.0_norm/discriminator.encoder.3.bias</th>\n",
       "      <th>grad_2.0_norm/discriminator.encoder.3.weight</th>\n",
       "      <th>grad_2.0_norm/discriminator.encoder.6.bias</th>\n",
       "      <th>grad_2.0_norm/discriminator.encoder.6.weight</th>\n",
       "      <th>...</th>\n",
       "      <th>grad_2.0_norm/generator.decoder.0.bias</th>\n",
       "      <th>grad_2.0_norm/generator.decoder.0.weight</th>\n",
       "      <th>grad_2.0_norm/generator.decoder.2.bias</th>\n",
       "      <th>grad_2.0_norm/generator.decoder.2.weight</th>\n",
       "      <th>grad_2.0_norm/generator.decoder.4.bias</th>\n",
       "      <th>grad_2.0_norm/generator.decoder.4.weight</th>\n",
       "      <th>grad_2.0_norm/generator.decoder_input.bias</th>\n",
       "      <th>grad_2.0_norm/generator.decoder_input.weight</th>\n",
       "      <th>grad_2.0_norm_total</th>\n",
       "      <th>step</th>\n",
       "    </tr>\n",
       "  </thead>\n",
       "  <tbody>\n",
       "    <tr>\n",
       "      <th>0</th>\n",
       "      <td>0.000048</td>\n",
       "      <td>0</td>\n",
       "      <td>0.0</td>\n",
       "      <td>NaN</td>\n",
       "      <td>0.000363</td>\n",
       "      <td>0.000324</td>\n",
       "      <td>0.000185</td>\n",
       "      <td>0.000859</td>\n",
       "      <td>0.000022</td>\n",
       "      <td>0.000307</td>\n",
       "      <td>...</td>\n",
       "      <td>NaN</td>\n",
       "      <td>NaN</td>\n",
       "      <td>NaN</td>\n",
       "      <td>NaN</td>\n",
       "      <td>NaN</td>\n",
       "      <td>NaN</td>\n",
       "      <td>NaN</td>\n",
       "      <td>NaN</td>\n",
       "      <td>0.001357</td>\n",
       "      <td>49</td>\n",
       "    </tr>\n",
       "    <tr>\n",
       "      <th>1</th>\n",
       "      <td>0.000071</td>\n",
       "      <td>0</td>\n",
       "      <td>0.0</td>\n",
       "      <td>8.544374</td>\n",
       "      <td>0.000957</td>\n",
       "      <td>0.000038</td>\n",
       "      <td>0.000547</td>\n",
       "      <td>0.001201</td>\n",
       "      <td>0.000232</td>\n",
       "      <td>0.000635</td>\n",
       "      <td>...</td>\n",
       "      <td>0.006297</td>\n",
       "      <td>0.003356</td>\n",
       "      <td>0.006477</td>\n",
       "      <td>0.005933</td>\n",
       "      <td>0.002647</td>\n",
       "      <td>0.022267</td>\n",
       "      <td>0.002587</td>\n",
       "      <td>0.002800</td>\n",
       "      <td>0.002317</td>\n",
       "      <td>99</td>\n",
       "    </tr>\n",
       "    <tr>\n",
       "      <th>2</th>\n",
       "      <td>0.000117</td>\n",
       "      <td>0</td>\n",
       "      <td>0.0</td>\n",
       "      <td>8.195404</td>\n",
       "      <td>0.002567</td>\n",
       "      <td>0.001497</td>\n",
       "      <td>0.001393</td>\n",
       "      <td>0.003906</td>\n",
       "      <td>0.000420</td>\n",
       "      <td>0.001679</td>\n",
       "      <td>...</td>\n",
       "      <td>0.032138</td>\n",
       "      <td>0.047143</td>\n",
       "      <td>0.432690</td>\n",
       "      <td>0.014050</td>\n",
       "      <td>0.173763</td>\n",
       "      <td>0.163983</td>\n",
       "      <td>0.026241</td>\n",
       "      <td>0.039418</td>\n",
       "      <td>0.006611</td>\n",
       "      <td>149</td>\n",
       "    </tr>\n",
       "    <tr>\n",
       "      <th>3</th>\n",
       "      <td>0.609645</td>\n",
       "      <td>0</td>\n",
       "      <td>0.0</td>\n",
       "      <td>0.172478</td>\n",
       "      <td>0.159590</td>\n",
       "      <td>0.151643</td>\n",
       "      <td>0.065326</td>\n",
       "      <td>0.239905</td>\n",
       "      <td>0.039870</td>\n",
       "      <td>0.095004</td>\n",
       "      <td>...</td>\n",
       "      <td>0.008954</td>\n",
       "      <td>0.082905</td>\n",
       "      <td>0.029203</td>\n",
       "      <td>0.074273</td>\n",
       "      <td>0.019263</td>\n",
       "      <td>0.442962</td>\n",
       "      <td>0.060985</td>\n",
       "      <td>0.190712</td>\n",
       "      <td>0.500000</td>\n",
       "      <td>199</td>\n",
       "    </tr>\n",
       "    <tr>\n",
       "      <th>4</th>\n",
       "      <td>0.255382</td>\n",
       "      <td>0</td>\n",
       "      <td>0.0</td>\n",
       "      <td>0.442291</td>\n",
       "      <td>0.130606</td>\n",
       "      <td>0.209648</td>\n",
       "      <td>0.069237</td>\n",
       "      <td>0.353519</td>\n",
       "      <td>0.039686</td>\n",
       "      <td>0.092387</td>\n",
       "      <td>...</td>\n",
       "      <td>0.005519</td>\n",
       "      <td>0.113751</td>\n",
       "      <td>0.005227</td>\n",
       "      <td>0.044965</td>\n",
       "      <td>0.002400</td>\n",
       "      <td>0.365243</td>\n",
       "      <td>0.088493</td>\n",
       "      <td>0.306173</td>\n",
       "      <td>0.500000</td>\n",
       "      <td>249</td>\n",
       "    </tr>\n",
       "  </tbody>\n",
       "</table>\n",
       "<p>5 rows × 22 columns</p>\n",
       "</div>"
      ],
      "text/plain": [
       "   discriminator_loss  epoch  gen_step  generator_loss   \n",
       "0            0.000048      0       0.0             NaN  \\\n",
       "1            0.000071      0       0.0        8.544374   \n",
       "2            0.000117      0       0.0        8.195404   \n",
       "3            0.609645      0       0.0        0.172478   \n",
       "4            0.255382      0       0.0        0.442291   \n",
       "\n",
       "   grad_2.0_norm/discriminator.encoder.0.bias   \n",
       "0                                    0.000363  \\\n",
       "1                                    0.000957   \n",
       "2                                    0.002567   \n",
       "3                                    0.159590   \n",
       "4                                    0.130606   \n",
       "\n",
       "   grad_2.0_norm/discriminator.encoder.0.weight   \n",
       "0                                      0.000324  \\\n",
       "1                                      0.000038   \n",
       "2                                      0.001497   \n",
       "3                                      0.151643   \n",
       "4                                      0.209648   \n",
       "\n",
       "   grad_2.0_norm/discriminator.encoder.3.bias   \n",
       "0                                    0.000185  \\\n",
       "1                                    0.000547   \n",
       "2                                    0.001393   \n",
       "3                                    0.065326   \n",
       "4                                    0.069237   \n",
       "\n",
       "   grad_2.0_norm/discriminator.encoder.3.weight   \n",
       "0                                      0.000859  \\\n",
       "1                                      0.001201   \n",
       "2                                      0.003906   \n",
       "3                                      0.239905   \n",
       "4                                      0.353519   \n",
       "\n",
       "   grad_2.0_norm/discriminator.encoder.6.bias   \n",
       "0                                    0.000022  \\\n",
       "1                                    0.000232   \n",
       "2                                    0.000420   \n",
       "3                                    0.039870   \n",
       "4                                    0.039686   \n",
       "\n",
       "   grad_2.0_norm/discriminator.encoder.6.weight  ...   \n",
       "0                                      0.000307  ...  \\\n",
       "1                                      0.000635  ...   \n",
       "2                                      0.001679  ...   \n",
       "3                                      0.095004  ...   \n",
       "4                                      0.092387  ...   \n",
       "\n",
       "   grad_2.0_norm/generator.decoder.0.bias   \n",
       "0                                     NaN  \\\n",
       "1                                0.006297   \n",
       "2                                0.032138   \n",
       "3                                0.008954   \n",
       "4                                0.005519   \n",
       "\n",
       "   grad_2.0_norm/generator.decoder.0.weight   \n",
       "0                                       NaN  \\\n",
       "1                                  0.003356   \n",
       "2                                  0.047143   \n",
       "3                                  0.082905   \n",
       "4                                  0.113751   \n",
       "\n",
       "   grad_2.0_norm/generator.decoder.2.bias   \n",
       "0                                     NaN  \\\n",
       "1                                0.006477   \n",
       "2                                0.432690   \n",
       "3                                0.029203   \n",
       "4                                0.005227   \n",
       "\n",
       "   grad_2.0_norm/generator.decoder.2.weight   \n",
       "0                                       NaN  \\\n",
       "1                                  0.005933   \n",
       "2                                  0.014050   \n",
       "3                                  0.074273   \n",
       "4                                  0.044965   \n",
       "\n",
       "   grad_2.0_norm/generator.decoder.4.bias   \n",
       "0                                     NaN  \\\n",
       "1                                0.002647   \n",
       "2                                0.173763   \n",
       "3                                0.019263   \n",
       "4                                0.002400   \n",
       "\n",
       "   grad_2.0_norm/generator.decoder.4.weight   \n",
       "0                                       NaN  \\\n",
       "1                                  0.022267   \n",
       "2                                  0.163983   \n",
       "3                                  0.442962   \n",
       "4                                  0.365243   \n",
       "\n",
       "   grad_2.0_norm/generator.decoder_input.bias   \n",
       "0                                         NaN  \\\n",
       "1                                    0.002587   \n",
       "2                                    0.026241   \n",
       "3                                    0.060985   \n",
       "4                                    0.088493   \n",
       "\n",
       "   grad_2.0_norm/generator.decoder_input.weight  grad_2.0_norm_total  step  \n",
       "0                                           NaN             0.001357    49  \n",
       "1                                      0.002800             0.002317    99  \n",
       "2                                      0.039418             0.006611   149  \n",
       "3                                      0.190712             0.500000   199  \n",
       "4                                      0.306173             0.500000   249  \n",
       "\n",
       "[5 rows x 22 columns]"
      ]
     },
     "execution_count": 25,
     "metadata": {},
     "output_type": "execute_result"
    }
   ],
   "source": [
    "metrics.head()"
   ]
  },
  {
   "cell_type": "code",
   "execution_count": 26,
   "id": "85128191",
   "metadata": {},
   "outputs": [
    {
     "data": {
      "image/png": "[encoded data removed]",
      "text/plain": [
       "<Figure size 1500x500 with 1 Axes>"
      ]
     },
     "metadata": {},
     "output_type": "display_data"
    }
   ],
   "source": [
    "_, ax = plt.subplots(figsize=(15, 5))\n",
    "sns.lineplot(x='step', y='discriminator_loss', data=metrics, label='discriminator')\n",
    "sns.lineplot(x='step', y='generator_loss', data=metrics, label='generator')\n",
    "ax.set_ylabel('Binary Cross Entropy (BCE)')\n",
    "ax.set_title(\"Generator vs Discriminator Loss\")\n",
    "plot_style.apply_plot_style(ax)\n",
    "plot_style.apply_grid(ax)\n",
    "ax.legend()\n",
    "plt.show()"
   ]
  },
  {
   "cell_type": "markdown",
   "id": "f1468041",
   "metadata": {},
   "source": [
    "## Generation\n",
    "Now it is time to generate new images!\n",
    "\n",
    "###  Unconditional Image Generation\n",
    "We sample latent vectors from a standard normal distribution, $z \\sim \\mathcal{N}(\\mathbf{0}, I)$, and pass them through the generator to produce new synthetic images.\n",
    "\n"
   ]
  },
  {
   "cell_type": "code",
   "execution_count": 27,
   "id": "2b130697",
   "metadata": {},
   "outputs": [],
   "source": [
    "# Function to plot a grid of generated images\n",
    "def plot_generations(\n",
    "    title: str,\n",
    "    generations: torch.Tensor,\n",
    "):\n",
    "    generations = generations.numpy().reshape(-1, 28, 28)\n",
    "    nrows = generations.shape[0] // 5\n",
    "    f, axs = plt.subplots(nrows, 5, figsize=(20, 15))\n",
    "    f.suptitle(title, fontsize=32)\n",
    "    for i, ax in enumerate(axs.flatten()):\n",
    "        ax.imshow(generations[i], cmap=\"gray\")\n",
    "        ax.axis('off')\n",
    "        plot_style.apply_plot_style(ax)\n",
    "    plt.tight_layout(rect=[0, 0, 1, 0.95])  # Leave space for the suptitle\n",
    "    plt.show()"
   ]
  },
  {
   "cell_type": "code",
   "execution_count": 28,
   "id": "b8c4311b",
   "metadata": {
    "ExecuteTime": {
     "end_time": "2024-11-12T15:22:57.783380Z",
     "start_time": "2024-11-12T15:22:57.779160Z"
    }
   },
   "outputs": [],
   "source": [
    "# Sample 10 latent vectors from the prior distribution using the sampler\n",
    "z = sampler.sample(10)\n",
    "# Generate new images from the latent vectors using the generator\n",
    "with torch.no_grad():\n",
    "    generations = generator(z).cpu().view(-1, 28, 28)"
   ]
  },
  {
   "cell_type": "code",
   "execution_count": 29,
   "id": "6a587918",
   "metadata": {
    "ExecuteTime": {
     "end_time": "2024-11-12T15:23:01.744118Z",
     "start_time": "2024-11-12T15:23:00.157548Z"
    }
   },
   "outputs": [
    {
     "data": {
      "image/png": "[encoded data removed]",
      "text/plain": [
       "<Figure size 2000x1500 with 10 Axes>"
      ]
     },
     "metadata": {},
     "output_type": "display_data"
    }
   ],
   "source": [
    "# Plot the generated images\n",
    "plot_generations(\"Unconditional Image Generation\", generations)"
   ]
  },
  {
   "cell_type": "code",
   "execution_count": null,
   "id": "6ada2ada",
   "metadata": {},
   "outputs": [],
   "source": []
  }
 ],
 "metadata": {
  "kernelspec": {
   "display_name": "Python 3 (ipykernel)",
   "language": "python",
   "name": "python3"
  },
  "language_info": {
   "codemirror_mode": {
    "name": "ipython",
    "version": 3
   },
   "file_extension": ".py",
   "mimetype": "text/x-python",
   "name": "python",
   "nbconvert_exporter": "python",
   "pygments_lexer": "ipython3",
   "version": "3.12.8"
  },
  "toc": {
   "base_numbering": 1,
   "nav_menu": {},
   "number_sections": true,
   "sideBar": true,
   "skip_h1_title": false,
   "title_cell": "Table of Contents",
   "title_sidebar": "Contents",
   "toc_cell": false,
   "toc_position": {},
   "toc_section_display": true,
   "toc_window_display": false
  }
 },
 "nbformat": 4,
 "nbformat_minor": 5
}
