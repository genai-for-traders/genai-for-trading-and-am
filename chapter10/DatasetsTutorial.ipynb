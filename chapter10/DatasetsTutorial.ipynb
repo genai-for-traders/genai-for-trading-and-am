{
 "cells": [
  {
   "cell_type": "markdown",
   "id": "535a1c69",
   "metadata": {
    "id": "535a1c69"
   },
   "source": [
    "# Datasets\n",
    "\n",
    "To train any machine learning model, we need data. Huggingface has a great python-library to deal with datasets.\n",
    "\n",
    "The ```datasets``` python library is efficient at loading and preprocessing data, which are the main two operations we want to perform.\n",
    "\n",
    "There are thousand of public available datasets on the [hub](link-to-the-hub.com), mainly divided into NLP, Vision, Audio or Tabular categories. Depending on the tasks, you may need to perform additional preprocessing steps to prepare data for training, but don't worry, with ```datasets``` python package is simple to work with data.\n",
    "\n"
   ]
  },
  {
   "cell_type": "code",
   "execution_count": 1,
   "id": "e5476b01",
   "metadata": {
    "colab": {
     "base_uri": "https://localhost:8080/"
    },
    "id": "e5476b01",
    "outputId": "3cae511e-b51d-49f0-f0e7-98aa9afb34f0"
   },
   "outputs": [
    {
     "name": "stdout",
     "output_type": "stream",
     "text": [
      "Collecting datasets==3.5.0\n",
      "  Downloading datasets-3.5.0-py3-none-any.whl.metadata (19 kB)\n",
      "Requirement already satisfied: filelock in /usr/local/lib/python3.11/dist-packages (from datasets==3.5.0) (3.18.0)\n",
      "Requirement already satisfied: numpy>=1.17 in /usr/local/lib/python3.11/dist-packages (from datasets==3.5.0) (2.0.2)\n",
      "Requirement already satisfied: pyarrow>=15.0.0 in /usr/local/lib/python3.11/dist-packages (from datasets==3.5.0) (18.1.0)\n",
      "Collecting dill<0.3.9,>=0.3.0 (from datasets==3.5.0)\n",
      "  Downloading dill-0.3.8-py3-none-any.whl.metadata (10 kB)\n",
      "Requirement already satisfied: pandas in /usr/local/lib/python3.11/dist-packages (from datasets==3.5.0) (2.2.2)\n",
      "Requirement already satisfied: requests>=2.32.2 in /usr/local/lib/python3.11/dist-packages (from datasets==3.5.0) (2.32.3)\n",
      "Requirement already satisfied: tqdm>=4.66.3 in /usr/local/lib/python3.11/dist-packages (from datasets==3.5.0) (4.67.1)\n",
      "Collecting xxhash (from datasets==3.5.0)\n",
      "  Downloading xxhash-3.5.0-cp311-cp311-manylinux_2_17_x86_64.manylinux2014_x86_64.whl.metadata (12 kB)\n",
      "Collecting multiprocess<0.70.17 (from datasets==3.5.0)\n",
      "  Downloading multiprocess-0.70.16-py311-none-any.whl.metadata (7.2 kB)\n",
      "Collecting fsspec<=2024.12.0,>=2023.1.0 (from fsspec[http]<=2024.12.0,>=2023.1.0->datasets==3.5.0)\n",
      "  Downloading fsspec-2024.12.0-py3-none-any.whl.metadata (11 kB)\n",
      "Requirement already satisfied: aiohttp in /usr/local/lib/python3.11/dist-packages (from datasets==3.5.0) (3.11.15)\n",
      "Requirement already satisfied: huggingface-hub>=0.24.0 in /usr/local/lib/python3.11/dist-packages (from datasets==3.5.0) (0.30.2)\n",
      "Requirement already satisfied: packaging in /usr/local/lib/python3.11/dist-packages (from datasets==3.5.0) (24.2)\n",
      "Requirement already satisfied: pyyaml>=5.1 in /usr/local/lib/python3.11/dist-packages (from datasets==3.5.0) (6.0.2)\n",
      "Requirement already satisfied: aiohappyeyeballs>=2.3.0 in /usr/local/lib/python3.11/dist-packages (from aiohttp->datasets==3.5.0) (2.6.1)\n",
      "Requirement already satisfied: aiosignal>=1.1.2 in /usr/local/lib/python3.11/dist-packages (from aiohttp->datasets==3.5.0) (1.3.2)\n",
      "Requirement already satisfied: attrs>=17.3.0 in /usr/local/lib/python3.11/dist-packages (from aiohttp->datasets==3.5.0) (25.3.0)\n",
      "Requirement already satisfied: frozenlist>=1.1.1 in /usr/local/lib/python3.11/dist-packages (from aiohttp->datasets==3.5.0) (1.6.0)\n",
      "Requirement already satisfied: multidict<7.0,>=4.5 in /usr/local/lib/python3.11/dist-packages (from aiohttp->datasets==3.5.0) (6.4.3)\n",
      "Requirement already satisfied: propcache>=0.2.0 in /usr/local/lib/python3.11/dist-packages (from aiohttp->datasets==3.5.0) (0.3.1)\n",
      "Requirement already satisfied: yarl<2.0,>=1.17.0 in /usr/local/lib/python3.11/dist-packages (from aiohttp->datasets==3.5.0) (1.20.0)\n",
      "Requirement already satisfied: typing-extensions>=3.7.4.3 in /usr/local/lib/python3.11/dist-packages (from huggingface-hub>=0.24.0->datasets==3.5.0) (4.13.2)\n",
      "Requirement already satisfied: charset-normalizer<4,>=2 in /usr/local/lib/python3.11/dist-packages (from requests>=2.32.2->datasets==3.5.0) (3.4.1)\n",
      "Requirement already satisfied: idna<4,>=2.5 in /usr/local/lib/python3.11/dist-packages (from requests>=2.32.2->datasets==3.5.0) (3.10)\n",
      "Requirement already satisfied: urllib3<3,>=1.21.1 in /usr/local/lib/python3.11/dist-packages (from requests>=2.32.2->datasets==3.5.0) (2.4.0)\n",
      "Requirement already satisfied: certifi>=2017.4.17 in /usr/local/lib/python3.11/dist-packages (from requests>=2.32.2->datasets==3.5.0) (2025.1.31)\n",
      "Requirement already satisfied: python-dateutil>=2.8.2 in /usr/local/lib/python3.11/dist-packages (from pandas->datasets==3.5.0) (2.9.0.post0)\n",
      "Requirement already satisfied: pytz>=2020.1 in /usr/local/lib/python3.11/dist-packages (from pandas->datasets==3.5.0) (2025.2)\n",
      "Requirement already satisfied: tzdata>=2022.7 in /usr/local/lib/python3.11/dist-packages (from pandas->datasets==3.5.0) (2025.2)\n",
      "Requirement already satisfied: six>=1.5 in /usr/local/lib/python3.11/dist-packages (from python-dateutil>=2.8.2->pandas->datasets==3.5.0) (1.17.0)\n",
      "Downloading datasets-3.5.0-py3-none-any.whl (491 kB)\n",
      "\u001b[2K   \u001b[90m━━━━━━━━━━━━━━━━━━━━━━━━━━━━━━━━━━━━━━━━\u001b[0m \u001b[32m491.2/491.2 kB\u001b[0m \u001b[31m10.2 MB/s\u001b[0m eta \u001b[36m0:00:00\u001b[0m\n",
      "\u001b[?25hDownloading dill-0.3.8-py3-none-any.whl (116 kB)\n",
      "\u001b[2K   \u001b[90m━━━━━━━━━━━━━━━━━━━━━━━━━━━━━━━━━━━━━━━━\u001b[0m \u001b[32m116.3/116.3 kB\u001b[0m \u001b[31m9.4 MB/s\u001b[0m eta \u001b[36m0:00:00\u001b[0m\n",
      "\u001b[?25hDownloading fsspec-2024.12.0-py3-none-any.whl (183 kB)\n",
      "\u001b[2K   \u001b[90m━━━━━━━━━━━━━━━━━━━━━━━━━━━━━━━━━━━━━━━━\u001b[0m \u001b[32m183.9/183.9 kB\u001b[0m \u001b[31m10.8 MB/s\u001b[0m eta \u001b[36m0:00:00\u001b[0m\n",
      "\u001b[?25hDownloading multiprocess-0.70.16-py311-none-any.whl (143 kB)\n",
      "\u001b[2K   \u001b[90m━━━━━━━━━━━━━━━━━━━━━━━━━━━━━━━━━━━━━━━━\u001b[0m \u001b[32m143.5/143.5 kB\u001b[0m \u001b[31m8.6 MB/s\u001b[0m eta \u001b[36m0:00:00\u001b[0m\n",
      "\u001b[?25hDownloading xxhash-3.5.0-cp311-cp311-manylinux_2_17_x86_64.manylinux2014_x86_64.whl (194 kB)\n",
      "\u001b[2K   \u001b[90m━━━━━━━━━━━━━━━━━━━━━━━━━━━━━━━━━━━━━━━━\u001b[0m \u001b[32m194.8/194.8 kB\u001b[0m \u001b[31m11.9 MB/s\u001b[0m eta \u001b[36m0:00:00\u001b[0m\n",
      "\u001b[?25hInstalling collected packages: xxhash, fsspec, dill, multiprocess, datasets\n",
      "  Attempting uninstall: fsspec\n",
      "    Found existing installation: fsspec 2025.3.2\n",
      "    Uninstalling fsspec-2025.3.2:\n",
      "      Successfully uninstalled fsspec-2025.3.2\n",
      "\u001b[31mERROR: pip's dependency resolver does not currently take into account all the packages that are installed. This behaviour is the source of the following dependency conflicts.\n",
      "torch 2.6.0+cu124 requires nvidia-cublas-cu12==12.4.5.8; platform_system == \"Linux\" and platform_machine == \"x86_64\", but you have nvidia-cublas-cu12 12.5.3.2 which is incompatible.\n",
      "torch 2.6.0+cu124 requires nvidia-cuda-cupti-cu12==12.4.127; platform_system == \"Linux\" and platform_machine == \"x86_64\", but you have nvidia-cuda-cupti-cu12 12.5.82 which is incompatible.\n",
      "torch 2.6.0+cu124 requires nvidia-cuda-nvrtc-cu12==12.4.127; platform_system == \"Linux\" and platform_machine == \"x86_64\", but you have nvidia-cuda-nvrtc-cu12 12.5.82 which is incompatible.\n",
      "torch 2.6.0+cu124 requires nvidia-cuda-runtime-cu12==12.4.127; platform_system == \"Linux\" and platform_machine == \"x86_64\", but you have nvidia-cuda-runtime-cu12 12.5.82 which is incompatible.\n",
      "torch 2.6.0+cu124 requires nvidia-cudnn-cu12==9.1.0.70; platform_system == \"Linux\" and platform_machine == \"x86_64\", but you have nvidia-cudnn-cu12 9.3.0.75 which is incompatible.\n",
      "torch 2.6.0+cu124 requires nvidia-cufft-cu12==11.2.1.3; platform_system == \"Linux\" and platform_machine == \"x86_64\", but you have nvidia-cufft-cu12 11.2.3.61 which is incompatible.\n",
      "torch 2.6.0+cu124 requires nvidia-curand-cu12==10.3.5.147; platform_system == \"Linux\" and platform_machine == \"x86_64\", but you have nvidia-curand-cu12 10.3.6.82 which is incompatible.\n",
      "torch 2.6.0+cu124 requires nvidia-cusolver-cu12==11.6.1.9; platform_system == \"Linux\" and platform_machine == \"x86_64\", but you have nvidia-cusolver-cu12 11.6.3.83 which is incompatible.\n",
      "torch 2.6.0+cu124 requires nvidia-cusparse-cu12==12.3.1.170; platform_system == \"Linux\" and platform_machine == \"x86_64\", but you have nvidia-cusparse-cu12 12.5.1.3 which is incompatible.\n",
      "torch 2.6.0+cu124 requires nvidia-nvjitlink-cu12==12.4.127; platform_system == \"Linux\" and platform_machine == \"x86_64\", but you have nvidia-nvjitlink-cu12 12.5.82 which is incompatible.\n",
      "gcsfs 2025.3.2 requires fsspec==2025.3.2, but you have fsspec 2024.12.0 which is incompatible.\u001b[0m\u001b[31m\n",
      "\u001b[0mSuccessfully installed datasets-3.5.0 dill-0.3.8 fsspec-2024.12.0 multiprocess-0.70.16 xxhash-3.5.0\n"
     ]
    }
   ],
   "source": [
    "!pip install datasets==3.5.0"
   ]
  },
  {
   "cell_type": "markdown",
   "id": "2a24e3c6",
   "metadata": {
    "id": "2a24e3c6"
   },
   "source": [
    "## load datasets\n",
    "\n",
    "As mentioned above, ```datasets``` is great for loading data. We can load any datasets from the hub with a single line of code!\n",
    "\n",
    "But before we download a dataset, which may take a couple of GBs to download, it's often helpful to get information about the data such as the description of the data, the number of features, labels, splits, size, etc.\n",
    "\n",
    "All this information is stored in ```DatasetInfo``` object. Below is a snapshot of all attributes available;\n",
    "\n",
    "```python\n",
    "DatasetInfo(\n",
    "    description: str = <factory>,\n",
    "    citation: str = <factory>,\n",
    "    homepage: str = <factory>,\n",
    "    license: str = <factory>,\n",
    "    features: Optional[datasets.features.features.Features] = None,\n",
    "    post_processed: Optional[datasets.info.PostProcessedInfo] = None,\n",
    "    supervised_keys: Optional[datasets.info.SupervisedKeysData] = None,\n",
    "    task_templates: Optional[List[datasets.tasks.base.TaskTemplate]] = None,\n",
    "    builder_name: Optional[str] = None,\n",
    "    dataset_name: Optional[str] = None,\n",
    "    config_name: Optional[str] = None,\n",
    "    version: Union[str, datasets.utils.version.Version, NoneType] = None,\n",
    "    splits: Optional[dict] = None,\n",
    "    download_checksums: Optional[dict] = None,\n",
    "    download_size: Optional[int] = None,\n",
    "    post_processing_size: Optional[int] = None,\n",
    "    dataset_size: Optional[int] = None,\n",
    "    size_in_bytes: Optional[int] = None,\n",
    ") -> None\n",
    "```\n",
    "\n",
    "to get the information about a dataset on the hub, we use the ```load_dataset_builder``` function."
   ]
  },
  {
   "cell_type": "code",
   "execution_count": 2,
   "id": "030f3891",
   "metadata": {
    "ExecuteTime": {
     "end_time": "2024-09-10T15:12:37.546970Z",
     "start_time": "2024-09-10T15:12:36.322896Z"
    },
    "id": "030f3891"
   },
   "outputs": [],
   "source": [
    "from datasets import load_dataset_builder"
   ]
  },
  {
   "cell_type": "markdown",
   "id": "538ee5e4",
   "metadata": {
    "id": "538ee5e4"
   },
   "source": [
    "let's start by inspecting the MMLU dataset hosted at ```lighteval/mmlu```, which is a famous benchmark to evaluate LLMs of multiple-choice questions."
   ]
  },
  {
   "cell_type": "code",
   "execution_count": 3,
   "id": "6ada72b7",
   "metadata": {
    "ExecuteTime": {
     "end_time": "2024-09-10T15:12:43.001358Z",
     "start_time": "2024-09-10T15:12:37.549616Z"
    },
    "colab": {
     "base_uri": "https://localhost:8080/",
     "height": 203,
     "referenced_widgets": [
      "e08f775ca8034c94a53c317f69eb89d0",
      "260f4af83b1f462184f8a607609c53e6",
      "4c64b7cd7dd24e90b7536452cf4fe74b",
      "5998d1bd2c1c414db27952b7e15fd8fc",
      "3afc9594bd834ed3982f7259f93eb2ed",
      "4244997ce504477da0c17a43ce88fa6e",
      "349e0d4b05454f61bf9f493f3570bf3c",
      "6ef1fe3ad5e14f538466876a94fb85d4",
      "48cb16a4e9ee4bcb959d07ebb8671f4d",
      "d3a0cb3f81cb45c4919de29beb426b4e",
      "1fb12e4663a14d3c9f41093d96a5a6b5",
      "e27afa90473f4b2d8108d8364959be56",
      "3935d5b36c0440dfa179f89a818e1573",
      "6d8f463663814810b623ebf513bd053d",
      "5dd83d89763f4a2f92c0845ca59c66bc",
      "56ec0292cd9b414c88e9ba28bdbb5373",
      "f56b70d78c194f89a5e209811b36be21",
      "b0a6c7b2b6d8435dab23f17dfbe2a3a7",
      "10ab5b9ce2d64bf087449b4fb73e3832",
      "8a28ed1a2528475581a32f2cfe036954",
      "c37d8cba0d9e41ada834595803172175",
      "e790fbaa366d40088f0dd29ffdabefcf"
     ]
    },
    "id": "6ada72b7",
    "outputId": "c682695a-65d9-4166-b012-7b198bb74445"
   },
   "outputs": [
    {
     "name": "stderr",
     "output_type": "stream",
     "text": [
      "/usr/local/lib/python3.11/dist-packages/huggingface_hub/utils/_auth.py:94: UserWarning: \n",
      "The secret `HF_TOKEN` does not exist in your Colab secrets.\n",
      "To authenticate with the Hugging Face Hub, create a token in your settings tab (https://huggingface.co/settings/tokens), set it as secret in your Google Colab and restart your session.\n",
      "You will be able to reuse this secret in all of your notebooks.\n",
      "Please note that authentication is recommended but still optional to access public models or datasets.\n",
      "  warnings.warn(\n"
     ]
    },
    {
     "data": {
      "application/vnd.jupyter.widget-view+json": {
       "model_id": "e08f775ca8034c94a53c317f69eb89d0",
       "version_major": 2,
       "version_minor": 0
      },
      "text/plain": [
       "README.md:   0%|          | 0.00/39.7k [00:00<?, ?B/s]"
      ]
     },
     "metadata": {},
     "output_type": "display_data"
    },
    {
     "data": {
      "application/vnd.jupyter.widget-view+json": {
       "model_id": "e27afa90473f4b2d8108d8364959be56",
       "version_major": 2,
       "version_minor": 0
      },
      "text/plain": [
       "mmlu.py:   0%|          | 0.00/5.76k [00:00<?, ?B/s]"
      ]
     },
     "metadata": {},
     "output_type": "display_data"
    }
   ],
   "source": [
    "ds_builder = load_dataset_builder('lighteval/mmlu', name='all')"
   ]
  },
  {
   "cell_type": "code",
   "execution_count": 4,
   "id": "15734aef",
   "metadata": {
    "ExecuteTime": {
     "end_time": "2024-09-10T15:12:43.023492Z",
     "start_time": "2024-09-10T15:12:43.010618Z"
    },
    "colab": {
     "base_uri": "https://localhost:8080/"
    },
    "id": "15734aef",
    "outputId": "5266fe21-c99e-46d8-b8b7-27a486b185a3"
   },
   "outputs": [
    {
     "data": {
      "text/plain": [
       "DatasetInfo(description='This is a massive multitask test consisting of multiple-choice questions from various branches of knowledge, covering 57 tasks including elementary mathematics, US history, computer science, law, and more.\\n', citation='@article{hendryckstest2021,\\n      title={Measuring Massive Multitask Language Understanding},\\n      author={Dan Hendrycks and Collin Burns and Steven Basart and Andy Zou and Mantas Mazeika and Dawn Song and Jacob Steinhardt},\\n      journal={Proceedings of the International Conference on Learning Representations (ICLR)},\\n      year={2021}\\n    }\\n', homepage='https://github.com/hendrycks/test', license='', features={'question': Value(dtype='string', id=None), 'subject': Value(dtype='string', id=None), 'choices': Sequence(feature=Value(dtype='string', id=None), length=-1, id=None), 'answer': ClassLabel(names=['A', 'B', 'C', 'D'], id=None)}, post_processed=None, supervised_keys=None, builder_name='parquet', dataset_name='mmlu', config_name='all', version='1.0.0', splits={'auxiliary_train': SplitInfo(name='auxiliary_train', num_bytes=161000625, num_examples=99842, shard_lengths=None, dataset_name='mmlu'), 'test': SplitInfo(name='test', num_bytes=6967453, num_examples=14042, shard_lengths=None, dataset_name='mmlu'), 'validation': SplitInfo(name='validation', num_bytes=763484, num_examples=1531, shard_lengths=None, dataset_name='mmlu'), 'dev': SplitInfo(name='dev', num_bytes=125353, num_examples=285, shard_lengths=None, dataset_name='mmlu')}, download_checksums={'data.tar': {'num_bytes': 166184960, 'checksum': None}}, download_size=166184960, post_processing_size=None, dataset_size=168856915, size_in_bytes=335041875)"
      ]
     },
     "execution_count": 4,
     "metadata": {},
     "output_type": "execute_result"
    }
   ],
   "source": [
    "ds_builder.info"
   ]
  },
  {
   "cell_type": "code",
   "execution_count": 5,
   "id": "8376a536",
   "metadata": {
    "ExecuteTime": {
     "end_time": "2024-09-10T15:12:43.063856Z",
     "start_time": "2024-09-10T15:12:43.029764Z"
    },
    "colab": {
     "base_uri": "https://localhost:8080/",
     "height": 52
    },
    "id": "8376a536",
    "outputId": "59cfe756-0e03-40fb-d443-0e2b29501438"
   },
   "outputs": [
    {
     "data": {
      "application/vnd.google.colaboratory.intrinsic+json": {
       "type": "string"
      },
      "text/plain": [
       "'This is a massive multitask test consisting of multiple-choice questions from various branches of knowledge, covering 57 tasks including elementary mathematics, US history, computer science, law, and more.\\n'"
      ]
     },
     "execution_count": 5,
     "metadata": {},
     "output_type": "execute_result"
    }
   ],
   "source": [
    "ds_builder.info.description"
   ]
  },
  {
   "cell_type": "markdown",
   "id": "76a948cb",
   "metadata": {
    "id": "76a948cb"
   },
   "source": [
    "The features attributes describes what information is available and its structure.\n",
    "\n",
    "In the example below, the question field is a string of characters, where as the answer field is a label with four possible choices `[A, B, C, D]`. This information allowed us to know with what kind of data we are dealing with before downloading the dataset"
   ]
  },
  {
   "cell_type": "code",
   "execution_count": 6,
   "id": "04ccb8f8",
   "metadata": {
    "ExecuteTime": {
     "end_time": "2024-09-10T15:12:43.078675Z",
     "start_time": "2024-09-10T15:12:43.066568Z"
    },
    "colab": {
     "base_uri": "https://localhost:8080/"
    },
    "id": "04ccb8f8",
    "outputId": "434d00e3-59e4-424e-f3b2-eb874de0892b"
   },
   "outputs": [
    {
     "data": {
      "text/plain": [
       "{'question': Value(dtype='string', id=None),\n",
       " 'subject': Value(dtype='string', id=None),\n",
       " 'choices': Sequence(feature=Value(dtype='string', id=None), length=-1, id=None),\n",
       " 'answer': ClassLabel(names=['A', 'B', 'C', 'D'], id=None)}"
      ]
     },
     "execution_count": 6,
     "metadata": {},
     "output_type": "execute_result"
    }
   ],
   "source": [
    "ds_builder.info.features"
   ]
  },
  {
   "cell_type": "code",
   "execution_count": 7,
   "id": "eb225170",
   "metadata": {
    "ExecuteTime": {
     "end_time": "2024-09-10T15:12:43.087067Z",
     "start_time": "2024-09-10T15:12:43.081092Z"
    },
    "colab": {
     "base_uri": "https://localhost:8080/"
    },
    "id": "eb225170",
    "outputId": "7e39cdb6-7b29-4147-cf36-8a82d2a074ba"
   },
   "outputs": [
    {
     "data": {
      "text/plain": [
       "166184960"
      ]
     },
     "execution_count": 7,
     "metadata": {},
     "output_type": "execute_result"
    }
   ],
   "source": [
    "ds_builder.info.download_size # size in bytes"
   ]
  },
  {
   "cell_type": "markdown",
   "id": "58142fc5",
   "metadata": {
    "id": "58142fc5"
   },
   "source": [
    "Most datasets already have a pre-defined split for training, validation and testing. We can take a lof of the size of the splits as follows:"
   ]
  },
  {
   "cell_type": "code",
   "execution_count": 8,
   "id": "2a68e229",
   "metadata": {
    "ExecuteTime": {
     "end_time": "2024-09-10T15:12:43.096352Z",
     "start_time": "2024-09-10T15:12:43.090843Z"
    },
    "colab": {
     "base_uri": "https://localhost:8080/"
    },
    "id": "2a68e229",
    "outputId": "5d203a1f-a2ad-47ff-f690-53653d503c0e"
   },
   "outputs": [
    {
     "name": "stdout",
     "output_type": "stream",
     "text": [
      "SplitInfo(name='auxiliary_train', num_bytes=161000625, num_examples=99842, shard_lengths=None, dataset_name='mmlu')\n",
      "SplitInfo(name='test', num_bytes=6967453, num_examples=14042, shard_lengths=None, dataset_name='mmlu')\n",
      "SplitInfo(name='validation', num_bytes=763484, num_examples=1531, shard_lengths=None, dataset_name='mmlu')\n",
      "SplitInfo(name='dev', num_bytes=125353, num_examples=285, shard_lengths=None, dataset_name='mmlu')\n"
     ]
    }
   ],
   "source": [
    "for split_info in ds_builder.info.splits.values():\n",
    "    print(split_info)"
   ]
  },
  {
   "cell_type": "markdown",
   "id": "556b44c2",
   "metadata": {
    "ExecuteTime": {
     "end_time": "2024-09-10T12:42:14.753228Z",
     "start_time": "2024-09-10T12:42:05.219351Z"
    },
    "id": "556b44c2"
   },
   "source": [
    "let's try a vision dataset now. The `google-research-datasets/conceptual_captions` dataset consists ~3.3M images annotated with captions. We can train a image-to-text model to generate the caption based on the iamge."
   ]
  },
  {
   "cell_type": "code",
   "execution_count": 9,
   "id": "d640a5dd",
   "metadata": {
    "ExecuteTime": {
     "end_time": "2024-09-10T15:12:46.755798Z",
     "start_time": "2024-09-10T15:12:43.098987Z"
    },
    "colab": {
     "base_uri": "https://localhost:8080/",
     "height": 49,
     "referenced_widgets": [
      "e0e049a656a04be2b40cfed06fc75fd4",
      "a4017f5b86c141d19da170a0f3b55d05",
      "16e5f20adb5a4694a5aa2486410a3016",
      "c4420e98ace34a358e053f724ddd9c77",
      "e8e17bbc1b344033a8421270107e9bd4",
      "4330c41540804fef9578f52faae5d98b",
      "915ea304ce854703967d156f2b73d8c2",
      "5d9e8ea6cda74d079a955a83ec61d5f6",
      "400ab6cdf4ed4e348a889f5bc85c38a7",
      "7d6158b816144937a9f5a75db30edf6c",
      "3b8228c65d1c485abb0feb59b6f7ee8c"
     ]
    },
    "id": "d640a5dd",
    "outputId": "80eb5403-a487-4999-cdde-73725a3d521e"
   },
   "outputs": [
    {
     "data": {
      "application/vnd.jupyter.widget-view+json": {
       "model_id": "e0e049a656a04be2b40cfed06fc75fd4",
       "version_major": 2,
       "version_minor": 0
      },
      "text/plain": [
       "README.md:   0%|          | 0.00/14.2k [00:00<?, ?B/s]"
      ]
     },
     "metadata": {},
     "output_type": "display_data"
    }
   ],
   "source": [
    "ds_builder = load_dataset_builder('google-research-datasets/conceptual_captions')"
   ]
  },
  {
   "cell_type": "code",
   "execution_count": 10,
   "id": "c3c83336",
   "metadata": {
    "ExecuteTime": {
     "end_time": "2024-09-10T15:12:46.766320Z",
     "start_time": "2024-09-10T15:12:46.758743Z"
    },
    "colab": {
     "base_uri": "https://localhost:8080/"
    },
    "id": "c3c83336",
    "outputId": "e1d43d9f-301b-4466-b380-3c429edbdb8a"
   },
   "outputs": [
    {
     "data": {
      "text/plain": [
       "{'image_url': Value(dtype='string', id=None),\n",
       " 'caption': Value(dtype='string', id=None)}"
      ]
     },
     "execution_count": 10,
     "metadata": {},
     "output_type": "execute_result"
    }
   ],
   "source": [
    "ds_builder.info.features"
   ]
  },
  {
   "cell_type": "code",
   "execution_count": 11,
   "id": "4f08b83b",
   "metadata": {
    "ExecuteTime": {
     "end_time": "2024-09-10T15:12:46.779039Z",
     "start_time": "2024-09-10T15:12:46.773526Z"
    },
    "colab": {
     "base_uri": "https://localhost:8080/"
    },
    "id": "4f08b83b",
    "outputId": "ceedb9c6-9977-4adf-ea29-5c5d3edd3215"
   },
   "outputs": [
    {
     "data": {
      "text/plain": [
       "375258708"
      ]
     },
     "execution_count": 11,
     "metadata": {},
     "output_type": "execute_result"
    }
   ],
   "source": [
    "ds_builder.info.download_size # size in bytes"
   ]
  },
  {
   "cell_type": "code",
   "execution_count": 12,
   "id": "0534ea71",
   "metadata": {
    "ExecuteTime": {
     "end_time": "2024-09-10T15:12:46.790062Z",
     "start_time": "2024-09-10T15:12:46.780948Z"
    },
    "colab": {
     "base_uri": "https://localhost:8080/"
    },
    "id": "0534ea71",
    "outputId": "484bd579-2087-4fd8-dace-491b0a62c1fc"
   },
   "outputs": [
    {
     "name": "stdout",
     "output_type": "stream",
     "text": [
      "SplitInfo(name='train', num_bytes=584517500, num_examples=3318333, shard_lengths=None, dataset_name=None)\n",
      "SplitInfo(name='validation', num_bytes=2698710, num_examples=15840, shard_lengths=None, dataset_name=None)\n"
     ]
    }
   ],
   "source": [
    "for split_info in ds_builder.info.splits.values():\n",
    "    print(split_info)"
   ]
  },
  {
   "cell_type": "markdown",
   "id": "7cad6a9d",
   "metadata": {
    "id": "7cad6a9d"
   },
   "source": [
    "## Load datasets\n",
    "the ```load_dataset``` function allowed to load data from many different formats in a single line of code!\n",
    "### from the hub!\n",
    "To load a dataset from hub, we just need to specify the name of the dataset as before!\n",
    "\n",
    "To keep this example simple, let's load a smaller dataset for classification of movie's reviews."
   ]
  },
  {
   "cell_type": "code",
   "execution_count": 13,
   "id": "0dc2969d",
   "metadata": {
    "ExecuteTime": {
     "end_time": "2024-09-10T15:12:46.798270Z",
     "start_time": "2024-09-10T15:12:46.791969Z"
    },
    "id": "0dc2969d"
   },
   "outputs": [],
   "source": [
    "from datasets import load_dataset"
   ]
  },
  {
   "cell_type": "code",
   "execution_count": 14,
   "id": "e336967c",
   "metadata": {
    "ExecuteTime": {
     "end_time": "2024-09-10T15:12:49.070261Z",
     "start_time": "2024-09-10T15:12:46.800532Z"
    },
    "colab": {
     "base_uri": "https://localhost:8080/",
     "height": 241,
     "referenced_widgets": [
      "fd2d56560e1b418eac26f0f7bb61ec67",
      "2077715a156640228d69cce0f759b141",
      "29bbcc7ee3664b95992e50bcd9b404f7",
      "4a8b4d24d596452083745c44be3b09db",
      "da5fce92e6b14d3cb16c96e8c6b2d968",
      "ee673f1d767349e1bc9bea2ae14313f4",
      "d87cba2ee59e4d06ad0f0e9aaf1ea7a9",
      "534e8d596f344bb6a541330c8f1e2b84",
      "59914aa4093c4007a98d772c81a06991",
      "0b78fa7db07f48e98cae9b8b330cd455",
      "fb5c9a4502ac400b96f01f4559de0faa",
      "ef7be4938cc04dceb9ff02ec9234bbcd",
      "3cb4bb51650b44ca9042aad564edf303",
      "d1c082673a604c0da5e210d561d5dd25",
      "f317da3a95ee49478b8ac5c5a95c5fd8",
      "f0f86c977a8049b898a1f5b9f245f563",
      "60d6191f38f4437d8d0dbdd611119a2c",
      "4879b6c526aa4bc690be6c933899d524",
      "bb896a3b095246d7b838f5b84a1cdaf9",
      "4a4858aedb8c453994790f48a2f84a17",
      "07436fbf73fe42a9ac1771697b3809f5",
      "b9cde0a3a368498cb7d69f4af10e6a7f",
      "1a8aeac8bfb540cc8132d5e5b86bc6ea",
      "a01bf82cb25d4b1684e4836165b72c69",
      "4f23f736e1434fc7918e5a98ca65359e",
      "42b919a4328148cfa6c36ec429877080",
      "ffbc81d4d82f449793651bf757923bf4",
      "7bacc8c6bceb4e5baed92209ac785b7d",
      "74d8492eea4047ab88738ab6eb39e13d",
      "3ca764db3261445dad148b97166d16bd",
      "47dcef3b7ca0498fa6604a6775e7a663",
      "2be7d25fb9b84eebbb02d85345ec5ef2",
      "185f712d3f7741ed92e2562db208fc90",
      "99abea18d5be40168cafea5d22e60474",
      "9ecfe63afd1d4b47ab1ed4dbb5a970ea",
      "8e1b879be2e94136abd0fe67d5b55c67",
      "a45b8c997f61462bb730103df90c8e3f",
      "fdd3259886e746638a6a96a9ad004ef8",
      "7403cebf342a4063aab04f89b9573a27",
      "441633d95b6e42528a00beaad9ceacdd",
      "c3c96440410d4cf78d6f59d6843eed45",
      "b43c796a51ae419596d1bc0103dbfd89",
      "fc5b58face2748569b3c65d691d4c3ac",
      "50b3a74816f540d9863083a947465006",
      "de46aba2eb8d49aa90a49e52c37cc429",
      "8d3d0da8bdcb48ea84b0723714b235fa",
      "da787fe48ff34ccaaa3021e33a085c70",
      "3da8e03c446241fd814c1076f9dc2904",
      "61d10abad0584434b713f4667063c881",
      "e09a118f27b243deb9ef916349e207f8",
      "366932a6760a4430b63df799abecd585",
      "8de9667666bd4c85a5c39e2c98ddd8f9",
      "068ed262f6bb4db7a6e11e7d2e5b0146",
      "433fafa6bc8e455891647766aadd66fd",
      "ed6dfea1c41e4fb1bd0e03263d734f20",
      "1f6cd0b864a74381809cc2351ebdf079",
      "bace5e21d0ae4d3092d121f3cf41644f",
      "2b000a116c7a40ccbd559c7330ccbe7d",
      "3563996e016b40f6a752261602c0a218",
      "a4608d09d1dd4bc3987ba11ca5c69278",
      "178aed2f3ad546df889b44df75414dc9",
      "0325975976f74c5c9f81a5fbb2282007",
      "b1e07073124f4306855d34d60cb7ff03",
      "da3d549df7df46ff8c93ffd091114556",
      "8aacf8a202d34c169672f8323a227a76",
      "a9ed23d65aab4721b13513a4a4df63ae",
      "9e90f9207e6e4101806d8534906f8fe9",
      "3200a751633f405f918d203aca438ab5",
      "6678e0f5b56047e98fe65f6dd22a72b6",
      "411bde26c48a4bcbb27fcfd2a9c87a17",
      "71986b93ce8d4ad7848e42edb5381365",
      "82491f3063ff48438406520c89dd38cb",
      "8c4cb0298eaa42a3beca69d386239449",
      "84214378b08746c48bbfdf8edb83b3e4",
      "2ea93b05405a4f95a768aff3a704bb54",
      "4e52499cba03462e86d35178e2eb54d3",
      "b6ae0b7866834b76bc33481f0db5b9c4"
     ]
    },
    "id": "e336967c",
    "outputId": "b236c008-f461-462d-b20e-de8b8248b0f2"
   },
   "outputs": [
    {
     "data": {
      "application/vnd.jupyter.widget-view+json": {
       "model_id": "fd2d56560e1b418eac26f0f7bb61ec67",
       "version_major": 2,
       "version_minor": 0
      },
      "text/plain": [
       "README.md:   0%|          | 0.00/7.46k [00:00<?, ?B/s]"
      ]
     },
     "metadata": {},
     "output_type": "display_data"
    },
    {
     "data": {
      "application/vnd.jupyter.widget-view+json": {
       "model_id": "ef7be4938cc04dceb9ff02ec9234bbcd",
       "version_major": 2,
       "version_minor": 0
      },
      "text/plain": [
       "train.parquet:   0%|          | 0.00/699k [00:00<?, ?B/s]"
      ]
     },
     "metadata": {},
     "output_type": "display_data"
    },
    {
     "data": {
      "application/vnd.jupyter.widget-view+json": {
       "model_id": "1a8aeac8bfb540cc8132d5e5b86bc6ea",
       "version_major": 2,
       "version_minor": 0
      },
      "text/plain": [
       "validation.parquet:   0%|          | 0.00/90.0k [00:00<?, ?B/s]"
      ]
     },
     "metadata": {},
     "output_type": "display_data"
    },
    {
     "data": {
      "application/vnd.jupyter.widget-view+json": {
       "model_id": "99abea18d5be40168cafea5d22e60474",
       "version_major": 2,
       "version_minor": 0
      },
      "text/plain": [
       "test.parquet:   0%|          | 0.00/92.2k [00:00<?, ?B/s]"
      ]
     },
     "metadata": {},
     "output_type": "display_data"
    },
    {
     "data": {
      "application/vnd.jupyter.widget-view+json": {
       "model_id": "de46aba2eb8d49aa90a49e52c37cc429",
       "version_major": 2,
       "version_minor": 0
      },
      "text/plain": [
       "Generating train split:   0%|          | 0/8530 [00:00<?, ? examples/s]"
      ]
     },
     "metadata": {},
     "output_type": "display_data"
    },
    {
     "data": {
      "application/vnd.jupyter.widget-view+json": {
       "model_id": "1f6cd0b864a74381809cc2351ebdf079",
       "version_major": 2,
       "version_minor": 0
      },
      "text/plain": [
       "Generating validation split:   0%|          | 0/1066 [00:00<?, ? examples/s]"
      ]
     },
     "metadata": {},
     "output_type": "display_data"
    },
    {
     "data": {
      "application/vnd.jupyter.widget-view+json": {
       "model_id": "9e90f9207e6e4101806d8534906f8fe9",
       "version_major": 2,
       "version_minor": 0
      },
      "text/plain": [
       "Generating test split:   0%|          | 0/1066 [00:00<?, ? examples/s]"
      ]
     },
     "metadata": {},
     "output_type": "display_data"
    }
   ],
   "source": [
    "dataset = load_dataset('cornell-movie-review-data/rotten_tomatoes')"
   ]
  },
  {
   "cell_type": "markdown",
   "id": "aab5407e",
   "metadata": {
    "id": "aab5407e"
   },
   "source": [
    "the function will return either a `Dataset` or a `DatasetDict`.A `DatasetDict` is a collection of Dataset objects that can be accesed with keys, just like a dictionary (hashmap) in python. The `Dataset` object is where all magic happens, where the data is actually stored and manipulated."
   ]
  },
  {
   "cell_type": "code",
   "execution_count": 15,
   "id": "dd4ccbbf",
   "metadata": {
    "ExecuteTime": {
     "end_time": "2024-09-10T15:12:49.077887Z",
     "start_time": "2024-09-10T15:12:49.072416Z"
    },
    "colab": {
     "base_uri": "https://localhost:8080/"
    },
    "id": "dd4ccbbf",
    "outputId": "10b5db9a-408c-4e1c-cfda-ad1e317a72ff"
   },
   "outputs": [
    {
     "data": {
      "text/plain": [
       "DatasetDict({\n",
       "    train: Dataset({\n",
       "        features: ['text', 'label'],\n",
       "        num_rows: 8530\n",
       "    })\n",
       "    validation: Dataset({\n",
       "        features: ['text', 'label'],\n",
       "        num_rows: 1066\n",
       "    })\n",
       "    test: Dataset({\n",
       "        features: ['text', 'label'],\n",
       "        num_rows: 1066\n",
       "    })\n",
       "})"
      ]
     },
     "execution_count": 15,
     "metadata": {},
     "output_type": "execute_result"
    }
   ],
   "source": [
    "dataset"
   ]
  },
  {
   "cell_type": "code",
   "execution_count": 16,
   "id": "4bdc9ac6",
   "metadata": {
    "ExecuteTime": {
     "end_time": "2024-09-10T15:12:49.086149Z",
     "start_time": "2024-09-10T15:12:49.080073Z"
    },
    "colab": {
     "base_uri": "https://localhost:8080/"
    },
    "id": "4bdc9ac6",
    "outputId": "d20a26f0-0193-4210-d34b-01872068d56c"
   },
   "outputs": [
    {
     "data": {
      "text/plain": [
       "datasets.dataset_dict.DatasetDict"
      ]
     },
     "execution_count": 16,
     "metadata": {},
     "output_type": "execute_result"
    }
   ],
   "source": [
    "type(dataset) # DatasetDict"
   ]
  },
  {
   "cell_type": "code",
   "execution_count": 17,
   "id": "e9954bb8",
   "metadata": {
    "ExecuteTime": {
     "end_time": "2024-09-10T15:12:49.095446Z",
     "start_time": "2024-09-10T15:12:49.088526Z"
    },
    "id": "e9954bb8"
   },
   "outputs": [],
   "source": [
    "# DatasetDict is actually a instance of a Python Dictionary\n",
    "# which means that we can perform any dictionary-like operation\n",
    "assert isinstance(dataset, dict)"
   ]
  },
  {
   "cell_type": "code",
   "execution_count": 18,
   "id": "69f0c7e8",
   "metadata": {
    "ExecuteTime": {
     "end_time": "2024-09-10T15:12:49.108553Z",
     "start_time": "2024-09-10T15:12:49.097256Z"
    },
    "colab": {
     "base_uri": "https://localhost:8080/"
    },
    "id": "69f0c7e8",
    "outputId": "0dc9655a-2cfb-42fd-9a57-a51a72c3b3df"
   },
   "outputs": [
    {
     "data": {
      "text/plain": [
       "Dataset({\n",
       "    features: ['text', 'label'],\n",
       "    num_rows: 8530\n",
       "})"
      ]
     },
     "execution_count": 18,
     "metadata": {},
     "output_type": "execute_result"
    }
   ],
   "source": [
    "dataset['train'] # get a dataset"
   ]
  },
  {
   "cell_type": "code",
   "execution_count": 19,
   "id": "1cfa3cd7",
   "metadata": {
    "ExecuteTime": {
     "end_time": "2024-09-10T15:12:49.123525Z",
     "start_time": "2024-09-10T15:12:49.111436Z"
    },
    "colab": {
     "base_uri": "https://localhost:8080/"
    },
    "id": "1cfa3cd7",
    "outputId": "6cc09eb6-14e0-429c-d428-8a3d67f68167"
   },
   "outputs": [
    {
     "data": {
      "text/plain": [
       "dict_keys(['train', 'validation', 'test'])"
      ]
     },
     "execution_count": 19,
     "metadata": {},
     "output_type": "execute_result"
    }
   ],
   "source": [
    "dataset.keys() # key iterator"
   ]
  },
  {
   "cell_type": "code",
   "execution_count": 20,
   "id": "418fe21b",
   "metadata": {
    "ExecuteTime": {
     "end_time": "2024-09-10T15:12:49.132048Z",
     "start_time": "2024-09-10T15:12:49.125293Z"
    },
    "colab": {
     "base_uri": "https://localhost:8080/"
    },
    "id": "418fe21b",
    "outputId": "418cbe77-035c-40e7-ec82-55005f5fcecc"
   },
   "outputs": [
    {
     "data": {
      "text/plain": [
       "dict_values([Dataset({\n",
       "    features: ['text', 'label'],\n",
       "    num_rows: 8530\n",
       "}), Dataset({\n",
       "    features: ['text', 'label'],\n",
       "    num_rows: 1066\n",
       "}), Dataset({\n",
       "    features: ['text', 'label'],\n",
       "    num_rows: 1066\n",
       "})])"
      ]
     },
     "execution_count": 20,
     "metadata": {},
     "output_type": "execute_result"
    }
   ],
   "source": [
    "dataset.values() # values iterator"
   ]
  },
  {
   "cell_type": "markdown",
   "id": "ebadfae3",
   "metadata": {
    "id": "ebadfae3"
   },
   "source": [
    "Let's analyze the `Dataset` object and come back later to DatasetDict and their usecases"
   ]
  },
  {
   "cell_type": "markdown",
   "id": "85bea136",
   "metadata": {
    "id": "85bea136"
   },
   "source": [
    "### Datasets\n",
    "\n",
    "Theorically, a dataset is just an indexable object, which means we can perform ```dataset[i]``` and get the ith item of the dataset. The items in the dataset are structure as python-dictionary where the keys are the `features` availables.\n",
    "\n",
    "Nevertheless, hf's datasets allowed us to easily manipulate/process data which is often required for training/evaluating models."
   ]
  },
  {
   "cell_type": "code",
   "execution_count": 21,
   "id": "50b22ed5",
   "metadata": {
    "ExecuteTime": {
     "end_time": "2024-09-10T15:12:49.139277Z",
     "start_time": "2024-09-10T15:12:49.134190Z"
    },
    "id": "50b22ed5"
   },
   "outputs": [],
   "source": [
    "train_ds = dataset['train']"
   ]
  },
  {
   "cell_type": "markdown",
   "id": "840f4d13",
   "metadata": {
    "id": "840f4d13"
   },
   "source": [
    "#### Indexing"
   ]
  },
  {
   "cell_type": "code",
   "execution_count": 22,
   "id": "3f8b2e3a",
   "metadata": {
    "ExecuteTime": {
     "end_time": "2024-09-10T15:12:49.150368Z",
     "start_time": "2024-09-10T15:12:49.141031Z"
    },
    "colab": {
     "base_uri": "https://localhost:8080/"
    },
    "id": "3f8b2e3a",
    "outputId": "11370055-d388-4bf9-afd8-247b637f2cb8"
   },
   "outputs": [
    {
     "data": {
      "text/plain": [
       "{'text': Value(dtype='string', id=None),\n",
       " 'label': ClassLabel(names=['neg', 'pos'], id=None)}"
      ]
     },
     "execution_count": 22,
     "metadata": {},
     "output_type": "execute_result"
    }
   ],
   "source": [
    "train_ds.features # describe the stored data"
   ]
  },
  {
   "cell_type": "code",
   "execution_count": 23,
   "id": "ec88b385",
   "metadata": {
    "ExecuteTime": {
     "end_time": "2024-09-10T15:12:49.160440Z",
     "start_time": "2024-09-10T15:12:49.152497Z"
    },
    "colab": {
     "base_uri": "https://localhost:8080/"
    },
    "id": "ec88b385",
    "outputId": "51276877-08e9-42be-cedc-08c0f2ee8423"
   },
   "outputs": [
    {
     "data": {
      "text/plain": [
       "{'text': 'the rock is destined to be the 21st century\\'s new \" conan \" and that he\\'s going to make a splash even greater than arnold schwarzenegger , jean-claud van damme or steven segal .',\n",
       " 'label': 1}"
      ]
     },
     "execution_count": 23,
     "metadata": {},
     "output_type": "execute_result"
    }
   ],
   "source": [
    "train_ds[0]"
   ]
  },
  {
   "cell_type": "code",
   "execution_count": 24,
   "id": "f88bfa43",
   "metadata": {
    "ExecuteTime": {
     "end_time": "2024-09-10T15:12:49.169369Z",
     "start_time": "2024-09-10T15:12:49.165140Z"
    },
    "id": "f88bfa43"
   },
   "outputs": [],
   "source": [
    "assert isinstance(train_ds[0], dict)"
   ]
  },
  {
   "cell_type": "code",
   "execution_count": 25,
   "id": "d393b591",
   "metadata": {
    "ExecuteTime": {
     "end_time": "2024-09-10T15:12:49.183605Z",
     "start_time": "2024-09-10T15:12:49.172091Z"
    },
    "colab": {
     "base_uri": "https://localhost:8080/"
    },
    "id": "d393b591",
    "outputId": "96999876-b822-49d8-fcf5-ac0027ff9b0a"
   },
   "outputs": [
    {
     "data": {
      "text/plain": [
       "{'text': 'things really get weird , though not particularly scary : the movie is all portent and no content .',\n",
       " 'label': 0}"
      ]
     },
     "execution_count": 25,
     "metadata": {},
     "output_type": "execute_result"
    }
   ],
   "source": [
    "train_ds[-1]"
   ]
  },
  {
   "cell_type": "markdown",
   "id": "683dffe6",
   "metadata": {
    "id": "683dffe6"
   },
   "source": [
    "We can also index by features to get a python-list of all items in the column, for example:"
   ]
  },
  {
   "cell_type": "code",
   "execution_count": 26,
   "id": "8fe7f282",
   "metadata": {
    "ExecuteTime": {
     "end_time": "2024-09-10T15:12:49.285343Z",
     "start_time": "2024-09-10T15:12:49.185747Z"
    },
    "colab": {
     "base_uri": "https://localhost:8080/"
    },
    "id": "8fe7f282",
    "outputId": "c9867c51-f567-405c-9c36-a5c4b473094e"
   },
   "outputs": [
    {
     "data": {
      "text/plain": [
       "['the rock is destined to be the 21st century\\'s new \" conan \" and that he\\'s going to make a splash even greater than arnold schwarzenegger , jean-claud van damme or steven segal .',\n",
       " 'the gorgeously elaborate continuation of \" the lord of the rings \" trilogy is so huge that a column of words cannot adequately describe co-writer/director peter jackson\\'s expanded vision of j . r . r . tolkien\\'s middle-earth .',\n",
       " 'effective but too-tepid biopic',\n",
       " 'if you sometimes like to go to the movies to have fun , wasabi is a good place to start .',\n",
       " \"emerges as something rare , an issue movie that's so honest and keenly observed that it doesn't feel like one .\",\n",
       " 'the film provides some great insight into the neurotic mindset of all comics -- even those who have reached the absolute top of the game .',\n",
       " 'offers that rare combination of entertainment and education .',\n",
       " 'perhaps no picture ever made has more literally showed that the road to hell is paved with good intentions .',\n",
       " \"steers turns in a snappy screenplay that curls at the edges ; it's so clever you want to hate it . but he somehow pulls it off .\",\n",
       " 'take care of my cat offers a refreshingly different slice of asian cinema .',\n",
       " 'this is a film well worth seeing , talking and singing heads and all .',\n",
       " 'what really surprises about wisegirls is its low-key quality and genuine tenderness .',\n",
       " '( wendigo is ) why we go to the cinema : to be fed through the eye , the heart , the mind .',\n",
       " 'one of the greatest family-oriented , fantasy-adventure movies ever .',\n",
       " 'ultimately , it ponders the reasons we need stories so much .',\n",
       " \"an utterly compelling 'who wrote it' in which the reputation of the most famous author who ever lived comes into question .\",\n",
       " 'illuminating if overly talky documentary .',\n",
       " 'a masterpiece four years in the making .',\n",
       " \"the movie's ripe , enrapturing beauty will tempt those willing to probe its inscrutable mysteries .\",\n",
       " 'offers a breath of the fresh air of true sophistication .',\n",
       " 'a thoughtful , provocative , insistently humanizing film .',\n",
       " 'with a cast that includes some of the top actors working in independent film , lovely & amazing involves us because it is so incisive , so bleakly amusing about how we go about our lives .',\n",
       " 'a disturbing and frighteningly evocative assembly of imagery and hypnotic music composed by philip glass .',\n",
       " \"not for everyone , but for those with whom it will connect , it's a nice departure from standard moviegoing fare .\",\n",
       " 'scores a few points for doing what it does with a dedicated and good-hearted professionalism .',\n",
       " \"occasionally melodramatic , it's also extremely effective .\",\n",
       " 'spiderman rocks',\n",
       " 'an idealistic love story that brings out the latent 15-year-old romantic in everyone .',\n",
       " \"at about 95 minutes , treasure planet maintains a brisk pace as it races through the familiar story . however , it lacks grandeur and that epic quality often associated with stevenson's tale as well as with earlier disney efforts .\",\n",
       " 'it helps that lil bow wow . . . tones down his pint-sized gangsta act to play someone who resembles a real kid .',\n",
       " 'guaranteed to move anyone who ever shook , rattled , or rolled .',\n",
       " 'a masterful film from a master filmmaker , unique in its deceptive grimness , compelling in its fatalist worldview .',\n",
       " 'light , cute and forgettable .',\n",
       " \"if there's a way to effectively teach kids about the dangers of drugs , i think it's in projects like the ( unfortunately r-rated ) paid .\",\n",
       " \"while it would be easy to give crush the new title of two weddings and a funeral , it's a far more thoughtful film than any slice of hugh grant whimsy .\",\n",
       " 'though everything might be literate and smart , it never took off and always seemed static .',\n",
       " \"cantet perfectly captures the hotel lobbies , two-lane highways , and roadside cafes that permeate vincent's days\",\n",
       " 'ms . fulford-wierzbicki is almost spooky in her sulky , calculating lolita turn .',\n",
       " 'though it is by no means his best work , laissez-passer is a distinguished and distinctive effort by a bona-fide master , a fascinating film replete with rewards to be had by all willing to make the effort to reap them .',\n",
       " 'like most bond outings in recent years , some of the stunts are so outlandish that they border on being cartoonlike . a heavy reliance on cgi technology is beginning to creep into the series .',\n",
       " 'newton draws our attention like a magnet , and acts circles around her better known co-star , mark wahlberg .',\n",
       " \"the story loses its bite in a last-minute happy ending that's even less plausible than the rest of the picture . much of the way , though , this is a refreshingly novel ride .\",\n",
       " 'fuller would surely have called this gutsy and at times exhilarating movie a great yarn .',\n",
       " \"'compleja e intelectualmente retadora , el ladrón de orquídeas es uno de esos filmes que vale la pena ver precisamente por su originalidad . '\",\n",
       " 'the film makes a strong case for the importance of the musicians in creating the motown sound .',\n",
       " 'karmen moves like rhythm itself , her lips chanting to the beat , her long , braided hair doing little to wipe away the jeweled beads of sweat .',\n",
       " 'gosling provides an amazing performance that dwarfs everything else in the film .',\n",
       " \"a real movie , about real people , that gives us a rare glimpse into a culture most of us don't know .\",\n",
       " 'tender yet lacerating and darkly funny fable .',\n",
       " \"may be spoofing an easy target -- those old '50's giant creature features -- but . . . it acknowledges and celebrates their cheesiness as the reason why people get a kick out of watching them today .\",\n",
       " \"an engaging overview of johnson's eccentric career .\",\n",
       " 'in its ragged , cheap and unassuming way , the movie works .',\n",
       " \"some actors have so much charisma that you'd be happy to listen to them reading the phone book . hugh grant and sandra bullock are two such likeable actors .\",\n",
       " 'sandra nettelbeck beautifully orchestrates the transformation of the chilly , neurotic , and self-absorbed martha as her heart begins to open .',\n",
       " 'behind the snow games and lovable siberian huskies ( plus one sheep dog ) , the picture hosts a parka-wrapped dose of heart .',\n",
       " 'everytime you think undercover brother has run out of steam , it finds a new way to surprise and amuse .',\n",
       " 'manages to be original , even though it rips off many of its ideas .',\n",
       " 'singer/composer bryan adams contributes a slew of songs \\x97 a few potential hits , a few more simply intrusive to the story \\x97 but the whole package certainly captures the intended , er , spirit of the piece .',\n",
       " \"you'd think by now america would have had enough of plucky british eccentrics with hearts of gold . yet the act is still charming here .\",\n",
       " 'whether or not you\\'re enlightened by any of derrida\\'s lectures on \" the other \" and \" the self , \" derrida is an undeniably fascinating and playful fellow .',\n",
       " 'a pleasant enough movie , held together by skilled ensemble actors .',\n",
       " \"this is the best american movie about troubled teens since 1998's whatever .\",\n",
       " \"disney has always been hit-or-miss when bringing beloved kids' books to the screen . . . tuck everlasting is a little of both .\",\n",
       " 'just the labour involved in creating the layered richness of the imagery in this chiaroscuro of madness and light is astonishing .',\n",
       " 'the animated subplot keenly depicts the inner struggles of our adolescent heroes - insecure , uncontrolled , and intense .',\n",
       " 'the invincible werner herzog is alive and well and living in la',\n",
       " 'morton is a great actress portraying a complex character , but morvern callar grows less compelling the farther it meanders from its shocking start .',\n",
       " 'part of the charm of satin rouge is that it avoids the obvious with humour and lightness .',\n",
       " 'son of the bride may be a good half-hour too long but comes replete with a flattering sense of mystery and quietness .',\n",
       " 'a simmering psychological drama in which the bursts of sudden violence are all the more startling for the slow buildup that has preceded them .',\n",
       " 'a taut , intelligent psychological drama .',\n",
       " \"a compelling coming-of-age drama about the arduous journey of a sensitive young girl through a series of foster homes and a fierce struggle to pull free from her dangerous and domineering mother's hold over her .\",\n",
       " 'a truly moving experience , and a perfect example of how art -- when done right -- can help heal , clarify , and comfort .',\n",
       " 'this delicately observed story , deeply felt and masterfully stylized , is a triumph for its maverick director .',\n",
       " 'at heart the movie is a deftly wrought suspense yarn whose richer shadings work as coloring rather than substance .',\n",
       " \"the appearance of treebeard and gollum's expanded role will either have you loving what you're seeing , or rolling your eyes . i loved it ! gollum's 'performance' is incredible !\",\n",
       " 'a screenplay more ingeniously constructed than \" memento \"',\n",
       " \"if this movie were a book , it would be a page-turner , you can't wait to see what happens next .\",\n",
       " 'haneke challenges us to confront the reality of sexual aberration .',\n",
       " 'absorbing and disturbing -- perhaps more disturbing than originally intended -- but a little clarity would have gone a long way .',\n",
       " \"it's the best film of the year so far , the benchmark against which all other best picture contenders should be measured .\",\n",
       " \"painful to watch , but viewers willing to take a chance will be rewarded with two of the year's most accomplished and riveting film performances .\",\n",
       " 'this is a startling film that gives you a fascinating , albeit depressing view of iranian rural life close to the iraqi border .',\n",
       " 'an imaginative comedy/thriller .',\n",
       " 'a few artsy flourishes aside , narc is as gritty as a movie gets these days .',\n",
       " 'while the isle is both preposterous and thoroughly misogynistic , its vistas are incredibly beautiful to look at .',\n",
       " \"together , tok and o orchestrate a buoyant , darkly funny dance of death . in the process , they demonstrate that there's still a lot of life in hong kong cinema .\",\n",
       " 'director kapur is a filmmaker with a real flair for epic landscapes and adventure , and this is a better film than his earlier english-language movie , the overpraised elizabeth .',\n",
       " 'the movie is a blast of educational energy , as bouncy animation and catchy songs escort you through the entire 85 minutes .',\n",
       " \"a sports movie with action that's exciting on the field and a story you care about off it .\",\n",
       " \"doug liman , the director of bourne , directs the traffic well , gets a nice wintry look from his locations , absorbs us with the movie's spycraft and uses damon's ability to be focused and sincere .\",\n",
       " 'the tenderness of the piece is still intact .',\n",
       " 'katz uses archival footage , horrifying documents of lynchings , still photographs and charming old reel-to-reel recordings of meeropol entertaining his children to create his song history , but most powerful of all is the song itself',\n",
       " \"like the film's almost anthropologically detailed realization of early-'80s suburbia , it's significant without being overstated .\",\n",
       " \"while mcfarlane's animation lifts the film firmly above the level of other coming-of-age films . . . it's also so jarring that it's hard to get back into the boys' story .\",\n",
       " 'if nothing else , this movie introduces a promising , unusual kind of psychological horror .',\n",
       " 'in a normal screen process , these bromides would be barely enough to sustain an interstitial program on the discovery channel . but in imax 3-d , the clichés disappear into the vertiginous perspectives opened up by the photography .',\n",
       " 'writer-director burger imaginatively fans the embers of a dormant national grief and curiosity that has calcified into chronic cynicism and fear .',\n",
       " '. . . a roller-coaster ride of a movie',\n",
       " 'i enjoyed time of favor while i was watching it , but i was surprised at how quickly it faded from my memory .',\n",
       " 'chicago is sophisticated , brash , sardonic , completely joyful in its execution .',\n",
       " \"steve irwin's method is ernest hemmingway at accelerated speed and volume .\",\n",
       " 'a refreshing korean film about five female high school friends who face an uphill battle when they try to take their relationships into deeper waters .',\n",
       " \"on the surface , it's a lovers-on-the-run crime flick , but it has a lot in common with piesiewicz's and kieslowski's earlier work , films like the double life of veronique .\",\n",
       " 'the values that have held the enterprise crew together through previous adventures and perils do so again-courage , self-sacrifice and patience under pressure .',\n",
       " \"if it's possible for a sequel to outshine the original , then sl2 does just that .\",\n",
       " 'a romantic comedy that operates by the rules of its own self-contained universe .',\n",
       " \"4 friends , 2 couples , 2000 miles , and all the pabst blue ribbon beer they can drink - it's the ultimate redneck road-trip .\",\n",
       " \"the film is often filled with a sense of pure wonderment and excitement not often seen in today's cinema du sarcasm\",\n",
       " \"it might be tempting to regard mr . andrew and his collaborators as oddballs , but mr . earnhart's quizzical , charming movie allows us to see them , finally , as artists .\",\n",
       " 'a feel-good picture in the best sense of the term .',\n",
       " 'edited and shot with a syncopated style mimicking the work of his subjects , pray turns the idea of the documentary on its head , making it rousing , invigorating fun lacking any mtv puffery .',\n",
       " 'a mostly intelligent , engrossing and psychologically resonant suspenser .',\n",
       " \"it's this memory-as-identity obviation that gives secret life its intermittent unease , reaffirming that long-held illusions are indeed reality , and that erasing them recasts the self .\",\n",
       " \"hip-hop has a history , and it's a metaphor for this love story .\",\n",
       " \"in scope , ambition and accomplishment , children of the century . . . takes kurys' career to a whole new level .\",\n",
       " \"this may not have the dramatic gut-wrenching impact of other holocaust films , but it's a compelling story , mainly because of the way it's told by the people who were there .\",\n",
       " 'between the drama of cube ? s personal revelations regarding what the shop means in the big picture , iconic characters gambol fluidly through the story , with charming results .',\n",
       " 'a gentle , compassionate drama about grief and healing .',\n",
       " 'somewhere short of tremors on the modern b-scene : neither as funny nor as clever , though an agreeably unpretentious way to spend ninety minutes .',\n",
       " 'digital-video documentary about stand-up comedians is a great glimpse into a very different world .',\n",
       " 'unlike most teen flicks , swimming takes its time to tell its story , casts mostly little-known performers in key roles , and introduces some intriguing ambiguity .',\n",
       " \"an enthralling , playful film that constantly frustrates our desire to know the 'truth' about this man , while deconstructing the very format of the biography in a manner that derrida would doubtless give his blessing to .\",\n",
       " '\" extreme ops \" exceeds expectations . good fun , good action , good acting , good dialogue , good pace , good cinematography .',\n",
       " 'you should pay nine bucks for this : because you can hear about suffering afghan refugees on the news and still be unaffected . dramas like this make it human .',\n",
       " 'a thunderous ride at first , quiet cadences of pure finesse are few and far between ; their shortage dilutes the potency of otherwise respectable action . still , this flick is fun , and host to some truly excellent sequences .',\n",
       " \"it's obviously struck a responsive chord with many south koreans , and should work its magic in other parts of the world .\",\n",
       " \"run , don't walk , to see this barbed and bracing comedy on the big screen .\",\n",
       " 'a classy item by a legend who may have nothing left to prove but still has the chops and drive to show how its done .',\n",
       " \"it is nature against progress . in fessenden's horror trilogy , this theme has proved important to him and is especially so in the finale .\",\n",
       " \"it's not exactly a gourmet meal but the fare is fair , even coming from the drive-thru .\",\n",
       " 'this is what imax was made for : strap on a pair of 3-d goggles , shut out the real world , and take a vicarious voyage to the last frontier -- space .',\n",
       " 'merely as a technical , logistical feat , russian ark marks a cinematic milestone .',\n",
       " '[schweiger is] talented and terribly charismatic , qualities essential to both movie stars and social anarchists .',\n",
       " \"it's a great deal of sizzle and very little steak . but what spectacular sizzle it is ! . . . in this incarnation its fizz is infectious .\",\n",
       " 'an original gem about an obsession with time .',\n",
       " 'it will delight newcomers to the story and those who know it from bygone days .',\n",
       " 'gloriously goofy ( and gory ) midnight movie stuff .',\n",
       " 'the film overcomes the regular minefield of coming-of-age cliches with potent doses of honesty and sensitivity .',\n",
       " \"if your senses haven't been dulled by slasher films and gorefests , if you're a connoisseur of psychological horror , this is your ticket .\",\n",
       " \"it's a minor comedy that tries to balance sweetness with coarseness , while it paints a sad picture of the singles scene .\",\n",
       " 'it is intensely personal and yet -- unlike quills -- deftly shows us the temper of the times .',\n",
       " 'as lo-fi as the special effects are , the folks who cobbled nemesis together indulge the force of humanity over hardware in a way that george lucas has long forgotten .',\n",
       " \"like mike doesn't win any points for originality . it does succeed by following a feel-good formula with a winning style , and by offering its target audience of urban kids some welcome role models and optimism .\",\n",
       " \"it's a hoot and a half , and a great way for the american people to see what a candidate is like when he's not giving the same 15-cent stump speech .\",\n",
       " 'far from perfect , but its heart is in the right place . . . innocent and well-meaning .',\n",
       " 'a sad , superior human comedy played out on the back roads of life .',\n",
       " 'waydowntown is by no means a perfect film , but its boasts a huge charm factor and smacks of originality .',\n",
       " 'tim allen is great in his role but never hogs the scenes from his fellow cast , as there are plenty of laughs and good lines for everyone in this comedy .',\n",
       " 'more a load of enjoyable , conan-esque claptrap than the punishing , special-effects soul assaults the mummy pictures represent .',\n",
       " 'enormously likable , partly because it is aware of its own grasp of the absurd .',\n",
       " \"here's a british flick gleefully unconcerned with plausibility , yet just as determined to entertain you .\",\n",
       " \"it's an old story , but a lively script , sharp acting and partially animated interludes make just a kiss seem minty fresh .\",\n",
       " 'must be seen to be believed .',\n",
       " \"ray liotta and jason patric do some of their best work in their underwritten roles , but don't be fooled : nobody deserves any prizes here .\",\n",
       " \"everything that has to do with yvan and charlotte , and everything that has to do with yvan's rambunctious , jewish sister and her non-jew husband , feels funny and true .\",\n",
       " 'sweet home alabama \" is what it is \\x96 a nice , harmless date film . . .',\n",
       " \"the year's happiest surprise , a movie that deals with a real subject in an always surprising way .\",\n",
       " \"fans of behan's work and of irish movies in general will be rewarded by borstal boy .\",\n",
       " \"its mysteries are transparently obvious , and it's too slowly paced to be a thriller . [but it's] worth recommending because of two marvelous performances by michael caine and brendan fraser .\",\n",
       " \"the film is faithful to what one presumes are the book's twin premises -- that we become who we are on the backs of our parents , but we have no idea who they were at our age ; and that time is a fleeting and precious commodity no matter how old you are .\",\n",
       " \"stephen earnhart's homespun documentary mule skinner blues has nothing but love for its posse of trailer park denizens .\",\n",
       " 'a solidly seaworthy chiller .',\n",
       " 'if you can get past the fantastical aspects and harsh realities of \" the isle \" you\\'ll get a sock-you-in-the-eye flick that is a visual tour-de-force and a story that is unlike any you will likely see anywhere else .',\n",
       " \"there are as many misses as hits , but ultimately , it finds humor in the foibles of human behavior , and it's a welcome return to the roots of a genre that should depend on surprises .\",\n",
       " 'a well-made thriller with a certain level of intelligence and non-reactionary morality .',\n",
       " \"there's enough science to make it count as educational , and enough beauty to make it unforgettable .\",\n",
       " 'remains a solid , if somewhat heavy-handed , account of the near-disaster . . . done up by howard with a steady , if not very imaginative , hand .',\n",
       " \"makmalbaf follows a resolutely realistic path in this uncompromising insight into the harsh existence of the kurdish refugees of iran's borderlands .\",\n",
       " 'for a good chunk of its running time , trapped is an effective and claustrophobic thriller .',\n",
       " 'most of crush is a clever and captivating romantic comedy with a welcome pinch of tartness .',\n",
       " 'nair does capture the complexity of a big family and its trials and tribulations . . .',\n",
       " 'the seaside splendor and shallow , beautiful people are nice to look at while you wait for the story to get going .',\n",
       " \"rare is the 'urban comedy' that even attempts the insight and honesty of this disarming indie .\",\n",
       " \"ranks among willams' best screen work .\",\n",
       " 'engagingly captures the maddening and magnetic ebb and flow of friendship .',\n",
       " 'an experience so engrossing it is like being buried in a new environment .',\n",
       " \"it's traditional moviemaking all the way , but it's done with a lot of careful period attention as well as some very welcome wit .\",\n",
       " 'thoroughly enjoyable .',\n",
       " \"maybe it's just because this past year has seen the release of some of the worst film comedies in decades . . . but honestly , analyze that really isn't all that bad .\",\n",
       " 'a droll , well-acted , character-driven comedy with unexpected deposits of feeling .',\n",
       " \"this is simply the most fun you'll ever have with a documentary !\",\n",
       " 'a very funny movie .',\n",
       " \"watching haneke's film is , aptly enough , a challenge and a punishment . but watching huppert , a great actress tearing into a landmark role , is riveting .\",\n",
       " 'a cop story that understands the medium amazingly well .',\n",
       " \"one of the best , most understated performances of [jack nicholson's] career .\",\n",
       " 'britney has been delivered to the big screen safe and sound , the way we like our 20-year-old superstar girls to travel on the fame freeway .',\n",
       " \"those outside show business will enjoy a close look at people they don't really want to know .\",\n",
       " 'the kind of nervous film that will either give you a mild headache or exhilarate you .',\n",
       " 'watching beanie and his gang put together his slasher video from spare parts and borrowed materials is as much fun as it must have been for them to make it .',\n",
       " \"children may not understand everything that happens -- i'm not sure even miyazaki himself does -- but they will almost certainly be fascinated , and undoubtedly delighted .\",\n",
       " 'a fascinating and fun film .',\n",
       " 'tadpole is a sophisticated , funny and good-natured treat , slight but a pleasure .',\n",
       " 'this insightful , oscar-nominated documentary , in which children on both sides of the ever-escalating conflict have their say away from watchful parental eyes , gives peace yet another chance .',\n",
       " 'i admired this work a lot .',\n",
       " \"whether you're moved and love it , or bored or frustrated by the film , you'll still feel something .\",\n",
       " '. . . there are enough moments of heartbreaking honesty to keep one glued to the screen .',\n",
       " 'my goodness , queen latifah has a lot to offer and she seemed to have no problem flaunting her natural gifts . she must have a very strong back .',\n",
       " 'a smart , sweet and playful romantic comedy .',\n",
       " 'australian actor/director john polson and award-winning english cinematographer giles nuttgens make a terrific effort at disguising the obvious with energy and innovation .',\n",
       " 'without heavy-handedness , dong provides perspective with his intelligent grasp of human foibles and contradictions .',\n",
       " 'solid , lump-in-the-throat family entertainment that derives its power by sticking to the facts .',\n",
       " 'as an entertainment , the movie keeps you diverted and best of all , it lightens your wallet without leaving a sting .',\n",
       " 'it is interesting and fun to see goodall and her chimpanzees on the bigger-than-life screen .',\n",
       " \"it won't bust your gut -- and it's not intended to -- it's merely a blandly cinematic surgical examination of what makes a joke a joke .\",\n",
       " 'a somewhat crudely constructed but gripping , questing look at a person so racked with self-loathing , he becomes an enemy to his own race .',\n",
       " 'it extends the writings of jean genet and john rechy , the films of fassbinder , perhaps even the nocturnal works of goya .',\n",
       " \"narc may not get an 'a' for originality , but it wears its b-movie heritage like a badge of honor .\",\n",
       " \"with the film's striking ending , one realizes that we have a long way to go before we fully understand all the sexual permutations involved .\",\n",
       " \"[drumline] is entertaining for what it does , and admirable for what it doesn't do .\",\n",
       " 'at its best early on as it plays the culture clashes between the brothers .',\n",
       " '[a] rare , beautiful film .',\n",
       " 'an unabashedly schmaltzy and thoroughly enjoyable true story .',\n",
       " 'a thoughtful look at a painful incident that made headlines in 1995 .',\n",
       " 'you walk out of the good girl with mixed emotions \\x97 disapproval of justine combined with a tinge of understanding for her actions .',\n",
       " 'tsai ming-liang has taken his trademark style and refined it to a crystalline point .',\n",
       " 'purely propaganda , a work of unabashed hero worship , it is nonetheless -- and likely inadvertently -- a timely and invaluable implicit reminder of the role that u . s . foreign policy has played in the rise of castro .',\n",
       " 'now trimmed by about 20 minutes , this lavish three-year-old production has enough grandeur and scale to satisfy as grown-up escapism .',\n",
       " \"we get some truly unique character studies and a cross-section of americana that hollywood couldn't possibly fictionalize and be believed .\",\n",
       " 'though this film can be clumsy , its ambitions are equally -- and admirably -- uncommercial .',\n",
       " 'daring , mesmerizing and exceedingly hard to forget .',\n",
       " \"the dangerous lives of altar boys' take on adolescence feels painfully true .\",\n",
       " \"moore's performance impresses almost as much as her work with haynes in 1995's safe .\",\n",
       " \"visits spy-movie territory like a novel you can't put down , examines a footnote to history seldom brought to light on the screen , and keeps you guessing from first frame to last .\",\n",
       " 'an absorbing , slice-of-depression life that touches nerves and rings true .',\n",
       " 'mr . parker has brilliantly updated his source and grasped its essence , composing a sorrowful and hilarious tone poem about alienated labor , or an absurdist workplace sitcom .',\n",
       " 'the result is something quite fresh and delightful .',\n",
       " 'all but the most persnickety preteens should enjoy this nonthreatening but thrilling adventure .',\n",
       " \"despite its many infuriating flaws -- not the least of which is amy's self-absorbed personality -- amy's o's honesty will win you over .\",\n",
       " \"this is one of polanski's best films .\",\n",
       " 'day is not a great bond movie , but it is a good bond movie , which still makes it much better than your typical bond knock-offs .',\n",
       " 'polished korean political-action film is just as good -- and bad -- as hollywood action epics . is this progress ?',\n",
       " 'elling , portrayed with quiet fastidiousness by per christian ellefsen , is a truly singular character , one whose frailties are only slightly magnified versions of the ones that vex nearly everyone .',\n",
       " \"denis and co-writer michele petin's impeccable screenplay penetrates with a rawness that that is both unflinching and tantalizing . lead provocatuers testud and parmentier give superlative performances\",\n",
       " 'an absorbing trip into the minds and motivations of people under stress as well as a keen , unsentimental look at variations on the theme of motherhood .',\n",
       " 'i admired it , particularly that unexpected downer of an ending .',\n",
       " 'the passions aroused by the discord between old and new cultures are set against the strange , stark beauty of the mideast desert , so lovingly and perceptively filmed that you can almost taste the desiccated air .',\n",
       " 'remarkably accessible and affecting .',\n",
       " 'never mind whether you buy the stuff about barris being a cia hit man . the kooky yet shadowy vision clooney sustains throughout is daring , inventive and impressive .',\n",
       " 'a triumph of art direction over narrative , but what art direction !',\n",
       " \"behan himself knew how to spin a tale and one can't help but think he'd appreciate this attempt to turn his life into art .\",\n",
       " \"jirí hubac's script is a gem . his characters are engaging , intimate and the dialogue is realistic and greatly moving . the scope of the silberstein family is large and we grow attached to their lives , full of strength , warmth and vitality . .\",\n",
       " \"moore's complex and important film is also , believe it or not , immensely entertaining , a david and goliath story that's still very much playing itself out .\",\n",
       " \"the additional storyline is interesting and entertaining , but it doesn't have the same magical quality as the beginning of the story . i like the new footage and still love the old stuff .\",\n",
       " 'though mama takes a bit too long to find its rhythm and a third-act plot development is somewhat melodramatic , its ribald humor and touching nostalgia are sure to please anyone in search of a jules and jim for the new millennium .',\n",
       " \"you might not buy the ideas . but you'll definitely want the t-shirt .\",\n",
       " 'provides an intriguing window into the imagination and hermetic analysis of todd solondz .',\n",
       " 'windtalkers is shapelessly gratifying , the kind of movie that invites you to pick apart its faults even as you have to admit that somehow it hit you where you live .',\n",
       " 'presents an astute appraisal of middle american musical torpor and the desperate struggle to escape it .',\n",
       " 'just what makes us happy , anyway ?',\n",
       " 'a thoughtful , moving piece that faces difficult issues with honesty and beauty .',\n",
       " 'one of the greatest romantic comedies of the past decade .',\n",
       " \"you wouldn't call the good girl a date movie ( an anti-date movie is more like it ) , but when it's good , it's good and horrid .\",\n",
       " \"benefits from a strong performance from zhao , but it's dong jie's face you remember at the end .\",\n",
       " 'this is a film brimming with detail and nuance and one that speaks volumes about the ability of the human spirit to find solace in events that could easily crush it forever .',\n",
       " 'the director , steven shainberg , has succeeded by focusing intently on his characters , making them quirky individuals rather than figures of fun .',\n",
       " \"it ultimately stands forth as an important chronicle of the abuses of one of latin america's most oppressive regimes .\",\n",
       " 'the movie has a soft , percolating magic , a deadpan suspense .',\n",
       " 'a well-made and often lovely depiction of the mysteries of friendship .',\n",
       " 'using his audience as a figurative port-of-call , dong pulls his even-handed ideological ship to their dock for unloading , before he continues his longer journey still ahead .',\n",
       " '. . . understands that a generation defines its music as much as the music defines a generation .',\n",
       " 'the transporter is as lively and as fun as it is unapologetically dumb',\n",
       " \"as a witness to several greek-american weddings -- but , happily , a victim of none -- i can testify to the comparative accuracy of ms . vardalos' memories and insights .\",\n",
       " 'has it ever been possible to say that williams has truly inhabited a character ? it is now .',\n",
       " \"by presenting an impossible romance in an impossible world , pumpkin dares us to say why either is impossible -- which forces us to confront what's possible and what we might do to make it so .\",\n",
       " 'an impressive debut for first-time writer-director mark romanek , especially considering his background is in music video .',\n",
       " 'an incendiary , deeply thought-provoking look at one of the most peculiar ( and peculiarly venomous ) bigotries in our increasingly frightening theocracy',\n",
       " 'all the performances are top notch and , once you get through the accents , all or nothing becomes an emotional , though still positive , wrench of a sit .',\n",
       " '\" its successes are also tempered with elements which prove the direct antithesis of what it gets right . \"',\n",
       " \"it's solid and affecting and exactly as thought-provoking as it should be .\",\n",
       " \"this is such a dazzlingly self-assured directorial debut that it's hard to know what to praise first .\",\n",
       " \"parker holds true to wilde's own vision of a pure comedy with absolutely no meaning , and no desire to be anything but a polished , sophisticated entertainment that is in love with its own cleverness .\",\n",
       " \"münch's genuine insight makes the film's occasional overindulgence forgivable .\",\n",
       " 'thankfully , the film , which skirts that rapidly deteriorating line between fantasy and reality . . . takes a tongue-in-cheek attitude even as it pushes the croc hunter agenda .',\n",
       " \"ultimately , the message of trouble every day seems to be that all sexual desire disrupts life's stasis .\",\n",
       " \"if you're like me , a sucker for a good old fashion romance and someone who shamelessly loves to eat , then mostly martha offers all the perfect ingredients to more than satisfy your appetite .\",\n",
       " 'the film has just enough of everything -- re-enactments , archival footage , talking-head interviews -- and the music is simply sublime .',\n",
       " 'there are a few stabs at absurdist comedy . . . but mostly the humor is of the sweet , gentle and occasionally cloying kind that has become an iranian specialty .',\n",
       " 'a wonderful character-based comedy .',\n",
       " 'it would be interesting to hear from the other side , but in talk to her , the women are down for the count .',\n",
       " 'an endearingly offbeat romantic comedy with a great meet-cute gimmick .',\n",
       " 'the unique tug-of-war with viewer expectations is undeniable , if not a pleasure in its own right .',\n",
       " \"it uses an old-time formula , it's not terribly original and it's rather messy -- but you just have to love the big , dumb , happy movie my big fat greek wedding .\",\n",
       " \"it's almost impossible not to be moved by the movie's depiction of sacrifice and its stirring epilogue in post-soviet russia .\",\n",
       " \"who knows what exactly godard is on about in this film , but his words and images don't have to add up to mesmerize you .\",\n",
       " 'the tone is balanced , reflective and reasonable .',\n",
       " 'the principals in this cast are all fine , but bishop and stevenson are standouts .',\n",
       " 'it could change america , not only because it is full of necessary discussion points , but because it is so accessible that it makes complex politics understandable to viewers looking for nothing but energetic entertainment .',\n",
       " \"what's most striking about this largely celebratory film . . . is the sense of isolation that permeates these bastions of individuality in an ikea world .\",\n",
       " \". . . if you're in a mind set for goofy comedy , the troopers will entertain with their gross outs , bawdy comedy and head games .\",\n",
       " \"somewhat blurred , but kinnear's performance is razor sharp .\",\n",
       " 'as a director , mr . ratliff wisely rejects the temptation to make fun of his subjects .',\n",
       " \"for anyone who remembers the '60s or is interested in one man's response to stroke , ram dass : fierce grace is worth seeking out .\",\n",
       " 'intriguing and beautiful film , but those of you who read the book are likely to be disappointed .',\n",
       " 'the new guy does have a heart . now , if it only had a brain .',\n",
       " \"a savvy exploration of paranoia and insecurity in america's culture of fear .\",\n",
       " \"legendary irish writer brendan behan's memoir , borstal boy , has been given a loving screen transferral .\",\n",
       " \"the film's greatest asset is how much it's not just another connect-the-dots , spy-on-the-run picture .\",\n",
       " 'this clever caper movie has twists worthy of david mamet and is enormous fun for thinking audiences .',\n",
       " \"it's one of the saddest films i have ever seen that still manages to be uplifting but not overly sentimental .\",\n",
       " 'morton is , as usual , brilliant .',\n",
       " 'even with all those rough edges safely sanded down , the american insomnia is still pretty darned good .',\n",
       " \"i don't know precisely what to make of steven soderbergh's full frontal , though that didn't stop me from enjoying much of it .\",\n",
       " 'the tug of war that ensues is as much a snapshot of modern china in microcosm as it is a crash course in movie mythology .',\n",
       " \"nearly surreal , dabbling in french , this is no simple movie , and you'll be taking a risk if you choose to see it . i enjoyed the ride ( bumps and all ) , creamy depth , and ultimate theme .\",\n",
       " \"you could say that it's slow at times , you could say that a few of the characters act in ways that real people wouldn't , but one thing you couldn't say is that alias betty is predictable .\",\n",
       " 'asia authors herself as anna battista , an italian superstar and aspiring directress who just happens to be her own worst enemy .',\n",
       " \"roman coppola may never become the filmmaker his dad was , but heck \\x96 few filmmakers will . but based on cq , i'll certainly be keeping an eye out for his next project .\",\n",
       " 'an amusing , breezily apolitical documentary about life on the campaign trail .',\n",
       " \"high on melodrama . but it's emotionally engrossing , too , thanks to strong , credible performances from the whole cast .\",\n",
       " 'finally , a genre movie that delivers -- in a couple of genres , no less .',\n",
       " \"it's not so much enjoyable to watch as it is enlightening to listen to new sides of a previous reality , and to visit with some of the people who were able to make an impact in the theater world .\",\n",
       " 'spielberg is the rare director who does not want to invite viewers to gawk at or applaud his special effects . he just wants them to be part of the action , the wallpaper of his chosen reality . here , thankfully , they are .',\n",
       " 'post 9/11 the philosophical message of \" personal freedom first \" might not be as palatable as intended .',\n",
       " 'hu and liu offer natural , matter-of-fact performances that glint with sorrow , longing and love .',\n",
       " 'this bold and lyrical first feature from raja amari expands the pat notion that middle-aged women just wanna have fun into a rousing treatise of sensual empowerment .',\n",
       " \"easier to respect than enthuse over , andersson's rigorous personal vision is not only distanced but distancing .\",\n",
       " 'girls gone wild and gone civil again',\n",
       " '. . . tunney is allowed to build an uncommonly human character , an almost real-live girl complete with trouble and hope .',\n",
       " 'while this film is not in the least surprising , it is still ultimately very satisfying . think of it as a sort of comfort food for the mind .',\n",
       " 'clever , brutal and strangely soulful movie .',\n",
       " '. . . always remains movingly genuine .',\n",
       " 'an intelligent fiction about learning through cultural clash .',\n",
       " 'will grab your children by the imagination and amaze them and amuse them .',\n",
       " 'a remarkable 179-minute meditation on the nature of revolution .',\n",
       " 'those who would follow haneke on his creepy explorations . . . are rewarded by brutal , committed performances from huppert and magimel .',\n",
       " 'an involving true story of a chinese actor who takes up drugs and winds up in an institution--acted mostly by the actual people involved .',\n",
       " \"hands down the year's most thought-provoking film . but it pays a price for its intricate intellectual gamesmanship .\",\n",
       " \"it's a terrific american sports movie and dennis quaid is its athletic heart .\",\n",
       " \"this is such a high-energy movie where the drumming and the marching are so excellent , who cares if the story's a little weak .\",\n",
       " 'compelling revenge thriller , though somewhat weakened by a miscast leading lady .',\n",
       " \"it's amazingly perceptive in its subtle , supportive but unsentimental look at the marks family .\",\n",
       " 'a whole lot foul , freaky and funny .',\n",
       " 'family fare .',\n",
       " 'attal mixes comedy with a serious exploration of ego and jealousy within a seemingly serene marriage .',\n",
       " 'the diversity of the artists represented , both in terms of style and ethnicity , prevents the proceedings from feeling repetitious , as does the appropriately brief 40-minute running time .',\n",
       " 'the pianist is a fine valedictory work for polanski , made richer by his own experiences , making his other movies somehow richer in the bargain .',\n",
       " 'foster nails the role , giving a tight , focused performance illuminated by shards of feeling .',\n",
       " 'even if you can\\'t pronounce \" gyro \" correctly , you\\'ll appreciate much of vardalos\\' humor , which transcends ethnic boundaries .',\n",
       " \"is office work really as alienating as 'bartleby' so effectively makes it ?\",\n",
       " \"farrell . . . thankfully manages to outshine the role and successfully plays the foil to willis's world-weary colonel .\",\n",
       " \"audiences conditioned to getting weepy over saucer-eyed , downy-cheeked moppets and their empathetic caretakers will probably feel emotionally cheated by the film's tart , sugar-free wit .\",\n",
       " \"bennett's dramatization of her personal descent into post-breakup perdition has a morbid appeal that's tough to shake .\",\n",
       " 'an intriguing and entertaining introduction to johnson .',\n",
       " \"as expected , sayles' smart wordplay and clever plot contrivances are as sharp as ever , though they may be overshadowed by some strong performances .\",\n",
       " 'a model of what films like this should be like .',\n",
       " \"as weber and weissman demonstrate with such insight and celebratory verve , the cockettes weren't as much about gender , sexual preference or political agitprop as they were simply a triumph of the indomitable human will to rebel , connect and create .\",\n",
       " \"yeah , these flicks are just that damn good . isn't it great ?\",\n",
       " 'an unbelievably fun film just a leading man away from perfection .',\n",
       " \"over-the-top and a bit ostentatious , this is a movie that's got oodles of style and substance .\",\n",
       " '. . . a poignant and powerful narrative that reveals that reading writing and arithmetic are not the only subjects to learn in life .',\n",
       " 'nicely serves as an examination of a society in transition .',\n",
       " 'boisterous , heartfelt comedy .',\n",
       " \"a tender and touching drama , based on the true story of a troubled african-american's quest to come to terms with his origins , reveals the yearning we all have in our hearts for acceptance within the family circle .\",\n",
       " 'as a randy film about sexy people in gorgeous places being pushed and pulled ( literally and figuratively ) by desire . . . [sex and lucía] makes for an arousing good time .',\n",
       " 'absorbing character study by andré turpin .',\n",
       " \"celebrated at sundance , this slight comedy of manners has winning performances and a glossy , glib charm that's hard to beat .\",\n",
       " \"renner's performance as dahmer is unforgettable , deeply absorbing .\",\n",
       " \"if no one singles out any of these performances as award-worthy , it's only because we would expect nothing less from this bunch .\",\n",
       " \"if you love reading and/or poetry , then by all means check it out . you'll probably love it .\",\n",
       " 'though of particular interest to students and enthusiast of international dance and world music , the film is designed to make viewers of all ages , cultural backgrounds and rhythmic ability want to get up and dance .',\n",
       " 'energetic and boldly provocative .',\n",
       " 'star wars is back in a major way .',\n",
       " \"it's a movie -- and an album -- you won't want to miss .\",\n",
       " \"it's rare to find a film that dazzles the eye , challenges the brain , and satisfies our lust for fast-paced action , but minority report delivers all that and a whole lot more .\",\n",
       " \"while not all transitions to adulthood are so fraught , there's much truth and no small amount of poetry in girls can't swim .\",\n",
       " \"if there's nothing fresh about wannabes , which was written by mr . demeo , who produced and directed the film with charles a . addessi , much of the time the movie feels authentic .\",\n",
       " \"jacquot's tosca is a treat .\",\n",
       " 'by the end of no such thing the audience , like beatrice , has a watchful affection for the monster .',\n",
       " \"if you liked such movies as notting hill , four weddings and a funeral , bridget jones' diary or high fidelity , then you won't want to miss about a boy .\",\n",
       " '. . . the gentle melding of drama and comedy makes \" what time is it there ? \" something the true film buff will enjoy .',\n",
       " \"romanek keeps the film constantly taut . . . reflecting the character's instability with a metaphorical visual style and an unnerving , heartbeat-like score .\",\n",
       " 'i whole-heartedly recommend that everyone see this movie-- for its historical significance alone .',\n",
       " 'hey , who else needs a shower ?',\n",
       " 'longley has constructed a remarkably coherent , horrifically vivid snapshot of those turbulent days .',\n",
       " \"although it bangs a very cliched drum at times , this crowd-pleaser's fresh dialogue , energetic music , and good-natured spunk are often infectious .\",\n",
       " \"often gruelling and heartbreaking to witness , but seldahl and wollter's sterling performances raise this far above the level of the usual maudlin disease movie .\",\n",
       " 'go see it and enjoy .',\n",
       " 'the stunning , dreamlike visuals will impress even those viewers who have little patience for euro-film pretension .',\n",
       " \"george clooney proves he's quite a talented director and sam rockwell shows us he's a world-class actor with confessions of a dangerous mind .\",\n",
       " \"there's a vastness implied in metropolis that is just breathtaking .\",\n",
       " 'murderous maids may well be the most comprehensive of these films and also strike closest to the truth .',\n",
       " \"the people in dogtown and z-boys are so funny , aggressive and alive , you have to watch them because you can't wait to see what they do next .\",\n",
       " \"as green-guts monster movies go , it's a beaut .\",\n",
       " 'as bundy , michael reilly burke ( octopus 2 : river of fear ) has just the right amount of charisma and menace .',\n",
       " 'a deceivingly simple film , one that grows in power in retrospect .',\n",
       " \"ana is a vivid , vibrant individual and the movie's focus upon her makes it successful and accessible .\",\n",
       " 'a slick , skillful little horror film .',\n",
       " 'a very witty take on change , risk and romance , and the film uses humour to make its points about acceptance and growth .',\n",
       " '[anderson] uses a hit-or-miss aesthetic that hits often enough to keep the film entertaining even if none of it makes a lick of sense .',\n",
       " \"bubba ho-tep is a wonderful film with a bravura lead performance by bruce campbell that doesn't deserve to leave the building until everyone is aware of it .\",\n",
       " 'despite the long running time , the pace never feels slack -- there\\'s no scene that screams \" bathroom break ! \"',\n",
       " 'bullock does a good job here of working against her natural likability .',\n",
       " 'a film of precious increments artfully camouflaged as everyday activities .',\n",
       " 'kinnear gives a tremendous performance .',\n",
       " \"the best movie of its kind since 'brazil . ' lucas , take notes . this is how you use special effects .\",\n",
       " '\" frailty \" has been written so well , that even a simple \" goddammit ! \" near the end takes on a whole other meaning .',\n",
       " \"one hour photo is an intriguing snapshot of one man and his delusions ; it's just too bad it doesn't have more flashes of insight .\",\n",
       " 'kaufman creates an eerie sense of not only being there at the time of these events but the very night matthew was killed .',\n",
       " 'chalk it up to my adoration for both de niro and murphy , but i had a pretty good time with this movie - despite its myriad flaws .',\n",
       " 'its scenes and sensibility are all more than familiar , but it exudes a kind of nostalgic spy-movie charm and , at the same time , is so fresh and free of the usual thriller nonsense that it all seems to be happening for the first time .',\n",
       " \"it represents better-than-average movie-making that doesn't demand a dumb , distracted audience .\",\n",
       " 'a charming yet poignant tale of the irrevocable ties that bind .',\n",
       " 'an enchanting spectacular for potter fans anxious to ride the hogwarts express toward a new year of magic and mischief .',\n",
       " 'the talents of the actors helps \" moonlight mile \" rise above its heart-on-its-sleeve writing .',\n",
       " \"it's a humble effort , but spiced with wry humor and genuine pathos , especially between morgan and redgrave .\",\n",
       " 'this examination of aquatic life off the shores of the baja california peninsula of mexico offers an engrossing way to demonstrate the virtues of the imax format .',\n",
       " 'dark and disturbing , but also surprisingly funny .',\n",
       " 'the movie has an avalanche of eye-popping visual effects .',\n",
       " \"starts off with a bang , but then fizzles like a wet stick of dynamite at the very end . it's still worth a look .\",\n",
       " \"most impressive , though , is the film's open-ended finale that refuses to entirely close its characters' emotional wounds .\",\n",
       " 'a hip ride into hyper-time , clockstoppers is a lively and enjoyable adventure for all ages at any time .',\n",
       " \"grenier is terrific , bringing an unforced , rapid-fire delivery to toback's heidegger- and nietzsche-referencing dialogue .\",\n",
       " '. . . a polished and relatively sincere piece of escapism .',\n",
       " \"the story wraps back around on itself in the kind of elegant symmetry that's rare in film today , but be warned : it's a slow slog to get there .\",\n",
       " 'the whole cast looks to be having so much fun with the slapstick antics and silly street patois , tossing around obscure expressions like bellini and mullinski , that the compact 86 minutes breezes by .',\n",
       " '. . . has freaky scenes where the crew wonder if they\\'re ghosts imagining themselves as alive . it\\'s a sly wink to the others without becoming a postmodern joke , made creepy by its \" men in a sardine can \" warped logic .',\n",
       " \"long after you leave justine , you'll be wondering what will happen to her and wishing her the best -- whatever that might mean .\",\n",
       " \"still pretentious and filled with subtext , but entertaining enough at 'face value' to recommend to anyone looking for something different .\",\n",
       " 'call me a wimp , but i cried , not once , but three times in this animated sweet film .',\n",
       " 'notorious c . h . o . has oodles of vulgar highlights .',\n",
       " 'an inspiring and heart-affecting film about the desperate attempts of vietnamese refugees living in u . s . relocation camps to keep their hopes alive in 1975 .',\n",
       " 'the level of maturity displayed by this 33-year-old first-time feature director is astonishing , considering her inexperience and her subject matter .',\n",
       " 'a splendid entertainment , young in spirit but accomplished in all aspects with the fullness of spirit and sense of ease that comes only with experience .',\n",
       " \"disney's live-action division has a history of releasing cinematic flotsam , but this is one occasion when they have unearthed a rare gem .\",\n",
       " 'if the message seems more facile than the earlier films , the images have such a terrible beauty you may not care .',\n",
       " 'whether kiss is a future cult classic or destined to be completely forgotten is open to question , but the risk-takers in the crowd should check it out and form their own opinion .',\n",
       " \"there are moments in this account of the life of artist frida kahlo that are among cinema's finest this year . unfortunately , they're sandwiched in between the most impossibly dry account of kahlo's life imaginable .\",\n",
       " 'there are moments it can be heart-rending in an honest and unaffected ( and gentle ) way .',\n",
       " 'stay clear of reminding yourself that it\\'s a \" true story \" and you\\'re likely to have one helluva time at the movies .',\n",
       " 'there are just enough twists in the tale to make it far more satisfying than almost any horror film in recent memory .',\n",
       " \"the sundance film festival has become so buzz-obsessed that fans and producers descend upon utah each january to ferret out the next great thing . 'tadpole' was one of the films so declared this year , but it's really more of the next pretty good thing .\",\n",
       " \"working from elliott's memoir , rohmer fashions the sort of delicate , articulate character- and- relationship study he's favored for decades .\",\n",
       " 'the story feels more like a serious read , filled with heavy doses of always enticing sayles dialogue .',\n",
       " 'when it really counts . . . bloody sunday connects on a visceral level that transcends language .',\n",
       " 'the crime matters less than the characters , although the filmmakers supply enough complications , close calls and double-crosses to satisfy us .',\n",
       " '[an] hilarious romantic comedy .',\n",
       " 'the actors are fantastic . they are what makes it worth the trip to the theatre .',\n",
       " \"ranging from funny to shattering and featuring some of the year's best acting , personal velocity gathers plenty of dramatic momentum .\",\n",
       " 'i complain all the time about seeing the same ideas repeated in films over and over again , but the bourne identity proves that a fresh take is always possible .',\n",
       " \"recalls quiet freak-outs like l'avventura and repulsion .\",\n",
       " \"only an epic documentary could get it all down , and spike lee's jim brown : all american at long last gives its subject a movie worthy of his talents .\",\n",
       " '. . . as the story congeals you feel the pieces of the star wars saga falling into place in a way that makes your spine tingle with revelation and excitement .',\n",
       " \"a great comedy filmmaker knows great comedy needn't always make us laugh . tim story's not there yet - but 'barbershop' shows he's on his way .\",\n",
       " 'the movie is one of the best examples of artful large format filmmaking you are likely to see anytime soon .',\n",
       " 'lends itself to the narcotizing bland ( sinister , though not nearly so sinister as the biennial disney girl movie ) machinations of the biennial disney boy movie .',\n",
       " 'well-written , nicely acted and beautifully shot and scored , the film works on several levels , openly questioning social mores while ensnaring the audience with its emotional pull .',\n",
       " 'jason x has cheesy effects and a hoary plot , but its macabre , self-deprecating sense of humor makes up for a lot .',\n",
       " \"[taymor] utilizes the idea of making kahlo's art a living , breathing part of the movie , often catapulting the artist into her own work . this isn't a new idea . it's been done before but never so vividly or with so much passion .\",\n",
       " 'an impressive if flawed effort that indicates real talent .',\n",
       " 'two generations within one family test boundaries in this intelligent and restrained coming-of-age drama .',\n",
       " \"it sounds sick and twisted , but the miracle of shainberg's film is that it truly is romance\",\n",
       " 'disturbing and brilliant documentary .',\n",
       " '. . . mesmerizing , an eye-opening tour of modern beijing culture in a journey of rebellion , retreat into oblivion and return .',\n",
       " \"one of the best examples of how to treat a subject , you're not fully aware is being examined , much like a photo of yourself you didn't know was being taken .\",\n",
       " \"not too far below the gloss you can still feel director denis villeneuve's beating heart and the fondness he has for his characters .\",\n",
       " 'as if to prove a female director can make a movie with no soft edges , kathryn bigelow offers no sugar-coating or interludes of lightness . her film is unrelentingly claustrophobic and unpleasant .',\n",
       " '[villeneuve] seems to realize intuitively that even morality is reduced to an option by the ultimate mysteries of life and death .',\n",
       " 'the result is mesmerizing -- filled with menace and squalor .',\n",
       " 'fisher has bared his soul and confronted his own shortcomings here in a way . . . that feels very human and very true to life .',\n",
       " \"it's fun , but the code-talk will fly right over everyone's head\",\n",
       " \"bourne , jason bourne . he can scale a building like a super hero , he can out-stealth any agent , he'll get the girl . he's super spy !\",\n",
       " 'what makes the movie a comedy is the way it avoids the more serious emotions involved .',\n",
       " 'an exhilarating experience .',\n",
       " 'this cuddly sequel to the 1999 hit is a little more visually polished , a little funnier , and a little more madcap .',\n",
       " \"the pleasures of super troopers may be fleeting , but they'll register strongly with anybody who still retains a soft spot for precollegiate humor .\",\n",
       " 'the film is exhilarating to watch because sandler , liberated from the constraints of formula , reveals unexpected depths as an actor .',\n",
       " \"a distant , even sterile , yet compulsively watchable look at the sordid life of hogan's heroes star bob crane .\",\n",
       " \"the film delivers not just the full assault of reno's immense wit and insight , but a time travel back to what it felt like during those unforgettably uncertain days .\",\n",
       " 'what might have been a predictably heartwarming tale is suffused with complexity .',\n",
       " \"sound the trumpets : for the first time since desperately seeking susan , madonna doesn't suck as an actress .\",\n",
       " \"although very much like the first movie based on j . k . rowling's phenomenal fantasy best sellers , this second go-round possesses a quite pleasing , headlong thrust and a likably delinquent attitude .\",\n",
       " '[ \" take care of my cat \" ] is an honestly nice little film that takes us on an examination of young adult life in urban south korea through the hearts and minds of the five principals .',\n",
       " 'as the story moves inexorably through its seven day timeframe , the picture becomes increasingly mesmerizing .',\n",
       " 'maguire is a surprisingly effective peter/spider-man .',\n",
       " \"not a cozy or ingratiating work , but it's challenging , sometimes clever , and always interesting , and those are reasons enough to see it .\",\n",
       " 'the film runs on equal parts of innocence and wisdom -- wisdom that comes with experience . it has fun being grown up .',\n",
       " 'like old myths and wonder tales spun afresh .',\n",
       " 'rarely do films come along that are as intelligent , exuberant , and moving as monsoon wedding .',\n",
       " 'one scarcely needs the subtitles to enjoy this colorful action farce .',\n",
       " 'quite funny for the type of movie it is . . .',\n",
       " \"it's often infuriatingly glib and posturing , and yet it has been made with great evident care and manages to deliver up the man in a way to arouse further curiosity in even the most unknowing viewer .\",\n",
       " \"one of [herzog's] least inspired works .\",\n",
       " 'this boisterous comedy serves up a cruel reminder of the fate of hundreds of thousands of chinese , one which can only qualify as a terrible tragedy .',\n",
       " \"elling really is about a couple of crazy guys , and it's therapeutic to laugh along with them .\",\n",
       " 'never [sinks] into exploitation .',\n",
       " 'an irresistible combination of a rousing good story set on a truly grand scale .',\n",
       " \"there's no denying the physically spectacular qualities of the film . . . or the emotional integrity of the performances .\",\n",
       " 'few films this year have been as resolute in their emotional nakedness .',\n",
       " 'exquisitely acted and masterfully if preciously interwoven\\x85 [the film] addresses in a fascinating , intelligent manner the intermingling of race , politics and local commerce .',\n",
       " \"stevenson's performance is at once clueless and fiercely committed , a volatile combination .\",\n",
       " 'this is a very fine movie -- go see it .',\n",
       " \"as shaky as the plot is , kaufman's script is still memorable for some great one-liners .\",\n",
       " 'despite its flaws , secretary stays in your head and makes you question your own firmly held positions .',\n",
       " 'one of those rare , exhilarating cinematic delights that gets even better in hindsight , as you mull over its every nuance in your mind .',\n",
       " 'not everything works , but the average is higher than in mary and most other recent comedies .',\n",
       " 'a byzantine melodrama that stimulates the higher brain functions as well as the libido .',\n",
       " \"a sensitive and expertly acted crowd-pleaser that isn't above a little broad comedy and a few unabashedly sentimental tears .\",\n",
       " \"the film's sharp , often mischievous sense of humor will catch some off guard . . .\",\n",
       " 'does what a fine documentary does best : it extends a warm invitation into an unfamiliar world , then illuminates it fully and allows the larger implications of the journey to sink in unobtrusively .',\n",
       " 'almost every scene in this film is a gem that could stand alone , a perfectly realized observation of mood , behavior and intent .',\n",
       " 'a psychologically rich and suspenseful moral thriller with a stellar performance by al pacino .',\n",
       " \"you won't believe much of it , but you will laugh at the audacity , at the who's who casting and the sheer insanity of it all .\",\n",
       " \"this version's no classic like its predecessor , but its pleasures are still plentiful .\",\n",
       " 'the bourne identity is what summer screen escapism used to be in the decades when it was geared more to grownups .',\n",
       " 'provide[s] nail-biting suspense and credible characters without relying on technology-of-the-moment technique or pretentious dialogue .',\n",
       " 'if it tried to do anything more , it would fail and perhaps explode , but at this level of manic whimsy , it is just about right .',\n",
       " 'too sincere to exploit its subjects and too honest to manipulate its audience .',\n",
       " \"the saturation bombing of reggio's images and glass' evocative music . . . ultimately leaves viewers with the task of divining meaning .\",\n",
       " 'for all its serious sense of purpose . . . [it] finds a way to lay bare the tragedies of its setting with a good deal of warmth and humor .',\n",
       " 'a depressing confirmation of everything those of us who don\\'t object to the description \" unelected \" have suspected all along : george w . bush is an incurious , uncharismatic , overgrown frat boy with a mean streak a mile wide .',\n",
       " \"this road movie gives you emotional whiplash , and you'll be glad you went along for the ride .\",\n",
       " \"sure , it's more of the same , but as the film proves , that's not always a bad thing .\",\n",
       " 'a lighthearted , feel-good film that embraces the time-honored truth that the most powerful thing in life is love .',\n",
       " 'a bowel-curdling , heart-stopping recipe for terror .',\n",
       " \"daughter from danang is a film that should be seen by all , especially those who aren't aware of , or have forgotten about the unmentioned victims of war .\",\n",
       " \"zhang yimou delivers warm , genuine characters who lie not through dishonesty , but because they genuinely believe it's the only way to bring happiness to their loved ones .\",\n",
       " '. . . breathes surprising new life into the familiar by amalgamating genres and adding true human complexity to its not-so-stock characters .',\n",
       " \"' . . . both hokey and super-cool , and definitely not in a hurry , so sit back , relax and have a few laughs while the little ones get a fuzzy treat . '\",\n",
       " 'a pleasant romantic comedy .',\n",
       " \"it's a count for our times .\",\n",
       " 'greengrass has delivered an undoubted stylistic tour-de-force , and has managed elements such as sound and cinematography with skill',\n",
       " \"smith's point is simple and obvious -- people's homes are extensions of themselves , and particularly eccentric people have particularly eccentric living spaces -- but his subjects are charmers .\",\n",
       " 'a romantic comedy , yes , but one with characters who think and talk about their goals , and are working on hard decisions .',\n",
       " 'vividly conveys both the pitfalls and the pleasures of over-the-top love .',\n",
       " '. . . a weak , manipulative , pencil-thin story that is miraculously able to entertain anyway .',\n",
       " 'a pro-fat farce that overcomes much of its excessive moral baggage thanks to two appealing lead performances .',\n",
       " 'for the first two-thirds of this sparklingly inventive and artful , always fast and furious tale , kids will go happily along for the ride .',\n",
       " \"majidi's poetic love story is a ravishing consciousness-raiser , if a bit draggy at times .\",\n",
       " 'the smartest bonehead comedy of the summer .',\n",
       " 'effectively feeds our senses with the chilling sights and sounds from within the camp to create a completely numbing experience .',\n",
       " 'i love the way that it took chances and really asks you to take these great leaps of faith and pays off .',\n",
       " 'in his debut as a film director , denzel washington delivers a lean and engaging work .',\n",
       " 'only two words will tell you what you know when deciding to see it : anthony . hopkins .',\n",
       " \"the movie's quiet affirmation of neighborhood values gives it an honest , lived-in glow .\",\n",
       " 'a teasing drama whose relentless good-deed/bad-deed reversals are just interesting enough to make a sinner like me pray for an even more interesting , less symmetrical , less obviously cross-shaped creation .',\n",
       " 'hayek is stunning as frida and . . . a star-making project .',\n",
       " \"it's both a necessary political work and a fascinating documentary . . .\",\n",
       " 'hilarious , acidic brit comedy .',\n",
       " \"as a revenge thriller , the movie is serviceable , but it doesn't really deliver the delicious guilty pleasure of the better film versions .\",\n",
       " 'an ironic speculation on democracy in a culture unaccustomed to it .',\n",
       " \"it's not life-affirming \\x97 its vulgar and mean , but i liked it .\",\n",
       " 'several degrees shy of the gross-out contests one expects from current teen fare .',\n",
       " 'the inherent strength of the material as well as the integrity of the filmmakers gives this coming-of-age story restraint as well as warmth .',\n",
       " \"led by griffin's smartly nuanced performance and enthusiasm , the cast has a lot of fun with the material .\",\n",
       " 'tuck everlasting achieves a delicate balance of romantic innocence and philosophical depth .',\n",
       " 'a gentle blend of present day testimonials , surviving footage of burstein and his family performing , historical archives , and telling stills .',\n",
       " 'a generation x artifact , capturing a brief era of insanity in the sports arena that surely cannot last .',\n",
       " \"possession is elizabeth barrett browning meets nancy drew , and it's directed by . . . neil labute . hmm .\",\n",
       " 'an uneven but intriguing drama that is part homage and part remake of the italian masterpiece .',\n",
       " 'windtalkers celebrates the human spirit and packs an emotional wallop .',\n",
       " \"having never been a huge fan of dickens' 800-page novel , it surprised me how much pleasure i had watching mcgrath's version .\",\n",
       " 'the best thing the film does is to show us not only what that mind looks like , but how the creative process itself operates .',\n",
       " 'for all its failed connections , divine secrets of the ya-ya sisterhood is nurturing , in a gauzy , dithering way .',\n",
       " 'this is pretty dicey material . but some unexpected zigs and zags help .',\n",
       " 'compellingly watchable .',\n",
       " 'the filmmakers skillfully evoke the sense of menace that nature holds for many urban dwellers .',\n",
       " 'the laser-projected paintings provide a spell-casting beauty , while russell and dreyfus are a romantic pairing of hearts , preciously exposed as history corners them .',\n",
       " \"you don't have to be an especially tough grader to give a charitable b-minus to the emperor's club .\",\n",
       " 'this romantic thriller is steeped in the atmosphere of wartime england , and ably captures the speech patterns , moral codes and ideals of the 1940s .',\n",
       " \"divine secrets of the ya-ya sisterhood may not be exactly divine , but it's definitely -- defiantly -- ya ya , what with all of those terrific songs and spirited performances .\",\n",
       " \"viewed on its own terms , treasure planet is better-than-average family entertainment , but true fans of the stevenson's novel will likely prefer disney's more faithful 1950 live-action swashbuckling classic .\",\n",
       " 'a journey through memory , a celebration of living , and a sobering rumination on fatality , classism , and ignorance .',\n",
       " 'resourceful and ingenious entertainment .',\n",
       " '\" antwone fisher \" is an earnest , by-the-numbers effort by washington . it won\\'t rock any boats but is solid meat-and-potatoes filmmaking .',\n",
       " 'a historical epic with the courage of its convictions about both scope and detail .',\n",
       " \"we need [moore's] noisy , cocky energy , his passion and class consciousness ; we need his shticks , we need his stones .\",\n",
       " 'although the editing might have been tighter , hush ! sympathetically captures the often futile lifestyle of young people in modern japan .',\n",
       " '[gai] comes closer to any actress i can remember to personifying independence in its purest and , yes , most intimidating form .',\n",
       " 'these are lives worth watching , paths worth following .',\n",
       " \"it's rather like a lifetime special -- pleasant , sweet and forgettable .\",\n",
       " \"a moody horror/thriller elevated by deft staging and the director's well-known narrative gamesmanship .\",\n",
       " \"as a singular character study , it's perfect . it's also the year's sweetest movie .\",\n",
       " 'a graceful , contemplative film that gradually and artfully draws us into a world where the personal and the political get fatally intertwined .',\n",
       " 'while not as aggressively impressive as its american counterpart , \" in the bedroom , \" moretti\\'s film makes its own , quieter observations',\n",
       " 'the experience of watching blobby old-school cgi animation in this superlarge format is just surreal enough to be diverting .',\n",
       " 'time changer may not be the most memorable cinema session but its profound self-evaluation message about our fragile existence and the absence of spiritual guidance should at least invade an abundance of mindsets',\n",
       " '\" the emperor\\'s new clothes \" begins with a simple plan . . . . well , at least that\\'s the plan .',\n",
       " \"haynes has so fanatically fetishized every bizarre old-movie idiosyncrasy with such monastic devotion you're not sure if you should applaud or look into having him committed .\",\n",
       " \"[director peter] jackson and his crew have so steeped themselves in the majesty of tolkien's writing that every frame produces new joys , whether you're a fan of the books or not .\",\n",
       " \"while the glass slipper doesn't quite fit , pumpkin is definitely a unique modern fairytale .\",\n",
       " 'the drama is played out with such aching beauty and truth that it brings tears to your eyes .',\n",
       " 'an exciting and involving rock music doc , a smart and satisfying look inside that tumultuous world .',\n",
       " 'an offbeat , sometimes gross and surprisingly appealing animated film about the true meaning of the holidays .',\n",
       " 'this version incarnates the prophetic book in a way even its exacting author might admire .',\n",
       " 'sometimes , nothing satisfies like old-fashioned swashbuckling . and in this regard , on guard delivers .',\n",
       " \". . . ambition is in short supply in the cinema , and egoyan tackles his themes and explores his characters' crises with seriousness and compassion .\",\n",
       " 'an impossible romance , but we root for the patronized iranian lad .',\n",
       " 'like dickens with his passages , mcgrath crafts quite moving scenes throughout his resolutely dramatic variation on the novel .',\n",
       " \"there's a disreputable air about the whole thing , and that's what makes it irresistible .\",\n",
       " \"an exceedingly clever piece of cinema . another great \\x91what you don't see' is much more terrifying than what you do see thriller , coupled with some arresting effects , incandescent tones and stupendous performances\",\n",
       " 'a carefully structured scream of consciousness that is tortured and unsettling--but unquestionably alive .',\n",
       " \"a quietly reflective and melancholy new zealand film about an eventful summer in a 13-year-old girl's life .\",\n",
       " 'cute , funny , heartwarming digitally animated feature film with plenty of slapstick humor for the kids , lots of in-jokes for the adults and heart enough for everyone .',\n",
       " 'very solid , very watchable first feature for director peter sheridan',\n",
       " 'a budget affair that exposes the generally sad existence of the bedouins while providing a precious twinkle of insight into their lives .',\n",
       " 'it suggests the wide-ranging effects of media manipulation , from the kind of reporting that is done by the supposedly liberal media . . . to the intimate and ultimately tragic heartache of maverick individuals like hatfield and hicks .',\n",
       " 'workmanlike , maybe , but still a film with all the elements that made the other three great , scary times at the movies .',\n",
       " 'a pleasant enough comedy that should have found a summer place .',\n",
       " 'branagh , in his most forceful non-shakespeare screen performance , grounds even the softest moments in the angry revolt of his wit .',\n",
       " 'though the violence is far less sadistic than usual , the film is typical miike : fast , furious and full of off-the-cuff imaginative flourishes .',\n",
       " 'compelling as it is exotic , fast runner has a plot that rivals shakespeare for intrigue , treachery and murder .',\n",
       " 'what it lacks in originality it makes up for in intelligence and b-grade stylishness .',\n",
       " 'the warm presence of zhao benshan makes the preposterous lying hero into something more than he reasonably should be .',\n",
       " \"this is as powerful a set of evidence as you'll ever find of why art matters , and how it can resonate far beyond museum walls and through to the most painfully marginal lives .\",\n",
       " 'director rob marshall went out gunning to make a great one .',\n",
       " 'skip work to see it at the first opportunity .',\n",
       " \"bow's best moments are when he's getting busy on the basketball court because that's when he really scores .\",\n",
       " 'offers enough playful fun to entertain the preschool set while embracing a wholesome attitude .',\n",
       " \"in the end , punch-drunk love is one of those films that i wanted to like much more than i actually did . sometimes , that's enough .\",\n",
       " 'an intimate , good-humored ethnic comedy like numerous others but cuts deeper than expected .',\n",
       " 'ice cube holds the film together with an engaging and warm performance . . .',\n",
       " 'both deeply weird and charmingly dear .',\n",
       " 'as blunt as it is in depicting child abuse , el bola is a movie steeped in an ambiguity that lends its conflicts a symbolic resonance .',\n",
       " 'despite a story predictable enough to make the sound of music play like a nail-biting thriller , its heart is so much in the right place it is difficult to get really peeved at it .',\n",
       " \"it's a masterpiece .\",\n",
       " 'an incredibly low-rent danish film , it brings a group of people together in a sweet and charming way , if a little convenient',\n",
       " \"it's the cinematic equivalent of a good page-turner , and even if it's nonsense , its claws dig surprisingly deep .\",\n",
       " \"director nalin pan doesn't do much to weigh any arguments one way or the other . he simply presents his point of view that ayurveda works . no question .\",\n",
       " 'what \" empire \" lacks in depth it makes up for with its heart .',\n",
       " 'claude miller airs out a tight plot with an easy pace and a focus on character drama over crime-film complications .',\n",
       " \"what full frontal lacks in thematic coherence it largely makes up for as loosey-goosey , experimental entertainment . still , i'm not quite sure what the point is\",\n",
       " 'rich in detail , gorgeously shot and beautifully acted , les destinees is , in its quiet , epic way , daring , inventive and refreshingly unusual .',\n",
       " \"( a ) hollywood sheen bedevils the film from the very beginning . . . ( but ) lohman's moist , deeply emotional eyes shine through this bogus veneer . . .\",\n",
       " \"do we really need a 77-minute film to tell us exactly why a romantic relationship between a 15-year-old boy and a 40-year-old woman doesn't work ?\",\n",
       " 'ford deserves to be remembered at oscar time for crafting this wonderful portrait of a conflicted soldier .',\n",
       " \"the film's 45-minute running time stops shy of overkill , though viewers may be more exhausted than the athletes onscreen .\",\n",
       " \"don't expect any surprises in this checklist of teamwork cliches . . .\",\n",
       " 'as adapted by kevin molony from simon leys\\' novel \" the death of napoleon \" and directed by alan taylor , napoleon\\'s journey is interesting but his parisian rebirth is stillborn',\n",
       " \"the movie addresses a hungry need for pg-rated , nonthreatening family movies , but it doesn't go too much further .\",\n",
       " 'this warm and gentle romantic comedy has enough interesting characters to fill several movies , and its ample charms should win over the most hard-hearted cynics .',\n",
       " 'a yarn that respects the marvel version without becoming ensnared by it .',\n",
       " \"this is a happy throwback to the time when cartoons were cinema's most idiosyncratic form instead of one of its most predictable .\",\n",
       " 'complex , affecting and uniquely almodóvar , the film evokes strong emotions and pushes viewers to question their deepest notions of moral right and wrong .',\n",
       " \"good ol' urban legend stuff .\",\n",
       " \"not so much a movie as a picture book for the big screen . this isn't my favorite in the series , still i enjoyed it enough to recommend .\",\n",
       " \"it's one of the most honest films ever made about hollywood .\",\n",
       " 'it is a film that will have people walking out halfway through , will encourage others to stand up and applaud , and will , undoubtedly , leave both camps engaged in a ferocious debate for years to come .',\n",
       " 'on its own cinematic terms , it successfully showcases the passions of both the director and novelist byatt .',\n",
       " 'light , silly , photographed with colour and depth , and rather a good time .',\n",
       " \"pray's film works well and will appeal even to those who aren't too familiar with turntablism .\",\n",
       " 'troubling and powerful .',\n",
       " 'good movie . good actress . but if you expect light romantic comedy , good gosh , will you be shocked .',\n",
       " 'it has the courage to wonder about big questions with sincerity and devotion . it risks seeming slow and pretentious , because it thinks the gamble is worth the promise .',\n",
       " \"with youthful high spirits , tautou remains captivating throughout michele's religious and romantic quests , and she is backed by a likable cast .\",\n",
       " \"it's an example of sophisticated , challenging filmmaking that stands , despite its noticeable lack of emotional heft , in welcome contrast to the indulgent dead-end experimentation of the director's previous full frontal .\",\n",
       " 'a very funny look at how another culture handles the process of courting and marriage .',\n",
       " 'but tongue-in-cheek preposterousness has always been part of for the most part wilde\\'s droll whimsy helps \" being earnest \" overcome its weaknesses and parker\\'s creative interference . . .',\n",
       " \"much of the movie's charm lies in the utter cuteness of stuart and margolo . their computer-animated faces are very expressive .\",\n",
       " \"the path ice age follows most closely , though , is the one established by warner bros . giant chuck jones , who died a matter of weeks before the movie's release .\",\n",
       " \"anchored by a terrific performance by abbass , satin rouge shows that the idea of women's self-actualization knows few continental divides .\",\n",
       " 'awkward but sincere and , ultimately , it wins you over .',\n",
       " \"smith profiles five extraordinary american homes , and because the owners seem fully aware of the uses and abuses of fame , it's a pleasure to enjoy their eccentricities .\",\n",
       " 'though the plot is predictable , the movie never feels formulaic , because the attention is on the nuances of the emotional development of the delicate characters .',\n",
       " \"sam jones became a very lucky filmmaker the day wilco got dropped from their record label , proving that one man's ruin may be another's fortune .\",\n",
       " \"goyer's screenplay and direction are thankfully understated , and he has drawn excellent performances from his cast .\",\n",
       " 'binoche and magimel are perfect in these roles .',\n",
       " 'when your leading ladies are a couple of screen-eating dominatrixes like goldie hawn and susan sarandon at their raunchy best , even hokum goes down easily .',\n",
       " \"while undercover brother is definitely one for the masses , it's also full of sharp , smart satire .\",\n",
       " 'gets under the skin of a man who has just lost his wife .',\n",
       " 'it may not be \" last tango in paris \" but . . .',\n",
       " 'no wonder they\\'re talking about \" talk to her . \" it\\'s astonishing .',\n",
       " 'for its seriousness , high literary aspirations and stunning acting , the film can only be applauded .',\n",
       " 'look , this is a terrific flick replete with dazzling camera-work , dancing and music .',\n",
       " 'it is inspirational in characterizing how people from such diverse cultures share the same human and spiritual needs .',\n",
       " \"it's fairly self-aware in its dumbness .\",\n",
       " 'a triumph , relentless and beautiful in its downbeat darkness .',\n",
       " 'tailored to entertain !',\n",
       " 'a compelling , moving film that respects its audience and its source material .',\n",
       " 'has a plot full of twists upon knots . . . and a nonstop parade of mock-tarantino scuzbag types that starts out clever but veers into overkill .',\n",
       " 'a work of astonishing delicacy and force .',\n",
       " 'the film benefits greatly from a less manic tone than its predecessor , as cho appears to have settled comfortably into her skin .',\n",
       " \"for the first time in several years , mr . allen has surpassed himself with the magic he's spun with the hollywood empress of ms . leoni's ellie .\",\n",
       " \"isn't quite the equal of woo's best earlier work , but it's easily his finest american film . . . comes close to recapturing the brilliance of his hong kong films .\",\n",
       " 'the film hinges on its performances , and both leads are up to the task .',\n",
       " \"an intelligent , earnest , intimate film that drops the ball only when it pauses for blunt exposition to make sure you're getting its metaphysical point .\",\n",
       " 'a modest pleasure that accomplishes its goals with ease and confidence .',\n",
       " 'a breezy , diverting , conventional , well-acted tale of two men locked in an ongoing game of cat-and-cat .',\n",
       " 'what jackson has accomplished here is amazing on a technical level .',\n",
       " 'as teen movies go , \" orange county \" is a refreshing change',\n",
       " 'makes s&m seem very romantic , and maggie gyllenhaal is a delight .',\n",
       " 'a deliciously mordant , bitter black comedy .',\n",
       " \"although life or something like it is very much in the mold of feel-good movies , the cast and director stephen herek's polished direction pour delightfully piquant wine from aged bottles .\",\n",
       " 'it is risky , intelligent , romantic and rapturous from start to finish .',\n",
       " \"the movie sticks much closer to hornby's drop-dead confessional tone than the film version of high fidelity did .\",\n",
       " 'a pleasant ramble through the sort of idoosyncratic terrain that errol morris has often dealt with . . . it does possess a loose , lackadaisical charm .',\n",
       " \". . . spiced with humor ( 'i speak fluent flatula , ' advises denlopp after a rather , er , bubbly exchange with an alien deckhand ) and witty updatings ( silver's parrot has been replaced with morph , a cute alien creature who mimics everyone and everything around )\",\n",
       " \"this is a raw and disturbing tale that took five years to make , and the trio's absorbing narrative is a heart-wrenching showcase indeed .\",\n",
       " 'a beautiful and haunting examination of the stories we tell ourselves to make sense of the mundane horrors of the world .',\n",
       " \"aside from being the funniest movie of the year , simone , andrew niccol's brilliant anti-hollywood satire , has a wickedly eccentric enchantment to it .\",\n",
       " \"watstein handily directs and edits around his screenplay's sappier elements . . . and sustains off the hook's buildup with remarkable assuredness for a first-timer .\",\n",
       " 'just another fish-out-of-water story that barely stays afloat .',\n",
       " \"there's an energy to y tu mamá también . much of it comes from the brave , uninhibited performances by its lead actors .\",\n",
       " \"it's the kind of pigeonhole-resisting romp that hollywood too rarely provides .\",\n",
       " \"reinforces the often forgotten fact of the world's remarkably varying human population and mindset , and its capacity to heal using creative , natural and ancient antidotes .\",\n",
       " 'you can feel the heat that ignites this gripping tale , and the humor and humanity that root it in feeling .',\n",
       " \"it's hard not to be seduced by [witherspoon's] charisma , even in this run-of-the-mill vehicle , because this girl knows how to drive it to the max .\",\n",
       " \"a movie for 11-year-old boys with sports dreams of their own and the preteen girls who worship lil' bow wow .\",\n",
       " 'a refreshingly authentic coming-of-age tale .',\n",
       " \"if you're not into the pokemon franchise , this fourth animated movie in four years won't convert you -- or even keep your eyes open . but fans should have fun meeting a brand-new pokemon called celebi .\",\n",
       " \"from the big giant titles of the opening credits to elmer bernstein's perfectly melodic score , haynes gets just about everything right .\",\n",
       " 'whether seen on a 10-inch television screen or at your local multiplex , the edge-of-your-seat , educational antics of steve irwin are priceless entertainment .',\n",
       " 'has a shambling charm . . . a cheerfully inconsequential diversion .',\n",
       " \"ferrara directs the entire film with the kind of detachment that makes any given frame look like a family's custom-made christmas card .\",\n",
       " 'the movie has lots of dancing and fabulous music . there are slow and repetitive parts , but it has just enough spice to keep it interesting .',\n",
       " 'an incredibly clever and superbly paced caper filled with scams within scams within scams .',\n",
       " \"there's not much more to this adaptation of the nick hornby novel than charm -- effortless , pleasurable , featherweight charm .\",\n",
       " 'as a belated nod to some neglected all-stars , standing in the shadows of motown is cultural history of the best kind : informative , revealing and richly entertaining .',\n",
       " \"even if the ride's a little bumpy , with a final lap that's all too suspiciously smooth , you gotta give director roger michell , best known for the superfluous notting hill , credit for trying .\",\n",
       " 'not as distinctive or even as humorous as its needs to be to stand out , but it has clearly been made with affection and care .',\n",
       " \"this is carion's debut feature but his script and direction hums with a confidence that many spend entire careers trying to reach .\",\n",
       " 'an intelligent , moving and invigorating film .',\n",
       " 'ofrece una buena oportunidad de cultura ( aunque sea condensada ) que bien vale la pena aprovechar .',\n",
       " \". . . one of the most ingenious and entertaining thrillers i've seen in quite a long time .\",\n",
       " 'a clever blend of fact and fiction .',\n",
       " 'a vivid cinematic portrait .',\n",
       " 'hilarious , touching and wonderfully dyspeptic .',\n",
       " 'es divertida , visualmente espectacular y muy entretenida . simple y sencillamente te sorprenderá .',\n",
       " 'theirs is a simple and heart-warming story , full of mirth that should charm all but the most cynical .',\n",
       " 'the film is an enjoyable family film -- pretty much aimed at any youngster who loves horses .',\n",
       " 'a frisky and fresh romantic comedy exporing sexual politics and the challenges of friendships between women .',\n",
       " \"it's a good film -- not a classic , but odd , entertaining and authentic .\",\n",
       " 'flavorful and romantic , you could call this how martha got her groove back -- assuming , that is , she ever had one to begin with .',\n",
       " 'happily for mr . chin -- though unhappily for his subjects -- the invisible hand of the marketplace wrote a script that no human screenwriter could have hoped to match .',\n",
       " 'thurman and lewis are hilarious throughout .',\n",
       " 'the plot is so amusingly contrived and outlandish in its coincidences that no one could ever mistake it for anything resembling reality',\n",
       " \"hits one out of the park for the 'they don't make 'em like that anymore' department .\",\n",
       " 'it dares to be a little different , and that shading is what makes it worthwhile .',\n",
       " '[fessenden] is much more into ambiguity and creating mood than he is for on screen thrills',\n",
       " \"the comic performances are all spot on , especially lee ross's turn as ken .\",\n",
       " 'a compelling journey . . . and \" his best friend remembers \" is up there with the finest of specials .',\n",
       " 'at nearly three hours , the whole of safe conduct is less than the sum of its parts .',\n",
       " 'the hours makes you examine your own life in much the same way its characters do , and the experience is profound . the hours is what movies are supposed to be . . .',\n",
       " 'a bold and subversive film that cuts across the grain of what is popular and powerful in this high-tech age , speaking its truths with spellbinding imagery and the entrancing music of philip glass .',\n",
       " 'pretty darn good , despite its smarty-pants aura .',\n",
       " 'so young , so smart , such talent , such a wise * * * .',\n",
       " \"woo's fights have a distinct flair . his warriors collide in balletic explosion that implies an underlying order throughout the chaos .\",\n",
       " 'barney has created a tour de force that is weird , wacky and wonderful .',\n",
       " 'the ending does leave you unfulfilled , but these are performances to enjoy in a memorable ensemble piece .',\n",
       " \". . . an agreeable time-wasting device -- but george pal's low-tech 1960 version still rules the epochs .\",\n",
       " \"it's a brave attempt to tap into the heartbeat of the world , a salute to the universal language of rhythm and a zippy sampling of sounds .\",\n",
       " 'offers an unusual opportunity to observe the inequities in the death penalty , not just the inherent immorality but also the haphazard administration of it and public misperception of how the whole thing works .',\n",
       " \"i don't think i've been as entranced and appalled by an asian film since shinya tsukamoto's iron man .\",\n",
       " \"it is so refreshing to see robin williams turn 180 degrees from the string of insultingly innocuous and sappy fiascoes he's been making for the last several years .\",\n",
       " \"director benoit jacquot , making his first opera-to-film translation with tosca , conveys the heaving passion of puccini's famous love-jealousy- murder-suicide fandango with great cinematic innovation .\",\n",
       " \"lilia's transformation from strict mother to sensual siren is superficially preposterous , but abbas infuses the role with an unimpeachable core of emotional truth .\",\n",
       " \"frida's artistic brilliance is undeniable -- it's among the most breathtakingly designed films i've ever seen .\",\n",
       " 'the perfect film for those who like sick comedies that can be snide .',\n",
       " \"'charly' will divide its audience in two separate groups , those reaching for more tissues and those begging for mercy . . .\",\n",
       " 'nervy and sensitive , it taps into genuine artistic befuddlement , and at the same time presents a scathing indictment of what drives hollywood .',\n",
       " 'a marvellous journey from childhood idealism to adolescent self-absorption .',\n",
       " 'the film is just a big , gorgeous , mind-blowing , breath-taking mess .',\n",
       " 'sharp , lively , funny and ultimately sobering film .',\n",
       " \"though the film's scenario is certainly not earthshaking , this depiction of fluctuating female sexuality has two winning lead performances and charm to spare .\",\n",
       " \"a worthy tribute to a great humanitarian and her vibrant 'co-stars . '\",\n",
       " \"a recent favourite at sundance , this white-trash satire will inspire the affection of even those unlucky people who never owned a cassette of def leppard's pyromania .\",\n",
       " 'the recording session is the only part of the film that is enlightening -- and how appreciative you are of this depends on your level of fandom .',\n",
       " 'occasionally funny and consistently odd , and it works reasonably well as a star vehicle for zhao .',\n",
       " \"bright seems alternately amused and disgusted with this material , and he can't help throwing in a few of his own touches .\",\n",
       " \"the 3d images only enhance the film's otherworldly quality , giving it a strange combo of you-are-there closeness with the disorienting unreality of the seemingly broken-down fourth wall of the movie screen .\",\n",
       " \"andersson creates a world that's at once surreal and disturbingly familiar ; absurd , yet tremendously sad .\",\n",
       " \"it's predictable , but it jumps through the expected hoops with style and even some depth .\",\n",
       " 'often hilarious , well-shot and , importantly , entertaining , hell house is a fascinating document of an event that has to be seen to be believed .',\n",
       " 'de oliveira creates an emotionally rich , poetically plump and visually fulsome , but never showy , film whose bittersweet themes are reinforced and brilliantly personified by michel piccoli .',\n",
       " '. . . an inviting piece of film .',\n",
       " \"the film's real appeal won't be to clooney fans or adventure buffs , but to moviegoers who enjoy thinking about compelling questions with no easy answers .\",\n",
       " 'the fact that the rookie is a nearly impeccable cinematic experience -- and a wonderful all-ages triumph besides -- is a miracle akin to the story the film portrays .',\n",
       " 'a deviant topical comedy which is funny from start to finish .',\n",
       " 'a startling and fresh examination of how the bike still remains an ambiguous icon in chinese society .',\n",
       " \"a highly intriguing thriller , coupled with some ingenious plot devices and some lavishly built settings . . it's a worthwhile tutorial in quantum physics and slash-dash\",\n",
       " \"as hugh grant says repeatedly throughout the movie , 'lovely ! brilliant ! '\",\n",
       " \"cho's fearless in picking apart human foibles , not afraid to lay her life bare in front of an audience . her delivery and timing are flawless .\",\n",
       " 'works because , for the most part , it avoids the stupid cliches and formulaic potholes that befall its brethren .',\n",
       " 'at its best , the good girl is a refreshingly adult take on adultery . . .',\n",
       " 'an amazing and incendiary movie that dives straight into the rough waters of contradiction .',\n",
       " 'about nowhere kids who appropriated turfs as they found them and become self-made celebrity athletes -- a low-down version of the american dream .',\n",
       " 'occasionally , in the course of reviewing art-house obscurities and slam-bam action flicks , a jaded critic smacks into something truly new .',\n",
       " 'a miniscule little bleep on the film radar , but one that many more people should check out',\n",
       " 'desta vez , columbus capturou o pomo de ouro .',\n",
       " '\" 13 conversations \" holds its goodwill close , but is relatively slow to come to the point .',\n",
       " 'a slick , well-oiled machine , exquisitely polished and upholstered .',\n",
       " \"don't plan on the perfect ending , but sweet home alabama hits the mark with critics who escaped from a small town life .\",\n",
       " \"it has a subtle way of getting under your skin and sticking with you long after it's over .\",\n",
       " 'the movie stays afloat thanks to its hallucinatory production design .',\n",
       " 'it helps that the central performers are experienced actors , and that they know their roles so well .',\n",
       " 'a provocative movie about loss , anger , greed , jealousy , sickness and love .',\n",
       " 'worth the effort to watch .',\n",
       " 'that rara avis : the intelligent romantic comedy with actual ideas on its mind .',\n",
       " 'boisterous and daft documentary .',\n",
       " \"hawke draws out the best from his large cast in beautifully articulated portrayals that are subtle and so expressive they can sustain the poetic flights in burdette's dialogue .\",\n",
       " 'a work of the utmost subtlety and perception , it marks the outstanding feature debut of writer-director eric byler , who understands the power of the implicit and the virtues of simplicity and economy .',\n",
       " \"full frontal is the antidote for soderbergh fans who think he's gone too commercial since his two oscar nominated films in 2000\",\n",
       " 'it turns out to be a cut above the norm , thanks to some clever writing and sprightly acting .',\n",
       " \"you might not want to hang out with samantha , but you'll probably see a bit of yourself in her unfinished story .\",\n",
       " 'a work of intricate elegance , literary lyricism and profound common sense .',\n",
       " \"it's as close as we'll ever come to looking through a photographer's viewfinder as he works .\",\n",
       " 'thoughtful , provocative and entertaining .',\n",
       " 'witty , touching and well paced .',\n",
       " \"lee jeong-hyang tells it so lovingly and films it so beautifully that i couldn't help being captivated by it .\",\n",
       " \"you have to pay attention to follow all the stories , but they're each interesting . the movie is well shot and very tragic , and one to ponder after the credits roll .\",\n",
       " 'enjoy it for what it is ; you can hate yourself later .',\n",
       " \"a map of the inner rhythms of love and jealousy and sacrifice drawn with a master's steady stroke .\",\n",
       " 'más sarcástica , divertida y demencial que su predecesora , es un buen ejemplo de lo que es el cine de entretenimiento puro y sin complejos .',\n",
       " \"a psychological thriller with a smart script and an obsessive-compulsive's attention to detail .\",\n",
       " 'often hilarious .',\n",
       " 'grant gets to display his cadness to perfection , but also to show acting range that may surprise some who thought light-hearted comedy was his forte .',\n",
       " \"at times funny and at other times candidly revealing , it's an intriguing look at two performers who put themselves out there because they love what they do .\",\n",
       " \"westfeldt and juergensen exude a chemistry and comfort level that's both saucy and endearing .\",\n",
       " 'harsh , effective documentary on life in the israeli-occupied palestinian territories .',\n",
       " \"the film is all a little lit crit 101 , but it's extremely well played and often very funny .\",\n",
       " \"earns its laughs from stock redneck 'types' and from the many , many moments when we recognize even without the elizabethan prose , the play behind the thing .\",\n",
       " 'a real story about real people living their lives concerned about the future of an elderly , mentally handicapped family member .',\n",
       " \"it's absolutely spooky how lillard channels the shagster right down to the original casey kasem-furnished voice .\",\n",
       " \"a dream cast of solid female talent who build a seamless ensemble . there isn't a weak or careless performance amongst them .\",\n",
       " 'smart science fiction for grown-ups , with only a few false steps along the way .',\n",
       " \"it's a refreshing change from the self-interest and paranoia that shape most american representations of castro .\",\n",
       " \"often moving and explores the discomfort inherent in the contacts between the american 'hosts' and their 'guests . '\",\n",
       " \"though the controversial korean filmmaker's latest effort is not for all tastes , it offers gorgeous imagery , effective performances , and an increasingly unsettling sense of foreboding .\",\n",
       " 'lathan and diggs have considerable personal charm , and their screen rapport makes the old story seem new .',\n",
       " 'the story may not be new , but australian director john polson , making his american feature debut , jazzes it up adroitly .',\n",
       " \"it's endearing to hear madame d . refer to her husband as 'jackie' -- and he does make for excellent company , not least as a self-conscious performer .\",\n",
       " 'the film often achieves a mesmerizing poetry .',\n",
       " 'more than makes up for its mawkish posing by offering rousing spates of genuine feeling .',\n",
       " \"it's neither as romantic nor as thrilling as it should be . but it offers plenty to ponder and chew on as its unusual relationship slowly unfolds .\",\n",
       " 'occasionally funny , always very colorful and enjoyably overblown in the traditional almodóvar style .',\n",
       " \"merchant effectively translates naipaul's lively mix of characters from the page to screen .\",\n",
       " \"some movies are like a tasty hors-d'oeuvre ; this one is a feast .\",\n",
       " 'what could have become just another cautionary fable is allowed to play out as a clever , charming tale \\x96 as pleasantly in its own way as its self-dramatizing characters .',\n",
       " 'davis has filled out his cast with appealing fresh faces .',\n",
       " 'achieves a sort of filmic epiphany that revels in the true potential of the medium .',\n",
       " 'once you get into its rhythm . . . the movie becomes a heady experience .',\n",
       " '\" auto focus \" works as an unusual biopic and document of male swingers in the playboy era',\n",
       " \"if mr . zhang's subject matter is , to some degree at least , quintessentially american , his approach to storytelling might be called iranian .\",\n",
       " 'a fast-moving and remarkable film that appears destined to become a landmark in japanese animation .',\n",
       " '. . . a sour little movie at its core ; an exploration of the emptiness that underlay the relentless gaiety of the 1920\\'s . . . the film\\'s ending has a \" what was it all for ? \" feeling to it , but like the 1920\\'s , the trip there is a great deal of fun .',\n",
       " 'a worthy entry into a very difficult genre .',\n",
       " '[broomfield] uncovers a story powerful enough to leave the screen sizzling with intrigue .',\n",
       " \"eight crazy nights is a showcase for sandler's many talents .\",\n",
       " \"a sweet-natured reconsideration of one of san francisco's most vital , if least widely recognized , creative fountainheads .\",\n",
       " \"this is one of the most visually stunning and thematically moving epics in recent memory , and in spite of numerous minor flaws , scorsese's best in more than a decade .\",\n",
       " 'everywhere the camera looks there is something worth seeing .',\n",
       " 'a richly imagined and admirably mature work from a gifted director who definitely has something on his mind .',\n",
       " \"it's a nicely detailed world of pawns , bishops and kings , of wagers in dingy backrooms or pristine forests .\",\n",
       " \"a charming , quirky and leisurely paced scottish comedy -- except with an outrageous central gimmick that could have been a reject from monty python's meaning of life .\",\n",
       " 'it never fails to engage us .',\n",
       " \"its direction , its script , and weaver's performance as a vaguely discontented woman of substance make for a mildly entertaining 77 minutes , if that's what you're in the mood for .\",\n",
       " 'a charming romantic comedy that is by far the lightest dogme film and among the most enjoyable .',\n",
       " 'this is the kind of movie that used to be right at home at the saturday matinee , and it still is .',\n",
       " 'the spark of special anime magic here is unmistakable and hard to resist .',\n",
       " \"like its two predecessors , 1983's koyaanisqatsi and 1988's powaqqatsi , the cinematic collage naqoyqatsi could be the most navel-gazing film ever .\",\n",
       " \"baran isn't the most transporting or gripping film from iran -- or , indeed , by its director -- but it's a worthy companion to the many fine , focused films emerging from that most surprising of nations .\",\n",
       " 'the visuals alone make metropolis worth seeing .',\n",
       " 'dark , resonant , inventively detailed and packed with fleet turns of plot and a feast of visual amazement .',\n",
       " 'a picture that extols the virtues of comradeship and community in a spunky , spirited fashion .',\n",
       " 'a resonant tale of racism , revenge and retribution .',\n",
       " \"noyce's film is contemplative and mournfully reflective .\",\n",
       " 'here , adrian lyne comes as close to profundity as he is likely to get .',\n",
       " 'evokes a little of the fear that parents have for the possible futures of their children--and the sometimes bad choices mothers and fathers make in the interests of doing them good .',\n",
       " 'uno de los policiales más interesantes de los últimos tiempos .',\n",
       " 'rain is a small treasure , enveloping the viewer in a literal and spiritual torpor that is anything but cathartic .',\n",
       " 'an elegant , exquisitely modulated psychological thriller .',\n",
       " 'this concoction , so bizarre to the adult mind , is actually a charming triumph where its intended under-12 audience is concerned .',\n",
       " 'droll caper-comedy remake of \" big deal on madonna street \" that\\'s a sly , amusing , laugh-filled little gem in which the ultimate \" bellini \" begins to look like a \" real kaputschnik . \"',\n",
       " \"it's a beautifully accomplished lyrical meditation on a bunch of despondent and vulnerable characters living in the renown chelsea hotel . . .\",\n",
       " 'is it a total success ? no . is it something any true film addict will want to check out ? you bet .',\n",
       " 'zany , exuberantly irreverent animated space adventure .',\n",
       " 'dolgin and franco fashion a fascinating portrait of a vietnamese-born youngster who eagerly and easily assimilated as an all-american girl with a brand new name in southern tennessee .',\n",
       " 'the disarming cornball atmosphere has a way of infecting the entire crowd as the film rolls on .',\n",
       " 'a refreshingly honest and ultimately touching tale of the sort of people usually ignored in contemporary american film . search it out .',\n",
       " 'engrossing and affecting , if ultimately not quite satisfying .',\n",
       " 'the story , like life , refuses to be simple , and the result is a compelling slice of awkward emotions .',\n",
       " \"a sly game of cat and mouse that's intense and thrilling at times , but occasionally stretches believability to its limits and relies on predictable plot contrivances .\",\n",
       " 'funny and , at times , poignant , the film from director george hickenlooper all takes place in pasadena , \" a city where people still read . \"',\n",
       " \"this horror-comedy doesn't go for the usual obvious laughs at the expense of cheap-looking monsters -- unless you count elvira's hooters .\",\n",
       " \"the movie's eventual success should be credited to dennis quaid , in fighting trim shape as an athlete as well as an actor\",\n",
       " 'not a bad journey at all .',\n",
       " 'sits uneasily as a horror picture . . . but finds surprising depth in its look at the binds of a small family .',\n",
       " \"windtalkers blows this way and that , but there's no mistaking the filmmaker in the tall grass , true to himself .\",\n",
       " 'there is a refreshing absence of cynicism in stuart little 2--quite a rarity , even in the family film market . eventually , it wins you over .',\n",
       " 'noyce films it more as a shocking history lesson than as drama .',\n",
       " 'like a south-of-the-border melrose place .',\n",
       " 'those with an interest in new or singular sorts of film experiences will find what time is it there ? well worth the time .',\n",
       " 'a wildly funny prison caper .',\n",
       " \"huppert gives erika a persona that is so intriguing that you find yourself staring hypnotically at her , trying to understand her and wondering if she'll crack .\",\n",
       " \"despite what anyone believes about the goal of its makers , the show . . . represents a spectacular piece of theater , and there's no denying the talent of the creative forces behind it .\",\n",
       " \"you'll be left with the sensation of having just witnessed a great performance and , perhaps , give in to the urge to get on your feet and shake it .\",\n",
       " 'the actors are so terrific at conveying their young angst , we do indeed feel for them .',\n",
       " \"the reason this picture works better than its predecessors is that myers is no longer simply spoofing the mini-mod-madness of '60s spy movies .\",\n",
       " \"it is a kickass , dense sci-fi action thriller hybrid that delivers and then some . i haven't seen one in so long , no wonder i didn't recognize it at first .\",\n",
       " 'a compelling portrait of moral emptiness',\n",
       " 'in adobo , ethnicity is not just the spice , but at the heart of more universal concerns .',\n",
       " 'it is ridiculous , of course . . . but it is also refreshing , disarming , and just outright enjoyable despite its ridiculousness .',\n",
       " '. . . blade ii is more enjoyable than the original .',\n",
       " 'a film that takes you inside the rhythms of its subject : you experience it as you watch .',\n",
       " 'the movie exists for its soccer action and its fine acting .',\n",
       " 'the movie is saved from unbearable lightness by the simplicity of the storytelling and the authenticity of the performances .',\n",
       " 'the film starts out as competent but unremarkable . . . and gradually grows into something of considerable power .',\n",
       " 'nothing denis has made before , like beau travil and nenette et boni , could prepare us for this gory , perverted , sex-soaked riff on the cannibal genre .',\n",
       " 'reinforces the talents of screenwriter charlie kaufman , creator of adaptation and being john malkovich .',\n",
       " 'greene delivers a typically solid performance in a role that is a bit of a departure from the noble characters he has played in the past , and he is matched by schweig , who carries the film on his broad , handsome shoulders .',\n",
       " 'finds a way to tell a simple story , perhaps the simplest story of all , in a way that seems compelling and even original .',\n",
       " \"a stunning piece of visual poetry that will , hopefully , be remembered as one of the most important stories to be told in australia's film history .\",\n",
       " 'this is art paying homage to art .',\n",
       " '. . . a joke at once flaky and resonant , lightweight and bizarrely original .',\n",
       " 'invincible is a wonderful movie .',\n",
       " '. . . a cute and sometimes side-splittingly funny blend of legally blonde and drop dead gorgeous , starring piper perabo in what could be her breakthrough role .',\n",
       " 'dazzling and sugar-sweet , a blast of shallow magnificence that only sex , scandal , and a chorus line of dangerous damsels can deliver .',\n",
       " 'occasionally amateurishly made but a winsome cast and nice dialogue keeps it going .',\n",
       " \"japan's premier stylist of sex and blood hits audiences with what may be his most demented film to date .\",\n",
       " \"culkin , who's in virtually every scene , shines as a young man who uses sarcastic lies like a shield .\",\n",
       " 'cuts right through the b . s . giving a big middle-fingered \" shut up \" to those who talk up what is nothing more than two guys beating the hell outta one another .',\n",
       " 'the am-radio soundtrack and game cast -- tierney and the inimitable walken especially -- keep this unusual comedy from choking on its own conceit .',\n",
       " \". . . does such a fine job of engulfing you in its world and allying you with its characters' choices , good and ill , that its shortcomings are remembered only as an afterthought .\",\n",
       " 'marvelous , merry and , yes , melancholy film .',\n",
       " \"from spiritual rebirth to bruising defeat , vincent's odyssey resonates in a profound way , comparable to the classic films of jean renoir .\",\n",
       " 'novak manages to capture a cruelly hilarious vein of black comedy in the situation with his cast of non-actors and a gritty , no-budget approach .',\n",
       " 'insomnia is involving . still , i thought it could have been more .',\n",
       " \"there was time on that second round to see the subtleties of ramsay's portrait of grief .\",\n",
       " 'we can see the wheels turning , and we might resent it sometimes , but this is still a nice little picture , made by bright and friendly souls with a lot of good cheer .',\n",
       " 'a comprehensive and provocative film -- one that pushes the boundaries of biography , and challenges its audience .',\n",
       " 'the way coppola professes his love for movies -- both colorful pop junk and the classics that unequivocally qualify as art -- is giddily entertaining .',\n",
       " 'a modest masterpiece .',\n",
       " 'a worthwhile way to spend two hours .',\n",
       " \"francophiles will snicker knowingly and you'll want to slap them .\",\n",
       " 'sensitive , insightful and beautifully rendered film . one of the best of the year .',\n",
       " 'a love for films shines through each frame and the era is recreated with obvious affection , scored to perfection with some tasty boogaloo beats .',\n",
       " 'throwing caution to the wind with an invitation to the hedonist in us all , nair has constructed this motion picture in such a way that even the most cynical curmudgeon with find himself or herself smiling at one time or another .',\n",
       " \"makes an aborbing if arguable case for the man's greatness .\",\n",
       " 'an endlessly fascinating , landmark movie that is as bold as anything the cinema has seen in years .',\n",
       " '. . . a haunting vision , with images that seem more like disturbing hallucinations .',\n",
       " \"they crush each other under cars , throw each other out windows , electrocute and dismember their victims in full consciousness . and we don't avert our eyes for a moment .\",\n",
       " 'it is not a mass-market entertainment but an uncompromising attempt by one artist to think about another .',\n",
       " \"frailty isn't as gory or explicit . but in its child-centered , claustrophobic context , it can be just as frightening and disturbing -- even punishing .\",\n",
       " 'mixes likeable personalities , inventive photography and cutting , and wall-to-wall toe-tapping music to paint a picture of a subculture that is at once exhilarating , silly , perverse , hopeful and always fun .',\n",
       " 'the long-range appeal of \" minority report \" should transcend any awards it bags . this is one for the ages .',\n",
       " \"[a] superbly controlled , passionate adaptation of graham greene's 1955 novel .\",\n",
       " 'much monkeyfun for all .',\n",
       " \"an enchanting film that presents an audacious tour of the past and takes within its warm embrace the bounties of cultural artifacts inside st . petersburg's hermitage museum .\",\n",
       " \"[hawn's character]is so bluntly written , without a trace of sentimentality , and so blisteringly defined , that every other character seems overlooked and underwritten .\",\n",
       " 'the heightened symmetry of this new/old cinema paradiso makes the film a fuller experience , like an old friend haunted by the exigencies of time .',\n",
       " \"the powers team has fashioned a comedy with more laughs than many , no question . but this time there's some mold on the gold .\",\n",
       " 'while surprisingly sincere , this average little story is adorned with some awesome action photography and surfing .',\n",
       " 'it is far from the worst , thanks to the topical issues it raises , the performances of stewart and hardy , and that essential feature -- a decent full-on space battle .',\n",
       " 'a film that is a portrait of grace in an imperfect world .',\n",
       " 'a pleasurably jacked-up piece of action moviemaking .',\n",
       " 'nicolas philibert observes life inside a one-room schoolhouse in northern france in his documentary to be and to have , easily one of the best films of the year .',\n",
       " 'a perverse little truffle , dainty psychological terror on the outside with a creamy filling of familial jealousy and unrepentant domestic psychopathy .',\n",
       " 'this ecologically minded , wildlife friendly film teaches good ethics while entertaining with its unconventionally wacky but loving family',\n",
       " 'an enjoyably half-wit remake of the venerable italian comedy big deal on madonna street .',\n",
       " 'it takes this never-ending confusion and hatred , puts a human face on it , evokes shame among all who are party to it and even promotes understanding .',\n",
       " \"reign of fire may be little more than another platter of reheated aliens , but it's still pretty tasty .\",\n",
       " 'there are times when a rumor of angels plays like an extended episode of touched by an angel -- a little too much dancing , a few too many weeping scenes -- but i liked its heart and its spirit .',\n",
       " \"two hours of melodramatic musical married to two hours of underdog sports intrigue , if the picture also shares the weaknesses of both genres , more's the pity .\",\n",
       " 'this cheery , down-to-earth film is warm with the cozy feeling of relaxing around old friends .',\n",
       " 'thrilling , provocative and darkly funny , this timely sci-fi mystery works on so many different levels that it not only invites , it demands repeated viewings .',\n",
       " \"a tale of horror and revenge that is nearly perfect in its relentless descent to the depths of one man's tortured soul .\",\n",
       " \"an epic of grandeur and scale that's been decades gone from the popcorn pushing sound stages of hollywood .\",\n",
       " \"genuinely touching because it's realistic about all kinds of love .\",\n",
       " 'lauren ambrose comes alive under the attention from two strangers in town - with honest performances and realistic interaction between the characters , this is a coming-of-age story with a twist .',\n",
       " 'there has been much puzzlement among critics about what the election symbolizes . i believe the message is in the messenger : the agent is a woman .',\n",
       " 'an enjoyable film for the family , amusing and cute for both adults and kids .',\n",
       " '\" the mothman prophecies \" is a difficult film to shake from your conscience when night falls .',\n",
       " 'the second chapter of the harry potter series is even more magical than the first and simply the best family film of the year .',\n",
       " \"more honest about alzheimer's disease , i think , than iris .\",\n",
       " 'the acting alone is worth the price of admission .',\n",
       " 'an excellent romp that boasts both a heart and a mind .',\n",
       " \"interacting eyeball-to-eyeball and toe-to-toe , hopkins and norton are a winning combination -- but fiennes steals 'red dragon' right from under their noses .\",\n",
       " 'this is a terrific character study , a probe into the life of a complex man .',\n",
       " 'impresses you with its open-endedness and surprises .',\n",
       " \"this isn't a narrative film -- i don't know if it's possible to make a narrative film about september 11th , though i'm sure some will try -- but it's as close as anyone has dared to come .\",\n",
       " 'my oh my , is this an invigorating , electric movie .',\n",
       " 'the two leads chomp considerably more scenery with their acting than fire-breathing monsters barbecue with their breath . . .',\n",
       " 'cedar takes a very open-minded approach to this sensitive material , showing impressive control , both visually and in the writing .',\n",
       " 'never once predictable .',\n",
       " 'biggie and tupac is so single-mindedly daring , it puts far more polished documentaries to shame .',\n",
       " 'so many documentaries like this presuppose religious bigotry or zealous nuttiness of its antagonists , but family fundamentals displays a rare gift for unflinching impartiality .',\n",
       " 'the cast is uniformly excellent and relaxed .',\n",
       " \"after making several adaptations of other writers' work , armenian-canadian director atom egoyan broached an original treatment of a deeply personal subject .\",\n",
       " 'the film is painfully authentic , and the performances of the young players are utterly convincing .',\n",
       " \"if it seems like a minor miracle that its septuagenarian star is young enough to be the nonagenarian filmmaker's son , more incredible still are the clear-eyed boldness and quiet irony with which actor and director take on life's urgent questions .\",\n",
       " 'a candid and often fascinating documentary about a pentecostal church in dallas that assembles an elaborate haunted house each year to scare teenagers into attending services .',\n",
       " 'fans of the animated wildlife adventure show will be in warthog heaven ; others need not necessarily apply .',\n",
       " 'without resorting to hyperbole , i can state that kissing jessica stein may be the best same-sex romance i have seen .',\n",
       " 'nolan bravely treads where few american films dare to delve -- into the world of ambivalence and ambiguity . . .',\n",
       " \"unlike the nauseating fictions peddled by such 'have-yourself-a-happy-little-holocaust' movies as life is beautiful and jakob the liar , the grey zone is honest enough to deny the possibility of hope in auschwitz .\",\n",
       " 'a potent allegorical love story .',\n",
       " 'even those who would like to dismiss the film outright should find much to mull and debate .',\n",
       " 'this is cool , slick stuff , ready to quench the thirst of an audience that misses the summer blockbusters .',\n",
       " 'the movie is full of fine performances , led by josef bierbichler as brecht and monica bleibtreu as helene weigel , his wife .',\n",
       " 'a captivating cross-cultural comedy of manners .',\n",
       " 'andy garcia enjoys one of his richest roles in years and mick jagger gives his best movie performance since , well , performance .',\n",
       " \"the movie isn't always easy to look at . but if it is indeed a duty of art to reflect life , than leigh has created a masterful piece of artistry right here .\",\n",
       " \"it's [ricci's] best work yet , this girl-woman who sincerely believes she can thwart the world's misery with blind good will .\",\n",
       " 'highlights are the terrific performances by christopher plummer , as the prime villain , and nathan lane as vincent crummles , the eccentric theater company manager .',\n",
       " '[howard] so good as leon barlow . . . that he hardly seems to be acting .',\n",
       " 'an uplifting , near-masterpiece .',\n",
       " 'superior genre storytelling , which gets under our skin simply by crossing the nuclear line .',\n",
       " 'by taking entertainment tonight subject matter and giving it humor and poignancy , auto focus becomes both gut-bustingly funny and crushingly depressing .',\n",
       " \"it's a bittersweet and lyrical mix of elements .\",\n",
       " 'subversive , meditative , clinical and poetic , the piano teacher is a daring work of genius .',\n",
       " ...]"
      ]
     },
     "execution_count": 26,
     "metadata": {},
     "output_type": "execute_result"
    }
   ],
   "source": [
    "train_ds['text']"
   ]
  },
  {
   "cell_type": "markdown",
   "id": "ced0ba49",
   "metadata": {
    "id": "ced0ba49"
   },
   "source": [
    "Finally, we can index by row and column to get a specific value"
   ]
  },
  {
   "cell_type": "code",
   "execution_count": 27,
   "id": "eb930f5d",
   "metadata": {
    "ExecuteTime": {
     "end_time": "2024-09-10T15:12:49.294448Z",
     "start_time": "2024-09-10T15:12:49.289464Z"
    },
    "colab": {
     "base_uri": "https://localhost:8080/"
    },
    "id": "eb930f5d",
    "outputId": "e74050bf-5eb2-444a-818e-277c68b63bfb"
   },
   "outputs": [
    {
     "data": {
      "text/plain": [
       "1"
      ]
     },
     "execution_count": 27,
     "metadata": {},
     "output_type": "execute_result"
    }
   ],
   "source": [
    "train_ds[10]['label']"
   ]
  },
  {
   "cell_type": "code",
   "execution_count": 28,
   "id": "7e3fd8d7",
   "metadata": {
    "ExecuteTime": {
     "end_time": "2024-09-10T15:12:49.306752Z",
     "start_time": "2024-09-10T15:12:49.296927Z"
    },
    "colab": {
     "base_uri": "https://localhost:8080/"
    },
    "id": "7e3fd8d7",
    "outputId": "618012bb-0afb-4701-be17-5d370e9975ac"
   },
   "outputs": [
    {
     "data": {
      "text/plain": [
       "1"
      ]
     },
     "execution_count": 28,
     "metadata": {},
     "output_type": "execute_result"
    }
   ],
   "source": [
    "train_ds['label'][10]"
   ]
  },
  {
   "cell_type": "code",
   "execution_count": 29,
   "id": "6ce4b3b4",
   "metadata": {
    "ExecuteTime": {
     "end_time": "2024-09-10T15:12:49.317370Z",
     "start_time": "2024-09-10T15:12:49.309516Z"
    },
    "id": "6ce4b3b4"
   },
   "outputs": [],
   "source": [
    "assert train_ds[10]['label'] == train_ds['label'][10]"
   ]
  },
  {
   "cell_type": "markdown",
   "id": "f7f5c147",
   "metadata": {
    "id": "f7f5c147"
   },
   "source": [
    "however, the order of indexing does matter!. If we index by a column and row, we first load all items in a python-list and then get an specific item, whereas if we index by a row and column, we only allocate that row and get an specific feature.\n",
    "\n",
    "Even with this small dataset, we can verify that column indexing is much slower, and it will be worse for larger datasets."
   ]
  },
  {
   "cell_type": "code",
   "execution_count": 30,
   "id": "ec202cd9",
   "metadata": {
    "ExecuteTime": {
     "end_time": "2024-09-10T15:12:49.334088Z",
     "start_time": "2024-09-10T15:12:49.320382Z"
    },
    "colab": {
     "base_uri": "https://localhost:8080/"
    },
    "id": "ec202cd9",
    "outputId": "f1a7c4ff-5ae4-4f57-94bc-13cb63b6a463"
   },
   "outputs": [
    {
     "name": "stdout",
     "output_type": "stream",
     "text": [
      "Elapsed time: 0.0003 seconds\n",
      "Elapsed time: 0.0133 seconds\n"
     ]
    }
   ],
   "source": [
    "import time\n",
    "\n",
    "start_time = time.time()\n",
    "text = train_ds[0][\"text\"]\n",
    "end_time = time.time()\n",
    "print(f\"Elapsed time: {end_time - start_time:.4f} seconds\")\n",
    "\n",
    "start_time = time.time()\n",
    "text = train_ds[\"text\"][0]\n",
    "end_time = time.time()\n",
    "print(f\"Elapsed time: {end_time - start_time:.4f} seconds\")"
   ]
  },
  {
   "cell_type": "markdown",
   "id": "ca90c928",
   "metadata": {
    "id": "ca90c928"
   },
   "source": [
    "#### Slicing\n",
    "Slicing returns a slice - or subset - of the dataset. Which is often useful for visualization purproses or splitting the dataset into continouos chunks."
   ]
  },
  {
   "cell_type": "code",
   "execution_count": 31,
   "id": "bec21042",
   "metadata": {
    "ExecuteTime": {
     "end_time": "2024-09-10T15:12:49.415974Z",
     "start_time": "2024-09-10T15:12:49.410701Z"
    },
    "colab": {
     "base_uri": "https://localhost:8080/"
    },
    "id": "bec21042",
    "outputId": "72e68fe6-a7e1-40dc-f96f-483074c0cb58"
   },
   "outputs": [
    {
     "data": {
      "text/plain": [
       "{'text': ['the rock is destined to be the 21st century\\'s new \" conan \" and that he\\'s going to make a splash even greater than arnold schwarzenegger , jean-claud van damme or steven segal .',\n",
       "  'the gorgeously elaborate continuation of \" the lord of the rings \" trilogy is so huge that a column of words cannot adequately describe co-writer/director peter jackson\\'s expanded vision of j . r . r . tolkien\\'s middle-earth .',\n",
       "  'effective but too-tepid biopic'],\n",
       " 'label': [1, 1, 1]}"
      ]
     },
     "execution_count": 31,
     "metadata": {},
     "output_type": "execute_result"
    }
   ],
   "source": [
    "train_ds[:3]"
   ]
  },
  {
   "cell_type": "code",
   "execution_count": 32,
   "id": "e65245ae",
   "metadata": {
    "ExecuteTime": {
     "end_time": "2024-09-10T15:12:49.638553Z",
     "start_time": "2024-09-10T15:12:49.631660Z"
    },
    "colab": {
     "base_uri": "https://localhost:8080/"
    },
    "id": "e65245ae",
    "outputId": "ddde996b-14e2-4a93-befc-c90cf967f337"
   },
   "outputs": [
    {
     "data": {
      "text/plain": [
       "{'text': ['this is a film well worth seeing , talking and singing heads and all .',\n",
       "  'what really surprises about wisegirls is its low-key quality and genuine tenderness .',\n",
       "  '( wendigo is ) why we go to the cinema : to be fed through the eye , the heart , the mind .',\n",
       "  'one of the greatest family-oriented , fantasy-adventure movies ever .',\n",
       "  'ultimately , it ponders the reasons we need stories so much .',\n",
       "  \"an utterly compelling 'who wrote it' in which the reputation of the most famous author who ever lived comes into question .\",\n",
       "  'illuminating if overly talky documentary .',\n",
       "  'a masterpiece four years in the making .',\n",
       "  \"the movie's ripe , enrapturing beauty will tempt those willing to probe its inscrutable mysteries .\",\n",
       "  'offers a breath of the fresh air of true sophistication .'],\n",
       " 'label': [1, 1, 1, 1, 1, 1, 1, 1, 1, 1]}"
      ]
     },
     "execution_count": 32,
     "metadata": {},
     "output_type": "execute_result"
    }
   ],
   "source": [
    "train_ds[10:20]"
   ]
  },
  {
   "cell_type": "code",
   "execution_count": 33,
   "id": "2c5d89de",
   "metadata": {
    "ExecuteTime": {
     "end_time": "2024-09-10T15:12:49.859491Z",
     "start_time": "2024-09-10T15:12:49.853904Z"
    },
    "colab": {
     "base_uri": "https://localhost:8080/"
    },
    "id": "2c5d89de",
    "outputId": "fccf2030-e904-4767-8a3c-e9756d591a53"
   },
   "outputs": [
    {
     "data": {
      "text/plain": [
       "dict"
      ]
     },
     "execution_count": 33,
     "metadata": {},
     "output_type": "execute_result"
    }
   ],
   "source": [
    "# the output is NOT a dataset, instead, slicing a dataset returns a dictionary!\n",
    "type(train_ds[30: 50])"
   ]
  },
  {
   "cell_type": "markdown",
   "id": "f089aa4b",
   "metadata": {
    "id": "f089aa4b"
   },
   "source": [
    "#### Select and Filter\n",
    "There exists two options to filter the rows of a dataset: `.select()` and `.filter()`\n",
    "\n",
    "- `select(indices: List[int])`: return rows according to a list of indices"
   ]
  },
  {
   "cell_type": "code",
   "execution_count": 34,
   "id": "7fbf1a91",
   "metadata": {
    "ExecuteTime": {
     "end_time": "2024-09-10T15:12:50.322689Z",
     "start_time": "2024-09-10T15:12:50.310295Z"
    },
    "id": "7fbf1a91"
   },
   "outputs": [],
   "source": [
    "small_dataset = train_ds.select([1, 50, 3])"
   ]
  },
  {
   "cell_type": "code",
   "execution_count": 35,
   "id": "dc48b467",
   "metadata": {
    "ExecuteTime": {
     "end_time": "2024-09-10T15:12:50.541663Z",
     "start_time": "2024-09-10T15:12:50.539056Z"
    },
    "id": "dc48b467"
   },
   "outputs": [],
   "source": [
    "assert len(small_dataset) == 3"
   ]
  },
  {
   "cell_type": "code",
   "execution_count": 36,
   "id": "5c0e9175",
   "metadata": {
    "ExecuteTime": {
     "end_time": "2024-09-10T15:12:50.774806Z",
     "start_time": "2024-09-10T15:12:50.770114Z"
    },
    "colab": {
     "base_uri": "https://localhost:8080/"
    },
    "id": "5c0e9175",
    "outputId": "cea2d216-7dde-42c3-dee4-d4f82e903f81"
   },
   "outputs": [
    {
     "data": {
      "text/plain": [
       "{'text': 'if you sometimes like to go to the movies to have fun , wasabi is a good place to start .',\n",
       " 'label': 1}"
      ]
     },
     "execution_count": 36,
     "metadata": {},
     "output_type": "execute_result"
    }
   ],
   "source": [
    "small_dataset[-1]"
   ]
  },
  {
   "cell_type": "code",
   "execution_count": 37,
   "id": "54d65118",
   "metadata": {
    "ExecuteTime": {
     "end_time": "2024-09-10T15:12:51.007114Z",
     "start_time": "2024-09-10T15:12:51.000293Z"
    },
    "id": "54d65118"
   },
   "outputs": [],
   "source": [
    "assert small_dataset[1] == train_ds[50]"
   ]
  },
  {
   "cell_type": "markdown",
   "id": "c6d157db",
   "metadata": {
    "id": "c6d157db"
   },
   "source": [
    "- `filter(condition: Callable)` returns rows that match a specified condition:\n",
    "\n",
    "For example, let's filter all positive movie's reviews."
   ]
  },
  {
   "cell_type": "code",
   "execution_count": 38,
   "id": "3e7a6e89",
   "metadata": {
    "ExecuteTime": {
     "end_time": "2024-09-10T15:12:51.444632Z",
     "start_time": "2024-09-10T15:12:51.436779Z"
    },
    "colab": {
     "base_uri": "https://localhost:8080/",
     "height": 49,
     "referenced_widgets": [
      "b25d38c2d53a4a7ea5769760e3916d36",
      "fc1f44ecd46745029491a09bae553fa1",
      "30a1ec18807a4dafa2bea854d760ece1",
      "145201c8a8a04a319bfeacda8b6d24bc",
      "2ca86978ba594891b0fce3957e8a0c15",
      "b759ee89b9044ec6b98f66599c61b12a",
      "4695603469e44e92837a0382040f7ca2",
      "65744d760ee846e0b4cb20c7ed7dc409",
      "90d05c7780f24f19aea9b3252b006ee9",
      "6e17749356e640d88655af0335d48b12",
      "8fd32054f7ca449199319686304d4bf4"
     ]
    },
    "id": "3e7a6e89",
    "outputId": "cbecabfd-af87-438f-edd9-3ea4a0c02c78"
   },
   "outputs": [
    {
     "data": {
      "application/vnd.jupyter.widget-view+json": {
       "model_id": "b25d38c2d53a4a7ea5769760e3916d36",
       "version_major": 2,
       "version_minor": 0
      },
      "text/plain": [
       "Filter:   0%|          | 0/8530 [00:00<?, ? examples/s]"
      ]
     },
     "metadata": {},
     "output_type": "display_data"
    }
   ],
   "source": [
    "positive_sent_ds = train_ds.filter(lambda row: row['label'] == 1)"
   ]
  },
  {
   "cell_type": "code",
   "execution_count": 39,
   "id": "292e83cb",
   "metadata": {
    "ExecuteTime": {
     "end_time": "2024-09-10T15:12:51.671390Z",
     "start_time": "2024-09-10T15:12:51.665290Z"
    },
    "colab": {
     "base_uri": "https://localhost:8080/"
    },
    "id": "292e83cb",
    "outputId": "992a5f86-850e-447d-81f5-e35485649d37"
   },
   "outputs": [
    {
     "data": {
      "text/plain": [
       "Dataset({\n",
       "    features: ['text', 'label'],\n",
       "    num_rows: 4265\n",
       "})"
      ]
     },
     "execution_count": 39,
     "metadata": {},
     "output_type": "execute_result"
    }
   ],
   "source": [
    "positive_sent_ds"
   ]
  },
  {
   "cell_type": "code",
   "execution_count": 40,
   "id": "f01d9513",
   "metadata": {
    "ExecuteTime": {
     "end_time": "2024-09-10T15:12:51.911276Z",
     "start_time": "2024-09-10T15:12:51.887062Z"
    },
    "id": "f01d9513"
   },
   "outputs": [],
   "source": [
    "assert all(1 == label for label in positive_sent_ds['label'])"
   ]
  },
  {
   "cell_type": "markdown",
   "id": "13f629ff",
   "metadata": {
    "id": "13f629ff"
   },
   "source": [
    "we can also acces the indices with the flag with_indices=True:"
   ]
  },
  {
   "cell_type": "code",
   "execution_count": 41,
   "id": "0c00ba1d",
   "metadata": {
    "ExecuteTime": {
     "end_time": "2024-09-10T15:12:52.341469Z",
     "start_time": "2024-09-10T15:12:52.330911Z"
    },
    "colab": {
     "base_uri": "https://localhost:8080/",
     "height": 49,
     "referenced_widgets": [
      "20fe13b257124797b68aa2e7410509f6",
      "bd7f7652ed134f219b8e598ec0018801",
      "68e7d6dbd591462083e7c09a9b6ece2f",
      "0d13eae792224be8a855e987de9be61b",
      "0323775ca7b44de6ac3b5b55b3283b8c",
      "3179f239747e4b15a3c8a5630e62f929",
      "c48d673e85b9470198032db3bfb63da7",
      "8e4d89bb31514e54a326e6e6bc0cfef4",
      "b7bed2a2081446c184746661200f10d5",
      "63903339eca34800b5291c158cded47e",
      "867a242b0e8147409b0b96c68c63a86c"
     ]
    },
    "id": "0c00ba1d",
    "outputId": "6923e63e-9046-4453-d57c-00ce8a55f60a"
   },
   "outputs": [
    {
     "data": {
      "application/vnd.jupyter.widget-view+json": {
       "model_id": "20fe13b257124797b68aa2e7410509f6",
       "version_major": 2,
       "version_minor": 0
      },
      "text/plain": [
       "Filter:   0%|          | 0/8530 [00:00<?, ? examples/s]"
      ]
     },
     "metadata": {},
     "output_type": "display_data"
    }
   ],
   "source": [
    "positive_sent_and_odd_idx_ds = train_ds.filter(lambda row, idx: row['label'] == 1 and idx % 2 == 1, with_indices=True)"
   ]
  },
  {
   "cell_type": "code",
   "execution_count": 42,
   "id": "c398fe35",
   "metadata": {
    "ExecuteTime": {
     "end_time": "2024-09-10T15:12:52.559097Z",
     "start_time": "2024-09-10T15:12:52.550397Z"
    },
    "colab": {
     "base_uri": "https://localhost:8080/"
    },
    "id": "c398fe35",
    "outputId": "d9b989a0-4a0c-40a3-950c-78734eb7715a"
   },
   "outputs": [
    {
     "data": {
      "text/plain": [
       "Dataset({\n",
       "    features: ['text', 'label'],\n",
       "    num_rows: 2132\n",
       "})"
      ]
     },
     "execution_count": 42,
     "metadata": {},
     "output_type": "execute_result"
    }
   ],
   "source": [
    "positive_sent_and_odd_idx_ds"
   ]
  },
  {
   "cell_type": "markdown",
   "id": "c9e5943c",
   "metadata": {
    "id": "c9e5943c"
   },
   "source": [
    "### Map\n",
    "\n",
    "the most powerful method of `Dataset` is the `.map()` function. It allow us to apply python-functions to process each item in the dataset, independently or in batches. Under the hood, this method will take care to speed up processing functions, compute batches, use multiple cores, etc.\n",
    "\n",
    "To start, let's write a function which removes stopwords from a text.\n",
    "\n",
    "Stop words are common words in any language that occur with a high frequency but carry much less substantive information about the meaning of a phrase.\n",
    "\n",
    "Examples of some common stop words include:\n",
    "a, the, and , or , of , on , this , we , were, is, not …\n",
    "\n",
    "Thankfully, the `nltk` module provides a list of english stop words for us."
   ]
  },
  {
   "cell_type": "code",
   "execution_count": 43,
   "id": "a7426882",
   "metadata": {
    "ExecuteTime": {
     "end_time": "2024-09-10T15:12:53.866216Z",
     "start_time": "2024-09-10T15:12:52.993507Z"
    },
    "id": "a7426882"
   },
   "outputs": [],
   "source": [
    "import nltk\n",
    "from nltk.corpus import stopwords"
   ]
  },
  {
   "cell_type": "code",
   "execution_count": 44,
   "id": "6575d5a4",
   "metadata": {
    "ExecuteTime": {
     "end_time": "2024-09-10T15:12:54.354409Z",
     "start_time": "2024-09-10T15:12:53.868926Z"
    },
    "colab": {
     "base_uri": "https://localhost:8080/"
    },
    "id": "6575d5a4",
    "outputId": "3dac5979-6362-411d-b280-385ce9897ff5"
   },
   "outputs": [
    {
     "name": "stderr",
     "output_type": "stream",
     "text": [
      "[nltk_data] Downloading package stopwords to /root/nltk_data...\n",
      "[nltk_data]   Unzipping corpora/stopwords.zip.\n"
     ]
    }
   ],
   "source": [
    "nltk.download('stopwords')\n",
    "stopwords_list = stopwords.words('english')"
   ]
  },
  {
   "cell_type": "code",
   "execution_count": 45,
   "id": "1ad5dc63",
   "metadata": {
    "ExecuteTime": {
     "end_time": "2024-09-10T15:12:54.364043Z",
     "start_time": "2024-09-10T15:12:54.356631Z"
    },
    "colab": {
     "base_uri": "https://localhost:8080/"
    },
    "id": "1ad5dc63",
    "outputId": "46ba36d5-e599-41d9-9535-62de37f563e0"
   },
   "outputs": [
    {
     "data": {
      "text/plain": [
       "['a',\n",
       " 'about',\n",
       " 'above',\n",
       " 'after',\n",
       " 'again',\n",
       " 'against',\n",
       " 'ain',\n",
       " 'all',\n",
       " 'am',\n",
       " 'an',\n",
       " 'and',\n",
       " 'any',\n",
       " 'are',\n",
       " 'aren',\n",
       " \"aren't\",\n",
       " 'as',\n",
       " 'at',\n",
       " 'be',\n",
       " 'because',\n",
       " 'been',\n",
       " 'before',\n",
       " 'being',\n",
       " 'below',\n",
       " 'between',\n",
       " 'both',\n",
       " 'but',\n",
       " 'by',\n",
       " 'can',\n",
       " 'couldn',\n",
       " \"couldn't\",\n",
       " 'd',\n",
       " 'did',\n",
       " 'didn',\n",
       " \"didn't\",\n",
       " 'do',\n",
       " 'does',\n",
       " 'doesn',\n",
       " \"doesn't\",\n",
       " 'doing',\n",
       " 'don',\n",
       " \"don't\",\n",
       " 'down',\n",
       " 'during',\n",
       " 'each',\n",
       " 'few',\n",
       " 'for',\n",
       " 'from',\n",
       " 'further',\n",
       " 'had',\n",
       " 'hadn',\n",
       " \"hadn't\",\n",
       " 'has',\n",
       " 'hasn',\n",
       " \"hasn't\",\n",
       " 'have',\n",
       " 'haven',\n",
       " \"haven't\",\n",
       " 'having',\n",
       " 'he',\n",
       " \"he'd\",\n",
       " \"he'll\",\n",
       " 'her',\n",
       " 'here',\n",
       " 'hers',\n",
       " 'herself',\n",
       " \"he's\",\n",
       " 'him',\n",
       " 'himself',\n",
       " 'his',\n",
       " 'how',\n",
       " 'i',\n",
       " \"i'd\",\n",
       " 'if',\n",
       " \"i'll\",\n",
       " \"i'm\",\n",
       " 'in',\n",
       " 'into',\n",
       " 'is',\n",
       " 'isn',\n",
       " \"isn't\",\n",
       " 'it',\n",
       " \"it'd\",\n",
       " \"it'll\",\n",
       " \"it's\",\n",
       " 'its',\n",
       " 'itself',\n",
       " \"i've\",\n",
       " 'just',\n",
       " 'll',\n",
       " 'm',\n",
       " 'ma',\n",
       " 'me',\n",
       " 'mightn',\n",
       " \"mightn't\",\n",
       " 'more',\n",
       " 'most',\n",
       " 'mustn',\n",
       " \"mustn't\",\n",
       " 'my',\n",
       " 'myself',\n",
       " 'needn',\n",
       " \"needn't\",\n",
       " 'no',\n",
       " 'nor',\n",
       " 'not',\n",
       " 'now',\n",
       " 'o',\n",
       " 'of',\n",
       " 'off',\n",
       " 'on',\n",
       " 'once',\n",
       " 'only',\n",
       " 'or',\n",
       " 'other',\n",
       " 'our',\n",
       " 'ours',\n",
       " 'ourselves',\n",
       " 'out',\n",
       " 'over',\n",
       " 'own',\n",
       " 're',\n",
       " 's',\n",
       " 'same',\n",
       " 'shan',\n",
       " \"shan't\",\n",
       " 'she',\n",
       " \"she'd\",\n",
       " \"she'll\",\n",
       " \"she's\",\n",
       " 'should',\n",
       " 'shouldn',\n",
       " \"shouldn't\",\n",
       " \"should've\",\n",
       " 'so',\n",
       " 'some',\n",
       " 'such',\n",
       " 't',\n",
       " 'than',\n",
       " 'that',\n",
       " \"that'll\",\n",
       " 'the',\n",
       " 'their',\n",
       " 'theirs',\n",
       " 'them',\n",
       " 'themselves',\n",
       " 'then',\n",
       " 'there',\n",
       " 'these',\n",
       " 'they',\n",
       " \"they'd\",\n",
       " \"they'll\",\n",
       " \"they're\",\n",
       " \"they've\",\n",
       " 'this',\n",
       " 'those',\n",
       " 'through',\n",
       " 'to',\n",
       " 'too',\n",
       " 'under',\n",
       " 'until',\n",
       " 'up',\n",
       " 've',\n",
       " 'very',\n",
       " 'was',\n",
       " 'wasn',\n",
       " \"wasn't\",\n",
       " 'we',\n",
       " \"we'd\",\n",
       " \"we'll\",\n",
       " \"we're\",\n",
       " 'were',\n",
       " 'weren',\n",
       " \"weren't\",\n",
       " \"we've\",\n",
       " 'what',\n",
       " 'when',\n",
       " 'where',\n",
       " 'which',\n",
       " 'while',\n",
       " 'who',\n",
       " 'whom',\n",
       " 'why',\n",
       " 'will',\n",
       " 'with',\n",
       " 'won',\n",
       " \"won't\",\n",
       " 'wouldn',\n",
       " \"wouldn't\",\n",
       " 'y',\n",
       " 'you',\n",
       " \"you'd\",\n",
       " \"you'll\",\n",
       " 'your',\n",
       " \"you're\",\n",
       " 'yours',\n",
       " 'yourself',\n",
       " 'yourselves',\n",
       " \"you've\"]"
      ]
     },
     "execution_count": 45,
     "metadata": {},
     "output_type": "execute_result"
    }
   ],
   "source": [
    "stopwords_list"
   ]
  },
  {
   "cell_type": "code",
   "execution_count": 46,
   "id": "e583d0ef",
   "metadata": {
    "ExecuteTime": {
     "end_time": "2024-09-10T15:12:54.374832Z",
     "start_time": "2024-09-10T15:12:54.367998Z"
    },
    "colab": {
     "base_uri": "https://localhost:8080/"
    },
    "id": "e583d0ef",
    "outputId": "a1f2552d-d47f-492e-da61-55e66f61e40f"
   },
   "outputs": [
    {
     "data": {
      "text/plain": [
       "198"
      ]
     },
     "execution_count": 46,
     "metadata": {},
     "output_type": "execute_result"
    }
   ],
   "source": [
    "len(stopwords_list) # there ~180 stopwords"
   ]
  },
  {
   "cell_type": "markdown",
   "id": "a8f45be5",
   "metadata": {
    "id": "a8f45be5"
   },
   "source": [
    "Now that we have a list of words we want to remove. We need to write a function that:\n",
    "1. Divides the text into a list of words (tokenization)\n",
    "2. Remove the words in the stopwords_list\n",
    "3. Join the remainig words into a single text\n",
    "\n",
    "Tokenization is a important part of NLP, but to keep things simple, we will use ntlk's `wordpunct_tokenize` function, which simply divides words by punctations. Nothing fancy for now"
   ]
  },
  {
   "cell_type": "code",
   "execution_count": 47,
   "id": "441ff004",
   "metadata": {
    "ExecuteTime": {
     "end_time": "2024-09-10T15:12:54.444652Z",
     "start_time": "2024-09-10T15:12:54.377196Z"
    },
    "colab": {
     "base_uri": "https://localhost:8080/"
    },
    "id": "441ff004",
    "outputId": "e42e50ec-e9b5-4111-854c-fddbc6348027"
   },
   "outputs": [
    {
     "name": "stderr",
     "output_type": "stream",
     "text": [
      "[nltk_data] Downloading package punkt to /root/nltk_data...\n",
      "[nltk_data]   Unzipping tokenizers/punkt.zip.\n"
     ]
    },
    {
     "data": {
      "text/plain": [
       "True"
      ]
     },
     "execution_count": 47,
     "metadata": {},
     "output_type": "execute_result"
    }
   ],
   "source": [
    "from nltk.tokenize import wordpunct_tokenize\n",
    "nltk.download('punkt')"
   ]
  },
  {
   "cell_type": "code",
   "execution_count": 48,
   "id": "77315898",
   "metadata": {
    "ExecuteTime": {
     "end_time": "2024-09-10T15:12:54.452505Z",
     "start_time": "2024-09-10T15:12:54.446849Z"
    },
    "colab": {
     "base_uri": "https://localhost:8080/"
    },
    "id": "77315898",
    "outputId": "b109878b-7ff7-429b-b61a-74bcd537dba4"
   },
   "outputs": [
    {
     "data": {
      "text/plain": [
       "['Hello',\n",
       " ',',\n",
       " 'This',\n",
       " 'function',\n",
       " 'will',\n",
       " 'divide',\n",
       " 'the',\n",
       " 'text',\n",
       " 'into',\n",
       " 'words',\n",
       " '!.',\n",
       " 'Can',\n",
       " 'you',\n",
       " 'guess',\n",
       " 'what',\n",
       " 'the',\n",
       " 'result',\n",
       " 'would',\n",
       " 'be',\n",
       " '?']"
      ]
     },
     "execution_count": 48,
     "metadata": {},
     "output_type": "execute_result"
    }
   ],
   "source": [
    "wordpunct_tokenize('Hello, This function will divide the text into words!. Can you guess what the result would be?')"
   ]
  },
  {
   "cell_type": "markdown",
   "id": "bf99ebb9",
   "metadata": {
    "id": "bf99ebb9"
   },
   "source": [
    "Great!, it seems to be working just fine."
   ]
  },
  {
   "cell_type": "code",
   "execution_count": 49,
   "id": "538443f1",
   "metadata": {
    "ExecuteTime": {
     "end_time": "2024-09-10T15:12:54.761214Z",
     "start_time": "2024-09-10T15:12:54.757351Z"
    },
    "id": "538443f1"
   },
   "outputs": [],
   "source": [
    "def remove_stop_words(text: str) -> str:\n",
    "    words = wordpunct_tokenize(text)\n",
    "\n",
    "    words_without_sw = [\n",
    "        word for word in words if word not in stopwords_list\n",
    "    ]\n",
    "\n",
    "    return ' '.join(words_without_sw)"
   ]
  },
  {
   "cell_type": "code",
   "execution_count": 50,
   "id": "d5688884",
   "metadata": {
    "ExecuteTime": {
     "end_time": "2024-09-10T15:12:54.992534Z",
     "start_time": "2024-09-10T15:12:54.988342Z"
    },
    "id": "d5688884"
   },
   "outputs": [],
   "source": [
    "assert remove_stop_words('there is a dog in the street') == 'dog street'\n",
    "assert remove_stop_words('hello there, I love hugging face') == 'hello , I love hugging face'"
   ]
  },
  {
   "cell_type": "markdown",
   "id": "ee46a169",
   "metadata": {
    "id": "ee46a169"
   },
   "source": [
    "Now, lets apply this function to our dataset!. We will write a function `remove_stop_words_pipeline_indiviually` which takes as input a row (dictionary) and returns a dictionary with the processed text.\n",
    "\n",
    "Finally, we just have to call the .map method with our process function"
   ]
  },
  {
   "cell_type": "code",
   "execution_count": 51,
   "id": "28d5a36b",
   "metadata": {
    "ExecuteTime": {
     "end_time": "2024-09-10T15:12:55.438415Z",
     "start_time": "2024-09-10T15:12:55.432757Z"
    },
    "id": "28d5a36b"
   },
   "outputs": [],
   "source": [
    "from typing import Dict, Any, List\n",
    "def remove_stop_words_pipeline_indiviually(example: Dict[str, Any]) -> Dict[str, str]:\n",
    "    return {'processed_text': remove_stop_words(example['text'])}"
   ]
  },
  {
   "cell_type": "code",
   "execution_count": 52,
   "id": "a03b4a29",
   "metadata": {
    "ExecuteTime": {
     "end_time": "2024-09-10T15:12:55.682747Z",
     "start_time": "2024-09-10T15:12:55.666640Z"
    },
    "colab": {
     "base_uri": "https://localhost:8080/",
     "height": 49,
     "referenced_widgets": [
      "06ae991a6dcd4c24894de2e91e4caabe",
      "1563d994352841cb866d91fdb096e54f",
      "2fb98022015b4a978a9a015ff41e2f62",
      "fb394d035dbf4b4787651a6a7a804181",
      "f7c2232c3a854cf0920b1d0fa9b38d16",
      "d3af41ea61f44cc18ff9712dfd66a173",
      "0ecb7ae377ea4b37a3f8108cdcc89ca6",
      "b35e66e4c9d24697961642a6fdc9792f",
      "c5df77e509ba4ace9c66b3fbd37d50bf",
      "f1c064af77f74db59f04a0f01c438d32",
      "d3529fe3c254470f9eeb84b557498f9d"
     ]
    },
    "id": "a03b4a29",
    "outputId": "c7238440-522a-41a2-9fa4-4faf04181372"
   },
   "outputs": [
    {
     "data": {
      "application/vnd.jupyter.widget-view+json": {
       "model_id": "06ae991a6dcd4c24894de2e91e4caabe",
       "version_major": 2,
       "version_minor": 0
      },
      "text/plain": [
       "Map:   0%|          | 0/8530 [00:00<?, ? examples/s]"
      ]
     },
     "metadata": {},
     "output_type": "display_data"
    }
   ],
   "source": [
    "processed_train_ds = train_ds.map(remove_stop_words_pipeline_indiviually)"
   ]
  },
  {
   "cell_type": "code",
   "execution_count": 53,
   "id": "cdf9066a",
   "metadata": {
    "ExecuteTime": {
     "end_time": "2024-09-10T15:12:55.893827Z",
     "start_time": "2024-09-10T15:12:55.885836Z"
    },
    "colab": {
     "base_uri": "https://localhost:8080/"
    },
    "id": "cdf9066a",
    "outputId": "527a596a-e76c-4f0d-8d61-6a958d6b6e3f"
   },
   "outputs": [
    {
     "data": {
      "text/plain": [
       "Dataset({\n",
       "    features: ['text', 'label', 'processed_text'],\n",
       "    num_rows: 8530\n",
       "})"
      ]
     },
     "execution_count": 53,
     "metadata": {},
     "output_type": "execute_result"
    }
   ],
   "source": [
    "processed_train_ds"
   ]
  },
  {
   "cell_type": "code",
   "execution_count": 54,
   "id": "f576eb44",
   "metadata": {
    "ExecuteTime": {
     "end_time": "2024-09-10T15:12:56.117413Z",
     "start_time": "2024-09-10T15:12:56.109155Z"
    },
    "colab": {
     "base_uri": "https://localhost:8080/",
     "height": 52
    },
    "id": "f576eb44",
    "outputId": "c5bda534-5120-4f27-bbdc-49d9543f9798"
   },
   "outputs": [
    {
     "data": {
      "application/vnd.google.colaboratory.intrinsic+json": {
       "type": "string"
      },
      "text/plain": [
       "'the rock is destined to be the 21st century\\'s new \" conan \" and that he\\'s going to make a splash even greater than arnold schwarzenegger , jean-claud van damme or steven segal .'"
      ]
     },
     "execution_count": 54,
     "metadata": {},
     "output_type": "execute_result"
    }
   ],
   "source": [
    "processed_train_ds[0]['text']"
   ]
  },
  {
   "cell_type": "code",
   "execution_count": 55,
   "id": "30bad548",
   "metadata": {
    "ExecuteTime": {
     "end_time": "2024-09-10T15:12:56.350776Z",
     "start_time": "2024-09-10T15:12:56.343181Z"
    },
    "colab": {
     "base_uri": "https://localhost:8080/",
     "height": 35
    },
    "id": "30bad548",
    "outputId": "8b6807b3-c372-4151-d2af-b9c38859bd79"
   },
   "outputs": [
    {
     "data": {
      "application/vnd.google.colaboratory.intrinsic+json": {
       "type": "string"
      },
      "text/plain": [
       "'rock destined 21st century \\' new \" conan \" \\' going make splash even greater arnold schwarzenegger , jean - claud van damme steven segal .'"
      ]
     },
     "execution_count": 55,
     "metadata": {},
     "output_type": "execute_result"
    }
   ],
   "source": [
    "processed_train_ds[0]['processed_text']"
   ]
  },
  {
   "cell_type": "code",
   "execution_count": 56,
   "id": "bc15dd98",
   "metadata": {
    "ExecuteTime": {
     "end_time": "2024-09-10T15:12:56.592082Z",
     "start_time": "2024-09-10T15:12:56.580708Z"
    },
    "colab": {
     "base_uri": "https://localhost:8080/"
    },
    "id": "bc15dd98",
    "outputId": "8cee06ba-1c55-46f6-d5e4-f57ba55b8677"
   },
   "outputs": [
    {
     "data": {
      "text/plain": [
       "Dataset({\n",
       "    features: ['label', 'processed_text'],\n",
       "    num_rows: 8530\n",
       "})"
      ]
     },
     "execution_count": 56,
     "metadata": {},
     "output_type": "execute_result"
    }
   ],
   "source": [
    "# we can use the .remove_columns method to remove the original text field\n",
    "# this operation is not inplace!\n",
    "processed_train_ds.remove_columns('text')"
   ]
  },
  {
   "cell_type": "markdown",
   "id": "b5b023b6",
   "metadata": {
    "id": "b5b023b6"
   },
   "source": [
    "####  Multiprocessing\n",
    "We can speed this up by using multiples cores. Set the `num_proc` parameter in `.map()` to set the number of processes to use:"
   ]
  },
  {
   "cell_type": "code",
   "execution_count": 57,
   "id": "c675c275",
   "metadata": {
    "ExecuteTime": {
     "end_time": "2024-09-10T15:12:57.053469Z",
     "start_time": "2024-09-10T15:12:57.033376Z"
    },
    "colab": {
     "base_uri": "https://localhost:8080/",
     "height": 49,
     "referenced_widgets": [
      "ce38a8be9770438492cb1dc1db188450",
      "60de6f52fc32428cb0aa22e533792448",
      "28d55329d5d54fe4bcc787ae7372d62e",
      "605b5ca7e3dd436d940dba6bd0209025",
      "ceaefab69e4e4546b0b1248b17a97410",
      "f22744d239cb47e08abb0d6d89c868da",
      "16778fc5902e406fb9a07f3fab5f6119",
      "92bba77753fa43739ad18a9fa82d20c2",
      "6c1f6ff1ae944123964011789d6417b0",
      "b3137b40c7ef48208b8b44a512e53e3d",
      "df5a664a3a334b39943af453153ad2fc"
     ]
    },
    "id": "c675c275",
    "outputId": "e829d0c2-cb06-4e81-e84a-9b2ca7a6c8d9"
   },
   "outputs": [
    {
     "data": {
      "application/vnd.jupyter.widget-view+json": {
       "model_id": "ce38a8be9770438492cb1dc1db188450",
       "version_major": 2,
       "version_minor": 0
      },
      "text/plain": [
       "Map (num_proc=2):   0%|          | 0/8530 [00:00<?, ? examples/s]"
      ]
     },
     "metadata": {},
     "output_type": "display_data"
    }
   ],
   "source": [
    "processed_train_ds = train_ds.map(remove_stop_words_pipeline_indiviually, num_proc=2)"
   ]
  },
  {
   "cell_type": "code",
   "execution_count": 58,
   "id": "bd97b1b1",
   "metadata": {
    "ExecuteTime": {
     "end_time": "2024-09-10T15:12:57.259625Z",
     "start_time": "2024-09-10T15:12:57.252663Z"
    },
    "colab": {
     "base_uri": "https://localhost:8080/"
    },
    "id": "bd97b1b1",
    "outputId": "f73f364f-fb6e-4dfb-829a-8eab34ea38c2"
   },
   "outputs": [
    {
     "data": {
      "text/plain": [
       "Dataset({\n",
       "    features: ['text', 'label', 'processed_text'],\n",
       "    num_rows: 8530\n",
       "})"
      ]
     },
     "execution_count": 58,
     "metadata": {},
     "output_type": "execute_result"
    }
   ],
   "source": [
    "processed_train_ds"
   ]
  },
  {
   "cell_type": "markdown",
   "id": "459f530f",
   "metadata": {
    "id": "459f530f"
   },
   "source": [
    "#### Batch processing\n",
    "`.map()` also operates on batches of items. To use this feature set `batched=True` and set the batch_size to the number items on each batch, by default, `batch_size=1_000`.\n",
    "\n",
    "Our function `remove_stop_words_pipeline_indiviually` works on individual rows. To enable batch processing, we modify our function to process multiple texts instead of a single item at a time."
   ]
  },
  {
   "cell_type": "code",
   "execution_count": 59,
   "id": "55ce6b06",
   "metadata": {
    "ExecuteTime": {
     "end_time": "2024-09-10T15:12:57.702320Z",
     "start_time": "2024-09-10T15:12:57.698197Z"
    },
    "id": "55ce6b06"
   },
   "outputs": [],
   "source": [
    "def remove_stop_words_pipeline_batches(example: Dict[str, List[Any]]) -> Dict[str, List[str]]:\n",
    "    processed_texts = [remove_stop_words(text) for text in example['text']]\n",
    "    return {'processed_text': processed_texts}"
   ]
  },
  {
   "cell_type": "code",
   "execution_count": 60,
   "id": "0e0c682a",
   "metadata": {
    "ExecuteTime": {
     "end_time": "2024-09-10T15:12:57.928429Z",
     "start_time": "2024-09-10T15:12:57.918873Z"
    },
    "colab": {
     "base_uri": "https://localhost:8080/",
     "height": 49,
     "referenced_widgets": [
      "55be9af9ca664ff1ae3f8f031fb6f262",
      "d98ee8c62fe84fa4a4012a7b397bc57d",
      "51abdd242dd54bf69b9d07157b9aa4c7",
      "3030ec715c404ffa9f234edcc6c6531d",
      "98fd68e5b8bb4aa2899a8d8a4b1380c1",
      "878031de70d942c8901175d64071535e",
      "355ab03c62524f2e9b5d9a6f5fb5fe2b",
      "2509d4d937414e17b7ab7105e9e383a8",
      "58222d5269004c13868c6eed589f4e57",
      "5036de413b024321b416b2b9aa2be480",
      "6c67b2bcbb9c4f6faed15a5721e13aee"
     ]
    },
    "id": "0e0c682a",
    "outputId": "4645eb8b-69f3-4316-f929-e46d7a09c3a6"
   },
   "outputs": [
    {
     "data": {
      "application/vnd.jupyter.widget-view+json": {
       "model_id": "55be9af9ca664ff1ae3f8f031fb6f262",
       "version_major": 2,
       "version_minor": 0
      },
      "text/plain": [
       "Map:   0%|          | 0/8530 [00:00<?, ? examples/s]"
      ]
     },
     "metadata": {},
     "output_type": "display_data"
    }
   ],
   "source": [
    "processed_train_ds = train_ds.map(\n",
    "    remove_stop_words_pipeline_batches,\n",
    "    batched=True,\n",
    "    batch_size=1_000)"
   ]
  },
  {
   "cell_type": "code",
   "execution_count": 61,
   "id": "f21c7517",
   "metadata": {
    "ExecuteTime": {
     "end_time": "2024-09-10T15:12:58.153574Z",
     "start_time": "2024-09-10T15:12:58.146103Z"
    },
    "colab": {
     "base_uri": "https://localhost:8080/"
    },
    "id": "f21c7517",
    "outputId": "56ad2497-1301-4062-ca77-f8b6c33588e6"
   },
   "outputs": [
    {
     "data": {
      "text/plain": [
       "Dataset({\n",
       "    features: ['text', 'label', 'processed_text'],\n",
       "    num_rows: 8530\n",
       "})"
      ]
     },
     "execution_count": 61,
     "metadata": {},
     "output_type": "execute_result"
    }
   ],
   "source": [
    "processed_train_ds"
   ]
  },
  {
   "cell_type": "markdown",
   "id": "73276635",
   "metadata": {
    "id": "73276635"
   },
   "source": [
    "### Process multiple splits\n",
    "\n",
    "Most of datasets have precomputed train, validation and test splits and many processing operations must be apply to each dataset independently, instead of calling `.map()` for each dataset, we can process them simultaneously `DatasetDict.map()`.\n",
    "\n",
    "We already have a `DatasetDict` object with our train, validation and test split which was initialized at the beginning of the notebook"
   ]
  },
  {
   "cell_type": "code",
   "execution_count": 62,
   "id": "dbc484e4",
   "metadata": {
    "ExecuteTime": {
     "end_time": "2024-09-10T15:16:43.215181Z",
     "start_time": "2024-09-10T15:16:43.210107Z"
    },
    "colab": {
     "base_uri": "https://localhost:8080/"
    },
    "id": "dbc484e4",
    "outputId": "b8daa5fa-b7af-4105-cad2-026378ca0376"
   },
   "outputs": [
    {
     "data": {
      "text/plain": [
       "DatasetDict({\n",
       "    train: Dataset({\n",
       "        features: ['text', 'label'],\n",
       "        num_rows: 8530\n",
       "    })\n",
       "    validation: Dataset({\n",
       "        features: ['text', 'label'],\n",
       "        num_rows: 1066\n",
       "    })\n",
       "    test: Dataset({\n",
       "        features: ['text', 'label'],\n",
       "        num_rows: 1066\n",
       "    })\n",
       "})"
      ]
     },
     "execution_count": 62,
     "metadata": {},
     "output_type": "execute_result"
    }
   ],
   "source": [
    "dataset"
   ]
  },
  {
   "cell_type": "markdown",
   "id": "b2ff2627",
   "metadata": {
    "id": "b2ff2627"
   },
   "source": [
    "Let's remove stop words from the text for all datasets by calling the .map function as before"
   ]
  },
  {
   "cell_type": "code",
   "execution_count": 63,
   "id": "fd7854e9",
   "metadata": {
    "ExecuteTime": {
     "end_time": "2024-09-10T15:17:29.898882Z",
     "start_time": "2024-09-10T15:17:29.731813Z"
    },
    "colab": {
     "base_uri": "https://localhost:8080/",
     "height": 81,
     "referenced_widgets": [
      "3d1a3e4379114be095d67baa1cd3d3c3",
      "5df001af266c4bf28800797bca8b040f",
      "69eb9d1615204cf688c6097a16004644",
      "02ae2de302b04eda9852f585cca48d73",
      "ea9894111dbd4295b5afac1b3f421fb3",
      "7077db7191e84b9597b137f4a1401215",
      "6f4ea982378746bbbfc173e9798be335",
      "bfc097aa2f3448bd819a5e8837159106",
      "0923f54ec43348778ad1c6e4ff80ef5b",
      "c2373643b68e4a399b3807ee5f2fd2af",
      "427b0414b2a742a8b634344e48330d1b",
      "505a9e9e5fe6468c9b472dbbde7f786a",
      "c6c7db2d377b4c3695b38ead2284f690",
      "ceea4d0d271043959c702709fd029789",
      "a59f36555da446afb27093d153c2ba1a",
      "cac80189386c4076851d34182d977271",
      "0875681d92f842c8b34c43e39ba3a6db",
      "376521721bb84f63a310ca3875b0be91",
      "b2ef474d768d400491c87c1448c06306",
      "99a32058fa2e47898abc911c3d1a36ed",
      "b33603d711dc4fbd94112cba23c60f10",
      "2a96e06817a74b8ea23eba0a71509267"
     ]
    },
    "id": "fd7854e9",
    "outputId": "721feb93-8610-4dfb-dd3e-19f1c9e7b436"
   },
   "outputs": [
    {
     "data": {
      "application/vnd.jupyter.widget-view+json": {
       "model_id": "3d1a3e4379114be095d67baa1cd3d3c3",
       "version_major": 2,
       "version_minor": 0
      },
      "text/plain": [
       "Map:   0%|          | 0/1066 [00:00<?, ? examples/s]"
      ]
     },
     "metadata": {},
     "output_type": "display_data"
    },
    {
     "data": {
      "application/vnd.jupyter.widget-view+json": {
       "model_id": "505a9e9e5fe6468c9b472dbbde7f786a",
       "version_major": 2,
       "version_minor": 0
      },
      "text/plain": [
       "Map:   0%|          | 0/1066 [00:00<?, ? examples/s]"
      ]
     },
     "metadata": {},
     "output_type": "display_data"
    }
   ],
   "source": [
    "processed_dataset = dataset.map(\n",
    "    remove_stop_words_pipeline_batches,\n",
    "    batched=True,\n",
    "    batch_size=1_000)"
   ]
  },
  {
   "cell_type": "markdown",
   "id": "943c3d91",
   "metadata": {
    "id": "943c3d91"
   },
   "source": [
    "We process all datasets at the same time!"
   ]
  },
  {
   "cell_type": "code",
   "execution_count": 64,
   "id": "c42f7d86",
   "metadata": {
    "ExecuteTime": {
     "end_time": "2024-09-10T15:18:25.195392Z",
     "start_time": "2024-09-10T15:18:25.190812Z"
    },
    "colab": {
     "base_uri": "https://localhost:8080/"
    },
    "id": "c42f7d86",
    "outputId": "044848ca-8110-4996-9cbb-1ef8fdf1cf3c"
   },
   "outputs": [
    {
     "data": {
      "text/plain": [
       "DatasetDict({\n",
       "    train: Dataset({\n",
       "        features: ['text', 'label', 'processed_text'],\n",
       "        num_rows: 8530\n",
       "    })\n",
       "    validation: Dataset({\n",
       "        features: ['text', 'label', 'processed_text'],\n",
       "        num_rows: 1066\n",
       "    })\n",
       "    test: Dataset({\n",
       "        features: ['text', 'label', 'processed_text'],\n",
       "        num_rows: 1066\n",
       "    })\n",
       "})"
      ]
     },
     "execution_count": 64,
     "metadata": {},
     "output_type": "execute_result"
    }
   ],
   "source": [
    "processed_dataset"
   ]
  },
  {
   "cell_type": "markdown",
   "id": "a9f628e1",
   "metadata": {
    "id": "a9f628e1"
   },
   "source": [
    "In this notebook we cover mostof the important functionality of datasets, however, there are many more things we can do with them. Feel free to explore the full [documentation](link-to-doc.com) to fully exploid the powers of datasets."
   ]
  }
 ],
 "metadata": {
  "accelerator": "GPU",
  "colab": {
   "gpuType": "T4",
   "provenance": []
  },
  "kernelspec": {
   "display_name": "Python 3 (ipykernel)",
   "language": "python",
   "name": "python3"
  },
  "language_info": {
   "codemirror_mode": {
    "name": "ipython",
    "version": 3
   },
   "file_extension": ".py",
   "mimetype": "text/x-python",
   "name": "python",
   "nbconvert_exporter": "python",
   "pygments_lexer": "ipython3",
   "version": "3.12.8"
  },
  "toc": {
   "base_numbering": 1,
   "nav_menu": {},
   "number_sections": true,
   "sideBar": true,
   "skip_h1_title": false,
   "title_cell": "Table of Contents",
   "title_sidebar": "Contents",
   "toc_cell": false,
   "toc_position": {},
   "toc_section_display": true,
   "toc_window_display": false
  }
 },
 "nbformat": 4,
 "nbformat_minor": 5
}
