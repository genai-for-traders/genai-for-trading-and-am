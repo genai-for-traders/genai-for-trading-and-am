{
 "cells": [
  {
   "cell_type": "markdown",
   "metadata": {
    "id": "SV7oF7BL7Lfq"
   },
   "source": [
    "# Faster FinBERT for Financial Sentiment Analysis\n",
    "\n",
    "In this notebook, we demonstrate a practical application of knowledge distillation and model compression to speed up model inference.\n",
    "In this example, we will create a smaller, faster version of FinBERT, a model that has been specialized for financial sentiment analysis.\n",
    "\n",
    "If you want to review the theory behind the content of this notebook, please refer to Chapters 9 and 10 of the book.\n",
    "\n",
    "\n"
   ]
  },
  {
   "cell_type": "markdown",
   "metadata": {
    "id": "N_tAEUwIqA5e"
   },
   "source": [
    "## Install packages"
   ]
  },
  {
   "cell_type": "code",
   "execution_count": 1,
   "metadata": {
    "colab": {
     "base_uri": "https://localhost:8080/"
    },
    "id": "SuG9iPDd7Lfq",
    "outputId": "12f6935c-d724-4172-a961-af03da0091ab"
   },
   "outputs": [
    {
     "name": "stdout",
     "output_type": "stream",
     "text": [
      "Collecting evaluate\n",
      "  Downloading evaluate-0.4.3-py3-none-any.whl.metadata (9.2 kB)\n",
      "Collecting datasets>=2.0.0 (from evaluate)\n",
      "  Downloading datasets-3.5.1-py3-none-any.whl.metadata (19 kB)\n",
      "Requirement already satisfied: numpy>=1.17 in /usr/local/lib/python3.11/dist-packages (from evaluate) (2.0.2)\n",
      "Collecting dill (from evaluate)\n",
      "  Downloading dill-0.4.0-py3-none-any.whl.metadata (10 kB)\n",
      "Requirement already satisfied: pandas in /usr/local/lib/python3.11/dist-packages (from evaluate) (2.2.2)\n",
      "Requirement already satisfied: requests>=2.19.0 in /usr/local/lib/python3.11/dist-packages (from evaluate) (2.32.3)\n",
      "Requirement already satisfied: tqdm>=4.62.1 in /usr/local/lib/python3.11/dist-packages (from evaluate) (4.67.1)\n",
      "Collecting xxhash (from evaluate)\n",
      "  Downloading xxhash-3.5.0-cp311-cp311-manylinux_2_17_x86_64.manylinux2014_x86_64.whl.metadata (12 kB)\n",
      "Collecting multiprocess (from evaluate)\n",
      "  Downloading multiprocess-0.70.18-py311-none-any.whl.metadata (7.5 kB)\n",
      "Requirement already satisfied: fsspec>=2021.05.0 in /usr/local/lib/python3.11/dist-packages (from fsspec[http]>=2021.05.0->evaluate) (2025.3.2)\n",
      "Requirement already satisfied: huggingface-hub>=0.7.0 in /usr/local/lib/python3.11/dist-packages (from evaluate) (0.30.2)\n",
      "Requirement already satisfied: packaging in /usr/local/lib/python3.11/dist-packages (from evaluate) (24.2)\n",
      "Requirement already satisfied: filelock in /usr/local/lib/python3.11/dist-packages (from datasets>=2.0.0->evaluate) (3.18.0)\n",
      "Requirement already satisfied: pyarrow>=15.0.0 in /usr/local/lib/python3.11/dist-packages (from datasets>=2.0.0->evaluate) (18.1.0)\n",
      "Collecting dill (from evaluate)\n",
      "  Downloading dill-0.3.8-py3-none-any.whl.metadata (10 kB)\n",
      "Collecting multiprocess (from evaluate)\n",
      "  Downloading multiprocess-0.70.16-py311-none-any.whl.metadata (7.2 kB)\n",
      "Collecting fsspec>=2021.05.0 (from fsspec[http]>=2021.05.0->evaluate)\n",
      "  Downloading fsspec-2025.3.0-py3-none-any.whl.metadata (11 kB)\n",
      "Requirement already satisfied: aiohttp in /usr/local/lib/python3.11/dist-packages (from datasets>=2.0.0->evaluate) (3.11.15)\n",
      "Requirement already satisfied: pyyaml>=5.1 in /usr/local/lib/python3.11/dist-packages (from datasets>=2.0.0->evaluate) (6.0.2)\n",
      "Requirement already satisfied: typing-extensions>=3.7.4.3 in /usr/local/lib/python3.11/dist-packages (from huggingface-hub>=0.7.0->evaluate) (4.13.2)\n",
      "Requirement already satisfied: charset-normalizer<4,>=2 in /usr/local/lib/python3.11/dist-packages (from requests>=2.19.0->evaluate) (3.4.1)\n",
      "Requirement already satisfied: idna<4,>=2.5 in /usr/local/lib/python3.11/dist-packages (from requests>=2.19.0->evaluate) (3.10)\n",
      "Requirement already satisfied: urllib3<3,>=1.21.1 in /usr/local/lib/python3.11/dist-packages (from requests>=2.19.0->evaluate) (2.4.0)\n",
      "Requirement already satisfied: certifi>=2017.4.17 in /usr/local/lib/python3.11/dist-packages (from requests>=2.19.0->evaluate) (2025.1.31)\n",
      "Requirement already satisfied: python-dateutil>=2.8.2 in /usr/local/lib/python3.11/dist-packages (from pandas->evaluate) (2.9.0.post0)\n",
      "Requirement already satisfied: pytz>=2020.1 in /usr/local/lib/python3.11/dist-packages (from pandas->evaluate) (2025.2)\n",
      "Requirement already satisfied: tzdata>=2022.7 in /usr/local/lib/python3.11/dist-packages (from pandas->evaluate) (2025.2)\n",
      "Requirement already satisfied: aiohappyeyeballs>=2.3.0 in /usr/local/lib/python3.11/dist-packages (from aiohttp->datasets>=2.0.0->evaluate) (2.6.1)\n",
      "Requirement already satisfied: aiosignal>=1.1.2 in /usr/local/lib/python3.11/dist-packages (from aiohttp->datasets>=2.0.0->evaluate) (1.3.2)\n",
      "Requirement already satisfied: attrs>=17.3.0 in /usr/local/lib/python3.11/dist-packages (from aiohttp->datasets>=2.0.0->evaluate) (25.3.0)\n",
      "Requirement already satisfied: frozenlist>=1.1.1 in /usr/local/lib/python3.11/dist-packages (from aiohttp->datasets>=2.0.0->evaluate) (1.6.0)\n",
      "Requirement already satisfied: multidict<7.0,>=4.5 in /usr/local/lib/python3.11/dist-packages (from aiohttp->datasets>=2.0.0->evaluate) (6.4.3)\n",
      "Requirement already satisfied: propcache>=0.2.0 in /usr/local/lib/python3.11/dist-packages (from aiohttp->datasets>=2.0.0->evaluate) (0.3.1)\n",
      "Requirement already satisfied: yarl<2.0,>=1.17.0 in /usr/local/lib/python3.11/dist-packages (from aiohttp->datasets>=2.0.0->evaluate) (1.20.0)\n",
      "Requirement already satisfied: six>=1.5 in /usr/local/lib/python3.11/dist-packages (from python-dateutil>=2.8.2->pandas->evaluate) (1.17.0)\n",
      "Downloading evaluate-0.4.3-py3-none-any.whl (84 kB)\n",
      "\u001b[2K   \u001b[90m━━━━━━━━━━━━━━━━━━━━━━━━━━━━━━━━━━━━━━━━\u001b[0m \u001b[32m84.0/84.0 kB\u001b[0m \u001b[31m3.4 MB/s\u001b[0m eta \u001b[36m0:00:00\u001b[0m\n",
      "\u001b[?25hDownloading datasets-3.5.1-py3-none-any.whl (491 kB)\n",
      "\u001b[2K   \u001b[90m━━━━━━━━━━━━━━━━━━━━━━━━━━━━━━━━━━━━━━━━\u001b[0m \u001b[32m491.4/491.4 kB\u001b[0m \u001b[31m20.2 MB/s\u001b[0m eta \u001b[36m0:00:00\u001b[0m\n",
      "\u001b[?25hDownloading dill-0.3.8-py3-none-any.whl (116 kB)\n",
      "\u001b[2K   \u001b[90m━━━━━━━━━━━━━━━━━━━━━━━━━━━━━━━━━━━━━━━━\u001b[0m \u001b[32m116.3/116.3 kB\u001b[0m \u001b[31m10.8 MB/s\u001b[0m eta \u001b[36m0:00:00\u001b[0m\n",
      "\u001b[?25hDownloading fsspec-2025.3.0-py3-none-any.whl (193 kB)\n",
      "\u001b[2K   \u001b[90m━━━━━━━━━━━━━━━━━━━━━━━━━━━━━━━━━━━━━━━━\u001b[0m \u001b[32m193.6/193.6 kB\u001b[0m \u001b[31m11.6 MB/s\u001b[0m eta \u001b[36m0:00:00\u001b[0m\n",
      "\u001b[?25hDownloading multiprocess-0.70.16-py311-none-any.whl (143 kB)\n",
      "\u001b[2K   \u001b[90m━━━━━━━━━━━━━━━━━━━━━━━━━━━━━━━━━━━━━━━━\u001b[0m \u001b[32m143.5/143.5 kB\u001b[0m \u001b[31m11.9 MB/s\u001b[0m eta \u001b[36m0:00:00\u001b[0m\n",
      "\u001b[?25hDownloading xxhash-3.5.0-cp311-cp311-manylinux_2_17_x86_64.manylinux2014_x86_64.whl (194 kB)\n",
      "\u001b[2K   \u001b[90m━━━━━━━━━━━━━━━━━━━━━━━━━━━━━━━━━━━━━━━━\u001b[0m \u001b[32m194.8/194.8 kB\u001b[0m \u001b[31m11.0 MB/s\u001b[0m eta \u001b[36m0:00:00\u001b[0m\n",
      "\u001b[?25hInstalling collected packages: xxhash, fsspec, dill, multiprocess, datasets, evaluate\n",
      "  Attempting uninstall: fsspec\n",
      "    Found existing installation: fsspec 2025.3.2\n",
      "    Uninstalling fsspec-2025.3.2:\n",
      "      Successfully uninstalled fsspec-2025.3.2\n",
      "\u001b[31mERROR: pip's dependency resolver does not currently take into account all the packages that are installed. This behaviour is the source of the following dependency conflicts.\n",
      "torch 2.6.0+cu124 requires nvidia-cublas-cu12==12.4.5.8; platform_system == \"Linux\" and platform_machine == \"x86_64\", but you have nvidia-cublas-cu12 12.5.3.2 which is incompatible.\n",
      "torch 2.6.0+cu124 requires nvidia-cuda-cupti-cu12==12.4.127; platform_system == \"Linux\" and platform_machine == \"x86_64\", but you have nvidia-cuda-cupti-cu12 12.5.82 which is incompatible.\n",
      "torch 2.6.0+cu124 requires nvidia-cuda-nvrtc-cu12==12.4.127; platform_system == \"Linux\" and platform_machine == \"x86_64\", but you have nvidia-cuda-nvrtc-cu12 12.5.82 which is incompatible.\n",
      "torch 2.6.0+cu124 requires nvidia-cuda-runtime-cu12==12.4.127; platform_system == \"Linux\" and platform_machine == \"x86_64\", but you have nvidia-cuda-runtime-cu12 12.5.82 which is incompatible.\n",
      "torch 2.6.0+cu124 requires nvidia-cudnn-cu12==9.1.0.70; platform_system == \"Linux\" and platform_machine == \"x86_64\", but you have nvidia-cudnn-cu12 9.3.0.75 which is incompatible.\n",
      "torch 2.6.0+cu124 requires nvidia-cufft-cu12==11.2.1.3; platform_system == \"Linux\" and platform_machine == \"x86_64\", but you have nvidia-cufft-cu12 11.2.3.61 which is incompatible.\n",
      "torch 2.6.0+cu124 requires nvidia-curand-cu12==10.3.5.147; platform_system == \"Linux\" and platform_machine == \"x86_64\", but you have nvidia-curand-cu12 10.3.6.82 which is incompatible.\n",
      "torch 2.6.0+cu124 requires nvidia-cusolver-cu12==11.6.1.9; platform_system == \"Linux\" and platform_machine == \"x86_64\", but you have nvidia-cusolver-cu12 11.6.3.83 which is incompatible.\n",
      "torch 2.6.0+cu124 requires nvidia-cusparse-cu12==12.3.1.170; platform_system == \"Linux\" and platform_machine == \"x86_64\", but you have nvidia-cusparse-cu12 12.5.1.3 which is incompatible.\n",
      "torch 2.6.0+cu124 requires nvidia-nvjitlink-cu12==12.4.127; platform_system == \"Linux\" and platform_machine == \"x86_64\", but you have nvidia-nvjitlink-cu12 12.5.82 which is incompatible.\n",
      "gcsfs 2025.3.2 requires fsspec==2025.3.2, but you have fsspec 2025.3.0 which is incompatible.\u001b[0m\u001b[31m\n",
      "\u001b[0mSuccessfully installed datasets-3.5.1 dill-0.3.8 evaluate-0.4.3 fsspec-2025.3.0 multiprocess-0.70.16 xxhash-3.5.0\n"
     ]
    }
   ],
   "source": [
    "!pip install evaluate"
   ]
  },
  {
   "cell_type": "code",
   "execution_count": 2,
   "metadata": {
    "id": "wxWvn8DF7Lfr"
   },
   "outputs": [],
   "source": [
    "import pandas as pd\n",
    "from datasets import load_dataset\n",
    "import torch\n",
    "from transformers import AutoTokenizer\n",
    "import numpy as np\n",
    "import matplotlib.pyplot as plt\n",
    "from mpl_toolkits.axes_grid1.inset_locator import zoomed_inset_axes, mark_inset\n",
    "import time\n",
    "import pprint"
   ]
  },
  {
   "cell_type": "code",
   "execution_count": 3,
   "metadata": {
    "id": "-1jstsP17Lfr"
   },
   "outputs": [],
   "source": [
    "device = (\n",
    "    torch.device('cuda:0')\n",
    "    if torch.cuda.is_available() else\n",
    "    torch.device('cpu')\n",
    ")"
   ]
  },
  {
   "cell_type": "markdown",
   "metadata": {
    "id": "q8J_AVFf7Lfr"
   },
   "source": [
    "## Setup\n",
    "\n",
    "Our teacher model will be [FinBERT](https://huggingface.co/ProsusAI/finbert), published by ProsusAI, a model trained to predict the sentiment of financial news. FinBERT is based on the original BERT architecture and has around 109 million parameters.\n",
    "\n",
    "\n",
    "Our student model will be based on [distilBERT](https://huggingface.co/distilbert/distilbert-base-uncased), which has about 66 million parameters. This is a smaller version of BERT, trained using knowledge distillation from the original BERT model.\n",
    "\n"
   ]
  },
  {
   "cell_type": "code",
   "execution_count": 4,
   "metadata": {
    "id": "KYK89wMH7Lfr"
   },
   "outputs": [],
   "source": [
    "TEACHER_MODEL_NAME = \"ProsusAI/finbert\"\n",
    "STUDENT_MODEL_NAME = \"distilbert/distilbert-base-uncased\""
   ]
  },
  {
   "cell_type": "markdown",
   "metadata": {
    "id": "9po8QptE7Lfr"
   },
   "source": [
    "## Data\n",
    "\n",
    "We will use the [Financial PhraseBank dataset](https://arxiv.org/abs/1307.5336), introduced in the paper by Malo et al. (2014), which is one of the datasets used to develop FinBERT. The dataset consists of 4,846 sentences from English-language financial news, categorized into three sentiment classes: negative, neutral, and positive. The data was annotated by 16 individuals with backgrounds in finance and business.\n",
    "\n",
    "To make access easier and ensure long-term reproducibility, a copy of the dataset processed has been published in the Hugging Face repo associated with this book. We'll load it directly from there."
   ]
  },
  {
   "cell_type": "code",
   "execution_count": 5,
   "metadata": {
    "id": "W1pVilU97Lfr"
   },
   "outputs": [],
   "source": [
    "DATA_NAME = \"gatam4t/genai4t_financial_phrase_bank\""
   ]
  },
  {
   "cell_type": "code",
   "execution_count": 6,
   "metadata": {
    "colab": {
     "base_uri": "https://localhost:8080/",
     "height": 363,
     "referenced_widgets": [
      "bffb3ccaf1864da2aee329da618f024f",
      "008ece99d3624f91b55a6538c25ff157",
      "48a54c5886264d838efea6979d8906cb",
      "16558ca5625c40d5b3960b67912ebd62",
      "2c92daf7e3cb471083a4a69c7a5d23a6",
      "36b3d39820374f92b6e4130cc4e25ab3",
      "97b17603b2e049269fee2ea96f1a6817",
      "a06856f9bf5f40c18489fb573e9fd809",
      "fcc68115398546f482d8289813d25d0f",
      "144da68d7dc54dacae6efff6e866fae2",
      "a2fbb3cfd6c248bd88b3f7b41837eeab",
      "9920d6f1dc854bdebbe74484aeff8e9c",
      "9d811ae95c7d47cdb11de0e6114bd413",
      "5c241a6a68f74e88aa4fdbe4a1ebf497",
      "1d913eb759b44c53aa1d8d5199703cc1",
      "af7f009ecd354e999733401cb9a181e7",
      "75d0278ccdf34588b93c87b989eb4fd6",
      "43634ba8d337479dba41f23da4626d9a",
      "9a9a785acf054c208ae0dc486eee1b6f",
      "f79c916b4d224b06b266c8909961c67c",
      "8197a9d1023b42db8bf3367f40718f85",
      "250433d43a4f498ca7e93aec3f71545b",
      "2630068d4f1048aaaef3d72799e686f9",
      "68885137510447c18a68cd59b9e404bb",
      "7e615e8e25594fe2abab43b63aaea80d",
      "3626564747cc4600b3ec66d43c8ef3f1",
      "679fb7558f004015bf59a13500b9b2bd",
      "78ad97c2c44842bd983e5bd379fdef53",
      "4c37dfe3d5974555b4da63de5e64d2c0",
      "8350b306ee11402992c8470f1360173f",
      "76edffc92d8f41ed8ee70773187911c5",
      "182de050617f480fa4dac1f821133c65",
      "ab7d00a9c77544aba69a3873ba820b22",
      "8b543d0522b841bf95a42a466c78fee4",
      "daa33bae295b4943b99afbc631fa6c88",
      "15443006e5cd4b50a021e1c9a5f664dc",
      "277013127e0f4b37afc86ad563941495",
      "a9fe693803284cb2a899e98ca5686972",
      "0d8536ee8029446f9f335d2a377e8aec",
      "6c2826de47c24159b19c04f67025d2de",
      "05194adfafd74c08bbac2318204a1ee8",
      "03b51f6b287f4ce9a16e34d257f90d04",
      "f940476c51354c4a8a6dc82bdba3f98d",
      "b1e6dd984ed14fcb88befec28139796d",
      "4ef58b3159a045a1bdb07f1039d7ddda",
      "58f0c8640e2a411c8886bdf84cef12e3",
      "6985dbb8e9c14d31b29f84a33c6556ce",
      "b6b42a970c8d4999aeb1b195b30be40f",
      "55245fd1428e4dcbb4b63fa12dba4027",
      "165ed01552a44f1099f13639568dcaa4",
      "56bc632fc787471a8b5e5af67c286d58",
      "6996b8baa7ed440f8ead38dc597fe9a6",
      "d63f4a6217ac48f7b1d1bd900bcbb081",
      "adacf6c6951c4a259e1b8daf0bb79335",
      "992c494093cf47e8a7a9d98e1461e90b",
      "8ef25af3fc894ec0a3e94d3d12423f74",
      "e95b8e79a8a44a66ad23c360bcd8392c",
      "1bce03c2171546f3bb3da0f776d58167",
      "c11ccc879d6c49af9caa719eefb04b21",
      "bfe11bf6848f4e479971958ce7f16dcf",
      "8c912bbc2c2f4b7c8c718acdb19427af",
      "792ab7fb104641059f316bd14f12a730",
      "a83dcd389f76417e8625519ce8b2e69b",
      "95bf024b9fac4f678bba97a44685d291",
      "728eb5e39698400fbdb18a7e05454775",
      "b0dd0fbe292b408c8cf71ae4b6090b45",
      "21e02d767e874657a313a98b2594b9c8",
      "09dc3dc8bb0c4fc5803c115c70262b2a",
      "2e4cc221c5ea417a8a8c95689b07ae9a",
      "cc593497ea4b4225bc235b15b1cb3caf",
      "5dda1a8e505047779c84963daa898656",
      "91099a3a4c4a458aace30422f309e1dc",
      "f6d77c235355466e9827f4f3c38dfe68",
      "098b2acdfccb42188f73d4fc0caf9a7a",
      "c1886b4d7fca40bc86053578136de186",
      "61b22e4d39c143e3905663931c7ff463",
      "bbd4ff60a2444147b2b7aceadfe03350"
     ]
    },
    "id": "4zjHBGxGiEIU",
    "outputId": "2288496e-5d6d-417f-deb2-831f515bb826"
   },
   "outputs": [
    {
     "name": "stderr",
     "output_type": "stream",
     "text": [
      "/usr/local/lib/python3.11/dist-packages/huggingface_hub/utils/_auth.py:94: UserWarning: \n",
      "The secret `HF_TOKEN` does not exist in your Colab secrets.\n",
      "To authenticate with the Hugging Face Hub, create a token in your settings tab (https://huggingface.co/settings/tokens), set it as secret in your Google Colab and restart your session.\n",
      "You will be able to reuse this secret in all of your notebooks.\n",
      "Please note that authentication is recommended but still optional to access public models or datasets.\n",
      "  warnings.warn(\n"
     ]
    },
    {
     "data": {
      "application/vnd.jupyter.widget-view+json": {
       "model_id": "bffb3ccaf1864da2aee329da618f024f",
       "version_major": 2,
       "version_minor": 0
      },
      "text/plain": [
       "README.md:   0%|          | 0.00/549 [00:00<?, ?B/s]"
      ]
     },
     "metadata": {},
     "output_type": "display_data"
    },
    {
     "data": {
      "application/vnd.jupyter.widget-view+json": {
       "model_id": "9920d6f1dc854bdebbe74484aeff8e9c",
       "version_major": 2,
       "version_minor": 0
      },
      "text/plain": [
       "train-00000-of-00001.parquet:   0%|          | 0.00/297k [00:00<?, ?B/s]"
      ]
     },
     "metadata": {},
     "output_type": "display_data"
    },
    {
     "data": {
      "application/vnd.jupyter.widget-view+json": {
       "model_id": "2630068d4f1048aaaef3d72799e686f9",
       "version_major": 2,
       "version_minor": 0
      },
      "text/plain": [
       "validation-00000-of-00001.parquet:   0%|          | 0.00/34.8k [00:00<?, ?B/s]"
      ]
     },
     "metadata": {},
     "output_type": "display_data"
    },
    {
     "data": {
      "application/vnd.jupyter.widget-view+json": {
       "model_id": "8b543d0522b841bf95a42a466c78fee4",
       "version_major": 2,
       "version_minor": 0
      },
      "text/plain": [
       "test-00000-of-00001.parquet:   0%|          | 0.00/83.3k [00:00<?, ?B/s]"
      ]
     },
     "metadata": {},
     "output_type": "display_data"
    },
    {
     "data": {
      "application/vnd.jupyter.widget-view+json": {
       "model_id": "4ef58b3159a045a1bdb07f1039d7ddda",
       "version_major": 2,
       "version_minor": 0
      },
      "text/plain": [
       "Generating train split:   0%|          | 0/3488 [00:00<?, ? examples/s]"
      ]
     },
     "metadata": {},
     "output_type": "display_data"
    },
    {
     "data": {
      "application/vnd.jupyter.widget-view+json": {
       "model_id": "8ef25af3fc894ec0a3e94d3d12423f74",
       "version_major": 2,
       "version_minor": 0
      },
      "text/plain": [
       "Generating validation split:   0%|          | 0/388 [00:00<?, ? examples/s]"
      ]
     },
     "metadata": {},
     "output_type": "display_data"
    },
    {
     "data": {
      "application/vnd.jupyter.widget-view+json": {
       "model_id": "21e02d767e874657a313a98b2594b9c8",
       "version_major": 2,
       "version_minor": 0
      },
      "text/plain": [
       "Generating test split:   0%|          | 0/970 [00:00<?, ? examples/s]"
      ]
     },
     "metadata": {},
     "output_type": "display_data"
    }
   ],
   "source": [
    "dataset = load_dataset(DATA_NAME)"
   ]
  },
  {
   "cell_type": "code",
   "execution_count": 7,
   "metadata": {
    "colab": {
     "base_uri": "https://localhost:8080/"
    },
    "id": "SvegOYz3xaN0",
    "outputId": "b4e05ebe-9a8d-4187-fc79-61362f036a6b"
   },
   "outputs": [
    {
     "data": {
      "text/plain": [
       "DatasetDict({\n",
       "    train: Dataset({\n",
       "        features: ['text', 'class', 'label'],\n",
       "        num_rows: 3488\n",
       "    })\n",
       "    validation: Dataset({\n",
       "        features: ['text', 'class', 'label'],\n",
       "        num_rows: 388\n",
       "    })\n",
       "    test: Dataset({\n",
       "        features: ['text', 'class', 'label'],\n",
       "        num_rows: 970\n",
       "    })\n",
       "})"
      ]
     },
     "execution_count": 7,
     "metadata": {},
     "output_type": "execute_result"
    }
   ],
   "source": [
    "dataset"
   ]
  },
  {
   "cell_type": "code",
   "execution_count": 8,
   "metadata": {
    "colab": {
     "base_uri": "https://localhost:8080/"
    },
    "id": "8AJ5bQqV7Lfr",
    "outputId": "5476587d-cbe8-471d-9f5f-94ff2044939d"
   },
   "outputs": [
    {
     "data": {
      "text/plain": [
       "{'text': 'After the reporting period , BioTie North American licensing partner Somaxon Pharmaceuticals announced positive results with nalmefene in a pilot Phase 2 clinical trial for smoking cessation ',\n",
       " 'class': 'positive',\n",
       " 'label': 0}"
      ]
     },
     "execution_count": 8,
     "metadata": {},
     "output_type": "execute_result"
    }
   ],
   "source": [
    "dataset['train'][0]"
   ]
  },
  {
   "cell_type": "markdown",
   "metadata": {
    "id": "qw07bNIq7Lfr"
   },
   "source": [
    "### Preprocessing and Tokenizing the Dataset\n",
    "\n",
    "Next, we will tokenize the entire dataset using the `.map` method. This will add the `input_ids` and `attention_mask` fields, which are required for model input.  \n",
    "Moreover, we will remove the `text` and `class` fields from the dataset, as they are no longer needed.\n",
    "\n",
    "\n",
    "*Note: This implementation assumes that both models use the same tokenizer, which, in this case, they do.*"
   ]
  },
  {
   "cell_type": "code",
   "execution_count": 9,
   "metadata": {
    "colab": {
     "base_uri": "https://localhost:8080/",
     "height": 145,
     "referenced_widgets": [
      "01bdbc0c2a61440ab04b4e82a96f3c15",
      "cca5f6bb6ad64605b189a4c583e25197",
      "0c19a85c7e034671a78d7029b0f47e56",
      "f95cc8aa6a2f48b88bf2a8a26b120f50",
      "9161cba387154d3499eb2a96d66fa321",
      "f71764efbe86404e98ca990f07537b69",
      "336149dfc9264e2d995007cecb4b0b20",
      "cb3f94d903884e8aa5bd083c82348c71",
      "646a19400452453c97149966633ba2d6",
      "3ad650f7cff9461d9f07ebd40e8d6ca3",
      "4b36b08b5061480cb6c4ba91a62021dc",
      "f70285d58a6e4040b15395ad727ea580",
      "3687a1c4b3434d61b770f24d0faaf8e3",
      "39db0e7f50a1461aa95e5b518362adae",
      "44313400901d4df4ac68a5e3d20356ec",
      "ba5113a935914ab2884b486d2f536ec3",
      "ecb3506c542e4adfa283c7b9f91cc0ad",
      "86ae64de9ae044f688d39f2b46ba4ae7",
      "9e943c14d00b4cfe876a7fca48cff13b",
      "674ad246a9414e3b958cfa9b77871b24",
      "885347e4becb460f98fb732a772657bb",
      "2a430f1787dd41dfbf6b913548141390",
      "011ca8bfde114074a27dd76a72e9ec54",
      "8c34b2f428e64e06a9fa3179cb28a714",
      "ca22d53a2c8447e9a17e48ff094403ce",
      "976b1b71fd9b4340993e3c7c46b69515",
      "4401891555b146c8a48510d214fb137b",
      "139f156d11904dd49fbfeb2c11b669dc",
      "9b851f72aafc430693fbd52a4830bdb6",
      "1f92706ca2144720ad1303dc4445a785",
      "b35135ccd8fc4e2d896f13ef6f82d891",
      "563f6b7b93ed46dfb2db1a4a4bf8bd68",
      "09047d47eb6f4ce786f96560fe92190f",
      "cfb370b5673e4c4dbc09d031de5efde8",
      "074101d0487849b98abe9d457f57bd63",
      "1ae5ffcb568a44278be4edab11b3a0ce",
      "d169c9ff00124159818e64316a02a74a",
      "e56c99e1025a4e1d9f4c5ba59c922254",
      "a745277fd17a41109e1985ef7c20159c",
      "b235fd9e7be14362917ceb34bad352d9",
      "146cfebc28764d88be62d827cd912e79",
      "05c513590a6e43bd85e569ae5cf8f8f1",
      "2319025026b84a3ea2ca6d84a127b23c",
      "5b0196d6f49349f78b7a6f4b8c786f79"
     ]
    },
    "id": "mNyxFOYY7Lfr",
    "outputId": "dbf3ff70-a761-47f7-d464-18c922b2673e"
   },
   "outputs": [
    {
     "data": {
      "application/vnd.jupyter.widget-view+json": {
       "model_id": "01bdbc0c2a61440ab04b4e82a96f3c15",
       "version_major": 2,
       "version_minor": 0
      },
      "text/plain": [
       "tokenizer_config.json:   0%|          | 0.00/48.0 [00:00<?, ?B/s]"
      ]
     },
     "metadata": {},
     "output_type": "display_data"
    },
    {
     "data": {
      "application/vnd.jupyter.widget-view+json": {
       "model_id": "f70285d58a6e4040b15395ad727ea580",
       "version_major": 2,
       "version_minor": 0
      },
      "text/plain": [
       "config.json:   0%|          | 0.00/483 [00:00<?, ?B/s]"
      ]
     },
     "metadata": {},
     "output_type": "display_data"
    },
    {
     "data": {
      "application/vnd.jupyter.widget-view+json": {
       "model_id": "011ca8bfde114074a27dd76a72e9ec54",
       "version_major": 2,
       "version_minor": 0
      },
      "text/plain": [
       "vocab.txt:   0%|          | 0.00/232k [00:00<?, ?B/s]"
      ]
     },
     "metadata": {},
     "output_type": "display_data"
    },
    {
     "data": {
      "application/vnd.jupyter.widget-view+json": {
       "model_id": "cfb370b5673e4c4dbc09d031de5efde8",
       "version_major": 2,
       "version_minor": 0
      },
      "text/plain": [
       "tokenizer.json:   0%|          | 0.00/466k [00:00<?, ?B/s]"
      ]
     },
     "metadata": {},
     "output_type": "display_data"
    }
   ],
   "source": [
    "tokenizer = AutoTokenizer.from_pretrained(STUDENT_MODEL_NAME)"
   ]
  },
  {
   "cell_type": "code",
   "execution_count": 10,
   "metadata": {
    "colab": {
     "base_uri": "https://localhost:8080/",
     "height": 113,
     "referenced_widgets": [
      "54c0b1aca3f444a5a0d5f45cc7ada727",
      "37926e303c9f47dab882eecfbbd18888",
      "85c61fa1aacb4310b7ae664584db9989",
      "12f1bb0846a34a7cb214049b0a8d800a",
      "72d9cde1b601445a961e5f2b0b7cb20a",
      "cc69d028b9894c5b81cf568121da28e7",
      "0d695f1d263c462baa06c84ad5dfdf7d",
      "92f6751348454ad08bf8ac7eb6a0e7ce",
      "957139b8a6d9476a9906971571dd65a2",
      "a93ed78ed5554602b2a80f9a9f77c951",
      "ecf62de884d14cae821bb41356227877",
      "e7231da6b24d4926ab6db8a054978a0e",
      "f0daf63b76384bdcb9f0c34c1f01b8fd",
      "b57f1b1b654640218c88da9bf27d76e3",
      "97514ca226a547818825fdf001738532",
      "44ff9cce4d854570ae227b57fd29c689",
      "0a57f9cf87cd4a93847871217e0c6488",
      "4d811ce2704a499789ca457aa82413d9",
      "cb8e6de63a674f9f996d9f3f3557e758",
      "f5b19fa6aa034c6fb6c9b879efd05181",
      "b93749e87b794da9911f4c05c2288520",
      "863727b5fdae40559e51314e9d89fb98",
      "c6453efa5f7241efa2e609ba0f9b7bb7",
      "b16814d179f74b89b7977009dcbcdc6f",
      "2c3091cf659e48c2ba7c68c31bc6fe2f",
      "f506f2030365418d9b7b7a3c0cde5a48",
      "19aeefc0fa464e79a93b97a023c3c3f1",
      "31d6148f892b440b98b02302c63a9354",
      "4cffd06624ab4f24adddb2b217a22554",
      "86767488a85047c3a4ecbaaf871991e8",
      "2292b96ac7914a72b5ea640bbd5de091",
      "326584c6f23f4d328aa8e7d31624f8a2",
      "b7f505d0b6e54be689d1d00f9d4b5812"
     ]
    },
    "id": "l8UFpXauwXNN",
    "outputId": "ba96eced-e6bb-434b-cd56-a24c59b39c41"
   },
   "outputs": [
    {
     "data": {
      "application/vnd.jupyter.widget-view+json": {
       "model_id": "54c0b1aca3f444a5a0d5f45cc7ada727",
       "version_major": 2,
       "version_minor": 0
      },
      "text/plain": [
       "Map:   0%|          | 0/3488 [00:00<?, ? examples/s]"
      ]
     },
     "metadata": {},
     "output_type": "display_data"
    },
    {
     "data": {
      "application/vnd.jupyter.widget-view+json": {
       "model_id": "e7231da6b24d4926ab6db8a054978a0e",
       "version_major": 2,
       "version_minor": 0
      },
      "text/plain": [
       "Map:   0%|          | 0/388 [00:00<?, ? examples/s]"
      ]
     },
     "metadata": {},
     "output_type": "display_data"
    },
    {
     "data": {
      "application/vnd.jupyter.widget-view+json": {
       "model_id": "c6453efa5f7241efa2e609ba0f9b7bb7",
       "version_major": 2,
       "version_minor": 0
      },
      "text/plain": [
       "Map:   0%|          | 0/970 [00:00<?, ? examples/s]"
      ]
     },
     "metadata": {},
     "output_type": "display_data"
    }
   ],
   "source": [
    "def tokenize_text(batch):\n",
    "    return tokenizer(batch['text'], truncation=True)\n",
    "\n",
    "tokenized_dataset = dataset.map(tokenize_text, batched=True, remove_columns=['text', 'class'])"
   ]
  },
  {
   "cell_type": "code",
   "execution_count": 11,
   "metadata": {
    "colab": {
     "base_uri": "https://localhost:8080/"
    },
    "id": "G4xcNl-Pwq5a",
    "outputId": "dee8cb9c-30fc-4314-8026-dfb5308bbf6c"
   },
   "outputs": [
    {
     "data": {
      "text/plain": [
       "DatasetDict({\n",
       "    train: Dataset({\n",
       "        features: ['label', 'input_ids', 'attention_mask'],\n",
       "        num_rows: 3488\n",
       "    })\n",
       "    validation: Dataset({\n",
       "        features: ['label', 'input_ids', 'attention_mask'],\n",
       "        num_rows: 388\n",
       "    })\n",
       "    test: Dataset({\n",
       "        features: ['label', 'input_ids', 'attention_mask'],\n",
       "        num_rows: 970\n",
       "    })\n",
       "})"
      ]
     },
     "execution_count": 11,
     "metadata": {},
     "output_type": "execute_result"
    }
   ],
   "source": [
    "tokenized_dataset"
   ]
  },
  {
   "cell_type": "code",
   "execution_count": 12,
   "metadata": {
    "colab": {
     "base_uri": "https://localhost:8080/"
    },
    "id": "dHYPmoMA7Lfr",
    "outputId": "ca99a983-dd8c-4973-b677-1c5c66c2d00c"
   },
   "outputs": [
    {
     "name": "stdout",
     "output_type": "stream",
     "text": [
      "label 0\n",
      "input_ids [101, 2044, 1996, 7316, 2558, 1010, 16012, 9515, 2167, 2137, 13202, 4256, 2061, 17848, 2239, 24797, 2623, 3893, 3463, 2007, 6583, 13728, 27235, 2638, 1999, 1037, 4405, 4403, 1016, 6612, 3979, 2005, 9422, 8292, 11488, 3508, 102]\n",
      "attention_mask [1, 1, 1, 1, 1, 1, 1, 1, 1, 1, 1, 1, 1, 1, 1, 1, 1, 1, 1, 1, 1, 1, 1, 1, 1, 1, 1, 1, 1, 1, 1, 1, 1, 1, 1, 1, 1]\n"
     ]
    }
   ],
   "source": [
    "item = tokenized_dataset['train'][0]\n",
    "print(\"label\", item['label'])\n",
    "print(\"input_ids\", item['input_ids'])\n",
    "print(\"attention_mask\", item['attention_mask'])"
   ]
  },
  {
   "cell_type": "markdown",
   "metadata": {
    "id": "5ma8hFO27Lfs"
   },
   "source": [
    "## Model Distillation\n",
    "\n",
    "Next, we will develop and `DistillationTrainer` and `DistillationTrainingArguments`.\n",
    "\n",
    "\n",
    "The `DistillationTrainer` implements the `compute_loss` which combines both the Cross Entropy loss of the predicted sentiment and the target sentiment and the KL divergence between the student and teacher distribution.\n",
    "\n",
    "the `DistillationTrainingArguments` adds two new parameters:\n",
    "1. `alpha`: controls the importance of the Cross Entropy loss over the KL divergence.\n",
    "2. `temperature`: temperature of the KL divergence.\n",
    "\n",
    "The code below is inspired by the  [Natural Language Processing with Transformers](https://github.com/nlp-with-transformers/notebooks/blob/main/08_model-compression.ipynb) book.\n",
    "\n",
    "More details about knowledge distillation can be found in Chapter 10 of the book."
   ]
  },
  {
   "cell_type": "code",
   "execution_count": 13,
   "metadata": {
    "colab": {
     "base_uri": "https://localhost:8080/",
     "height": 49,
     "referenced_widgets": [
      "6a1afe34b6554087a943da27aa4aa03c",
      "ded703e2d64b424d87740fbc55c526de",
      "214ddeabef8c479d85450bc2e22ecbab",
      "8b9a96cd179c45b3a802d52d9ba0d121",
      "f37ce3374356472faab6b83b501353c0",
      "180d08d9275742caae08b623a9c0efe1",
      "424dacc8acd44d6995e09d0864bcbb83",
      "ebc0bbdd5fd0410fa59525556ccc75fd",
      "b920d69d857b4942bccb1547df56cf2a",
      "6b7a9632bcb342d6b9370b30a743ecb8",
      "55df454671a3438981aabb8105dabb1a"
     ]
    },
    "id": "F9CDVzFayGF2",
    "outputId": "a7e6d33f-a567-44b2-93f6-944bc364c8eb"
   },
   "outputs": [
    {
     "data": {
      "application/vnd.jupyter.widget-view+json": {
       "model_id": "6a1afe34b6554087a943da27aa4aa03c",
       "version_major": 2,
       "version_minor": 0
      },
      "text/plain": [
       "Downloading builder script:   0%|          | 0.00/4.20k [00:00<?, ?B/s]"
      ]
     },
     "metadata": {},
     "output_type": "display_data"
    }
   ],
   "source": [
    "from transformers import TrainingArguments\n",
    "import torch.nn as nn\n",
    "import torch.nn.functional as F\n",
    "from transformers import Trainer\n",
    "import evaluate\n",
    "\n",
    "accuracy_score = evaluate.load(\"accuracy\")\n",
    "\n",
    "def compute_metrics(pred) -> float:\n",
    "    predictions, labels = pred\n",
    "    predictions = np.argmax(predictions, axis=1)\n",
    "    return accuracy_score.compute(predictions=predictions, references=labels)\n",
    "\n",
    "class DistillationTrainingArguments(TrainingArguments):\n",
    "    def __init__(\n",
    "        self,\n",
    "        *args,\n",
    "        alpha: float,\n",
    "        temperature: float,\n",
    "        **kwargs):\n",
    "        super().__init__(*args, **kwargs)\n",
    "        self.alpha = alpha\n",
    "        self.temperature = temperature\n",
    "\n",
    "\n",
    "class DistillationTrainer(Trainer):\n",
    "    def __init__(\n",
    "        self,\n",
    "        *args,\n",
    "        teacher_model: nn.Module,\n",
    "        **kwargs):\n",
    "        super().__init__(*args, **kwargs)\n",
    "        self.teacher_model = teacher_model\n",
    "\n",
    "    def compute_loss(self, model, inputs, return_outputs=False, **kwargs, ):\n",
    "        device = torch.device(\"cuda\" if torch.cuda.is_available() else \"cpu\")\n",
    "        inputs = inputs.to(device)\n",
    "        outputs_stu = model(**inputs)\n",
    "        # Extract cross-entropy loss and logits from student\n",
    "        loss_ce = outputs_stu.loss\n",
    "        logits_stu = outputs_stu.logits\n",
    "        # Extract logits from teacher\n",
    "        with torch.no_grad():\n",
    "            outputs_tea = self.teacher_model(**inputs)\n",
    "            logits_tea = outputs_tea.logits\n",
    "        # Soften probabilities and compute distillation loss\n",
    "        loss_fct = nn.KLDivLoss(reduction=\"batchmean\")\n",
    "        loss_kd = self.args.temperature ** 2 * loss_fct(\n",
    "            F.log_softmax(logits_stu / self.args.temperature, dim=-1),\n",
    "            F.softmax(logits_tea / self.args.temperature, dim=-1))\n",
    "        # Return weighted student loss\n",
    "        loss = self.args.alpha * loss_ce + (1. - self.args.alpha) * loss_kd\n",
    "        return (loss, outputs_stu) if return_outputs else loss"
   ]
  },
  {
   "cell_type": "markdown",
   "metadata": {
    "id": "jBdO8uaU7Lfs"
   },
   "source": [
    "In the next steps, we will define a configuration with our hyperparameters, and initialize the `DistillationTrainingArguments`, the teacher model, and the student model."
   ]
  },
  {
   "cell_type": "code",
   "execution_count": 14,
   "metadata": {
    "id": "0KTc79SK7Lfs"
   },
   "outputs": [],
   "source": [
    "TRAINING_CONFIG = {\n",
    "    \"batch_size\": 48,\n",
    "    \"output_dir\": \"DistiledFinbertModelLogs\",\n",
    "    \"alpha\": 0.8,\n",
    "    \"temperature\": 2.,\n",
    "    \"lr\": 2e-5,\n",
    "    \"num_train_epochs\": 5,\n",
    "    \"weight_decay\": 0.01,\n",
    "    \"model_name\": \"DistiledFinbertModel\"\n",
    "}"
   ]
  },
  {
   "cell_type": "code",
   "execution_count": 15,
   "metadata": {
    "id": "Zb6Z1KioyW3o"
   },
   "outputs": [],
   "source": [
    "# initialize student_training_args\n",
    "student_training_args = DistillationTrainingArguments(\n",
    "    output_dir=TRAINING_CONFIG[\"output_dir\"],\n",
    "    num_train_epochs=TRAINING_CONFIG[\"num_train_epochs\"],\n",
    "    learning_rate=TRAINING_CONFIG[\"lr\"],\n",
    "    per_device_train_batch_size=TRAINING_CONFIG[\"batch_size\"],\n",
    "    per_device_eval_batch_size=TRAINING_CONFIG[\"batch_size\"],\n",
    "    alpha=TRAINING_CONFIG[\"alpha\"],\n",
    "    temperature=TRAINING_CONFIG[\"temperature\"],\n",
    "    weight_decay=TRAINING_CONFIG[\"weight_decay\"],\n",
    "    push_to_hub=False,\n",
    "    use_cpu=not torch.cuda.is_available(),\n",
    "    report_to=\"none\",\n",
    ")"
   ]
  },
  {
   "cell_type": "code",
   "execution_count": 16,
   "metadata": {
    "id": "12pzyMcmysG7"
   },
   "outputs": [],
   "source": [
    "from transformers import AutoConfig\n",
    "num_labels = 3 # number of classes\n",
    "\n",
    "student_config = (AutoConfig\n",
    "                  .from_pretrained(\n",
    "                      STUDENT_MODEL_NAME,\n",
    "                      num_labels=num_labels,\n",
    "                    )\n",
    "                  )\n"
   ]
  },
  {
   "cell_type": "code",
   "execution_count": 17,
   "metadata": {
    "id": "OiMbUcWnyufq"
   },
   "outputs": [],
   "source": [
    "from transformers import AutoModelForSequenceClassification"
   ]
  },
  {
   "cell_type": "code",
   "execution_count": 18,
   "metadata": {
    "id": "vI1LbkTmyenA"
   },
   "outputs": [],
   "source": [
    "def student_init():\n",
    "    return (AutoModelForSequenceClassification\n",
    "            .from_pretrained(STUDENT_MODEL_NAME, config=student_config).to(device))"
   ]
  },
  {
   "cell_type": "code",
   "execution_count": 19,
   "metadata": {
    "colab": {
     "base_uri": "https://localhost:8080/",
     "height": 169,
     "referenced_widgets": [
      "711612354aaf48acb206e5ed221b1ad6",
      "acfc0d3f65da4bfbac68fed4ae53df26",
      "cdda4974fd774df4914a376dd69e5b70",
      "cd39a03514ea47349d5255b573a88f0d",
      "205f4f803aa5497ab0faf3fb35c73827",
      "cc86c6763bea418a9f42b9a1f4e9735d",
      "6d44ea9c422c488fb891f1b87015bb24",
      "040625f40bd84b0f884e0a5cfa613627",
      "20409c76acc646dd8c838c1eddf75866",
      "08ce04681b114e29a5fd15717213a25c",
      "815b316ccaa04e4b95fef03269d15b83",
      "acabb3124a8047b9b6736570cf528b26",
      "11308e3c6e98496193d0554159347a37",
      "f8ae11b04e2243e38f9a6e4ee705275b",
      "38f3c256d6c048198fb64e57df5637c8",
      "bce5b0f23c8643edaa0ad8d7254cf118",
      "eed125e4b48f45ddb65bc29bd83dee9f",
      "1c4763806e834e73a4c4842f6aa166fd",
      "669b09f9b7db43a5a64ffcbd1bd3b9a7",
      "96eb810c009b46a48987fe9b89f39c1c",
      "ded6a826d01b460f9f4e4b47fa2dc978",
      "72095462fc524438a2d3a1e70e306b54"
     ]
    },
    "id": "XnaT0hXlzAsF",
    "outputId": "42c4c01c-72e5-4062-a994-dedb7da16e63"
   },
   "outputs": [
    {
     "data": {
      "application/vnd.jupyter.widget-view+json": {
       "model_id": "711612354aaf48acb206e5ed221b1ad6",
       "version_major": 2,
       "version_minor": 0
      },
      "text/plain": [
       "config.json:   0%|          | 0.00/758 [00:00<?, ?B/s]"
      ]
     },
     "metadata": {},
     "output_type": "display_data"
    },
    {
     "name": "stderr",
     "output_type": "stream",
     "text": [
      "Xet Storage is enabled for this repo, but the 'hf_xet' package is not installed. Falling back to regular HTTP download. For better performance, install the package with: `pip install huggingface_hub[hf_xet]` or `pip install hf_xet`\n",
      "WARNING:huggingface_hub.file_download:Xet Storage is enabled for this repo, but the 'hf_xet' package is not installed. Falling back to regular HTTP download. For better performance, install the package with: `pip install huggingface_hub[hf_xet]` or `pip install hf_xet`\n"
     ]
    },
    {
     "data": {
      "application/vnd.jupyter.widget-view+json": {
       "model_id": "acabb3124a8047b9b6736570cf528b26",
       "version_major": 2,
       "version_minor": 0
      },
      "text/plain": [
       "pytorch_model.bin:   0%|          | 0.00/438M [00:00<?, ?B/s]"
      ]
     },
     "metadata": {},
     "output_type": "display_data"
    },
    {
     "name": "stderr",
     "output_type": "stream",
     "text": [
      "Xet Storage is enabled for this repo, but the 'hf_xet' package is not installed. Falling back to regular HTTP download. For better performance, install the package with: `pip install huggingface_hub[hf_xet]` or `pip install hf_xet`\n",
      "WARNING:huggingface_hub.file_download:Xet Storage is enabled for this repo, but the 'hf_xet' package is not installed. Falling back to regular HTTP download. For better performance, install the package with: `pip install huggingface_hub[hf_xet]` or `pip install hf_xet`\n"
     ]
    }
   ],
   "source": [
    "teacher_model = (AutoModelForSequenceClassification\n",
    "                 .from_pretrained(TEACHER_MODEL_NAME, num_labels=num_labels)\n",
    "                 .to(device))"
   ]
  },
  {
   "cell_type": "code",
   "execution_count": 20,
   "metadata": {
    "colab": {
     "base_uri": "https://localhost:8080/",
     "height": 203,
     "referenced_widgets": [
      "0c873d87e2dd4269a382d97329565d79",
      "df1d3c89076c402993fc2d6fb796419d",
      "10eebd91c0b04f9f8c94f6f78d00038f",
      "916087f930d44aa581594b994dd0bee1",
      "e29ecb45d7ac4c49a16006ada08857c0",
      "a413983af3704be89af5434ddc4bcddf",
      "e36f28067bc545038c2ea010934c7314",
      "7f0a448a352d489a9b7e33ee34bcd51f",
      "91ebd8923a4d4ea99c0189b254155e4f",
      "d27f9bcd056443e7bae3c69ac1c4d4b5",
      "e6889add91eb47288133aca78cad1187",
      "6a03350f6b0443eeb89168771891ebaa",
      "c0e3959cea354a6c975243f450affeaa",
      "6a9d24d75b4e4649adecf869bbc68b71",
      "5b4aa7af684e467cbc1ea4edc3005eae",
      "ee28a8ca8dd448aa952410223d490351",
      "4eb9faa7e11e40dbb622e7a7f228acc3",
      "407339d3166f487c80ea34f0369098e9",
      "271a56bce9924b91bdf6ab53f4ee6cab",
      "8bcd650b10464ffc923908ae79e3ae3a",
      "05bca753f9b94ee8b190878099364b9e",
      "5cd5fa89146c471db5ad112e71b9c1d7"
     ]
    },
    "id": "CtLm8m3PzFfA",
    "outputId": "869a1bda-ffb6-4634-ebdb-8a281ce8ab90"
   },
   "outputs": [
    {
     "name": "stderr",
     "output_type": "stream",
     "text": [
      "<ipython-input-13-b33990b05a93>:32: FutureWarning: `tokenizer` is deprecated and will be removed in version 5.0.0 for `DistillationTrainer.__init__`. Use `processing_class` instead.\n",
      "  super().__init__(*args, **kwargs)\n"
     ]
    },
    {
     "data": {
      "application/vnd.jupyter.widget-view+json": {
       "model_id": "0c873d87e2dd4269a382d97329565d79",
       "version_major": 2,
       "version_minor": 0
      },
      "text/plain": [
       "model.safetensors:   0%|          | 0.00/438M [00:00<?, ?B/s]"
      ]
     },
     "metadata": {},
     "output_type": "display_data"
    },
    {
     "name": "stderr",
     "output_type": "stream",
     "text": [
      "Xet Storage is enabled for this repo, but the 'hf_xet' package is not installed. Falling back to regular HTTP download. For better performance, install the package with: `pip install huggingface_hub[hf_xet]` or `pip install hf_xet`\n",
      "WARNING:huggingface_hub.file_download:Xet Storage is enabled for this repo, but the 'hf_xet' package is not installed. Falling back to regular HTTP download. For better performance, install the package with: `pip install huggingface_hub[hf_xet]` or `pip install hf_xet`\n"
     ]
    },
    {
     "data": {
      "application/vnd.jupyter.widget-view+json": {
       "model_id": "6a03350f6b0443eeb89168771891ebaa",
       "version_major": 2,
       "version_minor": 0
      },
      "text/plain": [
       "model.safetensors:   0%|          | 0.00/268M [00:00<?, ?B/s]"
      ]
     },
     "metadata": {},
     "output_type": "display_data"
    },
    {
     "name": "stderr",
     "output_type": "stream",
     "text": [
      "Some weights of DistilBertForSequenceClassification were not initialized from the model checkpoint at distilbert/distilbert-base-uncased and are newly initialized: ['classifier.bias', 'classifier.weight', 'pre_classifier.bias', 'pre_classifier.weight']\n",
      "You should probably TRAIN this model on a down-stream task to be able to use it for predictions and inference.\n"
     ]
    }
   ],
   "source": [
    "# initialize DistillationTrainer\n",
    "distilbert_trainer = DistillationTrainer(\n",
    "    model_init=student_init,\n",
    "    teacher_model=teacher_model,\n",
    "    args=student_training_args,\n",
    "    train_dataset=tokenized_dataset['train'],\n",
    "    eval_dataset=tokenized_dataset['validation'],\n",
    "    compute_metrics=compute_metrics,\n",
    "    tokenizer=tokenizer)"
   ]
  },
  {
   "cell_type": "code",
   "execution_count": 21,
   "metadata": {
    "colab": {
     "base_uri": "https://localhost:8080/",
     "height": 163
    },
    "id": "vrxx1HLE3ixf",
    "outputId": "97f6cb0c-bc3e-4d40-e19b-f556eb486bf6"
   },
   "outputs": [
    {
     "name": "stderr",
     "output_type": "stream",
     "text": [
      "Some weights of DistilBertForSequenceClassification were not initialized from the model checkpoint at distilbert/distilbert-base-uncased and are newly initialized: ['classifier.bias', 'classifier.weight', 'pre_classifier.bias', 'pre_classifier.weight']\n",
      "You should probably TRAIN this model on a down-stream task to be able to use it for predictions and inference.\n"
     ]
    },
    {
     "data": {
      "text/html": [
       "\n",
       "    <div>\n",
       "      \n",
       "      <progress value='365' max='365' style='width:300px; height:20px; vertical-align: middle;'></progress>\n",
       "      [365/365 02:55, Epoch 5/5]\n",
       "    </div>\n",
       "    <table border=\"1\" class=\"dataframe\">\n",
       "  <thead>\n",
       " <tr style=\"text-align: left;\">\n",
       "      <th>Step</th>\n",
       "      <th>Training Loss</th>\n",
       "    </tr>\n",
       "  </thead>\n",
       "  <tbody>\n",
       "  </tbody>\n",
       "</table><p>"
      ],
      "text/plain": [
       "<IPython.core.display.HTML object>"
      ]
     },
     "metadata": {},
     "output_type": "display_data"
    },
    {
     "data": {
      "text/plain": [
       "TrainOutput(global_step=365, training_loss=0.34907374969900473, metrics={'train_runtime': 176.9747, 'train_samples_per_second': 98.545, 'train_steps_per_second': 2.062, 'total_flos': 304502444113824.0, 'train_loss': 0.34907374969900473, 'epoch': 5.0})"
      ]
     },
     "execution_count": 21,
     "metadata": {},
     "output_type": "execute_result"
    }
   ],
   "source": [
    "# start training\n",
    "distilbert_trainer.train()"
   ]
  },
  {
   "cell_type": "code",
   "execution_count": 22,
   "metadata": {
    "id": "F8uzvomk1bR8"
   },
   "outputs": [],
   "source": [
    "distilbert_trainer.save_model(TRAINING_CONFIG[\"model_name\"])"
   ]
  },
  {
   "cell_type": "code",
   "execution_count": 23,
   "metadata": {
    "id": "lrQEbsEarD5a"
   },
   "outputs": [],
   "source": [
    "# loading distilled model\n",
    "distil_model = (\n",
    "    AutoModelForSequenceClassification\n",
    "    .from_pretrained(TRAINING_CONFIG[\"model_name\"], num_labels=num_labels)\n",
    "    .to(device)\n",
    ")"
   ]
  },
  {
   "cell_type": "markdown",
   "metadata": {
    "id": "_lINsA1zXn_Z"
   },
   "source": [
    "Great! We've distilled the knowledge from FinBERT into a smaller model, but we can further increase its speed by using quantization.\n",
    "\n",
    "## Model Quantization\n",
    "\n",
    "Quantization refers to the process of reducing the set of values a variable can take so that the\n",
    "variable can be represented using fewer bits, thereby reducing its precision. More details about model quantization methods can be found in Chapter 10 of the book."
   ]
  },
  {
   "cell_type": "markdown",
   "metadata": {
    "id": "K2VxeywXX3c1",
    "outputId": "4f17e7d2-e489-482e-caca-cdcc91df1adf"
   },
   "source": [
    "### Weight Distribution\n",
    "First, let's visualize the distribution of the parameters of a layer in our model"
   ]
  },
  {
   "cell_type": "code",
   "execution_count": 24,
   "metadata": {
    "id": "q1XMiYxY7Lfs"
   },
   "outputs": [],
   "source": [
    "state_dict = distil_model.state_dict()\n",
    "# choose any layer from the model\n",
    "weights = state_dict[\"distilbert.transformer.layer.0.attention.out_lin.weight\"].cpu()"
   ]
  },
  {
   "cell_type": "code",
   "execution_count": 25,
   "metadata": {
    "colab": {
     "base_uri": "https://localhost:8080/",
     "height": 607
    },
    "id": "zcACsZSUqA5i",
    "outputId": "80c482ff-c547-4154-dd5c-cb153d525bac"
   },
   "outputs": [
    {
     "data": {
      "image/png": "[encoded data removed]",
      "text/plain": [
       "<Figure size 1000x600 with 1 Axes>"
      ]
     },
     "metadata": {},
     "output_type": "display_data"
    }
   ],
   "source": [
    "# Create the figure to show the distribution of the parameters\n",
    "figsize = (10, 6)\n",
    "color = '#203864'\n",
    "flattened_weights = weights.flatten().numpy()\n",
    "\n",
    "fig, ax = plt.subplots(figsize=figsize)\n",
    "# Histogram plot\n",
    "ax.hist(flattened_weights,\n",
    "        bins=250,\n",
    "\t\trange=(-0.2, 0.2),\n",
    "        color=color,\n",
    "        edgecolor='black',\n",
    "        alpha=0.85)\n",
    "\n",
    "# Set labels and title\n",
    "ax.set_xlabel(\"Weight Values\")\n",
    "ax.set_ylabel(\"Frequency\")\n",
    "ax.set_title(\"Distribution of Transformer Weights\")\n",
    "\n",
    "# style\n",
    "ax.grid(axis=\"y\",linestyle=\"--\", alpha=0.6)\n",
    "ax.get_figure().tight_layout()"
   ]
  },
  {
   "cell_type": "code",
   "execution_count": 26,
   "metadata": {
    "colab": {
     "base_uri": "https://localhost:8080/"
    },
    "id": "BNDC_NdqYbxD",
    "outputId": "66195209-291d-4828-a513-8ca05348f135"
   },
   "outputs": [
    {
     "data": {
      "text/plain": [
       "torch.float32"
      ]
     },
     "execution_count": 26,
     "metadata": {},
     "output_type": "execute_result"
    }
   ],
   "source": [
    "# our model uses float32 types, which takes 4 bytes of memory per parameter\n",
    "weights.dtype"
   ]
  },
  {
   "cell_type": "markdown",
   "metadata": {
    "id": "I151VCAmYMNY"
   },
   "source": [
    "\n",
    "### Linear Quantization\n",
    "\n",
    "Our goal is to transform the model parameters, originally represented as `float32`, into `int8`, reducing memory from 4 bytes to 1 byte per parameter.   The `int8` format can store 256 possible values, ranging from -128 to 127.   More details on this process can be found in Chapter 10.\n"
   ]
  },
  {
   "cell_type": "code",
   "execution_count": 27,
   "metadata": {
    "colab": {
     "base_uri": "https://localhost:8080/"
    },
    "id": "jeWFocxkZ2ef",
    "outputId": "81436414-7201-4eb7-cec3-9cfd3a82d7ba"
   },
   "outputs": [
    {
     "data": {
      "text/plain": [
       "tensor([[ -5,  -8,   0,  ...,  -6,  -3,   8],\n",
       "        [  8,   3,   1,  ...,  -4,   7,   1],\n",
       "        [ -9,  -5,   5,  ...,   0,   5,  -3],\n",
       "        ...,\n",
       "        [  5,   0,  13,  ...,   0,   6,  -1],\n",
       "        [  0,  -2, -12,  ...,  12,  -8, -13],\n",
       "        [-13,  -1,  -9,  ...,   8,   2,  -2]], dtype=torch.int8)"
      ]
     },
     "execution_count": 27,
     "metadata": {},
     "output_type": "execute_result"
    }
   ],
   "source": [
    "from torch import quantize_per_tensor\n",
    "# torch as a function which performs this operation for us\n",
    "dtype = torch.qint8\n",
    "zero_point = 0\n",
    "# divide the range of the weights over 255 (includes 0)\n",
    "scale = (weights.max() - weights.min()) / (127 - (-128))\n",
    "quantized_weights = quantize_per_tensor(weights, scale, zero_point, dtype)\n",
    "\n",
    "quantized_weights.int_repr()"
   ]
  },
  {
   "cell_type": "markdown",
   "metadata": {
    "id": "org-ILwW7Lft"
   },
   "source": [
    "### Quantized Weight Distribution"
   ]
  },
  {
   "cell_type": "code",
   "execution_count": 28,
   "metadata": {
    "colab": {
     "base_uri": "https://localhost:8080/",
     "height": 658
    },
    "id": "b6nVgrSwqA5i",
    "outputId": "cd25f959-c14f-44f1-e28c-192c13283d89"
   },
   "outputs": [
    {
     "data": {
      "text/plain": [
       "(<mpl_toolkits.axes_grid1.inset_locator.BboxPatch at 0x7c735eed4c90>,\n",
       " <mpl_toolkits.axes_grid1.inset_locator.BboxConnector at 0x7c7362d39950>,\n",
       " <mpl_toolkits.axes_grid1.inset_locator.BboxConnector at 0x7c735f0e10d0>)"
      ]
     },
     "execution_count": 28,
     "metadata": {},
     "output_type": "execute_result"
    },
    {
     "data": {
      "image/png": "[encoded data removed]",
      "text/plain": [
       "<Figure size 1000x600 with 2 Axes>"
      ]
     },
     "metadata": {},
     "output_type": "display_data"
    }
   ],
   "source": [
    "# Create the figure to show the distribution of quantized parameters\n",
    "fig, ax = plt.subplots(figsize=figsize)\n",
    "flattened_weights = quantized_weights.dequantize().flatten().numpy()\n",
    "\n",
    "ax.hist(flattened_weights, bins=250,\n",
    "        range=(-0.2, 0.2),\n",
    "        color=color,\n",
    "        edgecolor='black',\n",
    "        alpha=0.85)\n",
    "\n",
    "# Set labels and title\n",
    "ax.set_xlabel(\"Weight Values\")\n",
    "ax.set_ylabel(\"Frequency\")\n",
    "ax.set_title(\"Distribution of Transformer Weights After Quantization\")\n",
    "\n",
    "# style\n",
    "ax.grid(axis=\"y\",linestyle=\"--\", alpha=0.6)\n",
    "ax.get_figure().tight_layout()\n",
    "\n",
    "# Create zoom inset\n",
    "axins = zoomed_inset_axes(ax, 3.5, loc='upper right', borderpad=1.2)\n",
    "axins.hist(flattened_weights, bins=250, range=(-0.2, 0.2),\n",
    "           color=color, edgecolor='black', alpha=0.85)\n",
    "\n",
    "# Define zoomed-in region\n",
    "x1, x2, y1, y2 = 0.05, 0.1, 500, 2500\n",
    "axins.set_xlim(x1, x2)\n",
    "axins.set_ylim(y1, y2)\n",
    "\n",
    "# Hide x/y labels on the inset for clarity\n",
    "axins.set_xticks([])\n",
    "axins.set_yticks([])\n",
    "\n",
    "# Mark the zoomed-in section\n",
    "mark_inset(ax, axins, loc1=2, loc2=4, fc=\"none\", ec=\"0.5\")\n"
   ]
  },
  {
   "cell_type": "markdown",
   "metadata": {
    "id": "tbtD_X5taSUp"
   },
   "source": [
    "Let's verify how much faster `int8` matrix multiplication is compared to `float32`."
   ]
  },
  {
   "cell_type": "code",
   "execution_count": 29,
   "metadata": {
    "id": "0ZFKbgzp9BFG"
   },
   "outputs": [],
   "source": [
    "# Set the number of times to repeat the experiment\n",
    "TIMES = 200"
   ]
  },
  {
   "cell_type": "code",
   "execution_count": 30,
   "metadata": {
    "id": "cDIK9sxwaeO5"
   },
   "outputs": [],
   "source": [
    "avg_float32_time = 0\n",
    "for _ in range(200):\n",
    "    start_time = time.time()\n",
    "    weights @ weights\n",
    "    elapsed_time = time.time() - start_time\n",
    "    avg_float32_time += elapsed_time / TIMES"
   ]
  },
  {
   "cell_type": "code",
   "execution_count": 31,
   "metadata": {
    "colab": {
     "base_uri": "https://localhost:8080/"
    },
    "id": "3qWl3M0Zbdhl",
    "outputId": "504a0b5c-fc2a-418c-9501-9ceb710474f1"
   },
   "outputs": [
    {
     "data": {
      "text/plain": [
       "0.006753505468368536"
      ]
     },
     "execution_count": 31,
     "metadata": {},
     "output_type": "execute_result"
    }
   ],
   "source": [
    "avg_float32_time"
   ]
  },
  {
   "cell_type": "code",
   "execution_count": 32,
   "metadata": {
    "id": "tGybY39qagNh"
   },
   "outputs": [],
   "source": [
    "from torch.nn.quantized import QFunctional\n",
    "q_fn = QFunctional()\n",
    "avg_int8_time = 0\n",
    "for _ in range(200):\n",
    "    start_time = time.time()\n",
    "    q_fn.mul(quantized_weights, quantized_weights)\n",
    "    elapsed_time = time.time() - start_time\n",
    "    avg_int8_time += elapsed_time / TIMES"
   ]
  },
  {
   "cell_type": "code",
   "execution_count": 33,
   "metadata": {
    "colab": {
     "base_uri": "https://localhost:8080/",
     "height": 176
    },
    "id": "FIt4qRy1bmVZ",
    "outputId": "6661879f-66c4-4b9d-d1ec-c025ee290be3"
   },
   "outputs": [
    {
     "data": {
      "text/html": [
       "<div>\n",
       "<style scoped>\n",
       "    .dataframe tbody tr th:only-of-type {\n",
       "        vertical-align: middle;\n",
       "    }\n",
       "\n",
       "    .dataframe tbody tr th {\n",
       "        vertical-align: top;\n",
       "    }\n",
       "\n",
       "    .dataframe thead th {\n",
       "        text-align: right;\n",
       "    }\n",
       "</style>\n",
       "<table border=\"1\" class=\"dataframe\">\n",
       "  <thead>\n",
       "    <tr style=\"text-align: right;\">\n",
       "      <th></th>\n",
       "      <th>time</th>\n",
       "    </tr>\n",
       "  </thead>\n",
       "  <tbody>\n",
       "    <tr>\n",
       "      <th>float32</th>\n",
       "      <td>0.006754</td>\n",
       "    </tr>\n",
       "    <tr>\n",
       "      <th>int8</th>\n",
       "      <td>0.000273</td>\n",
       "    </tr>\n",
       "    <tr>\n",
       "      <th>speedupX</th>\n",
       "      <td>24.767532</td>\n",
       "    </tr>\n",
       "  </tbody>\n",
       "</table>\n",
       "</div><br><label><b>dtype:</b> float64</label>"
      ],
      "text/plain": [
       "float32      0.006754\n",
       "int8         0.000273\n",
       "speedupX    24.767532\n",
       "Name: time, dtype: float64"
      ]
     },
     "execution_count": 33,
     "metadata": {},
     "output_type": "execute_result"
    }
   ],
   "source": [
    "matmul_elap_time = pd.Series(\n",
    "    [avg_float32_time, avg_int8_time, avg_float32_time / avg_int8_time],\n",
    "    index=['float32', 'int8', 'speedupX'],\n",
    "    name='time')\n",
    "matmul_elap_time"
   ]
  },
  {
   "cell_type": "code",
   "execution_count": 34,
   "metadata": {
    "colab": {
     "base_uri": "https://localhost:8080/"
    },
    "id": "CeAkblBqalNo",
    "outputId": "2b951e4b-414b-4ba7-fffa-0a2b758f7acd"
   },
   "outputs": [
    {
     "name": "stderr",
     "output_type": "stream",
     "text": [
      "<ipython-input-34-5794b963b91c>:3: UserWarning: TypedStorage is deprecated. It will be removed in the future and UntypedStorage will be the only storage class. This should only matter to you if you are using storages directly.  To access UntypedStorage directly, use tensor.untyped_storage() instead of tensor.storage()\n",
      "  sys.getsizeof(weights.storage()) / sys.getsizeof(quantized_weights.storage())\n"
     ]
    },
    {
     "data": {
      "text/plain": [
       "3.999715196311114"
      ]
     },
     "execution_count": 34,
     "metadata": {},
     "output_type": "execute_result"
    }
   ],
   "source": [
    "import sys\n",
    "# 4x time compression!\n",
    "sys.getsizeof(weights.storage()) / sys.getsizeof(quantized_weights.storage())"
   ]
  },
  {
   "cell_type": "markdown",
   "metadata": {
    "id": "jkFFaTw0aprJ"
   },
   "source": [
    "## Model Quantization\n",
    "\n",
    "Now, let's use PyTorch to apply this transformation to all linear layers of our distilled model!"
   ]
  },
  {
   "cell_type": "code",
   "execution_count": 35,
   "metadata": {
    "id": "QT-taJpUPm4u"
   },
   "outputs": [],
   "source": [
    "from torch.quantization import quantize_dynamic\n",
    "quantized_model = quantize_dynamic(\n",
    "    distil_model.to('cpu'),\n",
    "    {nn.Linear},\n",
    "    dtype=torch.qint8)"
   ]
  },
  {
   "cell_type": "markdown",
   "metadata": {
    "id": "Ev5p9RRN7Lft"
   },
   "source": [
    "## Performance\n",
    "\n",
    "Finally, it’s time to measure the performance and speed of our three models: the teacher (`FinBERT`), the distilled model, and the quantized model. We have implemented a `PerformanceBenchmark` class to help us measure both performance and inference speed.\n",
    "\n",
    "Note that with the version of `PyTorch` used at the time the book was produced, quantized models can only be executed on CPU, so the benchmarks will be run on this device for a fair comparison.\n",
    "\n",
    "Also, please note that your results might differ slightly from those reported in the book.  If you are running this on Colab, it's possible that the machine infrastructure, operating system, libraries, or other dependencies have been upgraded since the original experiments were done.\n",
    "\n"
   ]
  },
  {
   "cell_type": "code",
   "execution_count": 36,
   "metadata": {
    "id": "kUcg8_0z7Lft"
   },
   "outputs": [],
   "source": [
    "from dataclasses import dataclass\n",
    "from typing import List, Dict, Union, Callable\n",
    "import torch\n",
    "from pathlib import Path\n",
    "import tempfile\n",
    "from transformers import pipeline\n",
    "import time\n",
    "from sklearn.metrics import accuracy_score, precision_recall_fscore_support\n",
    "import numpy as np\n",
    "from torch import nn\n",
    "from tqdm.auto import tqdm\n",
    "\n",
    "def compute_time_statistics(inference_times: np.ndarray, suffix: str) -> Dict[str, float]:\n",
    "    inference_times = np.array(inference_times)\n",
    "    return {f'avg_time{suffix}': inference_times.mean(), f'std_time{suffix}': inference_times.std()}\n",
    "\n",
    "\n",
    "@dataclass\n",
    "class PerformanceBenchmark:\n",
    "    model_name: str\n",
    "    model: nn.Module\n",
    "    tokenizer: Callable[[str], Dict[str, torch.Tensor]]\n",
    "    batch_size: int = 512\n",
    "    sentence_realisations: int = 32\n",
    "    batch_realisations: int = 32\n",
    "    ds_realisations: int = 32\n",
    "\n",
    "    def predict_single_batch(self, text_batch: List[str]) -> np.ndarray:\n",
    "        inputs = self.tokenizer(text_batch, padding=True, truncation=True, return_tensors='pt').to(self.model.device)\n",
    "        with torch.no_grad():\n",
    "            output = self.model(**inputs)\n",
    "            labels = torch.argmax(output.logits, dim=1).cpu().numpy()\n",
    "        return labels\n",
    "\n",
    "    def predict(self, texts: List[str]) -> np.ndarray:\n",
    "        test_predictions = np.zeros(len(texts), dtype=np.int32)\n",
    "        for i in tqdm(range(0, len(texts), self.batch_size)):\n",
    "            batch = texts[i: i + self.batch_size]\n",
    "            np_prediction = self.predict_single_batch(batch)\n",
    "            test_predictions[i: i + self.batch_size] = np_prediction\n",
    "        return test_predictions\n",
    "\n",
    "\n",
    "    def compute_metrics(self, labels: np.ndarray, predictions: np.ndarray) -> Dict[str, float]:\n",
    "        acc = accuracy_score(labels, predictions)\n",
    "        precision, recall, f1, _ = precision_recall_fscore_support(labels, predictions, average='weighted')\n",
    "        scores = {\n",
    "            \"accuracy\": acc,\n",
    "            \"precision\": precision,\n",
    "            \"recall\": recall,\n",
    "            \"f1\": f1,\n",
    "        }\n",
    "        return scores\n",
    "\n",
    "    def measure_per_sentence_inference_time(\n",
    "        self,\n",
    "        sentence: str,\n",
    "        times: int = 10) -> Dict[str, float]:\n",
    "        inference_times = []\n",
    "\n",
    "        pipe = pipeline(\n",
    "            'text-classification',\n",
    "            model=self.model,\n",
    "            tokenizer=self.tokenizer,\n",
    "            device=self.model.device)\n",
    "\n",
    "        for _ in range(times):\n",
    "            start_time = time.time()\n",
    "            _ = pipe(sentence)\n",
    "            elapsed_time = time.time() - start_time\n",
    "            inference_times.append(elapsed_time)\n",
    "        return compute_time_statistics(inference_times, suffix='_per_sentence')\n",
    "\n",
    "    def measure_per_batch_inference_time(\n",
    "        self,\n",
    "        batch: List[str],\n",
    "        times: int = 10) -> Dict[str, float]:\n",
    "\n",
    "        inference_times = []\n",
    "        inputs = self.tokenizer(batch, padding=True, truncation=True, return_tensors='pt').to(self.model.device)\n",
    "\n",
    "        for _ in range(times):\n",
    "            start_time = time.time()\n",
    "            with torch.no_grad():\n",
    "                _ = self.model(**inputs)\n",
    "            elapsed_time = time.time() - start_time\n",
    "            inference_times.append(elapsed_time)\n",
    "        return compute_time_statistics(inference_times, suffix='_per_batch')\n",
    "\n",
    "    def measure_dataset_inference_time(\n",
    "        self,\n",
    "        texts: List[str],\n",
    "        times: int = 10) -> Dict[str, float]:\n",
    "        inference_times = []\n",
    "\n",
    "        for _ in range(times):\n",
    "            start_time = time.time()\n",
    "            _ = self.predict(texts)\n",
    "            elapsed_time = time.time() - start_time\n",
    "            inference_times.append(elapsed_time)\n",
    "        return compute_time_statistics(inference_times, suffix='_dataset')\n",
    "\n",
    "    def compute_size(self) -> Dict[str, float]:\n",
    "        with tempfile.NamedTemporaryFile() as tempf:\n",
    "            state_dict = self.model.state_dict()\n",
    "            torch.save(state_dict, tempf.name)\n",
    "            # Calculate size in megabytes\n",
    "            size_mb = Path(tempf.name).stat().st_size / (1024 * 1024)\n",
    "            return {\"size_mb\": size_mb}\n",
    "\n",
    "    def run(self, dataset) -> Dict[str, Union[float, int, str]]:\n",
    "        predictions = self.predict(dataset['text'])\n",
    "        metrics = self.compute_metrics(dataset['label'], predictions)\n",
    "        longest_sentence = max(dataset['text'], key=lambda s: len(s))\n",
    "        per_sentence_time = self.measure_per_sentence_inference_time(longest_sentence, times=self.sentence_realisations)\n",
    "        size = self.compute_size()\n",
    "        scores = {\n",
    "            'model_name': self.model_name,\n",
    "            **metrics,\n",
    "            **per_sentence_time,\n",
    "            **size\n",
    "        }\n",
    "\n",
    "        return scores"
   ]
  },
  {
   "cell_type": "code",
   "execution_count": 37,
   "metadata": {
    "id": "RQGtWUwaAlKx"
   },
   "outputs": [],
   "source": [
    "# Define dictionary of models to compare.\n",
    "# Move models to CPU\n",
    "CPU_MODELS_MAPPER = {\n",
    "    'finBERT': teacher_model.to('cpu'),\n",
    "    'distilFinBERT': distil_model.to('cpu'),\n",
    "    'QuantizedDistilFinBERT': quantized_model,\n",
    "}"
   ]
  },
  {
   "cell_type": "code",
   "execution_count": 38,
   "metadata": {
    "colab": {
     "base_uri": "https://localhost:8080/",
     "height": 215,
     "referenced_widgets": [
      "bf2785c2ca7a4be3b6054e57e2fd5214",
      "3599ba55f6bc40ce933e4f4430153df9",
      "97441cecae6e40cbbccc2c3983b7bfd1",
      "4fed9d39810f4568bb1caea43c86328d",
      "a73678cc4d654c4eaea46b1805ffbe8a",
      "8f982706eefa4cffaf0469f6935fcbc7",
      "442f7340a8a449c4b5030c505271177c",
      "23b8e84f99fc482e8f4c49b2752a38f7",
      "47d96a87f2714c9c8b23c857dc0d034e",
      "fe89b79ef2fb4b39b9c8d461f215e990",
      "36e5947081474ae39ded7f205b16a2cb",
      "e1c26f8ea3954f178629f0e8e96f01c7",
      "75a35a9d9e204e138e35f5b29397add0",
      "89b0b5423f9b44ff993c92c3b61c7463",
      "6cde621d94644a6ebbb51d67142f90f7",
      "cc79bf8a985e4c4e81064cafd1fb6c02",
      "a1740d899f8d40c3a6027bce5389a2c5",
      "3eb297fdb5bc45ca9ffacb5c97fe61fd",
      "2ed0865cb43f4ae3a113d2fe8959abea",
      "bb31217cf2ef462daa7348ce54b07b00",
      "e787d0adcf4e4b2099a9704551614931",
      "f2847f4be6704ebebfd704b2b39ef0cf",
      "0b82c97f8b804362b0ddce70a4c353f5",
      "79e4fc3728e4459d925c479fef69b8df",
      "a21f9fc297644476a43acedb2b214fd2",
      "be3b89436c51447eb33b3bfceec76e85",
      "0814e92c0019439f90cba8f991ccd90c",
      "371460207012467a951ca7c2ab025e8f",
      "cb711a0576c242c59f2667ffd7d70c91",
      "120e5f394b80471b8b5de3231f63ba52",
      "8f338108a986419cb0f9991b952ab4db",
      "dc0edbcdb18344d7857a87410de0dfcc",
      "06dda586be274394a239a78c083fc6cd"
     ]
    },
    "id": "onJGC0INApyX",
    "outputId": "1a21055e-d780-4905-96cb-2f768cbf67e3"
   },
   "outputs": [
    {
     "name": "stdout",
     "output_type": "stream",
     "text": [
      "finBERT\n"
     ]
    },
    {
     "data": {
      "application/vnd.jupyter.widget-view+json": {
       "model_id": "bf2785c2ca7a4be3b6054e57e2fd5214",
       "version_major": 2,
       "version_minor": 0
      },
      "text/plain": [
       "  0%|          | 0/31 [00:00<?, ?it/s]"
      ]
     },
     "metadata": {},
     "output_type": "display_data"
    },
    {
     "name": "stderr",
     "output_type": "stream",
     "text": [
      "Device set to use cpu\n"
     ]
    },
    {
     "name": "stdout",
     "output_type": "stream",
     "text": [
      "distilFinBERT\n"
     ]
    },
    {
     "data": {
      "application/vnd.jupyter.widget-view+json": {
       "model_id": "e1c26f8ea3954f178629f0e8e96f01c7",
       "version_major": 2,
       "version_minor": 0
      },
      "text/plain": [
       "  0%|          | 0/31 [00:00<?, ?it/s]"
      ]
     },
     "metadata": {},
     "output_type": "display_data"
    },
    {
     "name": "stderr",
     "output_type": "stream",
     "text": [
      "Device set to use cpu\n"
     ]
    },
    {
     "name": "stdout",
     "output_type": "stream",
     "text": [
      "QuantizedDistilFinBERT\n"
     ]
    },
    {
     "data": {
      "application/vnd.jupyter.widget-view+json": {
       "model_id": "0b82c97f8b804362b0ddce70a4c353f5",
       "version_major": 2,
       "version_minor": 0
      },
      "text/plain": [
       "  0%|          | 0/31 [00:00<?, ?it/s]"
      ]
     },
     "metadata": {},
     "output_type": "display_data"
    },
    {
     "name": "stderr",
     "output_type": "stream",
     "text": [
      "Device set to use cpu\n"
     ]
    }
   ],
   "source": [
    "_SCORES = []\n",
    "for model_name, model in CPU_MODELS_MAPPER.items():\n",
    "    print(model_name)\n",
    "    benchmark_scores = PerformanceBenchmark(\n",
    "      model_name=model_name,\n",
    "      model=model,\n",
    "      tokenizer=tokenizer,\n",
    "      ds_realisations=16,\n",
    "      batch_size=32).run(dataset['test'])\n",
    "    _SCORES.append(benchmark_scores)\n",
    "\n",
    "pd_cpu_scores = pd.DataFrame(_SCORES)"
   ]
  },
  {
   "cell_type": "code",
   "execution_count": 39,
   "metadata": {
    "colab": {
     "base_uri": "https://localhost:8080/",
     "height": 142
    },
    "id": "FquiT23EAuw4",
    "outputId": "92a7c327-d61d-4b14-b808-d7854c2934c6"
   },
   "outputs": [
    {
     "data": {
      "application/vnd.google.colaboratory.intrinsic+json": {
       "summary": "{\n  \"name\": \"pd_cpu_scores\",\n  \"rows\": 3,\n  \"fields\": [\n    {\n      \"column\": \"model_name\",\n      \"properties\": {\n        \"dtype\": \"string\",\n        \"num_unique_values\": 3,\n        \"samples\": [\n          \"finBERT\",\n          \"distilFinBERT\",\n          \"QuantizedDistilFinBERT\"\n        ],\n        \"semantic_type\": \"\",\n        \"description\": \"\"\n      }\n    },\n    {\n      \"column\": \"accuracy\",\n      \"properties\": {\n        \"dtype\": \"number\",\n        \"std\": 0.006299073120214191,\n        \"min\": 0.8350515463917526,\n        \"max\": 0.8474226804123711,\n        \"num_unique_values\": 3,\n        \"samples\": [\n          0.8391752577319588,\n          0.8474226804123711,\n          0.8350515463917526\n        ],\n        \"semantic_type\": \"\",\n        \"description\": \"\"\n      }\n    },\n    {\n      \"column\": \"precision\",\n      \"properties\": {\n        \"dtype\": \"number\",\n        \"std\": 0.005847200403795648,\n        \"min\": 0.8388470220056907,\n        \"max\": 0.8492883321546428,\n        \"num_unique_values\": 3,\n        \"samples\": [\n          0.8486287668037401,\n          0.8492883321546428,\n          0.8388470220056907\n        ],\n        \"semantic_type\": \"\",\n        \"description\": \"\"\n      }\n    },\n    {\n      \"column\": \"recall\",\n      \"properties\": {\n        \"dtype\": \"number\",\n        \"std\": 0.006299073120214191,\n        \"min\": 0.8350515463917526,\n        \"max\": 0.8474226804123711,\n        \"num_unique_values\": 3,\n        \"samples\": [\n          0.8391752577319588,\n          0.8474226804123711,\n          0.8350515463917526\n        ],\n        \"semantic_type\": \"\",\n        \"description\": \"\"\n      }\n    },\n    {\n      \"column\": \"f1\",\n      \"properties\": {\n        \"dtype\": \"number\",\n        \"std\": 0.008762746650231593,\n        \"min\": 0.8304584712979037,\n        \"max\": 0.8479001599795072,\n        \"num_unique_values\": 3,\n        \"samples\": [\n          0.8406618164039513,\n          0.8479001599795072,\n          0.8304584712979037\n        ],\n        \"semantic_type\": \"\",\n        \"description\": \"\"\n      }\n    },\n    {\n      \"column\": \"avg_time_per_sentence\",\n      \"properties\": {\n        \"dtype\": \"number\",\n        \"std\": 0.061878257742285635,\n        \"min\": 0.05992232263088226,\n        \"max\": 0.17529884725809097,\n        \"num_unique_values\": 3,\n        \"samples\": [\n          0.17529884725809097,\n          0.07884269207715988,\n          0.05992232263088226\n        ],\n        \"semantic_type\": \"\",\n        \"description\": \"\"\n      }\n    },\n    {\n      \"column\": \"std_time_per_sentence\",\n      \"properties\": {\n        \"dtype\": \"number\",\n        \"std\": 0.012309079486371667,\n        \"min\": 0.00414097231843493,\n        \"max\": 0.026899859271691168,\n        \"num_unique_values\": 3,\n        \"samples\": [\n          0.026899859271691168,\n          0.00414097231843493,\n          0.007392371018357854\n        ],\n        \"semantic_type\": \"\",\n        \"description\": \"\"\n      }\n    },\n    {\n      \"column\": \"size_mb\",\n      \"properties\": {\n        \"dtype\": \"number\",\n        \"std\": 143.16416684569467,\n        \"min\": 132.2895908355713,\n        \"max\": 417.7263374328613,\n        \"num_unique_values\": 3,\n        \"samples\": [\n          417.7263374328613,\n          255.4546070098877,\n          132.2895908355713\n        ],\n        \"semantic_type\": \"\",\n        \"description\": \"\"\n      }\n    }\n  ]\n}",
       "type": "dataframe",
       "variable_name": "pd_cpu_scores"
      },
      "text/html": [
       "\n",
       "  <div id=\"df-3e89cb42-3a98-4579-9001-284e7d5bff04\" class=\"colab-df-container\">\n",
       "    <div>\n",
       "<style scoped>\n",
       "    .dataframe tbody tr th:only-of-type {\n",
       "        vertical-align: middle;\n",
       "    }\n",
       "\n",
       "    .dataframe tbody tr th {\n",
       "        vertical-align: top;\n",
       "    }\n",
       "\n",
       "    .dataframe thead th {\n",
       "        text-align: right;\n",
       "    }\n",
       "</style>\n",
       "<table border=\"1\" class=\"dataframe\">\n",
       "  <thead>\n",
       "    <tr style=\"text-align: right;\">\n",
       "      <th></th>\n",
       "      <th>model_name</th>\n",
       "      <th>accuracy</th>\n",
       "      <th>precision</th>\n",
       "      <th>recall</th>\n",
       "      <th>f1</th>\n",
       "      <th>avg_time_per_sentence</th>\n",
       "      <th>std_time_per_sentence</th>\n",
       "      <th>size_mb</th>\n",
       "    </tr>\n",
       "  </thead>\n",
       "  <tbody>\n",
       "    <tr>\n",
       "      <th>0</th>\n",
       "      <td>finBERT</td>\n",
       "      <td>0.839175</td>\n",
       "      <td>0.848629</td>\n",
       "      <td>0.839175</td>\n",
       "      <td>0.840662</td>\n",
       "      <td>0.175299</td>\n",
       "      <td>0.026900</td>\n",
       "      <td>417.726337</td>\n",
       "    </tr>\n",
       "    <tr>\n",
       "      <th>1</th>\n",
       "      <td>distilFinBERT</td>\n",
       "      <td>0.847423</td>\n",
       "      <td>0.849288</td>\n",
       "      <td>0.847423</td>\n",
       "      <td>0.847900</td>\n",
       "      <td>0.078843</td>\n",
       "      <td>0.004141</td>\n",
       "      <td>255.454607</td>\n",
       "    </tr>\n",
       "    <tr>\n",
       "      <th>2</th>\n",
       "      <td>QuantizedDistilFinBERT</td>\n",
       "      <td>0.835052</td>\n",
       "      <td>0.838847</td>\n",
       "      <td>0.835052</td>\n",
       "      <td>0.830458</td>\n",
       "      <td>0.059922</td>\n",
       "      <td>0.007392</td>\n",
       "      <td>132.289591</td>\n",
       "    </tr>\n",
       "  </tbody>\n",
       "</table>\n",
       "</div>\n",
       "    <div class=\"colab-df-buttons\">\n",
       "\n",
       "  <div class=\"colab-df-container\">\n",
       "    <button class=\"colab-df-convert\" onclick=\"convertToInteractive('df-3e89cb42-3a98-4579-9001-284e7d5bff04')\"\n",
       "            title=\"Convert this dataframe to an interactive table.\"\n",
       "            style=\"display:none;\">\n",
       "\n",
       "  <svg xmlns=\"http://www.w3.org/2000/svg\" height=\"24px\" viewBox=\"0 -960 960 960\">\n",
       "    <path d=\"M120-120v-720h720v720H120Zm60-500h600v-160H180v160Zm220 220h160v-160H400v160Zm0 220h160v-160H400v160ZM180-400h160v-160H180v160Zm440 0h160v-160H620v160ZM180-180h160v-160H180v160Zm440 0h160v-160H620v160Z\"/>\n",
       "  </svg>\n",
       "    </button>\n",
       "\n",
       "  <style>\n",
       "    .colab-df-container {\n",
       "      display:flex;\n",
       "      gap: 12px;\n",
       "    }\n",
       "\n",
       "    .colab-df-convert {\n",
       "      background-color: #E8F0FE;\n",
       "      border: none;\n",
       "      border-radius: 50%;\n",
       "      cursor: pointer;\n",
       "      display: none;\n",
       "      fill: #1967D2;\n",
       "      height: 32px;\n",
       "      padding: 0 0 0 0;\n",
       "      width: 32px;\n",
       "    }\n",
       "\n",
       "    .colab-df-convert:hover {\n",
       "      background-color: #E2EBFA;\n",
       "      box-shadow: 0px 1px 2px rgba(60, 64, 67, 0.3), 0px 1px 3px 1px rgba(60, 64, 67, 0.15);\n",
       "      fill: #174EA6;\n",
       "    }\n",
       "\n",
       "    .colab-df-buttons div {\n",
       "      margin-bottom: 4px;\n",
       "    }\n",
       "\n",
       "    [theme=dark] .colab-df-convert {\n",
       "      background-color: #3B4455;\n",
       "      fill: #D2E3FC;\n",
       "    }\n",
       "\n",
       "    [theme=dark] .colab-df-convert:hover {\n",
       "      background-color: #434B5C;\n",
       "      box-shadow: 0px 1px 3px 1px rgba(0, 0, 0, 0.15);\n",
       "      filter: drop-shadow(0px 1px 2px rgba(0, 0, 0, 0.3));\n",
       "      fill: #FFFFFF;\n",
       "    }\n",
       "  </style>\n",
       "\n",
       "    <script>\n",
       "      const buttonEl =\n",
       "        document.querySelector('#df-3e89cb42-3a98-4579-9001-284e7d5bff04 button.colab-df-convert');\n",
       "      buttonEl.style.display =\n",
       "        google.colab.kernel.accessAllowed ? 'block' : 'none';\n",
       "\n",
       "      async function convertToInteractive(key) {\n",
       "        const element = document.querySelector('#df-3e89cb42-3a98-4579-9001-284e7d5bff04');\n",
       "        const dataTable =\n",
       "          await google.colab.kernel.invokeFunction('convertToInteractive',\n",
       "                                                    [key], {});\n",
       "        if (!dataTable) return;\n",
       "\n",
       "        const docLinkHtml = 'Like what you see? Visit the ' +\n",
       "          '<a target=\"_blank\" href=https://colab.research.google.com/notebooks/data_table.ipynb>data table notebook</a>'\n",
       "          + ' to learn more about interactive tables.';\n",
       "        element.innerHTML = '';\n",
       "        dataTable['output_type'] = 'display_data';\n",
       "        await google.colab.output.renderOutput(dataTable, element);\n",
       "        const docLink = document.createElement('div');\n",
       "        docLink.innerHTML = docLinkHtml;\n",
       "        element.appendChild(docLink);\n",
       "      }\n",
       "    </script>\n",
       "  </div>\n",
       "\n",
       "\n",
       "    <div id=\"df-124f92ce-4618-4c14-acaf-ba2963895a4c\">\n",
       "      <button class=\"colab-df-quickchart\" onclick=\"quickchart('df-124f92ce-4618-4c14-acaf-ba2963895a4c')\"\n",
       "                title=\"Suggest charts\"\n",
       "                style=\"display:none;\">\n",
       "\n",
       "<svg xmlns=\"http://www.w3.org/2000/svg\" height=\"24px\"viewBox=\"0 0 24 24\"\n",
       "     width=\"24px\">\n",
       "    <g>\n",
       "        <path d=\"M19 3H5c-1.1 0-2 .9-2 2v14c0 1.1.9 2 2 2h14c1.1 0 2-.9 2-2V5c0-1.1-.9-2-2-2zM9 17H7v-7h2v7zm4 0h-2V7h2v10zm4 0h-2v-4h2v4z\"/>\n",
       "    </g>\n",
       "</svg>\n",
       "      </button>\n",
       "\n",
       "<style>\n",
       "  .colab-df-quickchart {\n",
       "      --bg-color: #E8F0FE;\n",
       "      --fill-color: #1967D2;\n",
       "      --hover-bg-color: #E2EBFA;\n",
       "      --hover-fill-color: #174EA6;\n",
       "      --disabled-fill-color: #AAA;\n",
       "      --disabled-bg-color: #DDD;\n",
       "  }\n",
       "\n",
       "  [theme=dark] .colab-df-quickchart {\n",
       "      --bg-color: #3B4455;\n",
       "      --fill-color: #D2E3FC;\n",
       "      --hover-bg-color: #434B5C;\n",
       "      --hover-fill-color: #FFFFFF;\n",
       "      --disabled-bg-color: #3B4455;\n",
       "      --disabled-fill-color: #666;\n",
       "  }\n",
       "\n",
       "  .colab-df-quickchart {\n",
       "    background-color: var(--bg-color);\n",
       "    border: none;\n",
       "    border-radius: 50%;\n",
       "    cursor: pointer;\n",
       "    display: none;\n",
       "    fill: var(--fill-color);\n",
       "    height: 32px;\n",
       "    padding: 0;\n",
       "    width: 32px;\n",
       "  }\n",
       "\n",
       "  .colab-df-quickchart:hover {\n",
       "    background-color: var(--hover-bg-color);\n",
       "    box-shadow: 0 1px 2px rgba(60, 64, 67, 0.3), 0 1px 3px 1px rgba(60, 64, 67, 0.15);\n",
       "    fill: var(--button-hover-fill-color);\n",
       "  }\n",
       "\n",
       "  .colab-df-quickchart-complete:disabled,\n",
       "  .colab-df-quickchart-complete:disabled:hover {\n",
       "    background-color: var(--disabled-bg-color);\n",
       "    fill: var(--disabled-fill-color);\n",
       "    box-shadow: none;\n",
       "  }\n",
       "\n",
       "  .colab-df-spinner {\n",
       "    border: 2px solid var(--fill-color);\n",
       "    border-color: transparent;\n",
       "    border-bottom-color: var(--fill-color);\n",
       "    animation:\n",
       "      spin 1s steps(1) infinite;\n",
       "  }\n",
       "\n",
       "  @keyframes spin {\n",
       "    0% {\n",
       "      border-color: transparent;\n",
       "      border-bottom-color: var(--fill-color);\n",
       "      border-left-color: var(--fill-color);\n",
       "    }\n",
       "    20% {\n",
       "      border-color: transparent;\n",
       "      border-left-color: var(--fill-color);\n",
       "      border-top-color: var(--fill-color);\n",
       "    }\n",
       "    30% {\n",
       "      border-color: transparent;\n",
       "      border-left-color: var(--fill-color);\n",
       "      border-top-color: var(--fill-color);\n",
       "      border-right-color: var(--fill-color);\n",
       "    }\n",
       "    40% {\n",
       "      border-color: transparent;\n",
       "      border-right-color: var(--fill-color);\n",
       "      border-top-color: var(--fill-color);\n",
       "    }\n",
       "    60% {\n",
       "      border-color: transparent;\n",
       "      border-right-color: var(--fill-color);\n",
       "    }\n",
       "    80% {\n",
       "      border-color: transparent;\n",
       "      border-right-color: var(--fill-color);\n",
       "      border-bottom-color: var(--fill-color);\n",
       "    }\n",
       "    90% {\n",
       "      border-color: transparent;\n",
       "      border-bottom-color: var(--fill-color);\n",
       "    }\n",
       "  }\n",
       "</style>\n",
       "\n",
       "      <script>\n",
       "        async function quickchart(key) {\n",
       "          const quickchartButtonEl =\n",
       "            document.querySelector('#' + key + ' button');\n",
       "          quickchartButtonEl.disabled = true;  // To prevent multiple clicks.\n",
       "          quickchartButtonEl.classList.add('colab-df-spinner');\n",
       "          try {\n",
       "            const charts = await google.colab.kernel.invokeFunction(\n",
       "                'suggestCharts', [key], {});\n",
       "          } catch (error) {\n",
       "            console.error('Error during call to suggestCharts:', error);\n",
       "          }\n",
       "          quickchartButtonEl.classList.remove('colab-df-spinner');\n",
       "          quickchartButtonEl.classList.add('colab-df-quickchart-complete');\n",
       "        }\n",
       "        (() => {\n",
       "          let quickchartButtonEl =\n",
       "            document.querySelector('#df-124f92ce-4618-4c14-acaf-ba2963895a4c button');\n",
       "          quickchartButtonEl.style.display =\n",
       "            google.colab.kernel.accessAllowed ? 'block' : 'none';\n",
       "        })();\n",
       "      </script>\n",
       "    </div>\n",
       "\n",
       "  <div id=\"id_72c7dd0b-1e93-4fab-b12d-33a9ca1110a0\">\n",
       "    <style>\n",
       "      .colab-df-generate {\n",
       "        background-color: #E8F0FE;\n",
       "        border: none;\n",
       "        border-radius: 50%;\n",
       "        cursor: pointer;\n",
       "        display: none;\n",
       "        fill: #1967D2;\n",
       "        height: 32px;\n",
       "        padding: 0 0 0 0;\n",
       "        width: 32px;\n",
       "      }\n",
       "\n",
       "      .colab-df-generate:hover {\n",
       "        background-color: #E2EBFA;\n",
       "        box-shadow: 0px 1px 2px rgba(60, 64, 67, 0.3), 0px 1px 3px 1px rgba(60, 64, 67, 0.15);\n",
       "        fill: #174EA6;\n",
       "      }\n",
       "\n",
       "      [theme=dark] .colab-df-generate {\n",
       "        background-color: #3B4455;\n",
       "        fill: #D2E3FC;\n",
       "      }\n",
       "\n",
       "      [theme=dark] .colab-df-generate:hover {\n",
       "        background-color: #434B5C;\n",
       "        box-shadow: 0px 1px 3px 1px rgba(0, 0, 0, 0.15);\n",
       "        filter: drop-shadow(0px 1px 2px rgba(0, 0, 0, 0.3));\n",
       "        fill: #FFFFFF;\n",
       "      }\n",
       "    </style>\n",
       "    <button class=\"colab-df-generate\" onclick=\"generateWithVariable('pd_cpu_scores')\"\n",
       "            title=\"Generate code using this dataframe.\"\n",
       "            style=\"display:none;\">\n",
       "\n",
       "  <svg xmlns=\"http://www.w3.org/2000/svg\" height=\"24px\"viewBox=\"0 0 24 24\"\n",
       "       width=\"24px\">\n",
       "    <path d=\"M7,19H8.4L18.45,9,17,7.55,7,17.6ZM5,21V16.75L18.45,3.32a2,2,0,0,1,2.83,0l1.4,1.43a1.91,1.91,0,0,1,.58,1.4,1.91,1.91,0,0,1-.58,1.4L9.25,21ZM18.45,9,17,7.55Zm-12,3A5.31,5.31,0,0,0,4.9,8.1,5.31,5.31,0,0,0,1,6.5,5.31,5.31,0,0,0,4.9,4.9,5.31,5.31,0,0,0,6.5,1,5.31,5.31,0,0,0,8.1,4.9,5.31,5.31,0,0,0,12,6.5,5.46,5.46,0,0,0,6.5,12Z\"/>\n",
       "  </svg>\n",
       "    </button>\n",
       "    <script>\n",
       "      (() => {\n",
       "      const buttonEl =\n",
       "        document.querySelector('#id_72c7dd0b-1e93-4fab-b12d-33a9ca1110a0 button.colab-df-generate');\n",
       "      buttonEl.style.display =\n",
       "        google.colab.kernel.accessAllowed ? 'block' : 'none';\n",
       "\n",
       "      buttonEl.onclick = () => {\n",
       "        google.colab.notebook.generateWithVariable('pd_cpu_scores');\n",
       "      }\n",
       "      })();\n",
       "    </script>\n",
       "  </div>\n",
       "\n",
       "    </div>\n",
       "  </div>\n"
      ],
      "text/plain": [
       "               model_name  accuracy  precision    recall        f1  \\\n",
       "0                 finBERT  0.839175   0.848629  0.839175  0.840662   \n",
       "1           distilFinBERT  0.847423   0.849288  0.847423  0.847900   \n",
       "2  QuantizedDistilFinBERT  0.835052   0.838847  0.835052  0.830458   \n",
       "\n",
       "   avg_time_per_sentence  std_time_per_sentence     size_mb  \n",
       "0               0.175299               0.026900  417.726337  \n",
       "1               0.078843               0.004141  255.454607  \n",
       "2               0.059922               0.007392  132.289591  "
      ]
     },
     "execution_count": 39,
     "metadata": {},
     "output_type": "execute_result"
    }
   ],
   "source": [
    "pd_cpu_scores = pd.DataFrame(_SCORES)\n",
    "pd_cpu_scores"
   ]
  }
 ],
 "metadata": {
  "accelerator": "GPU",
  "colab": {
   "gpuType": "T4",
   "provenance": []
  },
  "kernelspec": {
   "display_name": "Python 3 (ipykernel)",
   "language": "python",
   "name": "python3"
  },
  "language_info": {
   "codemirror_mode": {
    "name": "ipython",
    "version": 3
   },
   "file_extension": ".py",
   "mimetype": "text/x-python",
   "name": "python",
   "nbconvert_exporter": "python",
   "pygments_lexer": "ipython3",
   "version": "3.12.8"
  }
 },
 "nbformat": 4,
 "nbformat_minor": 1
}
